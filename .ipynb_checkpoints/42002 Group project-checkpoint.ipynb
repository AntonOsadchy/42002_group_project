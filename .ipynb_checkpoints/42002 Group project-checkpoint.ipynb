{
 "cells": [
  {
   "cell_type": "markdown",
   "metadata": {},
   "source": [
    "# Group project (Storage)"
   ]
  },
  {
   "cell_type": "markdown",
   "metadata": {},
   "source": [
    "Analysis of competitiveness of different energy production technologies in Danish Electricity Market"
   ]
  },
  {
   "cell_type": "markdown",
   "metadata": {},
   "source": [
    "## Modeling of current energy system"
   ]
  },
  {
   "cell_type": "markdown",
   "metadata": {},
   "source": [
    "### Data gathering and analysis"
   ]
  },
  {
   "cell_type": "markdown",
   "metadata": {},
   "source": [
    "Latest energy statistics reports available is for 2018. Thereforte, all data used is dated to year 2018."
   ]
  },
  {
   "cell_type": "markdown",
   "metadata": {},
   "source": [
    "Hourly consumption, production, as well as wind energy production data available from https://www.nordpoolgroup.com/historical-market-data/"
   ]
  },
  {
   "cell_type": "code",
   "execution_count": 1,
   "metadata": {},
   "outputs": [
    {
     "name": "stdout",
     "output_type": "stream",
     "text": [
      "\n"
     ]
    }
   ],
   "source": [
    "using CSV, VegaLite, DataFrames, Statistics, CSV\n",
    "\n",
    "consum = CSV.read(\"consumption-dk-areas_2018_hourlys.csv\", DataFrame)\n",
    "produc = CSV.read(\"production-dk-areas_2018_hourly.csv\", DataFrame)\n",
    "wind   = CSV.read(\"wind-power-dk_2018_hourlys.csv\", DataFrame)\n",
    "exp    = CSV.read(\"exchange-per-country_2018_hourly.csv\", DataFrame)\n",
    "solar  = CSV.read(\"solarpv2018s.csv\", DataFrame)\n",
    "\n",
    "\n",
    "n = 300\n",
    "\n",
    "#production with wind substracted\n",
    "dif = produc[1:n,\"DK\"]-wind[1:n,\"DK\"]\n",
    "\n",
    "#data = vcat(DataFrame(time_hr=collect(1:n),power_MWh = consum[1:n,\"DK\"]*1000, tp = \"Consumption\",source = 2),           \n",
    "#            DataFrame(time_hr=collect(1:n),power_MWh = dif*1000, tp =\"Production\",source = 1),\n",
    "#           DataFrame(time_hr=collect(1:n),power_MWh = wind[1:n,\"DK\"]*1000, tp = \"Wind\",source = 1),\n",
    "#            DataFrame(time_hr=collect(1:n),power_MWh = exp[1:n,\"DK\"]*1000, tp = \"Import\",source = 1))\n",
    "\n",
    "#Plotting data\n",
    "#data |>\n",
    "#@vlplot(width=850, hieght=700)+\n",
    "#@vlplot(mark=:area, x=:time_hr, y={:power_MWh,stack=:zero},color=:tp,transform=[{filter=\"datum.source==1\"}]) +\n",
    "#@vlplot(mark=:line, x=:time_hr, y=:power_MWh, transform=[{filter=\"datum.source==2\"}],\n",
    "#    color={:tp,\n",
    "#    scale={range = [\"red\",\"#a1d99b\",\"#fd8d3c\",\"#3182bd\"]}})\n",
    "println()"
   ]
  },
  {
   "cell_type": "markdown",
   "metadata": {},
   "source": [
    "+ Total energy demand is covered by the combination of local energy production and import of energy from neighbouring countries\n",
    "+ Big part of electric energy is covered by the wind power production\n",
    "+ The difference is covered by the combination of renewable and non-renewable sources\n",
    "\n",
    "Share of production technologies in energy mix can be found in Energy Statistics Report for 2018 by Danish Energy Agency (https://ens.dk/en/our-services/statistics-data-key-figures-and-energy-maps/annual-and-monthly-statistics) \n",
    "\n",
    "For the simulation all units could be represented in a model, but only most feasable units are dispatched to cover difference between wind and consumption."
   ]
  },
  {
   "cell_type": "markdown",
   "metadata": {},
   "source": [
    "### Modeling\n",
    "Energy system could be modeled based on the data from above. In this case the system would consist of already deployed units and investment opportunities what will further optimize the system (Minimize costs). Wind production will be substracted from consumption for each of the time steps and optimization for mix of technologies covering the difference will be made.\n",
    "\n",
    "Additional information required:\n",
    "+ Operational prices for existing power plants based on type of plant/fuel\n",
    "+ Investment prices (price per KW) for further investments \n"
   ]
  },
  {
   "cell_type": "code",
   "execution_count": 2,
   "metadata": {},
   "outputs": [
    {
     "name": "stdout",
     "output_type": "stream",
     "text": [
      "[1084.04, 1084.04, 90.12, 343.32]\n",
      "[0.42, 16.31, 271.22, 107.29]\n"
     ]
    }
   ],
   "source": [
    "#Currency conversion\n",
    "cur = 0.858303\n",
    "capex_p = [1263,1263,105,400]*0.858303\n",
    "capex_c = [0.49,19,316,125]  *0.858303\n",
    "\n",
    "println(round.(capex_p, digits=2))\n",
    "println(round.(capex_c, digits=2))"
   ]
  },
  {
   "cell_type": "code",
   "execution_count": 3,
   "metadata": {},
   "outputs": [
    {
     "data": {
      "text/plain": [
       "\"Results/Input_data.csv\""
      ]
     },
     "execution_count": 3,
     "metadata": {},
     "output_type": "execute_result"
    }
   ],
   "source": [
    "#Currency conversion\n",
    "cur = 0.858303\n",
    "capex_p = [1263,1263,105,400]*0.858303\n",
    "capex_c = [0.49,19,316,125]  *0.858303\n",
    "\n",
    "p = 1000    #to convert to EU per MWh\n",
    "inp = DataFrame(Name            = [\"Solar PV\",\"Wind Onshore\",\"Wind Offshore\",\"H2 cavern\",\"H2 tank\",\"Li-ion battery\",\"Redox flow batteries\",\"Biogas\",\"Brown coal\",\"Hard coal\",\"CCGT\",\"GT\"],\n",
    "                Capex_avg       = [700,1750,3900,1084.04,1084.04, 90.12, 343.32,3000,1900,1650,950,500]*p,       #investment cost EUR/kW (nominal capacity)\n",
    "                Capex_capacity  = [0,0,0,0.42, 16.31, 271.22, 107.29,0,0,0,0,0]*p,                               #USD/kwh\n",
    "                Lifetime        = [25,25,25,15,15,20,20,30,40,40,30,30],               #Years\n",
    "                Opex_of_capex   = [0.025,0,0,0,0,0,0,0.04,0,0,0,0],                    #EUR/kw % of CAPEX\n",
    "                Opex_fix        = [0,30,100,0,0,0,0,0,36,32,22,20]*p,                  #EUR/Kw\n",
    "                Opex_var        = [0,0.005,0.005,0,0,0,0,0,0.005,0.005,0.004,0.003]*p, #EUR/kwh\n",
    "                Fuel_price      = [0,0,0,0,0,0,0,30.3,1.8,9.6,21,21],                  #EUR/MWh heat\n",
    "                Fuel_eff        = [1,1,1,0,0,0,0,0.4,0.45,0.46,0.6,0.6],\n",
    "                Storage_eff     = [0,0,0,0.71,0.71,0.94,0.9,0,0,0,0,0])                      #el. eng. % of heat en\n",
    "\n",
    "CSV.write(\"Results/Input_data.csv\", inp)"
   ]
  },
  {
   "cell_type": "markdown",
   "metadata": {},
   "source": [
    "### Estiamtion of the capacity factor"
   ]
  },
  {
   "cell_type": "code",
   "execution_count": 4,
   "metadata": {},
   "outputs": [
    {
     "name": "stdout",
     "output_type": "stream",
     "text": [
      "\n"
     ]
    }
   ],
   "source": [
    "T = size(consum)[1]\n",
    "#capacity factor\n",
    "c = []\n",
    "append!(c, wind[i,\"DK\"]/maximum(wind[1:T,\"DK\"]) for i=1:T)    #capacity factor\n",
    "println(\"\")"
   ]
  },
  {
   "cell_type": "markdown",
   "metadata": {},
   "source": [
    "### Mathematical  formualtion\n",
    "\n",
    "**Variables:** \n",
    "<br> $p_{it}$ production of technology i in time unit t\n",
    "<br> $p_i^{max}$ max power production of unit i\n",
    "\n",
    "<br>$v_{it}$ charge discharge power of the storage unit\n",
    "<br>$ls_{it}$ current storage level\n",
    "<br>$ls^{max}_i $ max storage level \n",
    "\n",
    "**Parameters:**\n",
    "<br> $a$ - operations varaible cost €/MWh\n",
    "<br> $f$ - fuel price €/MWh\n",
    "<br> $e$ - fuel efficiency \n",
    "<br> $b$ - CAPEX for power €/MW\n",
    "<br> $g$ - CAPEX for capacity €/MWh\n",
    "<br> $l$ - expected system lifetime yr.\n",
    "<br> $o$ - fixed operational expenses €/MWh % of CAPEX\n",
    "<br> $k$ - fixed operational expenses €/MWh\n",
    "<br> $d$ - demand for power MWh\n",
    "<br> $c$ - capacity factor \n",
    "<br> $r_s$ - Share of renewables of **0%,60%,80%,95%,100%** "
   ]
  },
  {
   "cell_type": "markdown",
   "metadata": {},
   "source": [
    "**Objective:** \n",
    "<br>to minimize levelized cost of electricity\n",
    "\n",
    "$$Z = \\dfrac{\\sum_{t=1}^{T}\\sum_{i=1}^{n}p_{it} \\left( a_i+ f_ie_i\\right) + \n",
    "\\sum_{i=1}^{n} \\dfrac{p^{max}_{i}}{l_{i}}\\left(b_i(1+o_i)+k_{i}\\right)+\\dfrac{g_{i}ls_i^{max}}{l_{i}}}{\\sum_{t=1}^{T}d_t} \\tag{1}$$\n",
    "\n",
    "\n",
    "\n",
    "$$ -p^{max}_i \\leq p_{it}\\leq p^{max}_i \\ \\forall i,t\\tag{2} $$\n",
    "\n",
    "$$p_{wt} = p^{max}_i c_{it} \\tag{3} \\forall i \\ \\epsilon \\ itm, \\ \\forall t $$\n",
    "\n",
    "$$\\sum_{t=1}^{T}\\sum_{i=1}^{I} p_{it} = d_t \\forall i,t \\tag{4} $$\n",
    "Now we can do equality since urtiled energy can be stored\n",
    "\n",
    "$$\\sum_{t=1}^{T}\\sum_{i=4}^{8} p_{it} \\geq d_t \\cdot r_s\\tag{5} $$ \n",
    "\n",
    "$$p_{it},p_{i}^{max} \\geq 0 $$\n",
    "\n",
    "**Energy staorage**\n",
    "\n",
    "$$ p_{it} = \\rho_i v_{it}\\tag{3}$$\n",
    "\n",
    "$$ l_{it} = l_{it-1} - v_{it}-h\\tag{4}$$\n",
    "\n",
    "$$ -p^{max}_i \\leq p_{it} \\leq p^{max}_i\\tag{5}$$\n",
    "\n",
    "$$ p_{it} \\geq p^{min}_i\\tag{5}$$\n",
    "\n",
    "\n",
    "$$  0 \\leq l_{it} \\leq l^{max}_i \\tag{6}$$\n",
    "\n",
    "$$l_{i1} = l_{iT}\\tag{7}$$\n",
    "\n",
    "**Variable grouping**\n",
    "\n",
    "itm = 1:3\n",
    "<br>sto = 4:7\n",
    "<br>fos = 8:12"
   ]
  },
  {
   "cell_type": "markdown",
   "metadata": {},
   "source": [
    "### Renewable deployment strategy\n",
    "\n",
    "Most of the active wind turbines in Denmark were onshore, around 5.7 thousand compared to 558 offshore."
   ]
  },
  {
   "cell_type": "code",
   "execution_count": 5,
   "metadata": {},
   "outputs": [
    {
     "data": {
      "text/plain": [
       "28500"
      ]
     },
     "execution_count": 5,
     "metadata": {},
     "output_type": "execute_result"
    }
   ],
   "source": [
    "max_wind = 5700 * 5     #max number of onshore turbines"
   ]
  },
  {
   "cell_type": "markdown",
   "metadata": {},
   "source": [
    "## Main"
   ]
  },
  {
   "cell_type": "code",
   "execution_count": 13,
   "metadata": {},
   "outputs": [
    {
     "name": "stdout",
     "output_type": "stream",
     "text": [
      "Version identifier: 12.10.0.0 | 2019-11-26 | 843d4de2ae\r\n",
      "Warning:  Non-integral bounds for integer variables rounded.\r\n",
      "1 of 1 MIP starts provided solutions.\r\n",
      "MIP start 'm1' defined initial solution with objective 1.3822e+08.\r\n",
      "Warning:  Non-integral bounds for integer variables rounded.\r\n",
      "Tried aggregator 2 times.\r\n",
      "MIP Presolve eliminated 5727 rows and 11121 columns.\r\n",
      "Aggregator did 7044 substitutions.\r\n",
      "Reduced MIP has 12094 rows, 6064 columns, and 41982 nonzeros.\r\n",
      "Reduced MIP has 1 binaries, 0 generals, 0 SOSs, and 0 indicators.\r\n",
      "Presolve time = 0.05 sec. (32.64 ticks)\r\n",
      "Probing time = 0.00 sec. (0.41 ticks)\r\n",
      "Tried aggregator 1 time.\r\n",
      "Detecting symmetries...\r\n",
      "Reduced MIP has 12094 rows, 6064 columns, and 41982 nonzeros.\r\n",
      "Reduced MIP has 1 binaries, 0 generals, 0 SOSs, and 0 indicators.\r\n",
      "Presolve time = 0.02 sec. (15.79 ticks)\r\n",
      "Probing time = 0.00 sec. (0.41 ticks)\r\n",
      "MIP emphasis: balance optimality and feasibility.\r\n",
      "MIP search method: dynamic search.\r\n",
      "Parallel mode: deterministic, using up to 4 threads.\r\n",
      "Root relaxation solution time = 0.92 sec. (464.32 ticks)\r\n",
      "\r\n",
      "        Nodes                                         Cuts/\r\n",
      "   Node  Left     Objective  IInf  Best Integer    Best Bound    ItCnt     Gap\r\n",
      "\r\n",
      "*     0+    0                       1.38216e+08        0.0000           100.00%\r\n",
      "      0     0        cutoff         1.38216e+08                     37    0.00%\r\n",
      "\r\n",
      "Root node processing (before b&c):\r\n",
      "  Real time             =    2.75 sec. (1991.53 ticks)\r\n",
      "Parallel b&c, 4 threads:\r\n",
      "  Real time             =    0.00 sec. (0.00 ticks)\r\n",
      "  Sync time (average)   =    0.00 sec.\r\n",
      "  Wait time (average)   =    0.00 sec.\r\n",
      "                          ------------\r\n",
      "Total (root+branch&cut) =    2.75 sec. (1991.53 ticks)\r\n",
      "Version identifier: 12.10.0.0 | 2019-11-26 | 843d4de2ae\r\n",
      "Warning:  Non-integral bounds for integer variables rounded.\r\n",
      "1 of 1 MIP starts provided solutions.\r\n",
      "MIP start 'm1' defined initial solution with objective 7.8858e+08.\r\n",
      "Warning:  Non-integral bounds for integer variables rounded.\r\n",
      "Tried aggregator 2 times.\r\n",
      "MIP Presolve eliminated 5727 rows and 11121 columns.\r\n",
      "Aggregator did 7044 substitutions.\r\n",
      "Reduced MIP has 12094 rows, 6064 columns, and 41982 nonzeros.\r\n",
      "Reduced MIP has 1 binaries, 0 generals, 0 SOSs, and 0 indicators.\r\n",
      "Presolve time = 0.05 sec. (32.66 ticks)\r\n",
      "Probing time = 0.00 sec. (0.41 ticks)\r\n",
      "Tried aggregator 1 time.\r\n",
      "Detecting symmetries...\r\n",
      "Reduced MIP has 12094 rows, 6064 columns, and 41982 nonzeros.\r\n",
      "Reduced MIP has 1 binaries, 0 generals, 0 SOSs, and 0 indicators.\r\n",
      "Presolve time = 0.03 sec. (15.78 ticks)\r\n",
      "Probing time = 0.00 sec. (0.41 ticks)\r\n",
      "MIP emphasis: balance optimality and feasibility.\r\n",
      "MIP search method: dynamic search.\r\n",
      "Parallel mode: deterministic, using up to 4 threads.\r\n",
      "Root relaxation solution time = 0.67 sec. (443.56 ticks)\r\n",
      "\r\n",
      "        Nodes                                         Cuts/\r\n",
      "   Node  Left     Objective  IInf  Best Integer    Best Bound    ItCnt     Gap\r\n",
      "\r\n",
      "*     0+    0                       7.88579e+08        0.0000           100.00%\r\n",
      "      0     0        cutoff         7.88579e+08   7.88579e+08       25    0.00%\r\n",
      "      0     0        cutoff         7.88579e+08   7.88579e+08       25    0.00%\r\n",
      "Elapsed time = 4.20 sec. (3397.59 ticks, tree = 0.01 MB, solutions = 2)\r\n",
      "\r\n",
      "Root node processing (before b&c):\r\n",
      "  Real time             =    4.20 sec. (3398.54 ticks)\r\n",
      "Parallel b&c, 4 threads:\r\n",
      "  Real time             =    0.00 sec. (0.00 ticks)\r\n",
      "  Sync time (average)   =    0.00 sec.\r\n",
      "  Wait time (average)   =    0.00 sec.\r\n",
      "                          ------------\r\n",
      "Total (root+branch&cut) =    4.20 sec. (3398.54 ticks)\r\n",
      "Version identifier: 12.10.0.0 | 2019-11-26 | 843d4de2ae\r\n",
      "Warning:  Non-integral bounds for integer variables rounded.\r\n",
      "1 of 1 MIP starts provided solutions.\r\n",
      "MIP start 'm1' defined initial solution with objective 1.1191e+09.\r\n",
      "Warning:  Non-integral bounds for integer variables rounded.\r\n",
      "Tried aggregator 2 times.\r\n",
      "MIP Presolve eliminated 5727 rows and 11121 columns.\r\n",
      "Aggregator did 7044 substitutions.\r\n",
      "Reduced MIP has 12094 rows, 6064 columns, and 41982 nonzeros.\r\n",
      "Reduced MIP has 1 binaries, 0 generals, 0 SOSs, and 0 indicators.\r\n",
      "Presolve time = 0.05 sec. (34.14 ticks)\r\n",
      "Probing time = 0.00 sec. (0.41 ticks)\r\n",
      "Tried aggregator 1 time.\r\n",
      "Detecting symmetries...\r\n",
      "Reduced MIP has 12094 rows, 6064 columns, and 41982 nonzeros.\r\n",
      "Reduced MIP has 1 binaries, 0 generals, 0 SOSs, and 0 indicators.\r\n",
      "Presolve time = 0.03 sec. (16.24 ticks)\r\n",
      "Probing time = 0.00 sec. (0.41 ticks)\r\n",
      "MIP emphasis: balance optimality and feasibility.\r\n",
      "MIP search method: dynamic search.\r\n",
      "Parallel mode: deterministic, using up to 4 threads.\r\n",
      "Root relaxation solution time = 1.22 sec. (775.42 ticks)\r\n",
      "\r\n",
      "        Nodes                                         Cuts/\r\n",
      "   Node  Left     Objective  IInf  Best Integer    Best Bound    ItCnt     Gap\r\n",
      "\r\n",
      "*     0+    0                       1.11911e+09        0.0000           100.00%\r\n",
      "      0     0        cutoff         1.11911e+09                     30    0.00%\r\n",
      "\r\n",
      "Root node processing (before b&c):\r\n",
      "  Real time             =    4.98 sec. (3345.44 ticks)\r\n",
      "Parallel b&c, 4 threads:\r\n",
      "  Real time             =    0.00 sec. (0.00 ticks)\r\n",
      "  Sync time (average)   =    0.00 sec.\r\n",
      "  Wait time (average)   =    0.00 sec.\r\n",
      "                          ------------\r\n",
      "Total (root+branch&cut) =    4.98 sec. (3345.44 ticks)\r\n",
      "Version identifier: 12.10.0.0 | 2019-11-26 | 843d4de2ae\r\n",
      "Warning:  Non-integral bounds for integer variables rounded.\r\n",
      "1 of 1 MIP starts provided solutions.\r\n",
      "MIP start 'm1' defined initial solution with objective 1.3780e+09.\r\n",
      "Warning:  Non-integral bounds for integer variables rounded.\r\n",
      "Tried aggregator 2 times.\r\n",
      "MIP Presolve eliminated 5727 rows and 11121 columns.\r\n",
      "Aggregator did 7044 substitutions.\r\n",
      "Reduced MIP has 12094 rows, 6064 columns, and 41982 nonzeros.\r\n",
      "Reduced MIP has 1 binaries, 0 generals, 0 SOSs, and 0 indicators.\r\n",
      "Presolve time = 0.06 sec. (34.14 ticks)\r\n",
      "Probing time = 0.00 sec. (0.41 ticks)\r\n",
      "Tried aggregator 1 time.\r\n",
      "Detecting symmetries...\r\n",
      "Reduced MIP has 12094 rows, 6064 columns, and 41982 nonzeros.\r\n",
      "Reduced MIP has 1 binaries, 0 generals, 0 SOSs, and 0 indicators.\r\n",
      "Presolve time = 0.02 sec. (16.12 ticks)\r\n",
      "Probing time = 0.00 sec. (0.41 ticks)\r\n",
      "MIP emphasis: balance optimality and feasibility.\r\n",
      "MIP search method: dynamic search.\r\n",
      "Parallel mode: deterministic, using up to 4 threads.\r\n",
      "Root relaxation solution time = 1.67 sec. (985.94 ticks)\r\n",
      "\r\n",
      "        Nodes                                         Cuts/\r\n",
      "   Node  Left     Objective  IInf  Best Integer    Best Bound    ItCnt     Gap\r\n",
      "\r\n",
      "*     0+    0                       1.37804e+09        0.0000           100.00%\r\n",
      "      0     0        cutoff         1.37804e+09   1.37804e+09      465    0.00%\r\n",
      "      0     0        cutoff         1.37804e+09   1.37804e+09      465    0.00%\r\n",
      "Elapsed time = 6.38 sec. (4192.54 ticks, tree = 0.01 MB, solutions = 1)\r\n",
      "\r\n",
      "Root node processing (before b&c):\r\n",
      "  Real time             =    6.38 sec. (4193.33 ticks)\r\n",
      "Parallel b&c, 4 threads:\r\n",
      "  Real time             =    0.00 sec. (0.00 ticks)\r\n",
      "  Sync time (average)   =    0.00 sec.\r\n",
      "  Wait time (average)   =    0.00 sec.\r\n",
      "                          ------------\r\n",
      "Total (root+branch&cut) =    6.38 sec. (4193.33 ticks)\r\n",
      "Version identifier: 12.10.0.0 | 2019-11-26 | 843d4de2ae\r\n",
      "Warning:  Non-integral bounds for integer variables rounded.\r\n",
      "1 of 1 MIP starts provided solutions.\r\n",
      "MIP start 'm1' defined initial solution with objective 1.4647e+09.\r\n",
      "Warning:  Non-integral bounds for integer variables rounded.\r\n",
      "Tried aggregator 2 times.\r\n",
      "MIP Presolve eliminated 9088 rows and 14486 columns.\r\n",
      "Aggregator did 7044 substitutions.\r\n",
      "Reduced MIP has 8733 rows, 2699 columns, and 28537 nonzeros.\r\n",
      "Reduced MIP has 1 binaries, 0 generals, 0 SOSs, and 0 indicators.\r\n",
      "Presolve time = 0.03 sec. (27.64 ticks)\r\n",
      "Probing time = 0.00 sec. (0.33 ticks)\r\n",
      "Tried aggregator 1 time.\r\n",
      "Detecting symmetries...\r\n",
      "Reduced MIP has 8733 rows, 2699 columns, and 28537 nonzeros.\r\n",
      "Reduced MIP has 1 binaries, 0 generals, 0 SOSs, and 0 indicators.\r\n",
      "Presolve time = 0.02 sec. (10.74 ticks)\r\n",
      "Probing time = 0.00 sec. (0.33 ticks)\r\n",
      "MIP emphasis: balance optimality and feasibility.\r\n",
      "MIP search method: dynamic search.\r\n",
      "Parallel mode: deterministic, using up to 4 threads.\r\n",
      "Root relaxation solution time = 0.84 sec. (397.57 ticks)\r\n",
      "\r\n",
      "        Nodes                                         Cuts/\r\n",
      "   Node  Left     Objective  IInf  Best Integer    Best Bound    ItCnt     Gap\r\n",
      "\r\n",
      "*     0+    0                       1.46475e+09        0.0000           100.00%\r\n",
      "      0     0        cutoff         1.46475e+09   1.46475e+09       32    0.00%\r\n",
      "      0     0        cutoff         1.46475e+09   1.46475e+09       32    0.00%\r\n",
      "Elapsed time = 3.66 sec. (1549.51 ticks, tree = 0.01 MB, solutions = 1)\r\n"
     ]
    },
    {
     "data": {
      "text/plain": [
       "\"ResultsT_series.csv\""
      ]
     },
     "execution_count": 13,
     "metadata": {},
     "output_type": "execute_result"
    }
   ],
   "source": [
    "#share of renewables\n",
    "ren_s = [0,0.6,0.8,0.95,1]\n",
    "\n",
    "T = size(consum)[1] #simulation size\n",
    "d = 300 #plots diplay size\n",
    "\n",
    "Per_tech_ren = DataFrame(\n",
    "                         Technology      = String[],\n",
    "                         Capacity_GWh    = Float64[],\n",
    "                         Utilization     = Float64[],\n",
    "                         CAPEX_bilEUR    = Float64[], \n",
    "                         OM_bilEUR       = Float64[],\n",
    "                         Share_ren       = String[],\n",
    "                         Extension       = Int64[])\n",
    "\n",
    "Totals_ren   = DataFrame(Share_ren       = String[],\n",
    "                         LCOE            = Float64[], \n",
    "                         Production_MWh  = Float64[], \n",
    "                         Demand_MWh      = Float64[], \n",
    "                         Curtailment_MWh = Float64[],\n",
    "                         CAPEX_t_bilEUR  = Float64[], \n",
    "                         OM_t_bilEUR     = Float64[],\n",
    "                         Extension       = Int64[])\n",
    "\n",
    "T_series       = DataFrame(Time_hr       = Int64[], \n",
    "                           Solar_PV      = Float64[],\n",
    "                           Wind_onshore  = Float64[],\n",
    "                           Wind_offshore = Float64[],\n",
    "                           Biogas        = Float64[],\n",
    "                           Coal_brown    = Float64[],\n",
    "                           Coal_hard     = Float64[],\n",
    "                           CCGT          = Float64[],\n",
    "                           GT            = Float64[],\n",
    "                           Storage       = Float64[],\n",
    "                           Consumption   = Int64[])    \n",
    "\n",
    "\n",
    "#Data gathering\n",
    "for share in ren_s\n",
    "    opt = optimize(share,T)\n",
    "    append!(Totals_ren,opt[1])\n",
    "    append!(Per_tech_ren, opt[2])\n",
    "    append!(T_series, opt[3])\n",
    "end\n",
    "\n",
    "\n",
    "CSV.write(\"Results/Totals.csv\", Totals_ren)\n",
    "CSV.write(\"Results/Per_tech_ren.csv\", Per_tech_ren)\n",
    "CSV.write(\"ResultsT_series.csv\", T_series)"
   ]
  },
  {
   "cell_type": "code",
   "execution_count": 19,
   "metadata": {},
   "outputs": [
    {
     "name": "stdout",
     "output_type": "stream",
     "text": [
      "\u001b[1m60×7 DataFrame\u001b[0m\n",
      "\u001b[1m Row \u001b[0m│\u001b[1m Technology           \u001b[0m\u001b[1m Capacity_GWh \u001b[0m\u001b[1m Utilization \u001b[0m\u001b[1m CAPEX_bilEUR \u001b[0m\u001b[1m OM_bilEUR \u001b[0m\u001b[1m Share_ren \u001b[0m\u001b[1m Extension \u001b[0m\n",
      "\u001b[1m     \u001b[0m│\u001b[90m String               \u001b[0m\u001b[90m Float64      \u001b[0m\u001b[90m Float64     \u001b[0m\u001b[90m Float64      \u001b[0m\u001b[90m Float64   \u001b[0m\u001b[90m String    \u001b[0m\u001b[90m Int64     \u001b[0m\n",
      "─────┼────────────────────────────────────────────────────────────────────────────────────────────────\n",
      "   1 │ Solar PV                      0.0       NaN               0.0  0.0        0.0                1\n",
      "   2 │ Wind Onshore                  0.0       NaN               0.0  0.0        0.0                1\n",
      "   3 │ Wind Offshore                 0.0       NaN               0.0  0.0        0.0                1\n",
      "   4 │ H2 cavern                     0.0       NaN               0.0  0.0        0.0                1\n",
      "   5 │ H2 tank                       0.0       NaN               0.0  0.0        0.0                1\n",
      "   6 │ Li-ion battery                0.0       NaN               0.0  0.0        0.0                1\n",
      "   7 │ Redox flow batteries          0.0       NaN               0.0  0.0        0.0                1\n",
      "   8 │ Biogas                        0.0       NaN               0.0  0.0        0.0                1\n",
      "   9 │ Brown coal                    0.0       NaN               0.0  0.0        0.0                1\n",
      "  10 │ Hard coal                     0.0       NaN               0.0  0.0        0.0                1\n",
      "  11 │ CCGT                          0.0       NaN               0.0  0.0        0.0                1\n",
      "  12 │ GT                            5.61        0.697           0.1  4.09758e7  0.0                1\n",
      "  13 │ Solar PV                      5.08        0.112           0.1  0.0        0.6                1\n",
      "  14 │ Wind Onshore                  6.16        0.289           0.4  5.97932e6  0.6                1\n",
      "  15 │ Wind Offshore                 0.0       NaN               0.0  0.0        0.6                1\n",
      "  16 │ H2 cavern                     0.87        0.642           0.1  0.0        0.6                1\n",
      "  17 │ H2 tank                       0.0       NaN               0.0  0.0        0.6                1\n",
      "  18 │ Li-ion battery                0.05        0.526           0.0  0.0        0.6                1\n",
      "  19 │ Redox flow batteries          1.7         0.356           0.1  0.0        0.6                1\n",
      "  20 │ Biogas                        0.0       NaN               0.0  0.0        0.6                1\n",
      "  21 │ Brown coal                    0.0       NaN               0.0  0.0        0.6                1\n",
      "  22 │ Hard coal                     0.0       NaN               0.0  0.0        0.6                1\n",
      "  23 │ CCGT                          0.0       NaN               0.0  0.0        0.6                1\n",
      "  24 │ GT                            2.69        0.582           0.0  1.63903e7  0.6                1\n",
      "  25 │ Solar PV                      7.98        0.112           0.2  0.0        0.8                1\n",
      "  26 │ Wind Onshore                  7.75        0.289           0.6  7.52365e6  0.8                1\n",
      "  27 │ Wind Offshore                 0.0       NaN               0.0  0.0        0.8                1\n",
      "  28 │ H2 cavern                     2.28        0.855           0.2  0.0        0.8                1\n",
      "  29 │ H2 tank                       0.0       NaN               0.0  0.0        0.8                1\n",
      "  30 │ Li-ion battery                0.02        0.519           0.0  0.0        0.8                1\n",
      "  31 │ Redox flow batteries          3.19        0.332           0.1  0.0        0.8                1\n",
      "  32 │ Biogas                        0.0       NaN               0.0  0.0        0.8                1\n",
      "  33 │ Brown coal                    0.0       NaN               0.0  0.0        0.8                1\n",
      "  34 │ Hard coal                     0.0       NaN               0.0  0.0        0.8                1\n",
      "  35 │ CCGT                          0.0       NaN               0.0  0.0        0.8                1\n",
      "  36 │ GT                            0.84        0.933           0.0  8.19517e6  0.8                1\n",
      "  37 │ Solar PV                     10.73        0.112           0.3  0.0        0.95               1\n",
      "  38 │ Wind Onshore                  8.72        0.289           0.6  8.46415e6  0.95               1\n",
      "  39 │ Wind Offshore                 0.0       NaN               0.0  0.0        0.95               1\n",
      "  40 │ H2 cavern                     3.13        0.815           0.2  0.0        0.95               1\n",
      "  41 │ H2 tank                       0.0       NaN               0.0  0.0        0.95               1\n",
      "  42 │ Li-ion battery                0.01        0.499           0.0  0.0        0.95               1\n",
      "  43 │ Redox flow batteries          4.63        0.323           0.2  0.0        0.95               1\n",
      "  44 │ Biogas                        0.0       NaN               0.0  0.0        0.95               1\n",
      "  45 │ Brown coal                    0.0       NaN               0.0  0.0        0.95               1\n",
      "  46 │ Hard coal                     0.0       NaN               0.0  0.0        0.95               1\n",
      "  47 │ CCGT                          0.0       NaN               0.0  0.0        0.95               1\n",
      "  48 │ GT                            0.22        0.896           0.0  2.04879e6  0.95               1\n",
      "  49 │ Solar PV                     11.4         0.112           0.3  0.0        1.0                1\n",
      "  50 │ Wind Onshore                  9.14        0.289           0.7  8.87377e6  1.0                1\n",
      "  51 │ Wind Offshore                 0.0       NaN               0.0  0.0        1.0                1\n",
      "  52 │ H2 cavern                     3.49        0.816           0.3  0.0        1.0                1\n",
      "  53 │ H2 tank                       0.0       NaN               0.0  0.0        1.0                1\n",
      "  54 │ Li-ion battery                0.02        0.426           0.0  0.0        1.0                1\n",
      "  55 │ Redox flow batteries          4.97        0.335           0.2  0.0        1.0                1\n",
      "  56 │ Biogas                        0.0       NaN               0.0  0.0        1.0                1\n",
      "  57 │ Brown coal                    0.0       NaN               0.0  0.0        1.0                1\n",
      "  58 │ Hard coal                     0.0       NaN               0.0  0.0        1.0                1\n",
      "  59 │ CCGT                          0.0       NaN               0.0  0.0        1.0                1\n",
      "  60 │ GT                            0.0       NaN               0.0  0.0        1.0                1\n"
     ]
    }
   ],
   "source": [
    "#importing base data\n",
    "Per_tech_ren_base = CSV.read(\"Results/Base/Per_tech_ren_base.csv\", DataFrame)\n",
    "Totals_base = CSV.read(\"Results/Base/Totals_base.csv\", DataFrame)\n",
    "\n",
    "# ----------------------------Ploting-----------------------------------\n",
    "k = 1                                                   #initial printing lcoation\n",
    "for value in 1:size(ren_s)[1]\n",
    "#     plotSeries(T_series[k:(k+T-1),:],ren_s[value],d)\n",
    "     k = k+T\n",
    "end\n",
    "\n",
    "#Roudning decimals\n",
    "Per_tech_ren.Capacity_GWh = round.(Per_tech_ren.Capacity_GWh; digits = 2)\n",
    "Per_tech_ren.CAPEX_bilEUR = round.(Per_tech_ren.CAPEX_bilEUR; digits = 1)\n",
    "Per_tech_ren.OM_bilEUR    = round.(Per_tech_ren.OM_bilEUR;    digits = 1)\n",
    "Per_tech_ren.Utilization  = round.(Per_tech_ren.Utilization;  digits = 3)\n",
    "\n",
    "#ploting   \n",
    "#plotTechnology(Per_tech_ren)\n",
    "\n",
    "#combining with abse for comparison\n",
    "#Per_tech_ren = vcat(Per_tech_ren,Per_tech_ren_base)\n",
    "\n",
    "#println(Per_tech_ren_base)\n",
    "println(Per_tech_ren)#|>\n",
    "#stack"
   ]
  },
  {
   "cell_type": "markdown",
   "metadata": {},
   "source": [
    "## Mathematical model"
   ]
  },
  {
   "cell_type": "code",
   "execution_count": 8,
   "metadata": {},
   "outputs": [
    {
     "data": {
      "text/plain": [
       "optimize (generic function with 1 method)"
      ]
     },
     "execution_count": 8,
     "metadata": {},
     "output_type": "execute_result"
    }
   ],
   "source": [
    "using CSV, JuMP, GLPK, CPLEX\n",
    "\n",
    "#Declaration of data frames\n",
    "\n",
    "function optimize(x,y)\n",
    "#T=size(consum)[1] \n",
    "T= y\n",
    "\n",
    "n = size(inp)[1]\n",
    "\n",
    "M = 10*maximum(consum[1:T,\"DK\"])\n",
    "\n",
    "m = Model(with_optimizer(CPLEX.Optimizer))\n",
    "\n",
    "@variable(m,p[i=1:n,t=1:T])             #power per technology\n",
    "@variable(m,pmax[i=1:n]      >= 0)      #power per technology\n",
    "    \n",
    "\n",
    "@variable(m,    ls[1:n,1:T]  >= 0)      #storage capacity of the system\n",
    "@variable(m, lsmax[1:n]      >=0)       #max. storage level\n",
    "@variable(m,     v[1:n,1:T])            #charge discharge capacity of the system\n",
    "    \n",
    "#Auxilary variable\n",
    "@variable(m,u[i=1:n], Bin)              #controling number of technologies\n",
    "@variable(m, u1, Bin)            #charge discharge capacity of the system    \n",
    "    \n",
    "OPEX   = sum(p[i,t] * (inp[i,\"Opex_var\"] + inp[i,\"Fuel_price\"]*inp[i,\"Fuel_eff\"]) for i=1:n for t=1:T)\n",
    "\n",
    "CAPEX  = sum((pmax[i]/inp[i,\"Lifetime\"])* (inp[i,\"Capex_avg\"]*(1+inp[i,\"Opex_of_capex\"])+inp[i,\"Opex_fix\"])+\n",
    "             (lsmax[i]/inp[i,\"Lifetime\"])*  inp[i,\"Capex_capacity\"] for i=1:n)\n",
    "\n",
    "demand = sum(consum[t,\"DK\"] for t=1:T)\n",
    "\n",
    "@objective(m, Min, (OPEX + CAPEX))\n",
    "            \n",
    "#Demand constraint\n",
    "@constraint(m, Demand[t=1:T], sum(p[i,t] for i=1:n) == consum[t,\"DK\"]) #Demand\n",
    "            \n",
    "#Production of different units\n",
    "@constraint(m, Solar[t=1:T],                 p[1,t] == pmax[1]*solar[t,\"DK\"])      #Solar\n",
    "@constraint(m, OnShoreWind[t=1:T],           p[2,t] == pmax[2]*c[t])               #Onshore wind\n",
    "@constraint(m, OffShoreWind[t=1:T],          p[3,t] == pmax[3]*c[t])               #Offshore wind\n",
    "@constraint(m,[t=1:T,i=4:7],                 p[i,t] == inp[i,\"Storage_eff\"]*v[i,t])  #charging and discharging of batteries\n",
    "            \n",
    "#------------------------------Wind and solar-----------------------------------                       \n",
    "#Limting max amount of Onshore wind\n",
    "@constraint(m, pmax[2] <= max_wind)\n",
    "#Positivity constraint\n",
    "@constraint(m, [t=1:T,i=1:3], p[i,t] >=0)    \n",
    "            \n",
    "#--------------------------------Fosil fuels-----------------------------------\n",
    "#Limiting production for non-renewables\n",
    "@constraint(m, sum(p[i,t] for i=8:n for t=1:T) <= (1-x)*sum(consum[1:T,\"DK\"]))\n",
    "#To find max power\n",
    "@constraint(m, NotIntermittent[i=8:n,t=1:T], p[i,t] <= pmax[i])\n",
    "#Positivity constraint\n",
    "@constraint(m, [t=1:T,i=8:12], p[i,t] >=0)     \n",
    "\n",
    "#----------------------------------Storage part---------------------------------\n",
    "\n",
    "#charging and discharging of the system\n",
    "@constraint(m,[t=2:T,i=4:7], ls[i,t] == ls[i,t-1] - v[i,t])\n",
    "\n",
    "#charge level of the batteries\n",
    "@constraint(m,[t=2:T,i=4:7],  ls[i,t] <= lsmax[i])\n",
    "\n",
    "#power constraint\n",
    "@constraint(m,[t=1:T,i=4:7],  p[i,t] <=  pmax[i])\n",
    "@constraint(m,[t=1:T,i=4:7],  p[i,t] >= -pmax[i])\n",
    "\n",
    "#charges level at the beginning and end are eqaul \n",
    "@constraint(m,[i=4:7], ls[i,1] == ls[i,T])\n",
    "\n",
    "#Capacity limitations for technologies\n",
    "#@constraint(m, lsmax[7] >= 6000)                                             #6MWh limitations for REDOX batteris   \n",
    "                            \n",
    "#---------------------- -------Technology limitations-----------------------------\n",
    "#Suze of salt caverns\n",
    "@constraint(m, lsmax[4] <= 7e12)\n",
    "                                                            \n",
    "#Minimum comerically available Redox battery\n",
    "M =1e10                                \n",
    "@constraint(m, lsmax[7]  <= M*u1)\n",
    "@constraint(m, u1 <= lsmax[7]/6000)           \n",
    "#limiting number of storage technologies\n",
    "#@constraint(m,[i=4:7],pmax[i] <=M*u[i])\n",
    "#@constraint(m, sum(u[i] for i=1:n) <= 2)                                   #number of technologies allowed\n",
    "                                        \n",
    "#limiting number of technologies\n",
    "#@constraint(m,[i=1:n], p[i] <=M*u[i])\n",
    "#@constraint(m, sum(u[i] for i=1:n) <= 3)           #number of technologies allowed\n",
    "                    \n",
    "optimize!(m)\n",
    "\n",
    "#End of model. Data expoerting ->\n",
    "                                        \n",
    "T_series = DataFrame(Time_hr       = collect(1:T), \n",
    "                     Solar_PV      = JuMP.value.(p[1,1:T]),\n",
    "                     Wind_onshore  = JuMP.value.(p[2,1:T]),\n",
    "                     Wind_offshore = JuMP.value.(p[3,1:T]),\n",
    "                     Biogas        = JuMP.value.(p[8,1:T]),\n",
    "                     Coal_brown    = JuMP.value.(p[9,1:T]),\n",
    "                     Coal_hard     = JuMP.value.(p[10,1:T]),\n",
    "                     CCGT          = JuMP.value.(p[11,1:T]),\n",
    "                     GT            = JuMP.value.(p[12,1:T]),\n",
    "                     Storage       = sum(JuMP.value.(p[i,1:T]) for i= 4:7),\n",
    "                     Consumption   = consum[1:T,\"DK\"])\n",
    "\n",
    "#T_series = DataFrame(Time_hr       = collect(1:T), \n",
    "#                     Solar_PV      = JuMP.value.(p[1,1:T]),\n",
    "#                     Wind_onshore  = JuMP.value.(p[2,1:T]),\n",
    "#                     Wind_offshore = JuMP.value.(p[3,1:T]),\n",
    "#                     H2_cavern     = JuMP.value.(p[4,1:T]),\n",
    "#                     H2_tank       = JuMP.value.(p[5,1:T]),\n",
    "#                     Li_bat        = JuMP.value.(p[6,1:T]),\n",
    "#                     Redox_flow    = JuMP.value.(p[7,1:T]),\n",
    "#                     Biogas        = JuMP.value.(p[8,1:T]),\n",
    "#                     Coal_brown    = JuMP.value.(p[9,1:T]),\n",
    "#                     Coal_hard     = JuMP.value.(p[10,1:T]),\n",
    "#                     CCGT          = JuMP.value.(p[11,1:T]),\n",
    "#                     GT            = JuMP.value.(p[12,1:T]),\n",
    "#                     Consumption   = consum[1:T,\"DK\"])\n",
    "\n",
    "Totals   = DataFrame(Share_ren       = string(x),\n",
    "                     LCOE            = JuMP.objective_value(m)/sum(consum[t,\"DK\"] for t=1:T)*1e-3, \n",
    "                     Production_MWh  = sum( JuMP.value.(p[i,t]) for i=1:n for t=1:T),\n",
    "                     Demand_MWh      = sum(consum[1:T,\"DK\"]),\n",
    "                     Curtailment_MWh = sum( JuMP.value.(p[i,t]) for i=1:n for t=1:T)/sum(consum[1:T,\"DK\"]),\n",
    "                     CAPEX_t_bilEUR  = sum((JuMP.value.(pmax[i])/inp[i,\"Lifetime\"])* (inp[i,\"Capex_avg\"]*(1+inp[i,\"Opex_of_capex\"])+inp[i,\"Opex_fix\"])+\n",
    "                                          (JuMP.value.(lsmax[i])/inp[i,\"Lifetime\"])*  inp[i,\"Capex_capacity\"] for i=1:n)*1e-9,\n",
    "                     OM_t_bilEUR     = sum(JuMP.value.(p[i,t])*(inp[i,\"Opex_var\"]+inp[i,\"Fuel_price\"]*inp[i,\"Fuel_eff\"])+\n",
    "                                       sum((JuMP.value.(pmax[i])/inp[i,\"Lifetime\"])*(inp[i,\"Capex_avg\"]*inp[i,\"Opex_of_capex\"]+inp[i,\"Opex_fix\"])) for i=1:n for t=1:T)*1e-9,                                                                      \n",
    "                     Extension       = 1)\n",
    "                                                                        \n",
    "Per_tech = DataFrame(Technology     = String[],\n",
    "                     Capacity_GWh    = Float64[],\n",
    "                     Utilization    = Float64[],\n",
    "                     CAPEX_bilEUR   = Float64[],\n",
    "                     OM_bilEUR      = Float64[],\n",
    "                     Share_ren      = String[],\n",
    "                     Extension      = Int64[]                                                       \n",
    "                    )\n",
    "                    \n",
    "for i = 1:n\n",
    "    append!(Per_tech, DataFrame(Technology     = inp[i,\"Name\"],\n",
    "                                Capacity_GWh    = JuMP.value.(pmax[i])*1e-3,\n",
    "                                Utilization    = mean(abs.(JuMP.value.(p[i,1:T])))/JuMP.value.(pmax[i]),\n",
    "                                CAPEX_bilEUR   = ((JuMP.value.(pmax[i])/inp[i,\"Lifetime\"])* (inp[i,\"Capex_avg\"]*(1+inp[i,\"Opex_of_capex\"])+inp[i,\"Opex_fix\"])+\n",
    "                                          (JuMP.value.(lsmax[i])/inp[i,\"Lifetime\"])*  inp[i,\"Capex_capacity\"])*1e-9,\n",
    "                                OM_bilEUR      = sum(JuMP.value.(p[i,t])*(inp[i,\"Opex_var\"]+\n",
    "                                                     inp[i,\"Fuel_price\"]*inp[i,\"Fuel_eff\"]) for t=1:T),\n",
    "                                Share_ren      = string(x),                                                    \n",
    "                                Extension      = 1,\n",
    "                                )\n",
    "           )\n",
    "end\n",
    "                                                                \n",
    "return Totals,Per_tech,T_series\n",
    "end\n"
   ]
  },
  {
   "cell_type": "markdown",
   "metadata": {},
   "source": [
    "### Visualization"
   ]
  },
  {
   "cell_type": "code",
   "execution_count": 9,
   "metadata": {},
   "outputs": [
    {
     "data": {
      "text/plain": [
       "plotTechnology (generic function with 1 method)"
      ]
     },
     "execution_count": 9,
     "metadata": {},
     "output_type": "execute_result"
    }
   ],
   "source": [
    "#Displaying results\n",
    "\n",
    "colors = [\"#3182bd\",\"#fd8d3c\",\"#a1d99b\",\"#6baed6\",\"#e6550d\",\"#74c476\"]\n",
    "#Time series\n",
    "function plotSeries(x,y,z)\n",
    "    \n",
    "    d = z  \n",
    "    x[1:d,:] |>\n",
    "    stack |>         #Stacking data\n",
    "    @vlplot(width=850, hieght=700)+\n",
    "    @vlplot(transform=[{filter=\"datum.variable != 'Consumption'\"}],\n",
    "            transform=[{filter=\"datum.value     !=0\"}],\n",
    "            mark=:area, \n",
    "            x=:Time_hr, \n",
    "            y={:value,stack=:zero},\n",
    "            color={:variable,\n",
    "            #scale={range = colors},\n",
    "            scale={scheme=\"tableau10\"},\n",
    "            legend={title=\"Technologies\"}})+ \n",
    "    @vlplot(#transform=[{filter=\"datum.variable == 'Consumption'\"}],\n",
    "            mark=:line, \n",
    "            x=:Time_hr, \n",
    "            y=:Consumption) |> save(\"Results/$y/$y _Series.png\")\n",
    "end\n",
    "\n",
    "\n",
    "#Bars chart\n",
    "function plotTechnology(x)\n",
    "    x |>\n",
    "    @vlplot(transform=[{filter=\"datum.Capacity_GWh >0\"}],\n",
    "        height=500,\n",
    "        width =300,\n",
    "        mark={\n",
    "            :bar,\n",
    "            cornerRadiusTopLeft = 15,\n",
    "            cornerRadiusTopRight= 15\n",
    "        },\n",
    "        x=:Share_ren,\n",
    "        y=:Capacity_GWh,\n",
    "        color={:Technology,\n",
    "        #scale={range = colors},\n",
    "        scale={scheme=\"tableau10\"}\n",
    "        }\n",
    "    ) |> save(\"Results/BarChart.png\")\n",
    "\n",
    "    #Donat plots\n",
    "    for i= 1:size(ren_s)[1]   \n",
    "        df = filter(row -> row[:Share_ren ] == string(ren_s[i]), x)   \n",
    "\n",
    "    n = ren_s[i]\n",
    "        df |>\n",
    "        stack |>\n",
    "        @vlplot(transform=[{filter=\"datum.variable == 'Capacity_GWh'\"},\n",
    "                   {filter=\"datum.value != 0\"}],\n",
    "        theta={:value, stack=true},\n",
    "        color={\"Technology\",\n",
    "        scale={scheme=\"tableau10\"},    \n",
    "        #scale={range = colors},    \n",
    "            },\n",
    "        view={stroke=nothing}) +\n",
    "        @vlplot(mark={:arc, innerRadius = 50, outerRadius=90}) +\n",
    "        @vlplot(mark={:text, radius=105}, text=\"value:n\",title= \"Capacity_GWh\") |> save(\"Results/$n/$n _Capacity_GW.png\")# \n",
    "\n",
    "        df |>\n",
    "        stack |>\n",
    "        @vlplot(transform=[{filter=\"datum.variable == 'Utilization'\"},\n",
    "                   {filter=\"datum.value != 0\"}],\n",
    "        theta={:value, stack=true},\n",
    "        color={\"Technology\",\n",
    "            scale={scheme=\"tableau10\"},\n",
    "            #scale={range = colors},\n",
    "            },\n",
    "        view={stroke=nothing}) +\n",
    "        @vlplot(mark={:arc, innerRadius = 50, outerRadius=90}) +\n",
    "        @vlplot(mark={:text, radius=105}, text=\"value:n\",title= \"Utilization\") |> save(\"Results/$n/$n _Utilization.png\")\n",
    "\n",
    "        df |>\n",
    "        stack |>\n",
    "        @vlplot(transform=[{filter=\"datum.variable == 'CAPEX_bilEUR'\"},\n",
    "                   {filter=\"datum.value != 0\"}],\n",
    "        theta={:value, stack=true},\n",
    "        color={\"Technology\",\n",
    "            scale={scheme=\"tableau10\"},\n",
    "            #scale={range = colors},\n",
    "            },\n",
    "        view={stroke=nothing}) +\n",
    "        @vlplot(mark={:arc, innerRadius = 50, outerRadius=90}) +\n",
    "        @vlplot(mark={:text, radius=105}, text=\"value:n\",title= \"CAPEX_bilEUR\") |> save(\"Results/$n/$n _CAPEX_bilEUR.png\")\n",
    "    \n",
    "        df |>\n",
    "        stack |>\n",
    "        @vlplot(transform=[{filter=\"datum.variable == 'OM_bilEUR'\"},\n",
    "                   {filter=\"datum.value != 0\"}],\n",
    "        theta={:value, stack=true},\n",
    "        color={\"Technology\",\n",
    "            scale={scheme=\"tableau10\"},\n",
    "            #scale={range = colors},\n",
    "            },\n",
    "        view={stroke=nothing}) +\n",
    "        @vlplot(mark={:arc, innerRadius = 50, outerRadius=90}) +\n",
    "        @vlplot(mark={:text, radius=105}, text=\"value:n\",title= \"OM_bilEUR\") |> save(\"Results/$n/$n _OM_bilEUR.png\")\n",
    "    \n",
    "    end\n",
    "end\n"
   ]
  },
  {
   "cell_type": "markdown",
   "metadata": {},
   "source": [
    "### Comparison to baseline scenario"
   ]
  },
  {
   "cell_type": "code",
   "execution_count": 10,
   "metadata": {},
   "outputs": [
    {
     "data": {
      "application/vnd.dataresource+json": {
       "data": [
        {
         "age": 0,
         "people": 1483789,
         "sex": 1,
         "year": 1850
        },
        {
         "age": 0,
         "people": 1450376,
         "sex": 2,
         "year": 1850
        },
        {
         "age": 5,
         "people": 1411067,
         "sex": 1,
         "year": 1850
        },
        {
         "age": 5,
         "people": 1359668,
         "sex": 2,
         "year": 1850
        },
        {
         "age": 10,
         "people": 1260099,
         "sex": 1,
         "year": 1850
        },
        {
         "age": 10,
         "people": 1216114,
         "sex": 2,
         "year": 1850
        },
        {
         "age": 15,
         "people": 1077133,
         "sex": 1,
         "year": 1850
        },
        {
         "age": 15,
         "people": 1110619,
         "sex": 2,
         "year": 1850
        },
        {
         "age": 20,
         "people": 1017281,
         "sex": 1,
         "year": 1850
        },
        {
         "age": 20,
         "people": 1003841,
         "sex": 2,
         "year": 1850
        },
        {
         "age": 25,
         "people": 862547,
         "sex": 1,
         "year": 1850
        },
        {
         "age": 25,
         "people": 799482,
         "sex": 2,
         "year": 1850
        },
        {
         "age": 30,
         "people": 730638,
         "sex": 1,
         "year": 1850
        },
        {
         "age": 30,
         "people": 639636,
         "sex": 2,
         "year": 1850
        },
        {
         "age": 35,
         "people": 588487,
         "sex": 1,
         "year": 1850
        },
        {
         "age": 35,
         "people": 505012,
         "sex": 2,
         "year": 1850
        },
        {
         "age": 40,
         "people": 475911,
         "sex": 1,
         "year": 1850
        },
        {
         "age": 40,
         "people": 428185,
         "sex": 2,
         "year": 1850
        },
        {
         "age": 45,
         "people": 384211,
         "sex": 1,
         "year": 1850
        },
        {
         "age": 45,
         "people": 341254,
         "sex": 2,
         "year": 1850
        },
        {
         "age": 50,
         "people": 321343,
         "sex": 1,
         "year": 1850
        },
        {
         "age": 50,
         "people": 286580,
         "sex": 2,
         "year": 1850
        },
        {
         "age": 55,
         "people": 194080,
         "sex": 1,
         "year": 1850
        },
        {
         "age": 55,
         "people": 187208,
         "sex": 2,
         "year": 1850
        },
        {
         "age": 60,
         "people": 174976,
         "sex": 1,
         "year": 1850
        },
        {
         "age": 60,
         "people": 162236,
         "sex": 2,
         "year": 1850
        },
        {
         "age": 65,
         "people": 106827,
         "sex": 1,
         "year": 1850
        },
        {
         "age": 65,
         "people": 105534,
         "sex": 2,
         "year": 1850
        },
        {
         "age": 70,
         "people": 73677,
         "sex": 1,
         "year": 1850
        },
        {
         "age": 70,
         "people": 71762,
         "sex": 2,
         "year": 1850
        },
        {
         "age": 75,
         "people": 40834,
         "sex": 1,
         "year": 1850
        },
        {
         "age": 75,
         "people": 40229,
         "sex": 2,
         "year": 1850
        },
        {
         "age": 80,
         "people": 23449,
         "sex": 1,
         "year": 1850
        },
        {
         "age": 80,
         "people": 22949,
         "sex": 2,
         "year": 1850
        },
        {
         "age": 85,
         "people": 8186,
         "sex": 1,
         "year": 1850
        },
        {
         "age": 85,
         "people": 10511,
         "sex": 2,
         "year": 1850
        },
        {
         "age": 90,
         "people": 5259,
         "sex": 1,
         "year": 1850
        },
        {
         "age": 90,
         "people": 6569,
         "sex": 2,
         "year": 1850
        },
        {
         "age": 0,
         "people": 2120846,
         "sex": 1,
         "year": 1860
        },
        {
         "age": 0,
         "people": 2092162,
         "sex": 2,
         "year": 1860
        },
        {
         "age": 5,
         "people": 1804467,
         "sex": 1,
         "year": 1860
        },
        {
         "age": 5,
         "people": 1778772,
         "sex": 2,
         "year": 1860
        },
        {
         "age": 10,
         "people": 1612640,
         "sex": 1,
         "year": 1860
        },
        {
         "age": 10,
         "people": 1540350,
         "sex": 2,
         "year": 1860
        },
        {
         "age": 15,
         "people": 1438094,
         "sex": 1,
         "year": 1860
        },
        {
         "age": 15,
         "people": 1495999,
         "sex": 2,
         "year": 1860
        },
        {
         "age": 20,
         "people": 1351121,
         "sex": 1,
         "year": 1860
        },
        {
         "age": 20,
         "people": 1370462,
         "sex": 2,
         "year": 1860
        },
        {
         "age": 25,
         "people": 1217615,
         "sex": 1,
         "year": 1860
        },
        {
         "age": 25,
         "people": 1116373,
         "sex": 2,
         "year": 1860
        },
        {
         "age": 30,
         "people": 1043174,
         "sex": 1,
         "year": 1860
        },
        {
         "age": 30,
         "people": 936055,
         "sex": 2,
         "year": 1860
        },
        {
         "age": 35,
         "people": 866910,
         "sex": 1,
         "year": 1860
        },
        {
         "age": 35,
         "people": 737136,
         "sex": 2,
         "year": 1860
        },
        {
         "age": 40,
         "people": 699434,
         "sex": 1,
         "year": 1860
        },
        {
         "age": 40,
         "people": 616826,
         "sex": 2,
         "year": 1860
        },
        {
         "age": 45,
         "people": 552404,
         "sex": 1,
         "year": 1860
        },
        {
         "age": 45,
         "people": 461739,
         "sex": 2,
         "year": 1860
        },
        {
         "age": 50,
         "people": 456176,
         "sex": 1,
         "year": 1860
        },
        {
         "age": 50,
         "people": 407305,
         "sex": 2,
         "year": 1860
        },
        {
         "age": 55,
         "people": 292417,
         "sex": 1,
         "year": 1860
        },
        {
         "age": 55,
         "people": 267224,
         "sex": 2,
         "year": 1860
        },
        {
         "age": 60,
         "people": 260887,
         "sex": 1,
         "year": 1860
        },
        {
         "age": 60,
         "people": 249735,
         "sex": 2,
         "year": 1860
        },
        {
         "age": 65,
         "people": 149331,
         "sex": 1,
         "year": 1860
        },
        {
         "age": 65,
         "people": 141405,
         "sex": 2,
         "year": 1860
        },
        {
         "age": 70,
         "people": 98465,
         "sex": 1,
         "year": 1860
        },
        {
         "age": 70,
         "people": 101778,
         "sex": 2,
         "year": 1860
        },
        {
         "age": 75,
         "people": 56699,
         "sex": 1,
         "year": 1860
        },
        {
         "age": 75,
         "people": 57597,
         "sex": 2,
         "year": 1860
        },
        {
         "age": 80,
         "people": 29007,
         "sex": 1,
         "year": 1860
        },
        {
         "age": 80,
         "people": 29506,
         "sex": 2,
         "year": 1860
        },
        {
         "age": 85,
         "people": 10434,
         "sex": 1,
         "year": 1860
        },
        {
         "age": 85,
         "people": 14053,
         "sex": 2,
         "year": 1860
        },
        {
         "age": 90,
         "people": 7232,
         "sex": 1,
         "year": 1860
        },
        {
         "age": 90,
         "people": 6622,
         "sex": 2,
         "year": 1860
        },
        {
         "age": 0,
         "people": 2800083,
         "sex": 1,
         "year": 1870
        },
        {
         "age": 0,
         "people": 2717102,
         "sex": 2,
         "year": 1870
        },
        {
         "age": 5,
         "people": 2428469,
         "sex": 1,
         "year": 1870
        },
        {
         "age": 5,
         "people": 2393680,
         "sex": 2,
         "year": 1870
        },
        {
         "age": 10,
         "people": 2427341,
         "sex": 1,
         "year": 1870
        },
        {
         "age": 10,
         "people": 2342670,
         "sex": 2,
         "year": 1870
        },
        {
         "age": 15,
         "people": 1958390,
         "sex": 1,
         "year": 1870
        },
        {
         "age": 15,
         "people": 2077248,
         "sex": 2,
         "year": 1870
        },
        {
         "age": 20,
         "people": 1805303,
         "sex": 1,
         "year": 1870
        },
        {
         "age": 20,
         "people": 1909382,
         "sex": 2,
         "year": 1870
        },
        {
         "age": 25,
         "people": 1509059,
         "sex": 1,
         "year": 1870
        },
        {
         "age": 25,
         "people": 1574285,
         "sex": 2,
         "year": 1870
        },
        {
         "age": 30,
         "people": 1251534,
         "sex": 1,
         "year": 1870
        },
        {
         "age": 30,
         "people": 1275629,
         "sex": 2,
         "year": 1870
        },
        {
         "age": 35,
         "people": 1185336,
         "sex": 1,
         "year": 1870
        },
        {
         "age": 35,
         "people": 1137490,
         "sex": 2,
         "year": 1870
        },
        {
         "age": 40,
         "people": 968861,
         "sex": 1,
         "year": 1870
        },
        {
         "age": 40,
         "people": 944401,
         "sex": 2,
         "year": 1870
        },
        {
         "age": 45,
         "people": 852672,
         "sex": 1,
         "year": 1870
        },
        {
         "age": 45,
         "people": 747916,
         "sex": 2,
         "year": 1870
        },
        {
         "age": 50,
         "people": 736387,
         "sex": 1,
         "year": 1870
        },
        {
         "age": 50,
         "people": 637801,
         "sex": 2,
         "year": 1870
        },
        {
         "age": 55,
         "people": 486036,
         "sex": 1,
         "year": 1870
        },
        {
         "age": 55,
         "people": 407819,
         "sex": 2,
         "year": 1870
        },
        {
         "age": 60,
         "people": 399264,
         "sex": 1,
         "year": 1870
        },
        {
         "age": 60,
         "people": 374801,
         "sex": 2,
         "year": 1870
        },
        {
         "age": 65,
         "people": 260829,
         "sex": 1,
         "year": 1870
        },
        {
         "age": 65,
         "people": 239080,
         "sex": 2,
         "year": 1870
        },
        {
         "age": 70,
         "people": 173364,
         "sex": 1,
         "year": 1870
        },
        {
         "age": 70,
         "people": 165501,
         "sex": 2,
         "year": 1870
        },
        {
         "age": 75,
         "people": 86929,
         "sex": 1,
         "year": 1870
        },
        {
         "age": 75,
         "people": 89540,
         "sex": 2,
         "year": 1870
        },
        {
         "age": 80,
         "people": 47427,
         "sex": 1,
         "year": 1870
        },
        {
         "age": 80,
         "people": 54190,
         "sex": 2,
         "year": 1870
        },
        {
         "age": 85,
         "people": 15891,
         "sex": 1,
         "year": 1870
        },
        {
         "age": 85,
         "people": 19302,
         "sex": 2,
         "year": 1870
        },
        {
         "age": 90,
         "people": 8649,
         "sex": 1,
         "year": 1870
        },
        {
         "age": 90,
         "people": 13068,
         "sex": 2,
         "year": 1870
        },
        {
         "age": 0,
         "people": 3533662,
         "sex": 1,
         "year": 1880
        },
        {
         "age": 0,
         "people": 3421597,
         "sex": 2,
         "year": 1880
        },
        {
         "age": 5,
         "people": 3297503,
         "sex": 1,
         "year": 1880
        },
        {
         "age": 5,
         "people": 3179142,
         "sex": 2,
         "year": 1880
        },
        {
         "age": 10,
         "people": 2911924,
         "sex": 1,
         "year": 1880
        },
        {
         "age": 10,
         "people": 2813550,
         "sex": 2,
         "year": 1880
        },
        {
         "age": 15,
         "people": 2457734,
         "sex": 1,
         "year": 1880
        },
        {
         "age": 15,
         "people": 2527818,
         "sex": 2,
         "year": 1880
        },
        {
         "age": 20,
         "people": 2547780,
         "sex": 1,
         "year": 1880
        },
        {
         "age": 20,
         "people": 2512803,
         "sex": 2,
         "year": 1880
        },
        {
         "age": 25,
         "people": 2119393,
         "sex": 1,
         "year": 1880
        },
        {
         "age": 25,
         "people": 1974241,
         "sex": 2,
         "year": 1880
        },
        {
         "age": 30,
         "people": 1749107,
         "sex": 1,
         "year": 1880
        },
        {
         "age": 30,
         "people": 1596772,
         "sex": 2,
         "year": 1880
        },
        {
         "age": 35,
         "people": 1540772,
         "sex": 1,
         "year": 1880
        },
        {
         "age": 35,
         "people": 1483717,
         "sex": 2,
         "year": 1880
        },
        {
         "age": 40,
         "people": 1237347,
         "sex": 1,
         "year": 1880
        },
        {
         "age": 40,
         "people": 1239435,
         "sex": 2,
         "year": 1880
        },
        {
         "age": 45,
         "people": 1065973,
         "sex": 1,
         "year": 1880
        },
        {
         "age": 45,
         "people": 1003711,
         "sex": 2,
         "year": 1880
        },
        {
         "age": 50,
         "people": 964484,
         "sex": 1,
         "year": 1880
        },
        {
         "age": 50,
         "people": 863012,
         "sex": 2,
         "year": 1880
        },
        {
         "age": 55,
         "people": 679147,
         "sex": 1,
         "year": 1880
        },
        {
         "age": 55,
         "people": 594843,
         "sex": 2,
         "year": 1880
        },
        {
         "age": 60,
         "people": 580298,
         "sex": 1,
         "year": 1880
        },
        {
         "age": 60,
         "people": 526956,
         "sex": 2,
         "year": 1880
        },
        {
         "age": 65,
         "people": 369398,
         "sex": 1,
         "year": 1880
        },
        {
         "age": 65,
         "people": 346303,
         "sex": 2,
         "year": 1880
        },
        {
         "age": 70,
         "people": 255422,
         "sex": 1,
         "year": 1880
        },
        {
         "age": 70,
         "people": 251860,
         "sex": 2,
         "year": 1880
        },
        {
         "age": 75,
         "people": 141628,
         "sex": 1,
         "year": 1880
        },
        {
         "age": 75,
         "people": 143513,
         "sex": 2,
         "year": 1880
        },
        {
         "age": 80,
         "people": 67526,
         "sex": 1,
         "year": 1880
        },
        {
         "age": 80,
         "people": 77290,
         "sex": 2,
         "year": 1880
        },
        {
         "age": 85,
         "people": 22437,
         "sex": 1,
         "year": 1880
        },
        {
         "age": 85,
         "people": 31227,
         "sex": 2,
         "year": 1880
        },
        {
         "age": 90,
         "people": 10272,
         "sex": 1,
         "year": 1880
        },
        {
         "age": 90,
         "people": 15451,
         "sex": 2,
         "year": 1880
        },
        {
         "age": 0,
         "people": 4619544,
         "sex": 1,
         "year": 1900
        },
        {
         "age": 0,
         "people": 4589196,
         "sex": 2,
         "year": 1900
        },
        {
         "age": 5,
         "people": 4465783,
         "sex": 1,
         "year": 1900
        },
        {
         "age": 5,
         "people": 4390483,
         "sex": 2,
         "year": 1900
        },
        {
         "age": 10,
         "people": 4057669,
         "sex": 1,
         "year": 1900
        },
        {
         "age": 10,
         "people": 4001749,
         "sex": 2,
         "year": 1900
        },
        {
         "age": 15,
         "people": 3774846,
         "sex": 1,
         "year": 1900
        },
        {
         "age": 15,
         "people": 3801743,
         "sex": 2,
         "year": 1900
        },
        {
         "age": 20,
         "people": 3694038,
         "sex": 1,
         "year": 1900
        },
        {
         "age": 20,
         "people": 3751061,
         "sex": 2,
         "year": 1900
        },
        {
         "age": 25,
         "people": 3389280,
         "sex": 1,
         "year": 1900
        },
        {
         "age": 25,
         "people": 3236056,
         "sex": 2,
         "year": 1900
        },
        {
         "age": 30,
         "people": 2918964,
         "sex": 1,
         "year": 1900
        },
        {
         "age": 30,
         "people": 2665174,
         "sex": 2,
         "year": 1900
        },
        {
         "age": 35,
         "people": 2633883,
         "sex": 1,
         "year": 1900
        },
        {
         "age": 35,
         "people": 2347737,
         "sex": 2,
         "year": 1900
        },
        {
         "age": 40,
         "people": 2261070,
         "sex": 1,
         "year": 1900
        },
        {
         "age": 40,
         "people": 2004987,
         "sex": 2,
         "year": 1900
        },
        {
         "age": 45,
         "people": 1868413,
         "sex": 1,
         "year": 1900
        },
        {
         "age": 45,
         "people": 1648025,
         "sex": 2,
         "year": 1900
        },
        {
         "age": 50,
         "people": 1571038,
         "sex": 1,
         "year": 1900
        },
        {
         "age": 50,
         "people": 1411981,
         "sex": 2,
         "year": 1900
        },
        {
         "age": 55,
         "people": 1161908,
         "sex": 1,
         "year": 1900
        },
        {
         "age": 55,
         "people": 1064632,
         "sex": 2,
         "year": 1900
        },
        {
         "age": 60,
         "people": 916571,
         "sex": 1,
         "year": 1900
        },
        {
         "age": 60,
         "people": 887508,
         "sex": 2,
         "year": 1900
        },
        {
         "age": 65,
         "people": 672663,
         "sex": 1,
         "year": 1900
        },
        {
         "age": 65,
         "people": 640212,
         "sex": 2,
         "year": 1900
        },
        {
         "age": 70,
         "people": 454747,
         "sex": 1,
         "year": 1900
        },
        {
         "age": 70,
         "people": 440007,
         "sex": 2,
         "year": 1900
        },
        {
         "age": 75,
         "people": 268211,
         "sex": 1,
         "year": 1900
        },
        {
         "age": 75,
         "people": 265879,
         "sex": 2,
         "year": 1900
        },
        {
         "age": 80,
         "people": 127435,
         "sex": 1,
         "year": 1900
        },
        {
         "age": 80,
         "people": 132449,
         "sex": 2,
         "year": 1900
        },
        {
         "age": 85,
         "people": 44008,
         "sex": 1,
         "year": 1900
        },
        {
         "age": 85,
         "people": 48614,
         "sex": 2,
         "year": 1900
        },
        {
         "age": 90,
         "people": 15164,
         "sex": 1,
         "year": 1900
        },
        {
         "age": 90,
         "people": 20093,
         "sex": 2,
         "year": 1900
        },
        {
         "age": 0,
         "people": 5296823,
         "sex": 1,
         "year": 1910
        },
        {
         "age": 0,
         "people": 5287477,
         "sex": 2,
         "year": 1910
        },
        {
         "age": 5,
         "people": 4991803,
         "sex": 1,
         "year": 1910
        },
        {
         "age": 5,
         "people": 4866139,
         "sex": 2,
         "year": 1910
        },
        {
         "age": 10,
         "people": 4650747,
         "sex": 1,
         "year": 1910
        },
        {
         "age": 10,
         "people": 4471887,
         "sex": 2,
         "year": 1910
        },
        {
         "age": 15,
         "people": 4566154,
         "sex": 1,
         "year": 1910
        },
        {
         "age": 15,
         "people": 4592269,
         "sex": 2,
         "year": 1910
        },
        {
         "age": 20,
         "people": 4637632,
         "sex": 1,
         "year": 1910
        },
        {
         "age": 20,
         "people": 4447683,
         "sex": 2,
         "year": 1910
        },
        {
         "age": 25,
         "people": 4257755,
         "sex": 1,
         "year": 1910
        },
        {
         "age": 25,
         "people": 3946153,
         "sex": 2,
         "year": 1910
        },
        {
         "age": 30,
         "people": 3658125,
         "sex": 1,
         "year": 1910
        },
        {
         "age": 30,
         "people": 3295220,
         "sex": 2,
         "year": 1910
        },
        {
         "age": 35,
         "people": 3427518,
         "sex": 1,
         "year": 1910
        },
        {
         "age": 35,
         "people": 3088990,
         "sex": 2,
         "year": 1910
        },
        {
         "age": 40,
         "people": 2860229,
         "sex": 1,
         "year": 1910
        },
        {
         "age": 40,
         "people": 2471267,
         "sex": 2,
         "year": 1910
        },
        {
         "age": 45,
         "people": 2363801,
         "sex": 1,
         "year": 1910
        },
        {
         "age": 45,
         "people": 2114930,
         "sex": 2,
         "year": 1910
        },
        {
         "age": 50,
         "people": 2126516,
         "sex": 1,
         "year": 1910
        },
        {
         "age": 50,
         "people": 1773592,
         "sex": 2,
         "year": 1910
        },
        {
         "age": 55,
         "people": 1508358,
         "sex": 1,
         "year": 1910
        },
        {
         "age": 55,
         "people": 1317651,
         "sex": 2,
         "year": 1910
        },
        {
         "age": 60,
         "people": 1189421,
         "sex": 1,
         "year": 1910
        },
        {
         "age": 60,
         "people": 1090697,
         "sex": 2,
         "year": 1910
        },
        {
         "age": 65,
         "people": 850159,
         "sex": 1,
         "year": 1910
        },
        {
         "age": 65,
         "people": 813868,
         "sex": 2,
         "year": 1910
        },
        {
         "age": 70,
         "people": 557936,
         "sex": 1,
         "year": 1910
        },
        {
         "age": 70,
         "people": 547623,
         "sex": 2,
         "year": 1910
        },
        {
         "age": 75,
         "people": 322679,
         "sex": 1,
         "year": 1910
        },
        {
         "age": 75,
         "people": 350900,
         "sex": 2,
         "year": 1910
        },
        {
         "age": 80,
         "people": 161715,
         "sex": 1,
         "year": 1910
        },
        {
         "age": 80,
         "people": 174315,
         "sex": 2,
         "year": 1910
        },
        {
         "age": 85,
         "people": 59699,
         "sex": 1,
         "year": 1910
        },
        {
         "age": 85,
         "people": 62725,
         "sex": 2,
         "year": 1910
        },
        {
         "age": 90,
         "people": 23929,
         "sex": 1,
         "year": 1910
        },
        {
         "age": 90,
         "people": 28965,
         "sex": 2,
         "year": 1910
        },
        {
         "age": 0,
         "people": 5934792,
         "sex": 1,
         "year": 1920
        },
        {
         "age": 0,
         "people": 5694244,
         "sex": 2,
         "year": 1920
        },
        {
         "age": 5,
         "people": 5789008,
         "sex": 1,
         "year": 1920
        },
        {
         "age": 5,
         "people": 5693960,
         "sex": 2,
         "year": 1920
        },
        {
         "age": 10,
         "people": 5401156,
         "sex": 1,
         "year": 1920
        },
        {
         "age": 10,
         "people": 5293057,
         "sex": 2,
         "year": 1920
        },
        {
         "age": 15,
         "people": 4724365,
         "sex": 1,
         "year": 1920
        },
        {
         "age": 15,
         "people": 4779936,
         "sex": 2,
         "year": 1920
        },
        {
         "age": 20,
         "people": 4549411,
         "sex": 1,
         "year": 1920
        },
        {
         "age": 20,
         "people": 4742632,
         "sex": 2,
         "year": 1920
        },
        {
         "age": 25,
         "people": 4565066,
         "sex": 1,
         "year": 1920
        },
        {
         "age": 25,
         "people": 4529382,
         "sex": 2,
         "year": 1920
        },
        {
         "age": 30,
         "people": 4110771,
         "sex": 1,
         "year": 1920
        },
        {
         "age": 30,
         "people": 3982426,
         "sex": 2,
         "year": 1920
        },
        {
         "age": 35,
         "people": 4081543,
         "sex": 1,
         "year": 1920
        },
        {
         "age": 35,
         "people": 3713810,
         "sex": 2,
         "year": 1920
        },
        {
         "age": 40,
         "people": 3321923,
         "sex": 1,
         "year": 1920
        },
        {
         "age": 40,
         "people": 3059757,
         "sex": 2,
         "year": 1920
        },
        {
         "age": 45,
         "people": 3143891,
         "sex": 1,
         "year": 1920
        },
        {
         "age": 45,
         "people": 2669089,
         "sex": 2,
         "year": 1920
        },
        {
         "age": 50,
         "people": 2546035,
         "sex": 1,
         "year": 1920
        },
        {
         "age": 50,
         "people": 2200491,
         "sex": 2,
         "year": 1920
        },
        {
         "age": 55,
         "people": 1880975,
         "sex": 1,
         "year": 1920
        },
        {
         "age": 55,
         "people": 1674672,
         "sex": 2,
         "year": 1920
        },
        {
         "age": 60,
         "people": 1587549,
         "sex": 1,
         "year": 1920
        },
        {
         "age": 60,
         "people": 1382877,
         "sex": 2,
         "year": 1920
        },
        {
         "age": 65,
         "people": 1095956,
         "sex": 1,
         "year": 1920
        },
        {
         "age": 65,
         "people": 989901,
         "sex": 2,
         "year": 1920
        },
        {
         "age": 70,
         "people": 714618,
         "sex": 1,
         "year": 1920
        },
        {
         "age": 70,
         "people": 690097,
         "sex": 2,
         "year": 1920
        },
        {
         "age": 75,
         "people": 417292,
         "sex": 1,
         "year": 1920
        },
        {
         "age": 75,
         "people": 439465,
         "sex": 2,
         "year": 1920
        },
        {
         "age": 80,
         "people": 187000,
         "sex": 1,
         "year": 1920
        },
        {
         "age": 80,
         "people": 211110,
         "sex": 2,
         "year": 1920
        },
        {
         "age": 85,
         "people": 75991,
         "sex": 1,
         "year": 1920
        },
        {
         "age": 85,
         "people": 92829,
         "sex": 2,
         "year": 1920
        },
        {
         "age": 90,
         "people": 22398,
         "sex": 1,
         "year": 1920
        },
        {
         "age": 90,
         "people": 32085,
         "sex": 2,
         "year": 1920
        },
        {
         "age": 0,
         "people": 5875250,
         "sex": 1,
         "year": 1930
        },
        {
         "age": 0,
         "people": 5662530,
         "sex": 2,
         "year": 1930
        },
        {
         "age": 5,
         "people": 6542592,
         "sex": 1,
         "year": 1930
        },
        {
         "age": 5,
         "people": 6129561,
         "sex": 2,
         "year": 1930
        },
        {
         "age": 10,
         "people": 6064820,
         "sex": 1,
         "year": 1930
        },
        {
         "age": 10,
         "people": 5986529,
         "sex": 2,
         "year": 1930
        },
        {
         "age": 15,
         "people": 5709452,
         "sex": 1,
         "year": 1930
        },
        {
         "age": 15,
         "people": 5769587,
         "sex": 2,
         "year": 1930
        },
        {
         "age": 20,
         "people": 5305992,
         "sex": 1,
         "year": 1930
        },
        {
         "age": 20,
         "people": 5565382,
         "sex": 2,
         "year": 1930
        },
        {
         "age": 25,
         "people": 4929853,
         "sex": 1,
         "year": 1930
        },
        {
         "age": 25,
         "people": 5050229,
         "sex": 2,
         "year": 1930
        },
        {
         "age": 30,
         "people": 4424408,
         "sex": 1,
         "year": 1930
        },
        {
         "age": 30,
         "people": 4455213,
         "sex": 2,
         "year": 1930
        },
        {
         "age": 35,
         "people": 4576531,
         "sex": 1,
         "year": 1930
        },
        {
         "age": 35,
         "people": 4593776,
         "sex": 2,
         "year": 1930
        },
        {
         "age": 40,
         "people": 4075139,
         "sex": 1,
         "year": 1930
        },
        {
         "age": 40,
         "people": 3754022,
         "sex": 2,
         "year": 1930
        },
        {
         "age": 45,
         "people": 3633152,
         "sex": 1,
         "year": 1930
        },
        {
         "age": 45,
         "people": 3396558,
         "sex": 2,
         "year": 1930
        },
        {
         "age": 50,
         "people": 3128108,
         "sex": 1,
         "year": 1930
        },
        {
         "age": 50,
         "people": 2809191,
         "sex": 2,
         "year": 1930
        },
        {
         "age": 55,
         "people": 2434077,
         "sex": 1,
         "year": 1930
        },
        {
         "age": 55,
         "people": 2298614,
         "sex": 2,
         "year": 1930
        },
        {
         "age": 60,
         "people": 1927564,
         "sex": 1,
         "year": 1930
        },
        {
         "age": 60,
         "people": 1783515,
         "sex": 2,
         "year": 1930
        },
        {
         "age": 65,
         "people": 1397275,
         "sex": 1,
         "year": 1930
        },
        {
         "age": 65,
         "people": 1307312,
         "sex": 2,
         "year": 1930
        },
        {
         "age": 70,
         "people": 919045,
         "sex": 1,
         "year": 1930
        },
        {
         "age": 70,
         "people": 918509,
         "sex": 2,
         "year": 1930
        },
        {
         "age": 75,
         "people": 536375,
         "sex": 1,
         "year": 1930
        },
        {
         "age": 75,
         "people": 522716,
         "sex": 2,
         "year": 1930
        },
        {
         "age": 80,
         "people": 246708,
         "sex": 1,
         "year": 1930
        },
        {
         "age": 80,
         "people": 283579,
         "sex": 2,
         "year": 1930
        },
        {
         "age": 85,
         "people": 88978,
         "sex": 1,
         "year": 1930
        },
        {
         "age": 85,
         "people": 109210,
         "sex": 2,
         "year": 1930
        },
        {
         "age": 90,
         "people": 30338,
         "sex": 1,
         "year": 1930
        },
        {
         "age": 90,
         "people": 43483,
         "sex": 2,
         "year": 1930
        },
        {
         "age": 0,
         "people": 5294628,
         "sex": 1,
         "year": 1940
        },
        {
         "age": 0,
         "people": 5124653,
         "sex": 2,
         "year": 1940
        },
        {
         "age": 5,
         "people": 5468378,
         "sex": 1,
         "year": 1940
        },
        {
         "age": 5,
         "people": 5359099,
         "sex": 2,
         "year": 1940
        },
        {
         "age": 10,
         "people": 5960416,
         "sex": 1,
         "year": 1940
        },
        {
         "age": 10,
         "people": 5868532,
         "sex": 2,
         "year": 1940
        },
        {
         "age": 15,
         "people": 6165109,
         "sex": 1,
         "year": 1940
        },
        {
         "age": 15,
         "people": 6193701,
         "sex": 2,
         "year": 1940
        },
        {
         "age": 20,
         "people": 5682414,
         "sex": 1,
         "year": 1940
        },
        {
         "age": 20,
         "people": 5896002,
         "sex": 2,
         "year": 1940
        },
        {
         "age": 25,
         "people": 5438166,
         "sex": 1,
         "year": 1940
        },
        {
         "age": 25,
         "people": 5664244,
         "sex": 2,
         "year": 1940
        },
        {
         "age": 30,
         "people": 5040048,
         "sex": 1,
         "year": 1940
        },
        {
         "age": 30,
         "people": 5171522,
         "sex": 2,
         "year": 1940
        },
        {
         "age": 35,
         "people": 4724804,
         "sex": 1,
         "year": 1940
        },
        {
         "age": 35,
         "people": 4791809,
         "sex": 2,
         "year": 1940
        },
        {
         "age": 40,
         "people": 4437392,
         "sex": 1,
         "year": 1940
        },
        {
         "age": 40,
         "people": 4394061,
         "sex": 2,
         "year": 1940
        },
        {
         "age": 45,
         "people": 4190187,
         "sex": 1,
         "year": 1940
        },
        {
         "age": 45,
         "people": 4050290,
         "sex": 2,
         "year": 1940
        },
        {
         "age": 50,
         "people": 3785735,
         "sex": 1,
         "year": 1940
        },
        {
         "age": 50,
         "people": 3488396,
         "sex": 2,
         "year": 1940
        },
        {
         "age": 55,
         "people": 2972069,
         "sex": 1,
         "year": 1940
        },
        {
         "age": 55,
         "people": 2810000,
         "sex": 2,
         "year": 1940
        },
        {
         "age": 60,
         "people": 2370232,
         "sex": 1,
         "year": 1940
        },
        {
         "age": 60,
         "people": 2317790,
         "sex": 2,
         "year": 1940
        },
        {
         "age": 65,
         "people": 1897678,
         "sex": 1,
         "year": 1940
        },
        {
         "age": 65,
         "people": 1911117,
         "sex": 2,
         "year": 1940
        },
        {
         "age": 70,
         "people": 1280023,
         "sex": 1,
         "year": 1940
        },
        {
         "age": 70,
         "people": 1287711,
         "sex": 2,
         "year": 1940
        },
        {
         "age": 75,
         "people": 713875,
         "sex": 1,
         "year": 1940
        },
        {
         "age": 75,
         "people": 764915,
         "sex": 2,
         "year": 1940
        },
        {
         "age": 80,
         "people": 359418,
         "sex": 1,
         "year": 1940
        },
        {
         "age": 80,
         "people": 414761,
         "sex": 2,
         "year": 1940
        },
        {
         "age": 85,
         "people": 127303,
         "sex": 1,
         "year": 1940
        },
        {
         "age": 85,
         "people": 152131,
         "sex": 2,
         "year": 1940
        },
        {
         "age": 90,
         "people": 42263,
         "sex": 1,
         "year": 1940
        },
        {
         "age": 90,
         "people": 58119,
         "sex": 2,
         "year": 1940
        },
        {
         "age": 0,
         "people": 8211806,
         "sex": 1,
         "year": 1950
        },
        {
         "age": 0,
         "people": 7862267,
         "sex": 2,
         "year": 1950
        },
        {
         "age": 5,
         "people": 6706601,
         "sex": 1,
         "year": 1950
        },
        {
         "age": 5,
         "people": 6450863,
         "sex": 2,
         "year": 1950
        },
        {
         "age": 10,
         "people": 5629744,
         "sex": 1,
         "year": 1950
        },
        {
         "age": 10,
         "people": 5430835,
         "sex": 2,
         "year": 1950
        },
        {
         "age": 15,
         "people": 5264129,
         "sex": 1,
         "year": 1950
        },
        {
         "age": 15,
         "people": 5288742,
         "sex": 2,
         "year": 1950
        },
        {
         "age": 20,
         "people": 5573308,
         "sex": 1,
         "year": 1950
        },
        {
         "age": 20,
         "people": 5854227,
         "sex": 2,
         "year": 1950
        },
        {
         "age": 25,
         "people": 6007254,
         "sex": 1,
         "year": 1950
        },
        {
         "age": 25,
         "people": 6317332,
         "sex": 2,
         "year": 1950
        },
        {
         "age": 30,
         "people": 5676022,
         "sex": 1,
         "year": 1950
        },
        {
         "age": 30,
         "people": 5895178,
         "sex": 2,
         "year": 1950
        },
        {
         "age": 35,
         "people": 5511364,
         "sex": 1,
         "year": 1950
        },
        {
         "age": 35,
         "people": 5696261,
         "sex": 2,
         "year": 1950
        },
        {
         "age": 40,
         "people": 5076985,
         "sex": 1,
         "year": 1950
        },
        {
         "age": 40,
         "people": 5199224,
         "sex": 2,
         "year": 1950
        },
        {
         "age": 45,
         "people": 4533177,
         "sex": 1,
         "year": 1950
        },
        {
         "age": 45,
         "people": 4595842,
         "sex": 2,
         "year": 1950
        },
        {
         "age": 50,
         "people": 4199164,
         "sex": 1,
         "year": 1950
        },
        {
         "age": 50,
         "people": 4147295,
         "sex": 2,
         "year": 1950
        },
        {
         "age": 55,
         "people": 3667351,
         "sex": 1,
         "year": 1950
        },
        {
         "age": 55,
         "people": 3595158,
         "sex": 2,
         "year": 1950
        },
        {
         "age": 60,
         "people": 3035038,
         "sex": 1,
         "year": 1950
        },
        {
         "age": 60,
         "people": 3009768,
         "sex": 2,
         "year": 1950
        },
        {
         "age": 65,
         "people": 2421234,
         "sex": 1,
         "year": 1950
        },
        {
         "age": 65,
         "people": 2548250,
         "sex": 2,
         "year": 1950
        },
        {
         "age": 70,
         "people": 1627920,
         "sex": 1,
         "year": 1950
        },
        {
         "age": 70,
         "people": 1786831,
         "sex": 2,
         "year": 1950
        },
        {
         "age": 75,
         "people": 1006530,
         "sex": 1,
         "year": 1950
        },
        {
         "age": 75,
         "people": 1148469,
         "sex": 2,
         "year": 1950
        },
        {
         "age": 80,
         "people": 511727,
         "sex": 1,
         "year": 1950
        },
        {
         "age": 80,
         "people": 637717,
         "sex": 2,
         "year": 1950
        },
        {
         "age": 85,
         "people": 182821,
         "sex": 1,
         "year": 1950
        },
        {
         "age": 85,
         "people": 242798,
         "sex": 2,
         "year": 1950
        },
        {
         "age": 90,
         "people": 54836,
         "sex": 1,
         "year": 1950
        },
        {
         "age": 90,
         "people": 90766,
         "sex": 2,
         "year": 1950
        },
        {
         "age": 0,
         "people": 10374975,
         "sex": 1,
         "year": 1960
        },
        {
         "age": 0,
         "people": 10146999,
         "sex": 2,
         "year": 1960
        },
        {
         "age": 5,
         "people": 9495503,
         "sex": 1,
         "year": 1960
        },
        {
         "age": 5,
         "people": 9250741,
         "sex": 2,
         "year": 1960
        },
        {
         "age": 10,
         "people": 8563700,
         "sex": 1,
         "year": 1960
        },
        {
         "age": 10,
         "people": 8310764,
         "sex": 2,
         "year": 1960
        },
        {
         "age": 15,
         "people": 6620902,
         "sex": 1,
         "year": 1960
        },
        {
         "age": 15,
         "people": 6617493,
         "sex": 2,
         "year": 1960
        },
        {
         "age": 20,
         "people": 5268384,
         "sex": 1,
         "year": 1960
        },
        {
         "age": 20,
         "people": 5513495,
         "sex": 2,
         "year": 1960
        },
        {
         "age": 25,
         "people": 5311805,
         "sex": 1,
         "year": 1960
        },
        {
         "age": 25,
         "people": 5548259,
         "sex": 2,
         "year": 1960
        },
        {
         "age": 30,
         "people": 5801342,
         "sex": 1,
         "year": 1960
        },
        {
         "age": 30,
         "people": 6090862,
         "sex": 2,
         "year": 1960
        },
        {
         "age": 35,
         "people": 6063063,
         "sex": 1,
         "year": 1960
        },
        {
         "age": 35,
         "people": 6431337,
         "sex": 2,
         "year": 1960
        },
        {
         "age": 40,
         "people": 5657943,
         "sex": 1,
         "year": 1960
        },
        {
         "age": 40,
         "people": 5940520,
         "sex": 2,
         "year": 1960
        },
        {
         "age": 45,
         "people": 5345658,
         "sex": 1,
         "year": 1960
        },
        {
         "age": 45,
         "people": 5516028,
         "sex": 2,
         "year": 1960
        },
        {
         "age": 50,
         "people": 4763364,
         "sex": 1,
         "year": 1960
        },
        {
         "age": 50,
         "people": 4928844,
         "sex": 2,
         "year": 1960
        },
        {
         "age": 55,
         "people": 4170581,
         "sex": 1,
         "year": 1960
        },
        {
         "age": 55,
         "people": 4402878,
         "sex": 2,
         "year": 1960
        },
        {
         "age": 60,
         "people": 3405293,
         "sex": 1,
         "year": 1960
        },
        {
         "age": 60,
         "people": 3723839,
         "sex": 2,
         "year": 1960
        },
        {
         "age": 65,
         "people": 2859371,
         "sex": 1,
         "year": 1960
        },
        {
         "age": 65,
         "people": 3268699,
         "sex": 2,
         "year": 1960
        },
        {
         "age": 70,
         "people": 2115763,
         "sex": 1,
         "year": 1960
        },
        {
         "age": 70,
         "people": 2516479,
         "sex": 2,
         "year": 1960
        },
        {
         "age": 75,
         "people": 1308913,
         "sex": 1,
         "year": 1960
        },
        {
         "age": 75,
         "people": 1641371,
         "sex": 2,
         "year": 1960
        },
        {
         "age": 80,
         "people": 619923,
         "sex": 1,
         "year": 1960
        },
        {
         "age": 80,
         "people": 856952,
         "sex": 2,
         "year": 1960
        },
        {
         "age": 85,
         "people": 253245,
         "sex": 1,
         "year": 1960
        },
        {
         "age": 85,
         "people": 384572,
         "sex": 2,
         "year": 1960
        },
        {
         "age": 90,
         "people": 75908,
         "sex": 1,
         "year": 1960
        },
        {
         "age": 90,
         "people": 135774,
         "sex": 2,
         "year": 1960
        },
        {
         "age": 0,
         "people": 8685121,
         "sex": 1,
         "year": 1970
        },
        {
         "age": 0,
         "people": 8326887,
         "sex": 2,
         "year": 1970
        },
        {
         "age": 5,
         "people": 10411131,
         "sex": 1,
         "year": 1970
        },
        {
         "age": 5,
         "people": 10003293,
         "sex": 2,
         "year": 1970
        },
        {
         "age": 10,
         "people": 10756403,
         "sex": 1,
         "year": 1970
        },
        {
         "age": 10,
         "people": 10343538,
         "sex": 2,
         "year": 1970
        },
        {
         "age": 15,
         "people": 9605399,
         "sex": 1,
         "year": 1970
        },
        {
         "age": 15,
         "people": 9414284,
         "sex": 2,
         "year": 1970
        },
        {
         "age": 20,
         "people": 7729202,
         "sex": 1,
         "year": 1970
        },
        {
         "age": 20,
         "people": 8341830,
         "sex": 2,
         "year": 1970
        },
        {
         "age": 25,
         "people": 6539301,
         "sex": 1,
         "year": 1970
        },
        {
         "age": 25,
         "people": 6903041,
         "sex": 2,
         "year": 1970
        },
        {
         "age": 30,
         "people": 5519879,
         "sex": 1,
         "year": 1970
        },
        {
         "age": 30,
         "people": 5851441,
         "sex": 2,
         "year": 1970
        },
        {
         "age": 35,
         "people": 5396732,
         "sex": 1,
         "year": 1970
        },
        {
         "age": 35,
         "people": 5708021,
         "sex": 2,
         "year": 1970
        },
        {
         "age": 40,
         "people": 5718538,
         "sex": 1,
         "year": 1970
        },
        {
         "age": 40,
         "people": 6129319,
         "sex": 2,
         "year": 1970
        },
        {
         "age": 45,
         "people": 5794120,
         "sex": 1,
         "year": 1970
        },
        {
         "age": 45,
         "people": 6198742,
         "sex": 2,
         "year": 1970
        },
        {
         "age": 50,
         "people": 5298312,
         "sex": 1,
         "year": 1970
        },
        {
         "age": 50,
         "people": 5783817,
         "sex": 2,
         "year": 1970
        },
        {
         "age": 55,
         "people": 4762911,
         "sex": 1,
         "year": 1970
        },
        {
         "age": 55,
         "people": 5222164,
         "sex": 2,
         "year": 1970
        },
        {
         "age": 60,
         "people": 4037643,
         "sex": 1,
         "year": 1970
        },
        {
         "age": 60,
         "people": 4577251,
         "sex": 2,
         "year": 1970
        },
        {
         "age": 65,
         "people": 3142606,
         "sex": 1,
         "year": 1970
        },
        {
         "age": 65,
         "people": 3894827,
         "sex": 2,
         "year": 1970
        },
        {
         "age": 70,
         "people": 2340826,
         "sex": 1,
         "year": 1970
        },
        {
         "age": 70,
         "people": 3138009,
         "sex": 2,
         "year": 1970
        },
        {
         "age": 75,
         "people": 1599269,
         "sex": 1,
         "year": 1970
        },
        {
         "age": 75,
         "people": 2293376,
         "sex": 2,
         "year": 1970
        },
        {
         "age": 80,
         "people": 886155,
         "sex": 1,
         "year": 1970
        },
        {
         "age": 80,
         "people": 1417553,
         "sex": 2,
         "year": 1970
        },
        {
         "age": 85,
         "people": 371123,
         "sex": 1,
         "year": 1970
        },
        {
         "age": 85,
         "people": 658511,
         "sex": 2,
         "year": 1970
        },
        {
         "age": 90,
         "people": 186502,
         "sex": 1,
         "year": 1970
        },
        {
         "age": 90,
         "people": 314929,
         "sex": 2,
         "year": 1970
        },
        {
         "age": 0,
         "people": 8439366,
         "sex": 1,
         "year": 1980
        },
        {
         "age": 0,
         "people": 8081854,
         "sex": 2,
         "year": 1980
        },
        {
         "age": 5,
         "people": 8680730,
         "sex": 1,
         "year": 1980
        },
        {
         "age": 5,
         "people": 8275881,
         "sex": 2,
         "year": 1980
        },
        {
         "age": 10,
         "people": 9452338,
         "sex": 1,
         "year": 1980
        },
        {
         "age": 10,
         "people": 9048483,
         "sex": 2,
         "year": 1980
        },
        {
         "age": 15,
         "people": 10698856,
         "sex": 1,
         "year": 1980
        },
        {
         "age": 15,
         "people": 10410271,
         "sex": 2,
         "year": 1980
        },
        {
         "age": 20,
         "people": 10486776,
         "sex": 1,
         "year": 1980
        },
        {
         "age": 20,
         "people": 10614947,
         "sex": 2,
         "year": 1980
        },
        {
         "age": 25,
         "people": 9624053,
         "sex": 1,
         "year": 1980
        },
        {
         "age": 25,
         "people": 9827903,
         "sex": 2,
         "year": 1980
        },
        {
         "age": 30,
         "people": 8705835,
         "sex": 1,
         "year": 1980
        },
        {
         "age": 30,
         "people": 8955225,
         "sex": 2,
         "year": 1980
        },
        {
         "age": 35,
         "people": 6852069,
         "sex": 1,
         "year": 1980
        },
        {
         "age": 35,
         "people": 7134239,
         "sex": 2,
         "year": 1980
        },
        {
         "age": 40,
         "people": 5692148,
         "sex": 1,
         "year": 1980
        },
        {
         "age": 40,
         "people": 5953910,
         "sex": 2,
         "year": 1980
        },
        {
         "age": 45,
         "people": 5342469,
         "sex": 1,
         "year": 1980
        },
        {
         "age": 45,
         "people": 5697543,
         "sex": 2,
         "year": 1980
        },
        {
         "age": 50,
         "people": 5603709,
         "sex": 1,
         "year": 1980
        },
        {
         "age": 50,
         "people": 6110117,
         "sex": 2,
         "year": 1980
        },
        {
         "age": 55,
         "people": 5485098,
         "sex": 1,
         "year": 1980
        },
        {
         "age": 55,
         "people": 6160229,
         "sex": 2,
         "year": 1980
        },
        {
         "age": 60,
         "people": 4696140,
         "sex": 1,
         "year": 1980
        },
        {
         "age": 60,
         "people": 5456885,
         "sex": 2,
         "year": 1980
        },
        {
         "age": 65,
         "people": 3893510,
         "sex": 1,
         "year": 1980
        },
        {
         "age": 65,
         "people": 4896947,
         "sex": 2,
         "year": 1980
        },
        {
         "age": 70,
         "people": 2857774,
         "sex": 1,
         "year": 1980
        },
        {
         "age": 70,
         "people": 3963441,
         "sex": 2,
         "year": 1980
        },
        {
         "age": 75,
         "people": 1840438,
         "sex": 1,
         "year": 1980
        },
        {
         "age": 75,
         "people": 2951759,
         "sex": 2,
         "year": 1980
        },
        {
         "age": 80,
         "people": 1012886,
         "sex": 1,
         "year": 1980
        },
        {
         "age": 80,
         "people": 1919292,
         "sex": 2,
         "year": 1980
        },
        {
         "age": 85,
         "people": 472338,
         "sex": 1,
         "year": 1980
        },
        {
         "age": 85,
         "people": 1023115,
         "sex": 2,
         "year": 1980
        },
        {
         "age": 90,
         "people": 204148,
         "sex": 1,
         "year": 1980
        },
        {
         "age": 90,
         "people": 499046,
         "sex": 2,
         "year": 1980
        },
        {
         "age": 0,
         "people": 9307465,
         "sex": 1,
         "year": 1990
        },
        {
         "age": 0,
         "people": 8894007,
         "sex": 2,
         "year": 1990
        },
        {
         "age": 5,
         "people": 9274732,
         "sex": 1,
         "year": 1990
        },
        {
         "age": 5,
         "people": 8799955,
         "sex": 2,
         "year": 1990
        },
        {
         "age": 10,
         "people": 8782542,
         "sex": 1,
         "year": 1990
        },
        {
         "age": 10,
         "people": 8337284,
         "sex": 2,
         "year": 1990
        },
        {
         "age": 15,
         "people": 9020572,
         "sex": 1,
         "year": 1990
        },
        {
         "age": 15,
         "people": 8590991,
         "sex": 2,
         "year": 1990
        },
        {
         "age": 20,
         "people": 9436188,
         "sex": 1,
         "year": 1990
        },
        {
         "age": 20,
         "people": 9152644,
         "sex": 2,
         "year": 1990
        },
        {
         "age": 25,
         "people": 10658027,
         "sex": 1,
         "year": 1990
        },
        {
         "age": 25,
         "people": 10587292,
         "sex": 2,
         "year": 1990
        },
        {
         "age": 30,
         "people": 11028712,
         "sex": 1,
         "year": 1990
        },
        {
         "age": 30,
         "people": 11105750,
         "sex": 2,
         "year": 1990
        },
        {
         "age": 35,
         "people": 9853933,
         "sex": 1,
         "year": 1990
        },
        {
         "age": 35,
         "people": 10038644,
         "sex": 2,
         "year": 1990
        },
        {
         "age": 40,
         "people": 8712632,
         "sex": 1,
         "year": 1990
        },
        {
         "age": 40,
         "people": 8928252,
         "sex": 2,
         "year": 1990
        },
        {
         "age": 45,
         "people": 6848082,
         "sex": 1,
         "year": 1990
        },
        {
         "age": 45,
         "people": 7115129,
         "sex": 2,
         "year": 1990
        },
        {
         "age": 50,
         "people": 5553992,
         "sex": 1,
         "year": 1990
        },
        {
         "age": 50,
         "people": 5899925,
         "sex": 2,
         "year": 1990
        },
        {
         "age": 55,
         "people": 4981670,
         "sex": 1,
         "year": 1990
        },
        {
         "age": 55,
         "people": 5460506,
         "sex": 2,
         "year": 1990
        },
        {
         "age": 60,
         "people": 4953822,
         "sex": 1,
         "year": 1990
        },
        {
         "age": 60,
         "people": 5663205,
         "sex": 2,
         "year": 1990
        },
        {
         "age": 65,
         "people": 4538398,
         "sex": 1,
         "year": 1990
        },
        {
         "age": 65,
         "people": 5594108,
         "sex": 2,
         "year": 1990
        },
        {
         "age": 70,
         "people": 3429420,
         "sex": 1,
         "year": 1990
        },
        {
         "age": 70,
         "people": 4610222,
         "sex": 2,
         "year": 1990
        },
        {
         "age": 75,
         "people": 2344932,
         "sex": 1,
         "year": 1990
        },
        {
         "age": 75,
         "people": 3723980,
         "sex": 2,
         "year": 1990
        },
        {
         "age": 80,
         "people": 1342996,
         "sex": 1,
         "year": 1990
        },
        {
         "age": 80,
         "people": 2545730,
         "sex": 2,
         "year": 1990
        },
        {
         "age": 85,
         "people": 588790,
         "sex": 1,
         "year": 1990
        },
        {
         "age": 85,
         "people": 1419494,
         "sex": 2,
         "year": 1990
        },
        {
         "age": 90,
         "people": 238459,
         "sex": 1,
         "year": 1990
        },
        {
         "age": 90,
         "people": 745146,
         "sex": 2,
         "year": 1990
        },
        {
         "age": 0,
         "people": 9735380,
         "sex": 1,
         "year": 2000
        },
        {
         "age": 0,
         "people": 9310714,
         "sex": 2,
         "year": 2000
        },
        {
         "age": 5,
         "people": 10552146,
         "sex": 1,
         "year": 2000
        },
        {
         "age": 5,
         "people": 10069564,
         "sex": 2,
         "year": 2000
        },
        {
         "age": 10,
         "people": 10563233,
         "sex": 1,
         "year": 2000
        },
        {
         "age": 10,
         "people": 10022524,
         "sex": 2,
         "year": 2000
        },
        {
         "age": 15,
         "people": 10237419,
         "sex": 1,
         "year": 2000
        },
        {
         "age": 15,
         "people": 9692669,
         "sex": 2,
         "year": 2000
        },
        {
         "age": 20,
         "people": 9731315,
         "sex": 1,
         "year": 2000
        },
        {
         "age": 20,
         "people": 9324244,
         "sex": 2,
         "year": 2000
        },
        {
         "age": 25,
         "people": 9659493,
         "sex": 1,
         "year": 2000
        },
        {
         "age": 25,
         "people": 9518507,
         "sex": 2,
         "year": 2000
        },
        {
         "age": 30,
         "people": 10205879,
         "sex": 1,
         "year": 2000
        },
        {
         "age": 30,
         "people": 10119296,
         "sex": 2,
         "year": 2000
        },
        {
         "age": 35,
         "people": 11475182,
         "sex": 1,
         "year": 2000
        },
        {
         "age": 35,
         "people": 11635647,
         "sex": 2,
         "year": 2000
        },
        {
         "age": 40,
         "people": 11320252,
         "sex": 1,
         "year": 2000
        },
        {
         "age": 40,
         "people": 11488578,
         "sex": 2,
         "year": 2000
        },
        {
         "age": 45,
         "people": 9925006,
         "sex": 1,
         "year": 2000
        },
        {
         "age": 45,
         "people": 10261253,
         "sex": 2,
         "year": 2000
        },
        {
         "age": 50,
         "people": 8507934,
         "sex": 1,
         "year": 2000
        },
        {
         "age": 50,
         "people": 8911133,
         "sex": 2,
         "year": 2000
        },
        {
         "age": 55,
         "people": 6459082,
         "sex": 1,
         "year": 2000
        },
        {
         "age": 55,
         "people": 6921268,
         "sex": 2,
         "year": 2000
        },
        {
         "age": 60,
         "people": 5123399,
         "sex": 1,
         "year": 2000
        },
        {
         "age": 60,
         "people": 5668961,
         "sex": 2,
         "year": 2000
        },
        {
         "age": 65,
         "people": 4453623,
         "sex": 1,
         "year": 2000
        },
        {
         "age": 65,
         "people": 4804784,
         "sex": 2,
         "year": 2000
        },
        {
         "age": 70,
         "people": 3792145,
         "sex": 1,
         "year": 2000
        },
        {
         "age": 70,
         "people": 5184855,
         "sex": 2,
         "year": 2000
        },
        {
         "age": 75,
         "people": 2912655,
         "sex": 1,
         "year": 2000
        },
        {
         "age": 75,
         "people": 4355644,
         "sex": 2,
         "year": 2000
        },
        {
         "age": 80,
         "people": 1902638,
         "sex": 1,
         "year": 2000
        },
        {
         "age": 80,
         "people": 3221898,
         "sex": 2,
         "year": 2000
        },
        {
         "age": 85,
         "people": 970357,
         "sex": 1,
         "year": 2000
        },
        {
         "age": 85,
         "people": 1981156,
         "sex": 2,
         "year": 2000
        },
        {
         "age": 90,
         "people": 336303,
         "sex": 1,
         "year": 2000
        },
        {
         "age": 90,
         "people": 1064581,
         "sex": 2,
         "year": 2000
        }
       ],
       "schema": {
        "fields": [
         {
          "name": "year",
          "type": "integer"
         },
         {
          "name": "age",
          "type": "integer"
         },
         {
          "name": "sex",
          "type": "integer"
         },
         {
          "name": "people",
          "type": "integer"
         }
        ]
       }
      },
      "text/html": [
       "<table><thead><tr><th>year</th><th>age</th><th>sex</th><th>people</th></tr></thead><tbody><tr><td>1850</td><td>0</td><td>1</td><td>1483789</td></tr><tr><td>1850</td><td>0</td><td>2</td><td>1450376</td></tr><tr><td>1850</td><td>5</td><td>1</td><td>1411067</td></tr><tr><td>1850</td><td>5</td><td>2</td><td>1359668</td></tr><tr><td>1850</td><td>10</td><td>1</td><td>1260099</td></tr><tr><td>1850</td><td>10</td><td>2</td><td>1216114</td></tr><tr><td>1850</td><td>15</td><td>1</td><td>1077133</td></tr><tr><td>1850</td><td>15</td><td>2</td><td>1110619</td></tr><tr><td>1850</td><td>20</td><td>1</td><td>1017281</td></tr><tr><td>1850</td><td>20</td><td>2</td><td>1003841</td></tr><tr><td>&vellip;</td><td>&vellip;</td><td>&vellip;</td><td>&vellip;</td></tr></tbody></table><p>... with 560 more rows.</p>"
      ],
      "text/plain": [
       "570x4 Vega dataset\n",
       "year │ age │ sex │ people \n",
       "─────┼─────┼─────┼────────\n",
       "1850 │ 0   │ 1   │ 1483789\n",
       "1850 │ 0   │ 2   │ 1450376\n",
       "1850 │ 5   │ 1   │ 1411067\n",
       "1850 │ 5   │ 2   │ 1359668\n",
       "1850 │ 10  │ 1   │ 1260099\n",
       "1850 │ 10  │ 2   │ 1216114\n",
       "1850 │ 15  │ 1   │ 1077133\n",
       "1850 │ 15  │ 2   │ 1110619\n",
       "1850 │ 20  │ 1   │ 1017281\n",
       "1850 │ 20  │ 2   │ 1003841\n",
       "... with 560 more rows"
      ]
     },
     "execution_count": 10,
     "metadata": {},
     "output_type": "execute_result"
    }
   ],
   "source": [
    "using VegaLite, VegaDatasets\n",
    "\n",
    "dataset(\"population\")"
   ]
  },
  {
   "cell_type": "code",
   "execution_count": 11,
   "metadata": {},
   "outputs": [
    {
     "data": {
      "application/vnd.vegalite.v4+json": {
       "config": {
        "axis": {
         "domainWidth": 1
        },
        "view": {
         "stroke": "transparent"
        }
       },
       "data": {
        "values": [
         {
          "age": 0,
          "people": 1483789,
          "sex": 1,
          "year": 1850
         },
         {
          "age": 0,
          "people": 1450376,
          "sex": 2,
          "year": 1850
         },
         {
          "age": 5,
          "people": 1411067,
          "sex": 1,
          "year": 1850
         },
         {
          "age": 5,
          "people": 1359668,
          "sex": 2,
          "year": 1850
         },
         {
          "age": 10,
          "people": 1260099,
          "sex": 1,
          "year": 1850
         },
         {
          "age": 10,
          "people": 1216114,
          "sex": 2,
          "year": 1850
         },
         {
          "age": 15,
          "people": 1077133,
          "sex": 1,
          "year": 1850
         },
         {
          "age": 15,
          "people": 1110619,
          "sex": 2,
          "year": 1850
         },
         {
          "age": 20,
          "people": 1017281,
          "sex": 1,
          "year": 1850
         },
         {
          "age": 20,
          "people": 1003841,
          "sex": 2,
          "year": 1850
         },
         {
          "age": 25,
          "people": 862547,
          "sex": 1,
          "year": 1850
         },
         {
          "age": 25,
          "people": 799482,
          "sex": 2,
          "year": 1850
         },
         {
          "age": 30,
          "people": 730638,
          "sex": 1,
          "year": 1850
         },
         {
          "age": 30,
          "people": 639636,
          "sex": 2,
          "year": 1850
         },
         {
          "age": 35,
          "people": 588487,
          "sex": 1,
          "year": 1850
         },
         {
          "age": 35,
          "people": 505012,
          "sex": 2,
          "year": 1850
         },
         {
          "age": 40,
          "people": 475911,
          "sex": 1,
          "year": 1850
         },
         {
          "age": 40,
          "people": 428185,
          "sex": 2,
          "year": 1850
         },
         {
          "age": 45,
          "people": 384211,
          "sex": 1,
          "year": 1850
         },
         {
          "age": 45,
          "people": 341254,
          "sex": 2,
          "year": 1850
         },
         {
          "age": 50,
          "people": 321343,
          "sex": 1,
          "year": 1850
         },
         {
          "age": 50,
          "people": 286580,
          "sex": 2,
          "year": 1850
         },
         {
          "age": 55,
          "people": 194080,
          "sex": 1,
          "year": 1850
         },
         {
          "age": 55,
          "people": 187208,
          "sex": 2,
          "year": 1850
         },
         {
          "age": 60,
          "people": 174976,
          "sex": 1,
          "year": 1850
         },
         {
          "age": 60,
          "people": 162236,
          "sex": 2,
          "year": 1850
         },
         {
          "age": 65,
          "people": 106827,
          "sex": 1,
          "year": 1850
         },
         {
          "age": 65,
          "people": 105534,
          "sex": 2,
          "year": 1850
         },
         {
          "age": 70,
          "people": 73677,
          "sex": 1,
          "year": 1850
         },
         {
          "age": 70,
          "people": 71762,
          "sex": 2,
          "year": 1850
         },
         {
          "age": 75,
          "people": 40834,
          "sex": 1,
          "year": 1850
         },
         {
          "age": 75,
          "people": 40229,
          "sex": 2,
          "year": 1850
         },
         {
          "age": 80,
          "people": 23449,
          "sex": 1,
          "year": 1850
         },
         {
          "age": 80,
          "people": 22949,
          "sex": 2,
          "year": 1850
         },
         {
          "age": 85,
          "people": 8186,
          "sex": 1,
          "year": 1850
         },
         {
          "age": 85,
          "people": 10511,
          "sex": 2,
          "year": 1850
         },
         {
          "age": 90,
          "people": 5259,
          "sex": 1,
          "year": 1850
         },
         {
          "age": 90,
          "people": 6569,
          "sex": 2,
          "year": 1850
         },
         {
          "age": 0,
          "people": 2120846,
          "sex": 1,
          "year": 1860
         },
         {
          "age": 0,
          "people": 2092162,
          "sex": 2,
          "year": 1860
         },
         {
          "age": 5,
          "people": 1804467,
          "sex": 1,
          "year": 1860
         },
         {
          "age": 5,
          "people": 1778772,
          "sex": 2,
          "year": 1860
         },
         {
          "age": 10,
          "people": 1612640,
          "sex": 1,
          "year": 1860
         },
         {
          "age": 10,
          "people": 1540350,
          "sex": 2,
          "year": 1860
         },
         {
          "age": 15,
          "people": 1438094,
          "sex": 1,
          "year": 1860
         },
         {
          "age": 15,
          "people": 1495999,
          "sex": 2,
          "year": 1860
         },
         {
          "age": 20,
          "people": 1351121,
          "sex": 1,
          "year": 1860
         },
         {
          "age": 20,
          "people": 1370462,
          "sex": 2,
          "year": 1860
         },
         {
          "age": 25,
          "people": 1217615,
          "sex": 1,
          "year": 1860
         },
         {
          "age": 25,
          "people": 1116373,
          "sex": 2,
          "year": 1860
         },
         {
          "age": 30,
          "people": 1043174,
          "sex": 1,
          "year": 1860
         },
         {
          "age": 30,
          "people": 936055,
          "sex": 2,
          "year": 1860
         },
         {
          "age": 35,
          "people": 866910,
          "sex": 1,
          "year": 1860
         },
         {
          "age": 35,
          "people": 737136,
          "sex": 2,
          "year": 1860
         },
         {
          "age": 40,
          "people": 699434,
          "sex": 1,
          "year": 1860
         },
         {
          "age": 40,
          "people": 616826,
          "sex": 2,
          "year": 1860
         },
         {
          "age": 45,
          "people": 552404,
          "sex": 1,
          "year": 1860
         },
         {
          "age": 45,
          "people": 461739,
          "sex": 2,
          "year": 1860
         },
         {
          "age": 50,
          "people": 456176,
          "sex": 1,
          "year": 1860
         },
         {
          "age": 50,
          "people": 407305,
          "sex": 2,
          "year": 1860
         },
         {
          "age": 55,
          "people": 292417,
          "sex": 1,
          "year": 1860
         },
         {
          "age": 55,
          "people": 267224,
          "sex": 2,
          "year": 1860
         },
         {
          "age": 60,
          "people": 260887,
          "sex": 1,
          "year": 1860
         },
         {
          "age": 60,
          "people": 249735,
          "sex": 2,
          "year": 1860
         },
         {
          "age": 65,
          "people": 149331,
          "sex": 1,
          "year": 1860
         },
         {
          "age": 65,
          "people": 141405,
          "sex": 2,
          "year": 1860
         },
         {
          "age": 70,
          "people": 98465,
          "sex": 1,
          "year": 1860
         },
         {
          "age": 70,
          "people": 101778,
          "sex": 2,
          "year": 1860
         },
         {
          "age": 75,
          "people": 56699,
          "sex": 1,
          "year": 1860
         },
         {
          "age": 75,
          "people": 57597,
          "sex": 2,
          "year": 1860
         },
         {
          "age": 80,
          "people": 29007,
          "sex": 1,
          "year": 1860
         },
         {
          "age": 80,
          "people": 29506,
          "sex": 2,
          "year": 1860
         },
         {
          "age": 85,
          "people": 10434,
          "sex": 1,
          "year": 1860
         },
         {
          "age": 85,
          "people": 14053,
          "sex": 2,
          "year": 1860
         },
         {
          "age": 90,
          "people": 7232,
          "sex": 1,
          "year": 1860
         },
         {
          "age": 90,
          "people": 6622,
          "sex": 2,
          "year": 1860
         },
         {
          "age": 0,
          "people": 2800083,
          "sex": 1,
          "year": 1870
         },
         {
          "age": 0,
          "people": 2717102,
          "sex": 2,
          "year": 1870
         },
         {
          "age": 5,
          "people": 2428469,
          "sex": 1,
          "year": 1870
         },
         {
          "age": 5,
          "people": 2393680,
          "sex": 2,
          "year": 1870
         },
         {
          "age": 10,
          "people": 2427341,
          "sex": 1,
          "year": 1870
         },
         {
          "age": 10,
          "people": 2342670,
          "sex": 2,
          "year": 1870
         },
         {
          "age": 15,
          "people": 1958390,
          "sex": 1,
          "year": 1870
         },
         {
          "age": 15,
          "people": 2077248,
          "sex": 2,
          "year": 1870
         },
         {
          "age": 20,
          "people": 1805303,
          "sex": 1,
          "year": 1870
         },
         {
          "age": 20,
          "people": 1909382,
          "sex": 2,
          "year": 1870
         },
         {
          "age": 25,
          "people": 1509059,
          "sex": 1,
          "year": 1870
         },
         {
          "age": 25,
          "people": 1574285,
          "sex": 2,
          "year": 1870
         },
         {
          "age": 30,
          "people": 1251534,
          "sex": 1,
          "year": 1870
         },
         {
          "age": 30,
          "people": 1275629,
          "sex": 2,
          "year": 1870
         },
         {
          "age": 35,
          "people": 1185336,
          "sex": 1,
          "year": 1870
         },
         {
          "age": 35,
          "people": 1137490,
          "sex": 2,
          "year": 1870
         },
         {
          "age": 40,
          "people": 968861,
          "sex": 1,
          "year": 1870
         },
         {
          "age": 40,
          "people": 944401,
          "sex": 2,
          "year": 1870
         },
         {
          "age": 45,
          "people": 852672,
          "sex": 1,
          "year": 1870
         },
         {
          "age": 45,
          "people": 747916,
          "sex": 2,
          "year": 1870
         },
         {
          "age": 50,
          "people": 736387,
          "sex": 1,
          "year": 1870
         },
         {
          "age": 50,
          "people": 637801,
          "sex": 2,
          "year": 1870
         },
         {
          "age": 55,
          "people": 486036,
          "sex": 1,
          "year": 1870
         },
         {
          "age": 55,
          "people": 407819,
          "sex": 2,
          "year": 1870
         },
         {
          "age": 60,
          "people": 399264,
          "sex": 1,
          "year": 1870
         },
         {
          "age": 60,
          "people": 374801,
          "sex": 2,
          "year": 1870
         },
         {
          "age": 65,
          "people": 260829,
          "sex": 1,
          "year": 1870
         },
         {
          "age": 65,
          "people": 239080,
          "sex": 2,
          "year": 1870
         },
         {
          "age": 70,
          "people": 173364,
          "sex": 1,
          "year": 1870
         },
         {
          "age": 70,
          "people": 165501,
          "sex": 2,
          "year": 1870
         },
         {
          "age": 75,
          "people": 86929,
          "sex": 1,
          "year": 1870
         },
         {
          "age": 75,
          "people": 89540,
          "sex": 2,
          "year": 1870
         },
         {
          "age": 80,
          "people": 47427,
          "sex": 1,
          "year": 1870
         },
         {
          "age": 80,
          "people": 54190,
          "sex": 2,
          "year": 1870
         },
         {
          "age": 85,
          "people": 15891,
          "sex": 1,
          "year": 1870
         },
         {
          "age": 85,
          "people": 19302,
          "sex": 2,
          "year": 1870
         },
         {
          "age": 90,
          "people": 8649,
          "sex": 1,
          "year": 1870
         },
         {
          "age": 90,
          "people": 13068,
          "sex": 2,
          "year": 1870
         },
         {
          "age": 0,
          "people": 3533662,
          "sex": 1,
          "year": 1880
         },
         {
          "age": 0,
          "people": 3421597,
          "sex": 2,
          "year": 1880
         },
         {
          "age": 5,
          "people": 3297503,
          "sex": 1,
          "year": 1880
         },
         {
          "age": 5,
          "people": 3179142,
          "sex": 2,
          "year": 1880
         },
         {
          "age": 10,
          "people": 2911924,
          "sex": 1,
          "year": 1880
         },
         {
          "age": 10,
          "people": 2813550,
          "sex": 2,
          "year": 1880
         },
         {
          "age": 15,
          "people": 2457734,
          "sex": 1,
          "year": 1880
         },
         {
          "age": 15,
          "people": 2527818,
          "sex": 2,
          "year": 1880
         },
         {
          "age": 20,
          "people": 2547780,
          "sex": 1,
          "year": 1880
         },
         {
          "age": 20,
          "people": 2512803,
          "sex": 2,
          "year": 1880
         },
         {
          "age": 25,
          "people": 2119393,
          "sex": 1,
          "year": 1880
         },
         {
          "age": 25,
          "people": 1974241,
          "sex": 2,
          "year": 1880
         },
         {
          "age": 30,
          "people": 1749107,
          "sex": 1,
          "year": 1880
         },
         {
          "age": 30,
          "people": 1596772,
          "sex": 2,
          "year": 1880
         },
         {
          "age": 35,
          "people": 1540772,
          "sex": 1,
          "year": 1880
         },
         {
          "age": 35,
          "people": 1483717,
          "sex": 2,
          "year": 1880
         },
         {
          "age": 40,
          "people": 1237347,
          "sex": 1,
          "year": 1880
         },
         {
          "age": 40,
          "people": 1239435,
          "sex": 2,
          "year": 1880
         },
         {
          "age": 45,
          "people": 1065973,
          "sex": 1,
          "year": 1880
         },
         {
          "age": 45,
          "people": 1003711,
          "sex": 2,
          "year": 1880
         },
         {
          "age": 50,
          "people": 964484,
          "sex": 1,
          "year": 1880
         },
         {
          "age": 50,
          "people": 863012,
          "sex": 2,
          "year": 1880
         },
         {
          "age": 55,
          "people": 679147,
          "sex": 1,
          "year": 1880
         },
         {
          "age": 55,
          "people": 594843,
          "sex": 2,
          "year": 1880
         },
         {
          "age": 60,
          "people": 580298,
          "sex": 1,
          "year": 1880
         },
         {
          "age": 60,
          "people": 526956,
          "sex": 2,
          "year": 1880
         },
         {
          "age": 65,
          "people": 369398,
          "sex": 1,
          "year": 1880
         },
         {
          "age": 65,
          "people": 346303,
          "sex": 2,
          "year": 1880
         },
         {
          "age": 70,
          "people": 255422,
          "sex": 1,
          "year": 1880
         },
         {
          "age": 70,
          "people": 251860,
          "sex": 2,
          "year": 1880
         },
         {
          "age": 75,
          "people": 141628,
          "sex": 1,
          "year": 1880
         },
         {
          "age": 75,
          "people": 143513,
          "sex": 2,
          "year": 1880
         },
         {
          "age": 80,
          "people": 67526,
          "sex": 1,
          "year": 1880
         },
         {
          "age": 80,
          "people": 77290,
          "sex": 2,
          "year": 1880
         },
         {
          "age": 85,
          "people": 22437,
          "sex": 1,
          "year": 1880
         },
         {
          "age": 85,
          "people": 31227,
          "sex": 2,
          "year": 1880
         },
         {
          "age": 90,
          "people": 10272,
          "sex": 1,
          "year": 1880
         },
         {
          "age": 90,
          "people": 15451,
          "sex": 2,
          "year": 1880
         },
         {
          "age": 0,
          "people": 4619544,
          "sex": 1,
          "year": 1900
         },
         {
          "age": 0,
          "people": 4589196,
          "sex": 2,
          "year": 1900
         },
         {
          "age": 5,
          "people": 4465783,
          "sex": 1,
          "year": 1900
         },
         {
          "age": 5,
          "people": 4390483,
          "sex": 2,
          "year": 1900
         },
         {
          "age": 10,
          "people": 4057669,
          "sex": 1,
          "year": 1900
         },
         {
          "age": 10,
          "people": 4001749,
          "sex": 2,
          "year": 1900
         },
         {
          "age": 15,
          "people": 3774846,
          "sex": 1,
          "year": 1900
         },
         {
          "age": 15,
          "people": 3801743,
          "sex": 2,
          "year": 1900
         },
         {
          "age": 20,
          "people": 3694038,
          "sex": 1,
          "year": 1900
         },
         {
          "age": 20,
          "people": 3751061,
          "sex": 2,
          "year": 1900
         },
         {
          "age": 25,
          "people": 3389280,
          "sex": 1,
          "year": 1900
         },
         {
          "age": 25,
          "people": 3236056,
          "sex": 2,
          "year": 1900
         },
         {
          "age": 30,
          "people": 2918964,
          "sex": 1,
          "year": 1900
         },
         {
          "age": 30,
          "people": 2665174,
          "sex": 2,
          "year": 1900
         },
         {
          "age": 35,
          "people": 2633883,
          "sex": 1,
          "year": 1900
         },
         {
          "age": 35,
          "people": 2347737,
          "sex": 2,
          "year": 1900
         },
         {
          "age": 40,
          "people": 2261070,
          "sex": 1,
          "year": 1900
         },
         {
          "age": 40,
          "people": 2004987,
          "sex": 2,
          "year": 1900
         },
         {
          "age": 45,
          "people": 1868413,
          "sex": 1,
          "year": 1900
         },
         {
          "age": 45,
          "people": 1648025,
          "sex": 2,
          "year": 1900
         },
         {
          "age": 50,
          "people": 1571038,
          "sex": 1,
          "year": 1900
         },
         {
          "age": 50,
          "people": 1411981,
          "sex": 2,
          "year": 1900
         },
         {
          "age": 55,
          "people": 1161908,
          "sex": 1,
          "year": 1900
         },
         {
          "age": 55,
          "people": 1064632,
          "sex": 2,
          "year": 1900
         },
         {
          "age": 60,
          "people": 916571,
          "sex": 1,
          "year": 1900
         },
         {
          "age": 60,
          "people": 887508,
          "sex": 2,
          "year": 1900
         },
         {
          "age": 65,
          "people": 672663,
          "sex": 1,
          "year": 1900
         },
         {
          "age": 65,
          "people": 640212,
          "sex": 2,
          "year": 1900
         },
         {
          "age": 70,
          "people": 454747,
          "sex": 1,
          "year": 1900
         },
         {
          "age": 70,
          "people": 440007,
          "sex": 2,
          "year": 1900
         },
         {
          "age": 75,
          "people": 268211,
          "sex": 1,
          "year": 1900
         },
         {
          "age": 75,
          "people": 265879,
          "sex": 2,
          "year": 1900
         },
         {
          "age": 80,
          "people": 127435,
          "sex": 1,
          "year": 1900
         },
         {
          "age": 80,
          "people": 132449,
          "sex": 2,
          "year": 1900
         },
         {
          "age": 85,
          "people": 44008,
          "sex": 1,
          "year": 1900
         },
         {
          "age": 85,
          "people": 48614,
          "sex": 2,
          "year": 1900
         },
         {
          "age": 90,
          "people": 15164,
          "sex": 1,
          "year": 1900
         },
         {
          "age": 90,
          "people": 20093,
          "sex": 2,
          "year": 1900
         },
         {
          "age": 0,
          "people": 5296823,
          "sex": 1,
          "year": 1910
         },
         {
          "age": 0,
          "people": 5287477,
          "sex": 2,
          "year": 1910
         },
         {
          "age": 5,
          "people": 4991803,
          "sex": 1,
          "year": 1910
         },
         {
          "age": 5,
          "people": 4866139,
          "sex": 2,
          "year": 1910
         },
         {
          "age": 10,
          "people": 4650747,
          "sex": 1,
          "year": 1910
         },
         {
          "age": 10,
          "people": 4471887,
          "sex": 2,
          "year": 1910
         },
         {
          "age": 15,
          "people": 4566154,
          "sex": 1,
          "year": 1910
         },
         {
          "age": 15,
          "people": 4592269,
          "sex": 2,
          "year": 1910
         },
         {
          "age": 20,
          "people": 4637632,
          "sex": 1,
          "year": 1910
         },
         {
          "age": 20,
          "people": 4447683,
          "sex": 2,
          "year": 1910
         },
         {
          "age": 25,
          "people": 4257755,
          "sex": 1,
          "year": 1910
         },
         {
          "age": 25,
          "people": 3946153,
          "sex": 2,
          "year": 1910
         },
         {
          "age": 30,
          "people": 3658125,
          "sex": 1,
          "year": 1910
         },
         {
          "age": 30,
          "people": 3295220,
          "sex": 2,
          "year": 1910
         },
         {
          "age": 35,
          "people": 3427518,
          "sex": 1,
          "year": 1910
         },
         {
          "age": 35,
          "people": 3088990,
          "sex": 2,
          "year": 1910
         },
         {
          "age": 40,
          "people": 2860229,
          "sex": 1,
          "year": 1910
         },
         {
          "age": 40,
          "people": 2471267,
          "sex": 2,
          "year": 1910
         },
         {
          "age": 45,
          "people": 2363801,
          "sex": 1,
          "year": 1910
         },
         {
          "age": 45,
          "people": 2114930,
          "sex": 2,
          "year": 1910
         },
         {
          "age": 50,
          "people": 2126516,
          "sex": 1,
          "year": 1910
         },
         {
          "age": 50,
          "people": 1773592,
          "sex": 2,
          "year": 1910
         },
         {
          "age": 55,
          "people": 1508358,
          "sex": 1,
          "year": 1910
         },
         {
          "age": 55,
          "people": 1317651,
          "sex": 2,
          "year": 1910
         },
         {
          "age": 60,
          "people": 1189421,
          "sex": 1,
          "year": 1910
         },
         {
          "age": 60,
          "people": 1090697,
          "sex": 2,
          "year": 1910
         },
         {
          "age": 65,
          "people": 850159,
          "sex": 1,
          "year": 1910
         },
         {
          "age": 65,
          "people": 813868,
          "sex": 2,
          "year": 1910
         },
         {
          "age": 70,
          "people": 557936,
          "sex": 1,
          "year": 1910
         },
         {
          "age": 70,
          "people": 547623,
          "sex": 2,
          "year": 1910
         },
         {
          "age": 75,
          "people": 322679,
          "sex": 1,
          "year": 1910
         },
         {
          "age": 75,
          "people": 350900,
          "sex": 2,
          "year": 1910
         },
         {
          "age": 80,
          "people": 161715,
          "sex": 1,
          "year": 1910
         },
         {
          "age": 80,
          "people": 174315,
          "sex": 2,
          "year": 1910
         },
         {
          "age": 85,
          "people": 59699,
          "sex": 1,
          "year": 1910
         },
         {
          "age": 85,
          "people": 62725,
          "sex": 2,
          "year": 1910
         },
         {
          "age": 90,
          "people": 23929,
          "sex": 1,
          "year": 1910
         },
         {
          "age": 90,
          "people": 28965,
          "sex": 2,
          "year": 1910
         },
         {
          "age": 0,
          "people": 5934792,
          "sex": 1,
          "year": 1920
         },
         {
          "age": 0,
          "people": 5694244,
          "sex": 2,
          "year": 1920
         },
         {
          "age": 5,
          "people": 5789008,
          "sex": 1,
          "year": 1920
         },
         {
          "age": 5,
          "people": 5693960,
          "sex": 2,
          "year": 1920
         },
         {
          "age": 10,
          "people": 5401156,
          "sex": 1,
          "year": 1920
         },
         {
          "age": 10,
          "people": 5293057,
          "sex": 2,
          "year": 1920
         },
         {
          "age": 15,
          "people": 4724365,
          "sex": 1,
          "year": 1920
         },
         {
          "age": 15,
          "people": 4779936,
          "sex": 2,
          "year": 1920
         },
         {
          "age": 20,
          "people": 4549411,
          "sex": 1,
          "year": 1920
         },
         {
          "age": 20,
          "people": 4742632,
          "sex": 2,
          "year": 1920
         },
         {
          "age": 25,
          "people": 4565066,
          "sex": 1,
          "year": 1920
         },
         {
          "age": 25,
          "people": 4529382,
          "sex": 2,
          "year": 1920
         },
         {
          "age": 30,
          "people": 4110771,
          "sex": 1,
          "year": 1920
         },
         {
          "age": 30,
          "people": 3982426,
          "sex": 2,
          "year": 1920
         },
         {
          "age": 35,
          "people": 4081543,
          "sex": 1,
          "year": 1920
         },
         {
          "age": 35,
          "people": 3713810,
          "sex": 2,
          "year": 1920
         },
         {
          "age": 40,
          "people": 3321923,
          "sex": 1,
          "year": 1920
         },
         {
          "age": 40,
          "people": 3059757,
          "sex": 2,
          "year": 1920
         },
         {
          "age": 45,
          "people": 3143891,
          "sex": 1,
          "year": 1920
         },
         {
          "age": 45,
          "people": 2669089,
          "sex": 2,
          "year": 1920
         },
         {
          "age": 50,
          "people": 2546035,
          "sex": 1,
          "year": 1920
         },
         {
          "age": 50,
          "people": 2200491,
          "sex": 2,
          "year": 1920
         },
         {
          "age": 55,
          "people": 1880975,
          "sex": 1,
          "year": 1920
         },
         {
          "age": 55,
          "people": 1674672,
          "sex": 2,
          "year": 1920
         },
         {
          "age": 60,
          "people": 1587549,
          "sex": 1,
          "year": 1920
         },
         {
          "age": 60,
          "people": 1382877,
          "sex": 2,
          "year": 1920
         },
         {
          "age": 65,
          "people": 1095956,
          "sex": 1,
          "year": 1920
         },
         {
          "age": 65,
          "people": 989901,
          "sex": 2,
          "year": 1920
         },
         {
          "age": 70,
          "people": 714618,
          "sex": 1,
          "year": 1920
         },
         {
          "age": 70,
          "people": 690097,
          "sex": 2,
          "year": 1920
         },
         {
          "age": 75,
          "people": 417292,
          "sex": 1,
          "year": 1920
         },
         {
          "age": 75,
          "people": 439465,
          "sex": 2,
          "year": 1920
         },
         {
          "age": 80,
          "people": 187000,
          "sex": 1,
          "year": 1920
         },
         {
          "age": 80,
          "people": 211110,
          "sex": 2,
          "year": 1920
         },
         {
          "age": 85,
          "people": 75991,
          "sex": 1,
          "year": 1920
         },
         {
          "age": 85,
          "people": 92829,
          "sex": 2,
          "year": 1920
         },
         {
          "age": 90,
          "people": 22398,
          "sex": 1,
          "year": 1920
         },
         {
          "age": 90,
          "people": 32085,
          "sex": 2,
          "year": 1920
         },
         {
          "age": 0,
          "people": 5875250,
          "sex": 1,
          "year": 1930
         },
         {
          "age": 0,
          "people": 5662530,
          "sex": 2,
          "year": 1930
         },
         {
          "age": 5,
          "people": 6542592,
          "sex": 1,
          "year": 1930
         },
         {
          "age": 5,
          "people": 6129561,
          "sex": 2,
          "year": 1930
         },
         {
          "age": 10,
          "people": 6064820,
          "sex": 1,
          "year": 1930
         },
         {
          "age": 10,
          "people": 5986529,
          "sex": 2,
          "year": 1930
         },
         {
          "age": 15,
          "people": 5709452,
          "sex": 1,
          "year": 1930
         },
         {
          "age": 15,
          "people": 5769587,
          "sex": 2,
          "year": 1930
         },
         {
          "age": 20,
          "people": 5305992,
          "sex": 1,
          "year": 1930
         },
         {
          "age": 20,
          "people": 5565382,
          "sex": 2,
          "year": 1930
         },
         {
          "age": 25,
          "people": 4929853,
          "sex": 1,
          "year": 1930
         },
         {
          "age": 25,
          "people": 5050229,
          "sex": 2,
          "year": 1930
         },
         {
          "age": 30,
          "people": 4424408,
          "sex": 1,
          "year": 1930
         },
         {
          "age": 30,
          "people": 4455213,
          "sex": 2,
          "year": 1930
         },
         {
          "age": 35,
          "people": 4576531,
          "sex": 1,
          "year": 1930
         },
         {
          "age": 35,
          "people": 4593776,
          "sex": 2,
          "year": 1930
         },
         {
          "age": 40,
          "people": 4075139,
          "sex": 1,
          "year": 1930
         },
         {
          "age": 40,
          "people": 3754022,
          "sex": 2,
          "year": 1930
         },
         {
          "age": 45,
          "people": 3633152,
          "sex": 1,
          "year": 1930
         },
         {
          "age": 45,
          "people": 3396558,
          "sex": 2,
          "year": 1930
         },
         {
          "age": 50,
          "people": 3128108,
          "sex": 1,
          "year": 1930
         },
         {
          "age": 50,
          "people": 2809191,
          "sex": 2,
          "year": 1930
         },
         {
          "age": 55,
          "people": 2434077,
          "sex": 1,
          "year": 1930
         },
         {
          "age": 55,
          "people": 2298614,
          "sex": 2,
          "year": 1930
         },
         {
          "age": 60,
          "people": 1927564,
          "sex": 1,
          "year": 1930
         },
         {
          "age": 60,
          "people": 1783515,
          "sex": 2,
          "year": 1930
         },
         {
          "age": 65,
          "people": 1397275,
          "sex": 1,
          "year": 1930
         },
         {
          "age": 65,
          "people": 1307312,
          "sex": 2,
          "year": 1930
         },
         {
          "age": 70,
          "people": 919045,
          "sex": 1,
          "year": 1930
         },
         {
          "age": 70,
          "people": 918509,
          "sex": 2,
          "year": 1930
         },
         {
          "age": 75,
          "people": 536375,
          "sex": 1,
          "year": 1930
         },
         {
          "age": 75,
          "people": 522716,
          "sex": 2,
          "year": 1930
         },
         {
          "age": 80,
          "people": 246708,
          "sex": 1,
          "year": 1930
         },
         {
          "age": 80,
          "people": 283579,
          "sex": 2,
          "year": 1930
         },
         {
          "age": 85,
          "people": 88978,
          "sex": 1,
          "year": 1930
         },
         {
          "age": 85,
          "people": 109210,
          "sex": 2,
          "year": 1930
         },
         {
          "age": 90,
          "people": 30338,
          "sex": 1,
          "year": 1930
         },
         {
          "age": 90,
          "people": 43483,
          "sex": 2,
          "year": 1930
         },
         {
          "age": 0,
          "people": 5294628,
          "sex": 1,
          "year": 1940
         },
         {
          "age": 0,
          "people": 5124653,
          "sex": 2,
          "year": 1940
         },
         {
          "age": 5,
          "people": 5468378,
          "sex": 1,
          "year": 1940
         },
         {
          "age": 5,
          "people": 5359099,
          "sex": 2,
          "year": 1940
         },
         {
          "age": 10,
          "people": 5960416,
          "sex": 1,
          "year": 1940
         },
         {
          "age": 10,
          "people": 5868532,
          "sex": 2,
          "year": 1940
         },
         {
          "age": 15,
          "people": 6165109,
          "sex": 1,
          "year": 1940
         },
         {
          "age": 15,
          "people": 6193701,
          "sex": 2,
          "year": 1940
         },
         {
          "age": 20,
          "people": 5682414,
          "sex": 1,
          "year": 1940
         },
         {
          "age": 20,
          "people": 5896002,
          "sex": 2,
          "year": 1940
         },
         {
          "age": 25,
          "people": 5438166,
          "sex": 1,
          "year": 1940
         },
         {
          "age": 25,
          "people": 5664244,
          "sex": 2,
          "year": 1940
         },
         {
          "age": 30,
          "people": 5040048,
          "sex": 1,
          "year": 1940
         },
         {
          "age": 30,
          "people": 5171522,
          "sex": 2,
          "year": 1940
         },
         {
          "age": 35,
          "people": 4724804,
          "sex": 1,
          "year": 1940
         },
         {
          "age": 35,
          "people": 4791809,
          "sex": 2,
          "year": 1940
         },
         {
          "age": 40,
          "people": 4437392,
          "sex": 1,
          "year": 1940
         },
         {
          "age": 40,
          "people": 4394061,
          "sex": 2,
          "year": 1940
         },
         {
          "age": 45,
          "people": 4190187,
          "sex": 1,
          "year": 1940
         },
         {
          "age": 45,
          "people": 4050290,
          "sex": 2,
          "year": 1940
         },
         {
          "age": 50,
          "people": 3785735,
          "sex": 1,
          "year": 1940
         },
         {
          "age": 50,
          "people": 3488396,
          "sex": 2,
          "year": 1940
         },
         {
          "age": 55,
          "people": 2972069,
          "sex": 1,
          "year": 1940
         },
         {
          "age": 55,
          "people": 2810000,
          "sex": 2,
          "year": 1940
         },
         {
          "age": 60,
          "people": 2370232,
          "sex": 1,
          "year": 1940
         },
         {
          "age": 60,
          "people": 2317790,
          "sex": 2,
          "year": 1940
         },
         {
          "age": 65,
          "people": 1897678,
          "sex": 1,
          "year": 1940
         },
         {
          "age": 65,
          "people": 1911117,
          "sex": 2,
          "year": 1940
         },
         {
          "age": 70,
          "people": 1280023,
          "sex": 1,
          "year": 1940
         },
         {
          "age": 70,
          "people": 1287711,
          "sex": 2,
          "year": 1940
         },
         {
          "age": 75,
          "people": 713875,
          "sex": 1,
          "year": 1940
         },
         {
          "age": 75,
          "people": 764915,
          "sex": 2,
          "year": 1940
         },
         {
          "age": 80,
          "people": 359418,
          "sex": 1,
          "year": 1940
         },
         {
          "age": 80,
          "people": 414761,
          "sex": 2,
          "year": 1940
         },
         {
          "age": 85,
          "people": 127303,
          "sex": 1,
          "year": 1940
         },
         {
          "age": 85,
          "people": 152131,
          "sex": 2,
          "year": 1940
         },
         {
          "age": 90,
          "people": 42263,
          "sex": 1,
          "year": 1940
         },
         {
          "age": 90,
          "people": 58119,
          "sex": 2,
          "year": 1940
         },
         {
          "age": 0,
          "people": 8211806,
          "sex": 1,
          "year": 1950
         },
         {
          "age": 0,
          "people": 7862267,
          "sex": 2,
          "year": 1950
         },
         {
          "age": 5,
          "people": 6706601,
          "sex": 1,
          "year": 1950
         },
         {
          "age": 5,
          "people": 6450863,
          "sex": 2,
          "year": 1950
         },
         {
          "age": 10,
          "people": 5629744,
          "sex": 1,
          "year": 1950
         },
         {
          "age": 10,
          "people": 5430835,
          "sex": 2,
          "year": 1950
         },
         {
          "age": 15,
          "people": 5264129,
          "sex": 1,
          "year": 1950
         },
         {
          "age": 15,
          "people": 5288742,
          "sex": 2,
          "year": 1950
         },
         {
          "age": 20,
          "people": 5573308,
          "sex": 1,
          "year": 1950
         },
         {
          "age": 20,
          "people": 5854227,
          "sex": 2,
          "year": 1950
         },
         {
          "age": 25,
          "people": 6007254,
          "sex": 1,
          "year": 1950
         },
         {
          "age": 25,
          "people": 6317332,
          "sex": 2,
          "year": 1950
         },
         {
          "age": 30,
          "people": 5676022,
          "sex": 1,
          "year": 1950
         },
         {
          "age": 30,
          "people": 5895178,
          "sex": 2,
          "year": 1950
         },
         {
          "age": 35,
          "people": 5511364,
          "sex": 1,
          "year": 1950
         },
         {
          "age": 35,
          "people": 5696261,
          "sex": 2,
          "year": 1950
         },
         {
          "age": 40,
          "people": 5076985,
          "sex": 1,
          "year": 1950
         },
         {
          "age": 40,
          "people": 5199224,
          "sex": 2,
          "year": 1950
         },
         {
          "age": 45,
          "people": 4533177,
          "sex": 1,
          "year": 1950
         },
         {
          "age": 45,
          "people": 4595842,
          "sex": 2,
          "year": 1950
         },
         {
          "age": 50,
          "people": 4199164,
          "sex": 1,
          "year": 1950
         },
         {
          "age": 50,
          "people": 4147295,
          "sex": 2,
          "year": 1950
         },
         {
          "age": 55,
          "people": 3667351,
          "sex": 1,
          "year": 1950
         },
         {
          "age": 55,
          "people": 3595158,
          "sex": 2,
          "year": 1950
         },
         {
          "age": 60,
          "people": 3035038,
          "sex": 1,
          "year": 1950
         },
         {
          "age": 60,
          "people": 3009768,
          "sex": 2,
          "year": 1950
         },
         {
          "age": 65,
          "people": 2421234,
          "sex": 1,
          "year": 1950
         },
         {
          "age": 65,
          "people": 2548250,
          "sex": 2,
          "year": 1950
         },
         {
          "age": 70,
          "people": 1627920,
          "sex": 1,
          "year": 1950
         },
         {
          "age": 70,
          "people": 1786831,
          "sex": 2,
          "year": 1950
         },
         {
          "age": 75,
          "people": 1006530,
          "sex": 1,
          "year": 1950
         },
         {
          "age": 75,
          "people": 1148469,
          "sex": 2,
          "year": 1950
         },
         {
          "age": 80,
          "people": 511727,
          "sex": 1,
          "year": 1950
         },
         {
          "age": 80,
          "people": 637717,
          "sex": 2,
          "year": 1950
         },
         {
          "age": 85,
          "people": 182821,
          "sex": 1,
          "year": 1950
         },
         {
          "age": 85,
          "people": 242798,
          "sex": 2,
          "year": 1950
         },
         {
          "age": 90,
          "people": 54836,
          "sex": 1,
          "year": 1950
         },
         {
          "age": 90,
          "people": 90766,
          "sex": 2,
          "year": 1950
         },
         {
          "age": 0,
          "people": 10374975,
          "sex": 1,
          "year": 1960
         },
         {
          "age": 0,
          "people": 10146999,
          "sex": 2,
          "year": 1960
         },
         {
          "age": 5,
          "people": 9495503,
          "sex": 1,
          "year": 1960
         },
         {
          "age": 5,
          "people": 9250741,
          "sex": 2,
          "year": 1960
         },
         {
          "age": 10,
          "people": 8563700,
          "sex": 1,
          "year": 1960
         },
         {
          "age": 10,
          "people": 8310764,
          "sex": 2,
          "year": 1960
         },
         {
          "age": 15,
          "people": 6620902,
          "sex": 1,
          "year": 1960
         },
         {
          "age": 15,
          "people": 6617493,
          "sex": 2,
          "year": 1960
         },
         {
          "age": 20,
          "people": 5268384,
          "sex": 1,
          "year": 1960
         },
         {
          "age": 20,
          "people": 5513495,
          "sex": 2,
          "year": 1960
         },
         {
          "age": 25,
          "people": 5311805,
          "sex": 1,
          "year": 1960
         },
         {
          "age": 25,
          "people": 5548259,
          "sex": 2,
          "year": 1960
         },
         {
          "age": 30,
          "people": 5801342,
          "sex": 1,
          "year": 1960
         },
         {
          "age": 30,
          "people": 6090862,
          "sex": 2,
          "year": 1960
         },
         {
          "age": 35,
          "people": 6063063,
          "sex": 1,
          "year": 1960
         },
         {
          "age": 35,
          "people": 6431337,
          "sex": 2,
          "year": 1960
         },
         {
          "age": 40,
          "people": 5657943,
          "sex": 1,
          "year": 1960
         },
         {
          "age": 40,
          "people": 5940520,
          "sex": 2,
          "year": 1960
         },
         {
          "age": 45,
          "people": 5345658,
          "sex": 1,
          "year": 1960
         },
         {
          "age": 45,
          "people": 5516028,
          "sex": 2,
          "year": 1960
         },
         {
          "age": 50,
          "people": 4763364,
          "sex": 1,
          "year": 1960
         },
         {
          "age": 50,
          "people": 4928844,
          "sex": 2,
          "year": 1960
         },
         {
          "age": 55,
          "people": 4170581,
          "sex": 1,
          "year": 1960
         },
         {
          "age": 55,
          "people": 4402878,
          "sex": 2,
          "year": 1960
         },
         {
          "age": 60,
          "people": 3405293,
          "sex": 1,
          "year": 1960
         },
         {
          "age": 60,
          "people": 3723839,
          "sex": 2,
          "year": 1960
         },
         {
          "age": 65,
          "people": 2859371,
          "sex": 1,
          "year": 1960
         },
         {
          "age": 65,
          "people": 3268699,
          "sex": 2,
          "year": 1960
         },
         {
          "age": 70,
          "people": 2115763,
          "sex": 1,
          "year": 1960
         },
         {
          "age": 70,
          "people": 2516479,
          "sex": 2,
          "year": 1960
         },
         {
          "age": 75,
          "people": 1308913,
          "sex": 1,
          "year": 1960
         },
         {
          "age": 75,
          "people": 1641371,
          "sex": 2,
          "year": 1960
         },
         {
          "age": 80,
          "people": 619923,
          "sex": 1,
          "year": 1960
         },
         {
          "age": 80,
          "people": 856952,
          "sex": 2,
          "year": 1960
         },
         {
          "age": 85,
          "people": 253245,
          "sex": 1,
          "year": 1960
         },
         {
          "age": 85,
          "people": 384572,
          "sex": 2,
          "year": 1960
         },
         {
          "age": 90,
          "people": 75908,
          "sex": 1,
          "year": 1960
         },
         {
          "age": 90,
          "people": 135774,
          "sex": 2,
          "year": 1960
         },
         {
          "age": 0,
          "people": 8685121,
          "sex": 1,
          "year": 1970
         },
         {
          "age": 0,
          "people": 8326887,
          "sex": 2,
          "year": 1970
         },
         {
          "age": 5,
          "people": 10411131,
          "sex": 1,
          "year": 1970
         },
         {
          "age": 5,
          "people": 10003293,
          "sex": 2,
          "year": 1970
         },
         {
          "age": 10,
          "people": 10756403,
          "sex": 1,
          "year": 1970
         },
         {
          "age": 10,
          "people": 10343538,
          "sex": 2,
          "year": 1970
         },
         {
          "age": 15,
          "people": 9605399,
          "sex": 1,
          "year": 1970
         },
         {
          "age": 15,
          "people": 9414284,
          "sex": 2,
          "year": 1970
         },
         {
          "age": 20,
          "people": 7729202,
          "sex": 1,
          "year": 1970
         },
         {
          "age": 20,
          "people": 8341830,
          "sex": 2,
          "year": 1970
         },
         {
          "age": 25,
          "people": 6539301,
          "sex": 1,
          "year": 1970
         },
         {
          "age": 25,
          "people": 6903041,
          "sex": 2,
          "year": 1970
         },
         {
          "age": 30,
          "people": 5519879,
          "sex": 1,
          "year": 1970
         },
         {
          "age": 30,
          "people": 5851441,
          "sex": 2,
          "year": 1970
         },
         {
          "age": 35,
          "people": 5396732,
          "sex": 1,
          "year": 1970
         },
         {
          "age": 35,
          "people": 5708021,
          "sex": 2,
          "year": 1970
         },
         {
          "age": 40,
          "people": 5718538,
          "sex": 1,
          "year": 1970
         },
         {
          "age": 40,
          "people": 6129319,
          "sex": 2,
          "year": 1970
         },
         {
          "age": 45,
          "people": 5794120,
          "sex": 1,
          "year": 1970
         },
         {
          "age": 45,
          "people": 6198742,
          "sex": 2,
          "year": 1970
         },
         {
          "age": 50,
          "people": 5298312,
          "sex": 1,
          "year": 1970
         },
         {
          "age": 50,
          "people": 5783817,
          "sex": 2,
          "year": 1970
         },
         {
          "age": 55,
          "people": 4762911,
          "sex": 1,
          "year": 1970
         },
         {
          "age": 55,
          "people": 5222164,
          "sex": 2,
          "year": 1970
         },
         {
          "age": 60,
          "people": 4037643,
          "sex": 1,
          "year": 1970
         },
         {
          "age": 60,
          "people": 4577251,
          "sex": 2,
          "year": 1970
         },
         {
          "age": 65,
          "people": 3142606,
          "sex": 1,
          "year": 1970
         },
         {
          "age": 65,
          "people": 3894827,
          "sex": 2,
          "year": 1970
         },
         {
          "age": 70,
          "people": 2340826,
          "sex": 1,
          "year": 1970
         },
         {
          "age": 70,
          "people": 3138009,
          "sex": 2,
          "year": 1970
         },
         {
          "age": 75,
          "people": 1599269,
          "sex": 1,
          "year": 1970
         },
         {
          "age": 75,
          "people": 2293376,
          "sex": 2,
          "year": 1970
         },
         {
          "age": 80,
          "people": 886155,
          "sex": 1,
          "year": 1970
         },
         {
          "age": 80,
          "people": 1417553,
          "sex": 2,
          "year": 1970
         },
         {
          "age": 85,
          "people": 371123,
          "sex": 1,
          "year": 1970
         },
         {
          "age": 85,
          "people": 658511,
          "sex": 2,
          "year": 1970
         },
         {
          "age": 90,
          "people": 186502,
          "sex": 1,
          "year": 1970
         },
         {
          "age": 90,
          "people": 314929,
          "sex": 2,
          "year": 1970
         },
         {
          "age": 0,
          "people": 8439366,
          "sex": 1,
          "year": 1980
         },
         {
          "age": 0,
          "people": 8081854,
          "sex": 2,
          "year": 1980
         },
         {
          "age": 5,
          "people": 8680730,
          "sex": 1,
          "year": 1980
         },
         {
          "age": 5,
          "people": 8275881,
          "sex": 2,
          "year": 1980
         },
         {
          "age": 10,
          "people": 9452338,
          "sex": 1,
          "year": 1980
         },
         {
          "age": 10,
          "people": 9048483,
          "sex": 2,
          "year": 1980
         },
         {
          "age": 15,
          "people": 10698856,
          "sex": 1,
          "year": 1980
         },
         {
          "age": 15,
          "people": 10410271,
          "sex": 2,
          "year": 1980
         },
         {
          "age": 20,
          "people": 10486776,
          "sex": 1,
          "year": 1980
         },
         {
          "age": 20,
          "people": 10614947,
          "sex": 2,
          "year": 1980
         },
         {
          "age": 25,
          "people": 9624053,
          "sex": 1,
          "year": 1980
         },
         {
          "age": 25,
          "people": 9827903,
          "sex": 2,
          "year": 1980
         },
         {
          "age": 30,
          "people": 8705835,
          "sex": 1,
          "year": 1980
         },
         {
          "age": 30,
          "people": 8955225,
          "sex": 2,
          "year": 1980
         },
         {
          "age": 35,
          "people": 6852069,
          "sex": 1,
          "year": 1980
         },
         {
          "age": 35,
          "people": 7134239,
          "sex": 2,
          "year": 1980
         },
         {
          "age": 40,
          "people": 5692148,
          "sex": 1,
          "year": 1980
         },
         {
          "age": 40,
          "people": 5953910,
          "sex": 2,
          "year": 1980
         },
         {
          "age": 45,
          "people": 5342469,
          "sex": 1,
          "year": 1980
         },
         {
          "age": 45,
          "people": 5697543,
          "sex": 2,
          "year": 1980
         },
         {
          "age": 50,
          "people": 5603709,
          "sex": 1,
          "year": 1980
         },
         {
          "age": 50,
          "people": 6110117,
          "sex": 2,
          "year": 1980
         },
         {
          "age": 55,
          "people": 5485098,
          "sex": 1,
          "year": 1980
         },
         {
          "age": 55,
          "people": 6160229,
          "sex": 2,
          "year": 1980
         },
         {
          "age": 60,
          "people": 4696140,
          "sex": 1,
          "year": 1980
         },
         {
          "age": 60,
          "people": 5456885,
          "sex": 2,
          "year": 1980
         },
         {
          "age": 65,
          "people": 3893510,
          "sex": 1,
          "year": 1980
         },
         {
          "age": 65,
          "people": 4896947,
          "sex": 2,
          "year": 1980
         },
         {
          "age": 70,
          "people": 2857774,
          "sex": 1,
          "year": 1980
         },
         {
          "age": 70,
          "people": 3963441,
          "sex": 2,
          "year": 1980
         },
         {
          "age": 75,
          "people": 1840438,
          "sex": 1,
          "year": 1980
         },
         {
          "age": 75,
          "people": 2951759,
          "sex": 2,
          "year": 1980
         },
         {
          "age": 80,
          "people": 1012886,
          "sex": 1,
          "year": 1980
         },
         {
          "age": 80,
          "people": 1919292,
          "sex": 2,
          "year": 1980
         },
         {
          "age": 85,
          "people": 472338,
          "sex": 1,
          "year": 1980
         },
         {
          "age": 85,
          "people": 1023115,
          "sex": 2,
          "year": 1980
         },
         {
          "age": 90,
          "people": 204148,
          "sex": 1,
          "year": 1980
         },
         {
          "age": 90,
          "people": 499046,
          "sex": 2,
          "year": 1980
         },
         {
          "age": 0,
          "people": 9307465,
          "sex": 1,
          "year": 1990
         },
         {
          "age": 0,
          "people": 8894007,
          "sex": 2,
          "year": 1990
         },
         {
          "age": 5,
          "people": 9274732,
          "sex": 1,
          "year": 1990
         },
         {
          "age": 5,
          "people": 8799955,
          "sex": 2,
          "year": 1990
         },
         {
          "age": 10,
          "people": 8782542,
          "sex": 1,
          "year": 1990
         },
         {
          "age": 10,
          "people": 8337284,
          "sex": 2,
          "year": 1990
         },
         {
          "age": 15,
          "people": 9020572,
          "sex": 1,
          "year": 1990
         },
         {
          "age": 15,
          "people": 8590991,
          "sex": 2,
          "year": 1990
         },
         {
          "age": 20,
          "people": 9436188,
          "sex": 1,
          "year": 1990
         },
         {
          "age": 20,
          "people": 9152644,
          "sex": 2,
          "year": 1990
         },
         {
          "age": 25,
          "people": 10658027,
          "sex": 1,
          "year": 1990
         },
         {
          "age": 25,
          "people": 10587292,
          "sex": 2,
          "year": 1990
         },
         {
          "age": 30,
          "people": 11028712,
          "sex": 1,
          "year": 1990
         },
         {
          "age": 30,
          "people": 11105750,
          "sex": 2,
          "year": 1990
         },
         {
          "age": 35,
          "people": 9853933,
          "sex": 1,
          "year": 1990
         },
         {
          "age": 35,
          "people": 10038644,
          "sex": 2,
          "year": 1990
         },
         {
          "age": 40,
          "people": 8712632,
          "sex": 1,
          "year": 1990
         },
         {
          "age": 40,
          "people": 8928252,
          "sex": 2,
          "year": 1990
         },
         {
          "age": 45,
          "people": 6848082,
          "sex": 1,
          "year": 1990
         },
         {
          "age": 45,
          "people": 7115129,
          "sex": 2,
          "year": 1990
         },
         {
          "age": 50,
          "people": 5553992,
          "sex": 1,
          "year": 1990
         },
         {
          "age": 50,
          "people": 5899925,
          "sex": 2,
          "year": 1990
         },
         {
          "age": 55,
          "people": 4981670,
          "sex": 1,
          "year": 1990
         },
         {
          "age": 55,
          "people": 5460506,
          "sex": 2,
          "year": 1990
         },
         {
          "age": 60,
          "people": 4953822,
          "sex": 1,
          "year": 1990
         },
         {
          "age": 60,
          "people": 5663205,
          "sex": 2,
          "year": 1990
         },
         {
          "age": 65,
          "people": 4538398,
          "sex": 1,
          "year": 1990
         },
         {
          "age": 65,
          "people": 5594108,
          "sex": 2,
          "year": 1990
         },
         {
          "age": 70,
          "people": 3429420,
          "sex": 1,
          "year": 1990
         },
         {
          "age": 70,
          "people": 4610222,
          "sex": 2,
          "year": 1990
         },
         {
          "age": 75,
          "people": 2344932,
          "sex": 1,
          "year": 1990
         },
         {
          "age": 75,
          "people": 3723980,
          "sex": 2,
          "year": 1990
         },
         {
          "age": 80,
          "people": 1342996,
          "sex": 1,
          "year": 1990
         },
         {
          "age": 80,
          "people": 2545730,
          "sex": 2,
          "year": 1990
         },
         {
          "age": 85,
          "people": 588790,
          "sex": 1,
          "year": 1990
         },
         {
          "age": 85,
          "people": 1419494,
          "sex": 2,
          "year": 1990
         },
         {
          "age": 90,
          "people": 238459,
          "sex": 1,
          "year": 1990
         },
         {
          "age": 90,
          "people": 745146,
          "sex": 2,
          "year": 1990
         },
         {
          "age": 0,
          "people": 9735380,
          "sex": 1,
          "year": 2000
         },
         {
          "age": 0,
          "people": 9310714,
          "sex": 2,
          "year": 2000
         },
         {
          "age": 5,
          "people": 10552146,
          "sex": 1,
          "year": 2000
         },
         {
          "age": 5,
          "people": 10069564,
          "sex": 2,
          "year": 2000
         },
         {
          "age": 10,
          "people": 10563233,
          "sex": 1,
          "year": 2000
         },
         {
          "age": 10,
          "people": 10022524,
          "sex": 2,
          "year": 2000
         },
         {
          "age": 15,
          "people": 10237419,
          "sex": 1,
          "year": 2000
         },
         {
          "age": 15,
          "people": 9692669,
          "sex": 2,
          "year": 2000
         },
         {
          "age": 20,
          "people": 9731315,
          "sex": 1,
          "year": 2000
         },
         {
          "age": 20,
          "people": 9324244,
          "sex": 2,
          "year": 2000
         },
         {
          "age": 25,
          "people": 9659493,
          "sex": 1,
          "year": 2000
         },
         {
          "age": 25,
          "people": 9518507,
          "sex": 2,
          "year": 2000
         },
         {
          "age": 30,
          "people": 10205879,
          "sex": 1,
          "year": 2000
         },
         {
          "age": 30,
          "people": 10119296,
          "sex": 2,
          "year": 2000
         },
         {
          "age": 35,
          "people": 11475182,
          "sex": 1,
          "year": 2000
         },
         {
          "age": 35,
          "people": 11635647,
          "sex": 2,
          "year": 2000
         },
         {
          "age": 40,
          "people": 11320252,
          "sex": 1,
          "year": 2000
         },
         {
          "age": 40,
          "people": 11488578,
          "sex": 2,
          "year": 2000
         },
         {
          "age": 45,
          "people": 9925006,
          "sex": 1,
          "year": 2000
         },
         {
          "age": 45,
          "people": 10261253,
          "sex": 2,
          "year": 2000
         },
         {
          "age": 50,
          "people": 8507934,
          "sex": 1,
          "year": 2000
         },
         {
          "age": 50,
          "people": 8911133,
          "sex": 2,
          "year": 2000
         },
         {
          "age": 55,
          "people": 6459082,
          "sex": 1,
          "year": 2000
         },
         {
          "age": 55,
          "people": 6921268,
          "sex": 2,
          "year": 2000
         },
         {
          "age": 60,
          "people": 5123399,
          "sex": 1,
          "year": 2000
         },
         {
          "age": 60,
          "people": 5668961,
          "sex": 2,
          "year": 2000
         },
         {
          "age": 65,
          "people": 4453623,
          "sex": 1,
          "year": 2000
         },
         {
          "age": 65,
          "people": 4804784,
          "sex": 2,
          "year": 2000
         },
         {
          "age": 70,
          "people": 3792145,
          "sex": 1,
          "year": 2000
         },
         {
          "age": 70,
          "people": 5184855,
          "sex": 2,
          "year": 2000
         },
         {
          "age": 75,
          "people": 2912655,
          "sex": 1,
          "year": 2000
         },
         {
          "age": 75,
          "people": 4355644,
          "sex": 2,
          "year": 2000
         },
         {
          "age": 80,
          "people": 1902638,
          "sex": 1,
          "year": 2000
         },
         {
          "age": 80,
          "people": 3221898,
          "sex": 2,
          "year": 2000
         },
         {
          "age": 85,
          "people": 970357,
          "sex": 1,
          "year": 2000
         },
         {
          "age": 85,
          "people": 1981156,
          "sex": 2,
          "year": 2000
         },
         {
          "age": 90,
          "people": 336303,
          "sex": 1,
          "year": 2000
         },
         {
          "age": 90,
          "people": 1064581,
          "sex": 2,
          "year": 2000
         }
        ]
       },
       "encoding": {
        "color": {
         "field": "gender",
         "scale": {
          "range": [
           "#675193",
           "#ca8861"
          ]
         },
         "type": "nominal"
        },
        "column": {
         "field": "age",
         "type": "ordinal"
        },
        "x": {
         "axis": {
          "title": ""
         },
         "field": "gender",
         "type": "nominal"
        },
        "y": {
         "aggregate": "sum",
         "axis": {
          "grid": false,
          "title": "population"
         },
         "field": "people",
         "type": "quantitative"
        }
       },
       "height": 500,
       "mark": "bar",
       "spacing": 10,
       "transform": [
        {
         "filter": "datum.variable == 'LCOE'"
        },
        {
         "as": "gender",
         "calculate": "datum.sex == 2 ? 'Female' : 'Male'"
        }
       ],
       "width": 300
      },
      "image/png": "[encoded data removed]",
      "image/svg+xml": [
       "<?xml version=\"1.0\" encoding=\"utf-8\"?>\n",
       "<!DOCTYPE svg PUBLIC \"-//W3C//DTD SVG 1.1//EN\" \"http://www.w3.org/Graphics/SVG/1.1/DTD/svg11.dtd\">\n",
       "<svg class=\"marks\" width=\"94\" height=\"541\" viewBox=\"0 0 94 541\" version=\"1.1\" xmlns=\"http://www.w3.org/2000/svg\" xmlns:xlink=\"http://www.w3.org/1999/xlink\"><rect width=\"94\" height=\"541\" fill=\"white\"></rect><g fill=\"none\" stroke-miterlimit=\"10\" transform=\"translate(20,36)\"><g class=\"mark-group role-frame root\" role=\"graphics-object\" aria-roledescription=\"group mark container\"><g transform=\"translate(0,0)\"><path class=\"background\" aria-hidden=\"true\" d=\"M0,0h0v0h0Z\"></path><g><g class=\"mark-group role-column-title column-title\" role=\"graphics-object\" aria-roledescription=\"group mark container\"><g transform=\"translate(0,-10)\"><path class=\"background\" aria-hidden=\"true\" d=\"M0,0h0v0h0Z\"></path><g><g class=\"mark-group role-title\"><g transform=\"translate(0,-21)\"><path class=\"background\" aria-hidden=\"true\" d=\"M0,0h0v0h0Z\" pointer-events=\"none\"></path><g><g class=\"mark-text role-title-text\" role=\"graphics-symbol\" aria-roledescription=\"title\" aria-label=\"Title text 'age'\" pointer-events=\"none\"><text text-anchor=\"middle\" transform=\"translate(0,9)\" font-family=\"sans-serif\" font-size=\"11px\" font-weight=\"bold\" fill=\"#000\" opacity=\"1\">age</text></g></g><path class=\"foreground\" aria-hidden=\"true\" d=\"\" pointer-events=\"none\" display=\"none\"></path></g></g></g><path class=\"foreground\" aria-hidden=\"true\" d=\"\" display=\"none\"></path></g></g><g class=\"mark-group role-row-header row_header\" role=\"graphics-object\" aria-roledescription=\"group mark container\"><g transform=\"translate(0,0)\"><path class=\"background\" aria-hidden=\"true\" d=\"M0,0h0v500h0Z\"></path><g><g class=\"mark-group role-axis\" role=\"graphics-symbol\" aria-roledescription=\"axis\" aria-label=\"Y-axis titled 'population' for a linear scale with values from NaN to NaN\"><g transform=\"translate(0.5,0.5)\"><path class=\"background\" aria-hidden=\"true\" d=\"M0,0h0v0h0Z\" pointer-events=\"none\"></path><g><g class=\"mark-rule role-axis-tick\" pointer-events=\"none\"></g><g class=\"mark-text role-axis-label\" pointer-events=\"none\"></g><g class=\"mark-rule role-axis-domain\" pointer-events=\"none\"><line transform=\"translate(0,500)\" x2=\"0\" y2=\"-500\" stroke=\"#888\" stroke-width=\"1\" opacity=\"1\"></line></g><g class=\"mark-text role-axis-title\" pointer-events=\"none\"><text text-anchor=\"middle\" transform=\"translate(-4,250) rotate(-90) translate(0,-2)\" font-family=\"sans-serif\" font-size=\"11px\" font-weight=\"bold\" fill=\"#000\" opacity=\"1\">population</text></g></g><path class=\"foreground\" aria-hidden=\"true\" d=\"\" pointer-events=\"none\" display=\"none\"></path></g></g></g><path class=\"foreground\" aria-hidden=\"true\" d=\"\" display=\"none\"></path></g></g><g class=\"mark-group role-column-header column_header\" role=\"graphics-object\" aria-roledescription=\"group mark container\"></g><g class=\"mark-group role-column-footer column_footer\" role=\"graphics-object\" aria-roledescription=\"group mark container\"></g><g class=\"mark-group role-scope cell\" role=\"graphics-object\" aria-roledescription=\"group mark container\"></g><g class=\"mark-group role-legend\" role=\"graphics-symbol\" aria-roledescription=\"legend\" aria-label=\"Symbol legend titled 'gender' for fill color with 0 values: \"><g transform=\"translate(29,0)\"><path class=\"background\" aria-hidden=\"true\" d=\"M0,0h40v11h-40Z\" pointer-events=\"none\"></path><g><g class=\"mark-group role-legend-entry\"><g transform=\"translate(0,16)\"><path class=\"background\" aria-hidden=\"true\" d=\"M0,0h0v0h0Z\" pointer-events=\"none\"></path><g><g class=\"mark-group role-scope\" role=\"graphics-object\" aria-roledescription=\"group mark container\"></g></g><path class=\"foreground\" aria-hidden=\"true\" d=\"\" pointer-events=\"none\" display=\"none\"></path></g></g><g class=\"mark-text role-legend-title\" pointer-events=\"none\"><text text-anchor=\"start\" transform=\"translate(0,9)\" font-family=\"sans-serif\" font-size=\"11px\" font-weight=\"bold\" fill=\"#000\" opacity=\"1\">gender</text></g></g><path class=\"foreground\" aria-hidden=\"true\" d=\"\" pointer-events=\"none\" display=\"none\"></path></g></g></g><path class=\"foreground\" aria-hidden=\"true\" d=\"\" display=\"none\"></path></g></g></g></svg>\n"
      ],
      "text/plain": [
       "@vlplot(\n",
       "    height=500,\n",
       "    width=300,\n",
       "    transform=[\n",
       "        {\n",
       "            filter=\"datum.variable == 'LCOE'\"\n",
       "        },\n",
       "        {\n",
       "            calculate=\"datum.sex == 2 ? 'Female' : 'Male'\",\n",
       "            as=\"gender\"\n",
       "        }\n",
       "    ],\n",
       "    spacing=10,\n",
       "    config={\n",
       "        view={\n",
       "            stroke=\"transparent\"\n",
       "        },\n",
       "        axis={\n",
       "            domainWidth=1\n",
       "        }\n",
       "    },\n",
       "    mark=\"bar\",\n",
       "    encoding={\n",
       "        column={\n",
       "            field=\"age\",\n",
       "            type=\"ordinal\"\n",
       "        },\n",
       "        y={\n",
       "            axis={\n",
       "                title=\"population\",\n",
       "                grid=false\n",
       "            },\n",
       "            aggregate=\"sum\",\n",
       "            field=\"people\",\n",
       "            type=\"quantitative\"\n",
       "        },\n",
       "        x={\n",
       "            axis={\n",
       "                title=\"\"\n",
       "            },\n",
       "            field=\"gender\",\n",
       "            type=\"nominal\"\n",
       "        },\n",
       "        color={\n",
       "            scale={\n",
       "                range=[\n",
       "                    \"#675193\",\n",
       "                    \"#ca8861\"\n",
       "                ]\n",
       "            },\n",
       "            field=\"gender\",\n",
       "            type=\"nominal\"\n",
       "        }\n",
       "    },\n",
       "    data={\n",
       "        values=...\n",
       "    }\n",
       ")"
      ]
     },
     "execution_count": 11,
     "metadata": {},
     "output_type": "execute_result"
    }
   ],
   "source": [
    "dataset(\"population\") |>\n",
    "@vlplot(\n",
    "    height=500,\n",
    "    width =300,\n",
    "    :bar,\n",
    "    transform=[\n",
    "        {filter=\"datum.variable == 'LCOE'\"},\n",
    "        {calculate=\"datum.sex == 2 ? 'Female' : 'Male'\", as=\"gender\"}\n",
    "    ],\n",
    "    column=\"age:o\",\n",
    "    y={\"sum(people)\", axis={title=\"population\", grid=false}},\n",
    "    x={\"gender:n\", axis={title=\"\"}},\n",
    "    color={\"gender:n\", scale={range=[\"#675193\", \"#ca8861\"]}},\n",
    "    spacing=10,\n",
    "    config={\n",
    "        view={stroke=:transparent},\n",
    "        axis={domainWidth=1}\n",
    "    }\n",
    ")\n",
    "\n"
   ]
  },
  {
   "cell_type": "code",
   "execution_count": 12,
   "metadata": {},
   "outputs": [
    {
     "data": {
      "application/vnd.vegalite.v4+json": {
       "config": {
        "axis": {
         "domainWidth": 1
        },
        "view": {
         "stroke": "transparent"
        }
       },
       "data": {
        "values": []
       },
       "encoding": {
        "color": {
         "field": "Technology",
         "scale": {
          "scheme": "tableau10"
         },
         "spacing": 10,
         "type": "nominal"
        },
        "column": {
         "field": "Share_ren",
         "type": "nominal"
        },
        "x": {
         "axis": {
          "title": ""
         },
         "field": "Extension",
         "type": "nominal"
        },
        "y": {
         "axis": {
          "grid": false,
          "title": "Installed capacity GW"
         },
         "field": "value",
         "type": "quantitative"
        }
       },
       "height": 300,
       "mark": "bar",
       "transform": [
        {
         "as": "Extension",
         "calculate": "datum.Extension == 1 ? 'With Storage' : 'Without'"
        },
        {
         "filter": "datum.variable == 'Capacity_GWh'"
        },
        {
         "filter": "datum.value != 0"
        }
       ],
       "width": 30
      },
      "image/png": "[encoded data removed]",
      "image/svg+xml": [
       "<?xml version=\"1.0\" encoding=\"utf-8\"?>\n",
       "<!DOCTYPE svg PUBLIC \"-//W3C//DTD SVG 1.1//EN\" \"http://www.w3.org/Graphics/SVG/1.1/DTD/svg11.dtd\">\n",
       "<svg class=\"marks\" width=\"153\" height=\"341\" viewBox=\"0 0 153 341\" version=\"1.1\" xmlns=\"http://www.w3.org/2000/svg\" xmlns:xlink=\"http://www.w3.org/1999/xlink\"><rect width=\"153\" height=\"341\" fill=\"white\"></rect><g fill=\"none\" stroke-miterlimit=\"10\" transform=\"translate(35,36)\"><g class=\"mark-group role-frame root\" role=\"graphics-object\" aria-roledescription=\"group mark container\"><g transform=\"translate(0,0)\"><path class=\"background\" aria-hidden=\"true\" d=\"M0,0h0v0h0Z\"></path><g><g class=\"mark-group role-column-title column-title\" role=\"graphics-object\" aria-roledescription=\"group mark container\"><g transform=\"translate(0,-10)\"><path class=\"background\" aria-hidden=\"true\" d=\"M0,0h0v0h0Z\"></path><g><g class=\"mark-group role-title\"><g transform=\"translate(0,-21)\"><path class=\"background\" aria-hidden=\"true\" d=\"M0,0h0v0h0Z\" pointer-events=\"none\"></path><g><g class=\"mark-text role-title-text\" role=\"graphics-symbol\" aria-roledescription=\"title\" aria-label=\"Title text 'Share_ren'\" pointer-events=\"none\"><text text-anchor=\"middle\" transform=\"translate(0,9)\" font-family=\"sans-serif\" font-size=\"11px\" font-weight=\"bold\" fill=\"#000\" opacity=\"1\">Share_ren</text></g></g><path class=\"foreground\" aria-hidden=\"true\" d=\"\" pointer-events=\"none\" display=\"none\"></path></g></g></g><path class=\"foreground\" aria-hidden=\"true\" d=\"\" display=\"none\"></path></g></g><g class=\"mark-group role-row-header row_header\" role=\"graphics-object\" aria-roledescription=\"group mark container\"><g transform=\"translate(0,0)\"><path class=\"background\" aria-hidden=\"true\" d=\"M0,0h0v300h0Z\"></path><g><g class=\"mark-group role-axis\" role=\"graphics-symbol\" aria-roledescription=\"axis\" aria-label=\"Y-axis titled 'Installed capacity GW' for a linear scale with values from 0 to 0\"><g transform=\"translate(0.5,0.5)\"><path class=\"background\" aria-hidden=\"true\" d=\"M0,0h0v0h0Z\" pointer-events=\"none\"></path><g><g class=\"mark-rule role-axis-tick\" pointer-events=\"none\"><line transform=\"translate(0,150)\" x2=\"-5\" y2=\"0\" stroke=\"#888\" stroke-width=\"1\" opacity=\"1\"></line></g><g class=\"mark-text role-axis-label\" pointer-events=\"none\"><text text-anchor=\"end\" transform=\"translate(-7,153)\" font-family=\"sans-serif\" font-size=\"10px\" fill=\"#000\" opacity=\"1\">0</text></g><g class=\"mark-rule role-axis-domain\" pointer-events=\"none\"><line transform=\"translate(0,300)\" x2=\"0\" y2=\"-300\" stroke=\"#888\" stroke-width=\"1\" opacity=\"1\"></line></g><g class=\"mark-text role-axis-title\" pointer-events=\"none\"><text text-anchor=\"middle\" transform=\"translate(-16,150) rotate(-90) translate(0,-2)\" font-family=\"sans-serif\" font-size=\"11px\" font-weight=\"bold\" fill=\"#000\" opacity=\"1\">Installed capacity GW</text></g></g><path class=\"foreground\" aria-hidden=\"true\" d=\"\" pointer-events=\"none\" display=\"none\"></path></g></g></g><path class=\"foreground\" aria-hidden=\"true\" d=\"\" display=\"none\"></path></g></g><g class=\"mark-group role-column-header column_header\" role=\"graphics-object\" aria-roledescription=\"group mark container\"></g><g class=\"mark-group role-column-footer column_footer\" role=\"graphics-object\" aria-roledescription=\"group mark container\"></g><g class=\"mark-group role-scope cell\" role=\"graphics-object\" aria-roledescription=\"group mark container\"></g><g class=\"mark-group role-legend\" role=\"graphics-symbol\" aria-roledescription=\"legend\" aria-label=\"Symbol legend titled 'Technology' for fill color with 0 values: \"><g transform=\"translate(48,0)\"><path class=\"background\" aria-hidden=\"true\" d=\"M0,0h65v11h-65Z\" pointer-events=\"none\"></path><g><g class=\"mark-group role-legend-entry\"><g transform=\"translate(0,16)\"><path class=\"background\" aria-hidden=\"true\" d=\"M0,0h0v0h0Z\" pointer-events=\"none\"></path><g><g class=\"mark-group role-scope\" role=\"graphics-object\" aria-roledescription=\"group mark container\"></g></g><path class=\"foreground\" aria-hidden=\"true\" d=\"\" pointer-events=\"none\" display=\"none\"></path></g></g><g class=\"mark-text role-legend-title\" pointer-events=\"none\"><text text-anchor=\"start\" transform=\"translate(0,9)\" font-family=\"sans-serif\" font-size=\"11px\" font-weight=\"bold\" fill=\"#000\" opacity=\"1\">Technology</text></g></g><path class=\"foreground\" aria-hidden=\"true\" d=\"\" pointer-events=\"none\" display=\"none\"></path></g></g></g><path class=\"foreground\" aria-hidden=\"true\" d=\"\" display=\"none\"></path></g></g></g></svg>\n"
      ],
      "text/plain": [
       "@vlplot(\n",
       "    height=300,\n",
       "    width=30,\n",
       "    transform=[\n",
       "        {\n",
       "            calculate=\"datum.Extension == 1 ? 'With Storage' : 'Without'\",\n",
       "            as=\"Extension\"\n",
       "        },\n",
       "        {\n",
       "            filter=\"datum.variable == 'Capacity_GWh'\"\n",
       "        },\n",
       "        {\n",
       "            filter=\"datum.value != 0\"\n",
       "        }\n",
       "    ],\n",
       "    config={\n",
       "        view={\n",
       "            stroke=\"transparent\"\n",
       "        },\n",
       "        axis={\n",
       "            domainWidth=1\n",
       "        }\n",
       "    },\n",
       "    mark=\"bar\",\n",
       "    encoding={\n",
       "        column={\n",
       "            field=\"Share_ren\",\n",
       "            type=\"nominal\"\n",
       "        },\n",
       "        y={\n",
       "            axis={\n",
       "                title=\"Installed capacity GW\",\n",
       "                grid=false\n",
       "            },\n",
       "            field=\"value\"\n",
       "        },\n",
       "        x={\n",
       "            axis={\n",
       "                title=\"\"\n",
       "            },\n",
       "            field=\"Extension\",\n",
       "            type=\"nominal\"\n",
       "        },\n",
       "        color={\n",
       "            scale={\n",
       "                scheme=\"tableau10\"\n",
       "            },\n",
       "            spacing=10,\n",
       "            field=\"Technology\"\n",
       "        }\n",
       "    },\n",
       "    data={\n",
       "        values=...\n",
       "    }\n",
       ")"
      ]
     },
     "execution_count": 12,
     "metadata": {},
     "output_type": "execute_result"
    }
   ],
   "source": [
    "# importing initial analysis\n",
    "\n",
    "Per_tech_ren |>\n",
    "stack |>\n",
    "@vlplot(\n",
    "    height=300,\n",
    "    width =30,\n",
    "    :bar,\n",
    "    transform=[{calculate=\"datum.Extension == 1 ? 'With Storage' : 'Without'\", as=\"Extension\"},\n",
    "                  {filter=\"datum.variable == 'Capacity_GWh'\"},\n",
    "                  #{filter=\"datum.Share_ren != '1'\"},\n",
    "                  #{filter=\"datum.Share_ren != '0'\"},\n",
    "                  {filter=\"datum.value != 0\"}],\n",
    "    column=\"Share_ren:n\",\n",
    "    y={:value, axis={title=\"Installed capacity GW\", grid=false}},\n",
    "    x={\"Extension:n\", axis={title=\"\"}},\n",
    "    color={:Technology,\n",
    "           scale={scheme=\"tableau10\"},\n",
    "           spacing=10},\n",
    "    config={\n",
    "        view={stroke=:transparent},\n",
    "        axis={domainWidth=1}\n",
    "    }\n",
    "\n",
    ")"
   ]
  },
  {
   "cell_type": "code",
   "execution_count": 38,
   "metadata": {},
   "outputs": [
    {
     "name": "stdout",
     "output_type": "stream",
     "text": [
      "\u001b[1m400×5 DataFrame\u001b[0m\n",
      "\u001b[1m Row \u001b[0m│\u001b[1m Technology           \u001b[0m\u001b[1m Share_ren \u001b[0m\u001b[1m Extension \u001b[0m\u001b[1m variable     \u001b[0m\u001b[1m value        \u001b[0m\n",
      "\u001b[1m     \u001b[0m│\u001b[90m String               \u001b[0m\u001b[90m Any       \u001b[0m\u001b[90m Int64     \u001b[0m\u001b[90m String       \u001b[0m\u001b[90m Float64      \u001b[0m\n",
      "─────┼────────────────────────────────────────────────────────────────────────\n",
      "   1 │ Solar PV              0.0                1  Capacity_GWh     0.0\n",
      "   2 │ Wind Onshore          0.0                1  Capacity_GWh     0.0\n",
      "   3 │ Wind Offshore         0.0                1  Capacity_GWh     0.0\n",
      "   4 │ H2 cavern             0.0                1  Capacity_GWh     0.0\n",
      "   5 │ H2 tank               0.0                1  Capacity_GWh     0.0\n",
      "   6 │ Li-ion battery        0.0                1  Capacity_GWh     0.0\n",
      "   7 │ Redox flow batteries  0.0                1  Capacity_GWh     0.0\n",
      "   8 │ Biogas                0.0                1  Capacity_GWh     0.0\n",
      "   9 │ Brown coal            0.0                1  Capacity_GWh     0.0\n",
      "  10 │ Hard coal             0.0                1  Capacity_GWh     0.0\n",
      "  11 │ CCGT                  0.0                1  Capacity_GWh     0.0\n",
      "  12 │ GT                    0.0                1  Capacity_GWh     5.61\n",
      "  13 │ Solar PV              0.6                1  Capacity_GWh     5.08\n",
      "  14 │ Wind Onshore          0.6                1  Capacity_GWh     6.16\n",
      "  15 │ Wind Offshore         0.6                1  Capacity_GWh     0.0\n",
      "  16 │ H2 cavern             0.6                1  Capacity_GWh     0.87\n",
      "  17 │ H2 tank               0.6                1  Capacity_GWh     0.0\n",
      "  18 │ Li-ion battery        0.6                1  Capacity_GWh     0.05\n",
      "  19 │ Redox flow batteries  0.6                1  Capacity_GWh     1.7\n",
      "  20 │ Biogas                0.6                1  Capacity_GWh     0.0\n",
      "  21 │ Brown coal            0.6                1  Capacity_GWh     0.0\n",
      "  22 │ Hard coal             0.6                1  Capacity_GWh     0.0\n",
      "  23 │ CCGT                  0.6                1  Capacity_GWh     0.0\n",
      "  24 │ GT                    0.6                1  Capacity_GWh     2.69\n",
      "  25 │ Solar PV              0.8                1  Capacity_GWh     7.98\n",
      "  26 │ Wind Onshore          0.8                1  Capacity_GWh     7.75\n",
      "  27 │ Wind Offshore         0.8                1  Capacity_GWh     0.0\n",
      "  28 │ H2 cavern             0.8                1  Capacity_GWh     2.28\n",
      "  29 │ H2 tank               0.8                1  Capacity_GWh     0.0\n",
      "  30 │ Li-ion battery        0.8                1  Capacity_GWh     0.02\n",
      "  31 │ Redox flow batteries  0.8                1  Capacity_GWh     3.19\n",
      "  32 │ Biogas                0.8                1  Capacity_GWh     0.0\n",
      "  33 │ Brown coal            0.8                1  Capacity_GWh     0.0\n",
      "  34 │ Hard coal             0.8                1  Capacity_GWh     0.0\n",
      "  35 │ CCGT                  0.8                1  Capacity_GWh     0.0\n",
      "  36 │ GT                    0.8                1  Capacity_GWh     0.84\n",
      "  37 │ Solar PV              0.95               1  Capacity_GWh    10.73\n",
      "  38 │ Wind Onshore          0.95               1  Capacity_GWh     8.72\n",
      "  39 │ Wind Offshore         0.95               1  Capacity_GWh     0.0\n",
      "  40 │ H2 cavern             0.95               1  Capacity_GWh     3.13\n",
      "  41 │ H2 tank               0.95               1  Capacity_GWh     0.0\n",
      "  42 │ Li-ion battery        0.95               1  Capacity_GWh     0.01\n",
      "  43 │ Redox flow batteries  0.95               1  Capacity_GWh     4.63\n",
      "  44 │ Biogas                0.95               1  Capacity_GWh     0.0\n",
      "  45 │ Brown coal            0.95               1  Capacity_GWh     0.0\n",
      "  46 │ Hard coal             0.95               1  Capacity_GWh     0.0\n",
      "  47 │ CCGT                  0.95               1  Capacity_GWh     0.0\n",
      "  48 │ GT                    0.95               1  Capacity_GWh     0.22\n",
      "  49 │ Solar PV              1.0                1  Capacity_GWh    11.4\n",
      "  50 │ Wind Onshore          1.0                1  Capacity_GWh     9.14\n",
      "  51 │ Wind Offshore         1.0                1  Capacity_GWh     0.0\n",
      "  52 │ H2 cavern             1.0                1  Capacity_GWh     3.49\n",
      "  53 │ H2 tank               1.0                1  Capacity_GWh     0.0\n",
      "  54 │ Li-ion battery        1.0                1  Capacity_GWh     0.02\n",
      "  55 │ Redox flow batteries  1.0                1  Capacity_GWh     4.97\n",
      "  56 │ Biogas                1.0                1  Capacity_GWh     0.0\n",
      "  57 │ Brown coal            1.0                1  Capacity_GWh     0.0\n",
      "  58 │ Hard coal             1.0                1  Capacity_GWh     0.0\n",
      "  59 │ CCGT                  1.0                1  Capacity_GWh     0.0\n",
      "  60 │ GT                    1.0                1  Capacity_GWh     0.0\n",
      "  61 │ Solar PV              0.0                0  Capacity_GWh     0.0\n",
      "  62 │ Wind Onshore          0.0                0  Capacity_GWh     0.0\n",
      "  63 │ Wind Offshore         0.0                0  Capacity_GWh     0.0\n",
      "  64 │ Biogas                0.0                0  Capacity_GWh     0.0\n",
      "  65 │ Brown coal            0.0                0  Capacity_GWh     0.0\n",
      "  66 │ Hard coal             0.0                0  Capacity_GWh     0.0\n",
      "  67 │ CCGT                  0.0                0  Capacity_GWh     0.0\n",
      "  68 │ GT                    0.0                0  Capacity_GWh     5.61\n",
      "  69 │ Solar PV              0.6                0  Capacity_GWh     0.0\n",
      "  70 │ Wind Onshore          0.6                0  Capacity_GWh    11.079\n",
      "  71 │ Wind Offshore         0.6                0  Capacity_GWh     0.0\n",
      "  72 │ Biogas                0.6                0  Capacity_GWh     0.0\n",
      "  73 │ Brown coal            0.6                0  Capacity_GWh     0.0\n",
      "  74 │ Hard coal             0.6                0  Capacity_GWh     0.0\n",
      "  75 │ CCGT                  0.6                0  Capacity_GWh     0.0\n",
      "  76 │ GT                    0.6                0  Capacity_GWh     4.8833\n",
      "  77 │ Solar PV              0.8                0  Capacity_GWh     0.0\n",
      "  78 │ Wind Onshore          0.8                0  Capacity_GWh    26.2911\n",
      "  79 │ Wind Offshore         0.8                0  Capacity_GWh     0.0\n",
      "  80 │ Biogas                0.8                0  Capacity_GWh     0.0\n",
      "  81 │ Brown coal            0.8                0  Capacity_GWh     0.0\n",
      "  82 │ Hard coal             0.8                0  Capacity_GWh     0.0\n",
      "  83 │ CCGT                  0.8                0  Capacity_GWh     0.0\n",
      "  84 │ GT                    0.8                0  Capacity_GWh     4.36402\n",
      "  85 │ Solar PV              0.95               0  Capacity_GWh    27.2334\n",
      "  86 │ Wind Onshore          0.95               0  Capacity_GWh    28.5\n",
      "  87 │ Wind Offshore         0.95               0  Capacity_GWh    54.5503\n",
      "  88 │ Biogas                0.95               0  Capacity_GWh     0.0\n",
      "  89 │ Brown coal            0.95               0  Capacity_GWh     0.0\n",
      "  90 │ Hard coal             0.95               0  Capacity_GWh     0.0\n",
      "  91 │ CCGT                  0.95               0  Capacity_GWh     0.0\n",
      "  92 │ GT                    0.95               0  Capacity_GWh     4.04089\n",
      "  93 │ Solar PV              1.0                0  Capacity_GWh   810.765\n",
      "  94 │ Wind Onshore          1.0                0  Capacity_GWh    28.5\n",
      "  95 │ Wind Offshore         1.0                0  Capacity_GWh   954.958\n",
      "  96 │ Biogas                1.0                0  Capacity_GWh     0.0\n",
      "  97 │ Brown coal            1.0                0  Capacity_GWh     0.0\n",
      "  98 │ Hard coal             1.0                0  Capacity_GWh     0.0\n",
      "  99 │ CCGT                  1.0                0  Capacity_GWh     0.0\n",
      " 100 │ GT                    1.0                0  Capacity_GWh     0.0\n",
      " 101 │ Solar PV              0.0                1  Utilization    NaN\n",
      " 102 │ Wind Onshore          0.0                1  Utilization    NaN\n",
      " 103 │ Wind Offshore         0.0                1  Utilization    NaN\n",
      " 104 │ H2 cavern             0.0                1  Utilization    NaN\n",
      " 105 │ H2 tank               0.0                1  Utilization    NaN\n",
      " 106 │ Li-ion battery        0.0                1  Utilization    NaN\n",
      " 107 │ Redox flow batteries  0.0                1  Utilization    NaN\n",
      " 108 │ Biogas                0.0                1  Utilization    NaN\n",
      " 109 │ Brown coal            0.0                1  Utilization    NaN\n",
      " 110 │ Hard coal             0.0                1  Utilization    NaN\n",
      " 111 │ CCGT                  0.0                1  Utilization    NaN\n",
      " 112 │ GT                    0.0                1  Utilization      0.697\n",
      " 113 │ Solar PV              0.6                1  Utilization      0.112\n",
      " 114 │ Wind Onshore          0.6                1  Utilization      0.289\n",
      " 115 │ Wind Offshore         0.6                1  Utilization    NaN\n",
      " 116 │ H2 cavern             0.6                1  Utilization      0.642\n",
      " 117 │ H2 tank               0.6                1  Utilization    NaN\n",
      " 118 │ Li-ion battery        0.6                1  Utilization      0.526\n",
      " 119 │ Redox flow batteries  0.6                1  Utilization      0.356\n",
      " 120 │ Biogas                0.6                1  Utilization    NaN\n",
      " 121 │ Brown coal            0.6                1  Utilization    NaN\n",
      " 122 │ Hard coal             0.6                1  Utilization    NaN\n",
      " 123 │ CCGT                  0.6                1  Utilization    NaN\n",
      " 124 │ GT                    0.6                1  Utilization      0.582\n",
      " 125 │ Solar PV              0.8                1  Utilization      0.112\n",
      " 126 │ Wind Onshore          0.8                1  Utilization      0.289\n",
      " 127 │ Wind Offshore         0.8                1  Utilization    NaN\n",
      " 128 │ H2 cavern             0.8                1  Utilization      0.855\n",
      " 129 │ H2 tank               0.8                1  Utilization    NaN\n",
      " 130 │ Li-ion battery        0.8                1  Utilization      0.519\n",
      " 131 │ Redox flow batteries  0.8                1  Utilization      0.332\n",
      " 132 │ Biogas                0.8                1  Utilization    NaN\n",
      " 133 │ Brown coal            0.8                1  Utilization    NaN\n",
      " 134 │ Hard coal             0.8                1  Utilization    NaN\n",
      " 135 │ CCGT                  0.8                1  Utilization    NaN\n",
      " 136 │ GT                    0.8                1  Utilization      0.933\n",
      " 137 │ Solar PV              0.95               1  Utilization      0.112\n",
      " 138 │ Wind Onshore          0.95               1  Utilization      0.289\n",
      " 139 │ Wind Offshore         0.95               1  Utilization    NaN\n",
      " 140 │ H2 cavern             0.95               1  Utilization      0.815\n",
      " 141 │ H2 tank               0.95               1  Utilization    NaN\n",
      " 142 │ Li-ion battery        0.95               1  Utilization      0.499\n",
      " 143 │ Redox flow batteries  0.95               1  Utilization      0.323\n",
      " 144 │ Biogas                0.95               1  Utilization    NaN\n",
      " 145 │ Brown coal            0.95               1  Utilization    NaN\n",
      " 146 │ Hard coal             0.95               1  Utilization    NaN\n",
      " 147 │ CCGT                  0.95               1  Utilization    NaN\n",
      " 148 │ GT                    0.95               1  Utilization      0.896\n",
      " 149 │ Solar PV              1.0                1  Utilization      0.112\n",
      " 150 │ Wind Onshore          1.0                1  Utilization      0.289\n",
      " 151 │ Wind Offshore         1.0                1  Utilization    NaN\n",
      " 152 │ H2 cavern             1.0                1  Utilization      0.816\n",
      " 153 │ H2 tank               1.0                1  Utilization    NaN\n",
      " 154 │ Li-ion battery        1.0                1  Utilization      0.426\n",
      " 155 │ Redox flow batteries  1.0                1  Utilization      0.335\n",
      " 156 │ Biogas                1.0                1  Utilization    NaN\n",
      " 157 │ Brown coal            1.0                1  Utilization    NaN\n",
      " 158 │ Hard coal             1.0                1  Utilization    NaN\n",
      " 159 │ CCGT                  1.0                1  Utilization    NaN\n",
      " 160 │ GT                    1.0                1  Utilization    NaN\n",
      " 161 │ Solar PV              0.0                0  Utilization    NaN\n",
      " 162 │ Wind Onshore          0.0                0  Utilization    NaN\n",
      " 163 │ Wind Offshore         0.0                0  Utilization    NaN\n",
      " 164 │ Biogas                0.0                0  Utilization    NaN\n",
      " 165 │ Brown coal            0.0                0  Utilization    NaN\n",
      " 166 │ Hard coal             0.0                0  Utilization    NaN\n",
      " 167 │ CCGT                  0.0                0  Utilization    NaN\n",
      " 168 │ GT                    0.0                0  Utilization      0.696741\n",
      " 169 │ Solar PV              0.6                0  Utilization    NaN\n",
      " 170 │ Wind Onshore          0.6                0  Utilization      0.288938\n",
      " 171 │ Wind Offshore         0.6                0  Utilization    NaN\n",
      " 172 │ Biogas                0.6                0  Utilization    NaN\n",
      " 173 │ Brown coal            0.6                0  Utilization    NaN\n",
      " 174 │ Hard coal             0.6                0  Utilization    NaN\n",
      " 175 │ CCGT                  0.6                0  Utilization    NaN\n",
      " 176 │ GT                    0.6                0  Utilization      0.32017\n",
      " 177 │ Solar PV              0.8                0  Utilization    NaN\n",
      " 178 │ Wind Onshore          0.8                0  Utilization      0.288938\n",
      " 179 │ Wind Offshore         0.8                0  Utilization    NaN\n",
      " 180 │ Biogas                0.8                0  Utilization    NaN\n",
      " 181 │ Brown coal            0.8                0  Utilization    NaN\n",
      " 182 │ Hard coal             0.8                0  Utilization    NaN\n",
      " 183 │ CCGT                  0.8                0  Utilization    NaN\n",
      " 184 │ GT                    0.8                0  Utilization      0.179134\n",
      " 185 │ Solar PV              0.95               0  Utilization      0.0300818\n",
      " 186 │ Wind Onshore          0.95               0  Utilization      0.288938\n",
      " 187 │ Wind Offshore         0.95               0  Utilization      0.288938\n",
      " 188 │ Biogas                0.95               0  Utilization    NaN\n",
      " 189 │ Brown coal            0.95               0  Utilization    NaN\n",
      " 190 │ Hard coal             0.95               0  Utilization    NaN\n",
      " 191 │ CCGT                  0.95               0  Utilization    NaN\n",
      " 192 │ GT                    0.95               0  Utilization      0.0483645\n",
      " 193 │ Solar PV              1.0                0  Utilization      0.0300818\n",
      " 194 │ Wind Onshore          1.0                0  Utilization      0.288938\n",
      " 195 │ Wind Offshore         1.0                0  Utilization      0.288938\n",
      " 196 │ Biogas                1.0                0  Utilization    NaN\n",
      " 197 │ Brown coal            1.0                0  Utilization    NaN\n",
      " 198 │ Hard coal             1.0                0  Utilization    NaN\n",
      " 199 │ CCGT                  1.0                0  Utilization    NaN\n",
      " 200 │ GT                    1.0                0  Utilization    NaN\n",
      " 201 │ Solar PV              0.0                1  CAPEX_bilEUR     0.0\n",
      " 202 │ Wind Onshore          0.0                1  CAPEX_bilEUR     0.0\n",
      " 203 │ Wind Offshore         0.0                1  CAPEX_bilEUR     0.0\n",
      " 204 │ H2 cavern             0.0                1  CAPEX_bilEUR     0.0\n",
      " 205 │ H2 tank               0.0                1  CAPEX_bilEUR     0.0\n",
      " 206 │ Li-ion battery        0.0                1  CAPEX_bilEUR     0.0\n",
      " 207 │ Redox flow batteries  0.0                1  CAPEX_bilEUR     0.0\n",
      " 208 │ Biogas                0.0                1  CAPEX_bilEUR     0.0\n",
      " 209 │ Brown coal            0.0                1  CAPEX_bilEUR     0.0\n",
      " 210 │ Hard coal             0.0                1  CAPEX_bilEUR     0.0\n",
      " 211 │ CCGT                  0.0                1  CAPEX_bilEUR     0.0\n",
      " 212 │ GT                    0.0                1  CAPEX_bilEUR     0.1\n",
      " 213 │ Solar PV              0.6                1  CAPEX_bilEUR     0.1\n",
      " 214 │ Wind Onshore          0.6                1  CAPEX_bilEUR     0.4\n",
      " 215 │ Wind Offshore         0.6                1  CAPEX_bilEUR     0.0\n",
      " 216 │ H2 cavern             0.6                1  CAPEX_bilEUR     0.1\n",
      " 217 │ H2 tank               0.6                1  CAPEX_bilEUR     0.0\n",
      " 218 │ Li-ion battery        0.6                1  CAPEX_bilEUR     0.0\n",
      " 219 │ Redox flow batteries  0.6                1  CAPEX_bilEUR     0.1\n",
      " 220 │ Biogas                0.6                1  CAPEX_bilEUR     0.0\n",
      " 221 │ Brown coal            0.6                1  CAPEX_bilEUR     0.0\n",
      " 222 │ Hard coal             0.6                1  CAPEX_bilEUR     0.0\n",
      " 223 │ CCGT                  0.6                1  CAPEX_bilEUR     0.0\n",
      " 224 │ GT                    0.6                1  CAPEX_bilEUR     0.0\n",
      " 225 │ Solar PV              0.8                1  CAPEX_bilEUR     0.2\n",
      " 226 │ Wind Onshore          0.8                1  CAPEX_bilEUR     0.6\n",
      " 227 │ Wind Offshore         0.8                1  CAPEX_bilEUR     0.0\n",
      " 228 │ H2 cavern             0.8                1  CAPEX_bilEUR     0.2\n",
      " 229 │ H2 tank               0.8                1  CAPEX_bilEUR     0.0\n",
      " 230 │ Li-ion battery        0.8                1  CAPEX_bilEUR     0.0\n",
      " 231 │ Redox flow batteries  0.8                1  CAPEX_bilEUR     0.1\n",
      " 232 │ Biogas                0.8                1  CAPEX_bilEUR     0.0\n",
      " 233 │ Brown coal            0.8                1  CAPEX_bilEUR     0.0\n",
      " 234 │ Hard coal             0.8                1  CAPEX_bilEUR     0.0\n",
      " 235 │ CCGT                  0.8                1  CAPEX_bilEUR     0.0\n",
      " 236 │ GT                    0.8                1  CAPEX_bilEUR     0.0\n",
      " 237 │ Solar PV              0.95               1  CAPEX_bilEUR     0.3\n",
      " 238 │ Wind Onshore          0.95               1  CAPEX_bilEUR     0.6\n",
      " 239 │ Wind Offshore         0.95               1  CAPEX_bilEUR     0.0\n",
      " 240 │ H2 cavern             0.95               1  CAPEX_bilEUR     0.2\n",
      " 241 │ H2 tank               0.95               1  CAPEX_bilEUR     0.0\n",
      " 242 │ Li-ion battery        0.95               1  CAPEX_bilEUR     0.0\n",
      " 243 │ Redox flow batteries  0.95               1  CAPEX_bilEUR     0.2\n",
      " 244 │ Biogas                0.95               1  CAPEX_bilEUR     0.0\n",
      " 245 │ Brown coal            0.95               1  CAPEX_bilEUR     0.0\n",
      " 246 │ Hard coal             0.95               1  CAPEX_bilEUR     0.0\n",
      " 247 │ CCGT                  0.95               1  CAPEX_bilEUR     0.0\n",
      " 248 │ GT                    0.95               1  CAPEX_bilEUR     0.0\n",
      " 249 │ Solar PV              1.0                1  CAPEX_bilEUR     0.3\n",
      " 250 │ Wind Onshore          1.0                1  CAPEX_bilEUR     0.7\n",
      " 251 │ Wind Offshore         1.0                1  CAPEX_bilEUR     0.0\n",
      " 252 │ H2 cavern             1.0                1  CAPEX_bilEUR     0.3\n",
      " 253 │ H2 tank               1.0                1  CAPEX_bilEUR     0.0\n",
      " 254 │ Li-ion battery        1.0                1  CAPEX_bilEUR     0.0\n",
      " 255 │ Redox flow batteries  1.0                1  CAPEX_bilEUR     0.2\n",
      " 256 │ Biogas                1.0                1  CAPEX_bilEUR     0.0\n",
      " 257 │ Brown coal            1.0                1  CAPEX_bilEUR     0.0\n",
      " 258 │ Hard coal             1.0                1  CAPEX_bilEUR     0.0\n",
      " 259 │ CCGT                  1.0                1  CAPEX_bilEUR     0.0\n",
      " 260 │ GT                    1.0                1  CAPEX_bilEUR     0.0\n",
      " 261 │ Solar PV              0.0                0  CAPEX_bilEUR     0.0\n",
      " 262 │ Wind Onshore          0.0                0  CAPEX_bilEUR     0.0\n",
      " 263 │ Wind Offshore         0.0                0  CAPEX_bilEUR     0.0\n",
      " 264 │ Biogas                0.0                0  CAPEX_bilEUR     0.0\n",
      " 265 │ Brown coal            0.0                0  CAPEX_bilEUR     0.0\n",
      " 266 │ Hard coal             0.0                0  CAPEX_bilEUR     0.0\n",
      " 267 │ CCGT                  0.0                0  CAPEX_bilEUR     0.0\n",
      " 268 │ GT                    0.0                0  CAPEX_bilEUR     2.805\n",
      " 269 │ Solar PV              0.6                0  CAPEX_bilEUR     0.0\n",
      " 270 │ Wind Onshore          0.6                0  CAPEX_bilEUR    19.3882\n",
      " 271 │ Wind Offshore         0.6                0  CAPEX_bilEUR     0.0\n",
      " 272 │ Biogas                0.6                0  CAPEX_bilEUR     0.0\n",
      " 273 │ Brown coal            0.6                0  CAPEX_bilEUR     0.0\n",
      " 274 │ Hard coal             0.6                0  CAPEX_bilEUR     0.0\n",
      " 275 │ CCGT                  0.6                0  CAPEX_bilEUR     0.0\n",
      " 276 │ GT                    0.6                0  CAPEX_bilEUR     2.44165\n",
      " 277 │ Solar PV              0.8                0  CAPEX_bilEUR     0.0\n",
      " 278 │ Wind Onshore          0.8                0  CAPEX_bilEUR    46.0093\n",
      " 279 │ Wind Offshore         0.8                0  CAPEX_bilEUR     0.0\n",
      " 280 │ Biogas                0.8                0  CAPEX_bilEUR     0.0\n",
      " 281 │ Brown coal            0.8                0  CAPEX_bilEUR     0.0\n",
      " 282 │ Hard coal             0.8                0  CAPEX_bilEUR     0.0\n",
      " 283 │ CCGT                  0.8                0  CAPEX_bilEUR     0.0\n",
      " 284 │ GT                    0.8                0  CAPEX_bilEUR     2.18201\n",
      " 285 │ Solar PV              0.95               0  CAPEX_bilEUR    19.0634\n",
      " 286 │ Wind Onshore          0.95               0  CAPEX_bilEUR    49.875\n",
      " 287 │ Wind Offshore         0.95               0  CAPEX_bilEUR   212.746\n",
      " 288 │ Biogas                0.95               0  CAPEX_bilEUR     0.0\n",
      " 289 │ Brown coal            0.95               0  CAPEX_bilEUR     0.0\n",
      " 290 │ Hard coal             0.95               0  CAPEX_bilEUR     0.0\n",
      " 291 │ CCGT                  0.95               0  CAPEX_bilEUR     0.0\n",
      " 292 │ GT                    0.95               0  CAPEX_bilEUR     2.02045\n",
      " 293 │ Solar PV              1.0                0  CAPEX_bilEUR   567.535\n",
      " 294 │ Wind Onshore          1.0                0  CAPEX_bilEUR    49.875\n",
      " 295 │ Wind Offshore         1.0                0  CAPEX_bilEUR  3724.34\n",
      " 296 │ Biogas                1.0                0  CAPEX_bilEUR     0.0\n",
      " 297 │ Brown coal            1.0                0  CAPEX_bilEUR     0.0\n",
      " 298 │ Hard coal             1.0                0  CAPEX_bilEUR     0.0\n",
      " 299 │ CCGT                  1.0                0  CAPEX_bilEUR     0.0\n",
      " 300 │ GT                    1.0                0  CAPEX_bilEUR     0.0\n",
      " 301 │ Solar PV              0.0                1  OM_bilEUR        0.0\n",
      " 302 │ Wind Onshore          0.0                1  OM_bilEUR        0.0\n",
      " 303 │ Wind Offshore         0.0                1  OM_bilEUR        0.0\n",
      " 304 │ H2 cavern             0.0                1  OM_bilEUR        0.0\n",
      " 305 │ H2 tank               0.0                1  OM_bilEUR        0.0\n",
      " 306 │ Li-ion battery        0.0                1  OM_bilEUR        0.0\n",
      " 307 │ Redox flow batteries  0.0                1  OM_bilEUR        0.0\n",
      " 308 │ Biogas                0.0                1  OM_bilEUR        0.0\n",
      " 309 │ Brown coal            0.0                1  OM_bilEUR        0.0\n",
      " 310 │ Hard coal             0.0                1  OM_bilEUR        0.0\n",
      " 311 │ CCGT                  0.0                1  OM_bilEUR        0.0\n",
      " 312 │ GT                    0.0                1  OM_bilEUR        4.09758e7\n",
      " 313 │ Solar PV              0.6                1  OM_bilEUR        0.0\n",
      " 314 │ Wind Onshore          0.6                1  OM_bilEUR        5.97932e6\n",
      " 315 │ Wind Offshore         0.6                1  OM_bilEUR        0.0\n",
      " 316 │ H2 cavern             0.6                1  OM_bilEUR        0.0\n",
      " 317 │ H2 tank               0.6                1  OM_bilEUR        0.0\n",
      " 318 │ Li-ion battery        0.6                1  OM_bilEUR        0.0\n",
      " 319 │ Redox flow batteries  0.6                1  OM_bilEUR        0.0\n",
      " 320 │ Biogas                0.6                1  OM_bilEUR        0.0\n",
      " 321 │ Brown coal            0.6                1  OM_bilEUR        0.0\n",
      " 322 │ Hard coal             0.6                1  OM_bilEUR        0.0\n",
      " 323 │ CCGT                  0.6                1  OM_bilEUR        0.0\n",
      " 324 │ GT                    0.6                1  OM_bilEUR        1.63903e7\n",
      " 325 │ Solar PV              0.8                1  OM_bilEUR        0.0\n",
      " 326 │ Wind Onshore          0.8                1  OM_bilEUR        7.52365e6\n",
      " 327 │ Wind Offshore         0.8                1  OM_bilEUR        0.0\n",
      " 328 │ H2 cavern             0.8                1  OM_bilEUR        0.0\n",
      " 329 │ H2 tank               0.8                1  OM_bilEUR        0.0\n",
      " 330 │ Li-ion battery        0.8                1  OM_bilEUR        0.0\n",
      " 331 │ Redox flow batteries  0.8                1  OM_bilEUR        0.0\n",
      " 332 │ Biogas                0.8                1  OM_bilEUR        0.0\n",
      " 333 │ Brown coal            0.8                1  OM_bilEUR        0.0\n",
      " 334 │ Hard coal             0.8                1  OM_bilEUR        0.0\n",
      " 335 │ CCGT                  0.8                1  OM_bilEUR        0.0\n",
      " 336 │ GT                    0.8                1  OM_bilEUR        8.19517e6\n",
      " 337 │ Solar PV              0.95               1  OM_bilEUR        0.0\n",
      " 338 │ Wind Onshore          0.95               1  OM_bilEUR        8.46415e6\n",
      " 339 │ Wind Offshore         0.95               1  OM_bilEUR        0.0\n",
      " 340 │ H2 cavern             0.95               1  OM_bilEUR        0.0\n",
      " 341 │ H2 tank               0.95               1  OM_bilEUR        0.0\n",
      " 342 │ Li-ion battery        0.95               1  OM_bilEUR        0.0\n",
      " 343 │ Redox flow batteries  0.95               1  OM_bilEUR        0.0\n",
      " 344 │ Biogas                0.95               1  OM_bilEUR        0.0\n",
      " 345 │ Brown coal            0.95               1  OM_bilEUR        0.0\n",
      " 346 │ Hard coal             0.95               1  OM_bilEUR        0.0\n",
      " 347 │ CCGT                  0.95               1  OM_bilEUR        0.0\n",
      " 348 │ GT                    0.95               1  OM_bilEUR        2.04879e6\n",
      " 349 │ Solar PV              1.0                1  OM_bilEUR        0.0\n",
      " 350 │ Wind Onshore          1.0                1  OM_bilEUR        8.87377e6\n",
      " 351 │ Wind Offshore         1.0                1  OM_bilEUR        0.0\n",
      " 352 │ H2 cavern             1.0                1  OM_bilEUR        0.0\n",
      " 353 │ H2 tank               1.0                1  OM_bilEUR        0.0\n",
      " 354 │ Li-ion battery        1.0                1  OM_bilEUR        0.0\n",
      " 355 │ Redox flow batteries  1.0                1  OM_bilEUR        0.0\n",
      " 356 │ Biogas                1.0                1  OM_bilEUR        0.0\n",
      " 357 │ Brown coal            1.0                1  OM_bilEUR        0.0\n",
      " 358 │ Hard coal             1.0                1  OM_bilEUR        0.0\n",
      " 359 │ CCGT                  1.0                1  OM_bilEUR        0.0\n",
      " 360 │ GT                    1.0                1  OM_bilEUR        0.0\n",
      " 361 │ Solar PV              0.0                0  OM_bilEUR        0.0\n",
      " 362 │ Wind Onshore          0.0                0  OM_bilEUR        0.0\n",
      " 363 │ Wind Offshore         0.0                0  OM_bilEUR        0.0\n",
      " 364 │ Biogas                0.0                0  OM_bilEUR        0.0\n",
      " 365 │ Brown coal            0.0                0  OM_bilEUR        0.0\n",
      " 366 │ Hard coal             0.0                0  OM_bilEUR        0.0\n",
      " 367 │ CCGT                  0.0                0  OM_bilEUR        0.0\n",
      " 368 │ GT                    0.0                0  OM_bilEUR        2.55426\n",
      " 369 │ Solar PV              0.6                0  OM_bilEUR        0.0\n",
      " 370 │ Wind Onshore          0.6                0  OM_bilEUR        8.94483\n",
      " 371 │ Wind Offshore         0.6                0  OM_bilEUR        0.0\n",
      " 372 │ Biogas                0.6                0  OM_bilEUR        0.0\n",
      " 373 │ Brown coal            0.6                0  OM_bilEUR        0.0\n",
      " 374 │ Hard coal             0.6                0  OM_bilEUR        0.0\n",
      " 375 │ CCGT                  0.6                0  OM_bilEUR        0.0\n",
      " 376 │ GT                    0.6                0  OM_bilEUR        2.20411\n",
      " 377 │ Solar PV              0.8                0  OM_bilEUR        0.0\n",
      " 378 │ Wind Onshore          0.8                0  OM_bilEUR       21.2266\n",
      " 379 │ Wind Offshore         0.8                0  OM_bilEUR        0.0\n",
      " 380 │ Biogas                0.8                0  OM_bilEUR        0.0\n",
      " 381 │ Brown coal            0.8                0  OM_bilEUR        0.0\n",
      " 382 │ Hard coal             0.8                0  OM_bilEUR        0.0\n",
      " 383 │ CCGT                  0.8                0  OM_bilEUR        0.0\n",
      " 384 │ GT                    0.8                0  OM_bilEUR        1.96327\n",
      " 385 │ Solar PV              0.95               0  OM_bilEUR       12.8106\n",
      " 386 │ Wind Onshore          0.95               0  OM_bilEUR       23.0101\n",
      " 387 │ Wind Offshore         0.95               0  OM_bilEUR      146.684\n",
      " 388 │ Biogas                0.95               0  OM_bilEUR        0.0\n",
      " 389 │ Brown coal            0.95               0  OM_bilEUR        0.0\n",
      " 390 │ Hard coal             0.95               0  OM_bilEUR        0.0\n",
      " 391 │ CCGT                  0.95               0  OM_bilEUR        0.0\n",
      " 392 │ GT                    0.95               0  OM_bilEUR        1.81237\n",
      " 393 │ Solar PV              1.0                0  OM_bilEUR      381.384\n",
      " 394 │ Wind Onshore          1.0                0  OM_bilEUR       23.0101\n",
      " 395 │ Wind Offshore         1.0                0  OM_bilEUR     2567.86\n",
      " 396 │ Biogas                1.0                0  OM_bilEUR        0.0\n",
      " 397 │ Brown coal            1.0                0  OM_bilEUR        0.0\n",
      " 398 │ Hard coal             1.0                0  OM_bilEUR        0.0\n",
      " 399 │ CCGT                  1.0                0  OM_bilEUR        0.0\n"
     ]
    },
    {
     "name": "stdout",
     "output_type": "stream",
     "text": [
      " 400 │ GT                    1.0                0  OM_bilEUR        0.0\n"
     ]
    }
   ],
   "source": [
    "println(Per_tech_ren |> stack)"
   ]
  },
  {
   "cell_type": "markdown",
   "metadata": {},
   "source": [
    "### Sensitivity analysis"
   ]
  },
  {
   "cell_type": "code",
   "execution_count": 28,
   "metadata": {},
   "outputs": [
    {
     "name": "stdout",
     "output_type": "stream",
     "text": [
      "0.0\n"
     ]
    }
   ],
   "source": [
    "#Get dual value\n",
    "println(getdual(NotIntermittent[4,1000]))\n",
    "\n",
    "#Get shadow prices\n",
    "JuMP. shadow_price.(NotIntermittent[4,1000])"
   ]
  },
  {
   "cell_type": "markdown",
   "metadata": {},
   "source": [
    "Old code"
   ]
  },
  {
   "cell_type": "code",
   "execution_count": null,
   "metadata": {},
   "outputs": [],
   "source": [
    "Totals_ren |>\n",
    "     stack |>         #Stacking data\n",
    "     @vlplot(width=300)+\n",
    "     @vlplot(transform=[{filter=\"datum.variable == 'LCOE'\"}],\n",
    "            mark=:line, \n",
    "            x=:Share_ren, \n",
    "            y=:value,\n",
    "            color=:variable) |> display"
   ]
  },
  {
   "cell_type": "markdown",
   "metadata": {},
   "source": [
    "# Extension 1 (Storage technologies)\n",
    "\n",
    "\n",
    "Storage technologies\n",
    "The extension will include options for investing into strage technologies such as Li-ion batteries or convesion of electical energy into fuels such as H2 or Biomethanol. Furter on fossil fuels will be removed to estimate amount of storage required to achieve fully renewable electricity production by 2050. "
   ]
  },
  {
   "cell_type": "markdown",
   "metadata": {},
   "source": [
    "### Further model improvements"
   ]
  },
  {
   "cell_type": "markdown",
   "metadata": {},
   "source": [
    "Ideas for further model improvements:\n",
    "+ Green transition requirements (100% of electric energy from Renewables)\n",
    "+ Backup generation requirements\n",
    "+ Including price of fuel and CO2 tax\n",
    "+ Energy import and export\n",
    "+ Subsidy for renewables\n",
    "+ Storage \n",
    "+ Sell/buy \n",
    "+ Electric cars\n",
    "+ Heat"
   ]
  },
  {
   "cell_type": "markdown",
   "metadata": {},
   "source": [
    "# Name of extension"
   ]
  },
  {
   "cell_type": "markdown",
   "metadata": {},
   "source": [
    "## Formualtion\n",
    "waht, why we do this\n",
    "what are articles/resources that support the idea"
   ]
  },
  {
   "cell_type": "markdown",
   "metadata": {},
   "source": [
    "## Mathematical model\n",
    "constraint"
   ]
  },
  {
   "cell_type": "markdown",
   "metadata": {},
   "source": [
    "## Implementation\n",
    "coding\n",
    "constraints, varaibles, data (parameters)"
   ]
  },
  {
   "cell_type": "markdown",
   "metadata": {},
   "source": [
    "## Sensitivity analysis"
   ]
  },
  {
   "cell_type": "markdown",
   "metadata": {},
   "source": [
    "###  Sub-conclusion\n"
   ]
  }
 ],
 "metadata": {
  "kernelspec": {
   "display_name": "Julia 1.5.1",
   "language": "julia",
   "name": "julia-1.5"
  },
  "language_info": {
   "file_extension": ".jl",
   "mimetype": "application/julia",
   "name": "julia",
   "version": "1.5.1"
  }
 },
 "nbformat": 4,
 "nbformat_minor": 2
}

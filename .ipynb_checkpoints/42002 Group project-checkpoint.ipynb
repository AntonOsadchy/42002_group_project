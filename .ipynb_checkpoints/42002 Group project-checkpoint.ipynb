{
 "cells": [
  {
   "cell_type": "markdown",
   "metadata": {},
   "source": [
    "# Group project (Master)"
   ]
  },
  {
   "cell_type": "markdown",
   "metadata": {},
   "source": [
    "Analysis of competitiveness of different energy production technologies in Danish Electricity Market"
   ]
  },
  {
   "cell_type": "markdown",
   "metadata": {},
   "source": [
    "## Modeling of current energy system"
   ]
  },
  {
   "cell_type": "markdown",
   "metadata": {},
   "source": [
    "### Data gathering and analysis"
   ]
  },
  {
   "cell_type": "markdown",
   "metadata": {},
   "source": [
    "Latest energy statistics reports available is for 2018. Thereforte, all data used is dated to year 2018."
   ]
  },
  {
   "cell_type": "markdown",
   "metadata": {},
   "source": [
    "Hourly consumption, production, as well as wind energy production data available from https://www.nordpoolgroup.com/historical-market-data/"
   ]
  },
  {
   "cell_type": "code",
   "execution_count": 1,
   "metadata": {},
   "outputs": [
    {
     "data": {
      "application/vnd.vegalite.v4+json": {
       "data": {
        "values": [
         {
          "power_MWh": 3420000,
          "source": 2,
          "time_hr": 1,
          "tp": "Consumption"
         },
         {
          "power_MWh": 3306000,
          "source": 2,
          "time_hr": 2,
          "tp": "Consumption"
         },
         {
          "power_MWh": 3116000,
          "source": 2,
          "time_hr": 3,
          "tp": "Consumption"
         },
         {
          "power_MWh": 3021000,
          "source": 2,
          "time_hr": 4,
          "tp": "Consumption"
         },
         {
          "power_MWh": 2919000,
          "source": 2,
          "time_hr": 5,
          "tp": "Consumption"
         },
         {
          "power_MWh": 2804000,
          "source": 2,
          "time_hr": 6,
          "tp": "Consumption"
         },
         {
          "power_MWh": 2846000,
          "source": 2,
          "time_hr": 7,
          "tp": "Consumption"
         },
         {
          "power_MWh": 2945000,
          "source": 2,
          "time_hr": 8,
          "tp": "Consumption"
         },
         {
          "power_MWh": 3013000,
          "source": 2,
          "time_hr": 9,
          "tp": "Consumption"
         },
         {
          "power_MWh": 3232000,
          "source": 2,
          "time_hr": 10,
          "tp": "Consumption"
         },
         {
          "power_MWh": 3435000,
          "source": 2,
          "time_hr": 11,
          "tp": "Consumption"
         },
         {
          "power_MWh": 3572000,
          "source": 2,
          "time_hr": 12,
          "tp": "Consumption"
         },
         {
          "power_MWh": 3649000,
          "source": 2,
          "time_hr": 13,
          "tp": "Consumption"
         },
         {
          "power_MWh": 3607000,
          "source": 2,
          "time_hr": 14,
          "tp": "Consumption"
         },
         {
          "power_MWh": 3742000,
          "source": 2,
          "time_hr": 15,
          "tp": "Consumption"
         },
         {
          "power_MWh": 3733000,
          "source": 2,
          "time_hr": 16,
          "tp": "Consumption"
         },
         {
          "power_MWh": 3985000,
          "source": 2,
          "time_hr": 17,
          "tp": "Consumption"
         },
         {
          "power_MWh": 4271000,
          "source": 2,
          "time_hr": 18,
          "tp": "Consumption"
         },
         {
          "power_MWh": 4184000,
          "source": 2,
          "time_hr": 19,
          "tp": "Consumption"
         },
         {
          "power_MWh": 3948000,
          "source": 2,
          "time_hr": 20,
          "tp": "Consumption"
         },
         {
          "power_MWh": 3727000,
          "source": 2,
          "time_hr": 21,
          "tp": "Consumption"
         },
         {
          "power_MWh": 3476000,
          "source": 2,
          "time_hr": 22,
          "tp": "Consumption"
         },
         {
          "power_MWh": 3264000,
          "source": 2,
          "time_hr": 23,
          "tp": "Consumption"
         },
         {
          "power_MWh": 3068000,
          "source": 2,
          "time_hr": 24,
          "tp": "Consumption"
         },
         {
          "power_MWh": 2889000,
          "source": 2,
          "time_hr": 25,
          "tp": "Consumption"
         },
         {
          "power_MWh": 2825000,
          "source": 2,
          "time_hr": 26,
          "tp": "Consumption"
         },
         {
          "power_MWh": 2782000,
          "source": 2,
          "time_hr": 27,
          "tp": "Consumption"
         },
         {
          "power_MWh": 2795000,
          "source": 2,
          "time_hr": 28,
          "tp": "Consumption"
         },
         {
          "power_MWh": 2911000,
          "source": 2,
          "time_hr": 29,
          "tp": "Consumption"
         },
         {
          "power_MWh": 3099000,
          "source": 2,
          "time_hr": 30,
          "tp": "Consumption"
         },
         {
          "power_MWh": 3642000,
          "source": 2,
          "time_hr": 31,
          "tp": "Consumption"
         },
         {
          "power_MWh": 4225000,
          "source": 2,
          "time_hr": 32,
          "tp": "Consumption"
         },
         {
          "power_MWh": 4596000,
          "source": 2,
          "time_hr": 33,
          "tp": "Consumption"
         },
         {
          "power_MWh": 4692000,
          "source": 2,
          "time_hr": 34,
          "tp": "Consumption"
         },
         {
          "power_MWh": 4768000,
          "source": 2,
          "time_hr": 35,
          "tp": "Consumption"
         },
         {
          "power_MWh": 4730000,
          "source": 2,
          "time_hr": 36,
          "tp": "Consumption"
         },
         {
          "power_MWh": 4639000,
          "source": 2,
          "time_hr": 37,
          "tp": "Consumption"
         },
         {
          "power_MWh": 4628000,
          "source": 2,
          "time_hr": 38,
          "tp": "Consumption"
         },
         {
          "power_MWh": 4613000,
          "source": 2,
          "time_hr": 39,
          "tp": "Consumption"
         },
         {
          "power_MWh": 4593000,
          "source": 2,
          "time_hr": 40,
          "tp": "Consumption"
         },
         {
          "power_MWh": 4913000,
          "source": 2,
          "time_hr": 41,
          "tp": "Consumption"
         },
         {
          "power_MWh": 5273000,
          "source": 2,
          "time_hr": 42,
          "tp": "Consumption"
         },
         {
          "power_MWh": 5018000,
          "source": 2,
          "time_hr": 43,
          "tp": "Consumption"
         },
         {
          "power_MWh": 4638000,
          "source": 2,
          "time_hr": 44,
          "tp": "Consumption"
         },
         {
          "power_MWh": 4300000,
          "source": 2,
          "time_hr": 45,
          "tp": "Consumption"
         },
         {
          "power_MWh": 4045000,
          "source": 2,
          "time_hr": 46,
          "tp": "Consumption"
         },
         {
          "power_MWh": 3732000,
          "source": 2,
          "time_hr": 47,
          "tp": "Consumption"
         },
         {
          "power_MWh": 3446000,
          "source": 2,
          "time_hr": 48,
          "tp": "Consumption"
         },
         {
          "power_MWh": 3268000,
          "source": 2,
          "time_hr": 49,
          "tp": "Consumption"
         },
         {
          "power_MWh": 3148000,
          "source": 2,
          "time_hr": 50,
          "tp": "Consumption"
         },
         {
          "power_MWh": 3002000,
          "source": 2,
          "time_hr": 51,
          "tp": "Consumption"
         },
         {
          "power_MWh": 2962000,
          "source": 2,
          "time_hr": 52,
          "tp": "Consumption"
         },
         {
          "power_MWh": 3067000,
          "source": 2,
          "time_hr": 53,
          "tp": "Consumption"
         },
         {
          "power_MWh": 3454000,
          "source": 2,
          "time_hr": 54,
          "tp": "Consumption"
         },
         {
          "power_MWh": 3970000,
          "source": 2,
          "time_hr": 55,
          "tp": "Consumption"
         },
         {
          "power_MWh": 4636000,
          "source": 2,
          "time_hr": 56,
          "tp": "Consumption"
         },
         {
          "power_MWh": 5024000,
          "source": 2,
          "time_hr": 57,
          "tp": "Consumption"
         },
         {
          "power_MWh": 5071000,
          "source": 2,
          "time_hr": 58,
          "tp": "Consumption"
         },
         {
          "power_MWh": 5167000,
          "source": 2,
          "time_hr": 59,
          "tp": "Consumption"
         },
         {
          "power_MWh": 5119000,
          "source": 2,
          "time_hr": 60,
          "tp": "Consumption"
         },
         {
          "power_MWh": 5057000,
          "source": 2,
          "time_hr": 61,
          "tp": "Consumption"
         },
         {
          "power_MWh": 4982000,
          "source": 2,
          "time_hr": 62,
          "tp": "Consumption"
         },
         {
          "power_MWh": 4985000,
          "source": 2,
          "time_hr": 63,
          "tp": "Consumption"
         },
         {
          "power_MWh": 4911000,
          "source": 2,
          "time_hr": 64,
          "tp": "Consumption"
         },
         {
          "power_MWh": 5113000,
          "source": 2,
          "time_hr": 65,
          "tp": "Consumption"
         },
         {
          "power_MWh": 5445000,
          "source": 2,
          "time_hr": 66,
          "tp": "Consumption"
         },
         {
          "power_MWh": 5260000,
          "source": 2,
          "time_hr": 67,
          "tp": "Consumption"
         },
         {
          "power_MWh": 4915000,
          "source": 2,
          "time_hr": 68,
          "tp": "Consumption"
         },
         {
          "power_MWh": 4571000,
          "source": 2,
          "time_hr": 69,
          "tp": "Consumption"
         },
         {
          "power_MWh": 4279000,
          "source": 2,
          "time_hr": 70,
          "tp": "Consumption"
         },
         {
          "power_MWh": 3968000,
          "source": 2,
          "time_hr": 71,
          "tp": "Consumption"
         },
         {
          "power_MWh": 3623000,
          "source": 2,
          "time_hr": 72,
          "tp": "Consumption"
         },
         {
          "power_MWh": 3400000,
          "source": 2,
          "time_hr": 73,
          "tp": "Consumption"
         },
         {
          "power_MWh": 3248000,
          "source": 2,
          "time_hr": 74,
          "tp": "Consumption"
         },
         {
          "power_MWh": 3181000,
          "source": 2,
          "time_hr": 75,
          "tp": "Consumption"
         },
         {
          "power_MWh": 3193000,
          "source": 2,
          "time_hr": 76,
          "tp": "Consumption"
         },
         {
          "power_MWh": 3243000,
          "source": 2,
          "time_hr": 77,
          "tp": "Consumption"
         },
         {
          "power_MWh": 3507000,
          "source": 2,
          "time_hr": 78,
          "tp": "Consumption"
         },
         {
          "power_MWh": 4138000,
          "source": 2,
          "time_hr": 79,
          "tp": "Consumption"
         },
         {
          "power_MWh": 4805000,
          "source": 2,
          "time_hr": 80,
          "tp": "Consumption"
         },
         {
          "power_MWh": 5067000,
          "source": 2,
          "time_hr": 81,
          "tp": "Consumption"
         },
         {
          "power_MWh": 5011000,
          "source": 2,
          "time_hr": 82,
          "tp": "Consumption"
         },
         {
          "power_MWh": 5041000,
          "source": 2,
          "time_hr": 83,
          "tp": "Consumption"
         },
         {
          "power_MWh": 4998000,
          "source": 2,
          "time_hr": 84,
          "tp": "Consumption"
         },
         {
          "power_MWh": 4918000,
          "source": 2,
          "time_hr": 85,
          "tp": "Consumption"
         },
         {
          "power_MWh": 4972000,
          "source": 2,
          "time_hr": 86,
          "tp": "Consumption"
         },
         {
          "power_MWh": 4937000,
          "source": 2,
          "time_hr": 87,
          "tp": "Consumption"
         },
         {
          "power_MWh": 4899000,
          "source": 2,
          "time_hr": 88,
          "tp": "Consumption"
         },
         {
          "power_MWh": 5150000,
          "source": 2,
          "time_hr": 89,
          "tp": "Consumption"
         },
         {
          "power_MWh": 5538000,
          "source": 2,
          "time_hr": 90,
          "tp": "Consumption"
         },
         {
          "power_MWh": 5317000,
          "source": 2,
          "time_hr": 91,
          "tp": "Consumption"
         },
         {
          "power_MWh": 4945000,
          "source": 2,
          "time_hr": 92,
          "tp": "Consumption"
         },
         {
          "power_MWh": 4599000,
          "source": 2,
          "time_hr": 93,
          "tp": "Consumption"
         },
         {
          "power_MWh": 4305000,
          "source": 2,
          "time_hr": 94,
          "tp": "Consumption"
         },
         {
          "power_MWh": 3953000,
          "source": 2,
          "time_hr": 95,
          "tp": "Consumption"
         },
         {
          "power_MWh": 3625000,
          "source": 2,
          "time_hr": 96,
          "tp": "Consumption"
         },
         {
          "power_MWh": 3418000,
          "source": 2,
          "time_hr": 97,
          "tp": "Consumption"
         },
         {
          "power_MWh": 3301000,
          "source": 2,
          "time_hr": 98,
          "tp": "Consumption"
         },
         {
          "power_MWh": 3249000,
          "source": 2,
          "time_hr": 99,
          "tp": "Consumption"
         },
         {
          "power_MWh": 3226000,
          "source": 2,
          "time_hr": 100,
          "tp": "Consumption"
         },
         {
          "power_MWh": 3307000,
          "source": 2,
          "time_hr": 101,
          "tp": "Consumption"
         },
         {
          "power_MWh": 3544000,
          "source": 2,
          "time_hr": 102,
          "tp": "Consumption"
         },
         {
          "power_MWh": 4197000,
          "source": 2,
          "time_hr": 103,
          "tp": "Consumption"
         },
         {
          "power_MWh": 4830000,
          "source": 2,
          "time_hr": 104,
          "tp": "Consumption"
         },
         {
          "power_MWh": 5109000,
          "source": 2,
          "time_hr": 105,
          "tp": "Consumption"
         },
         {
          "power_MWh": 5112000,
          "source": 2,
          "time_hr": 106,
          "tp": "Consumption"
         },
         {
          "power_MWh": 5174000,
          "source": 2,
          "time_hr": 107,
          "tp": "Consumption"
         },
         {
          "power_MWh": 5125000,
          "source": 2,
          "time_hr": 108,
          "tp": "Consumption"
         },
         {
          "power_MWh": 4978000,
          "source": 2,
          "time_hr": 109,
          "tp": "Consumption"
         },
         {
          "power_MWh": 4871000,
          "source": 2,
          "time_hr": 110,
          "tp": "Consumption"
         },
         {
          "power_MWh": 4721000,
          "source": 2,
          "time_hr": 111,
          "tp": "Consumption"
         },
         {
          "power_MWh": 4625000,
          "source": 2,
          "time_hr": 112,
          "tp": "Consumption"
         },
         {
          "power_MWh": 4881000,
          "source": 2,
          "time_hr": 113,
          "tp": "Consumption"
         },
         {
          "power_MWh": 5228000,
          "source": 2,
          "time_hr": 114,
          "tp": "Consumption"
         },
         {
          "power_MWh": 5035000,
          "source": 2,
          "time_hr": 115,
          "tp": "Consumption"
         },
         {
          "power_MWh": 4668000,
          "source": 2,
          "time_hr": 116,
          "tp": "Consumption"
         },
         {
          "power_MWh": 4354000,
          "source": 2,
          "time_hr": 117,
          "tp": "Consumption"
         },
         {
          "power_MWh": 4078000,
          "source": 2,
          "time_hr": 118,
          "tp": "Consumption"
         },
         {
          "power_MWh": 3818000,
          "source": 2,
          "time_hr": 119,
          "tp": "Consumption"
         },
         {
          "power_MWh": 3579000,
          "source": 2,
          "time_hr": 120,
          "tp": "Consumption"
         },
         {
          "power_MWh": 3358000,
          "source": 2,
          "time_hr": 121,
          "tp": "Consumption"
         },
         {
          "power_MWh": 3198000,
          "source": 2,
          "time_hr": 122,
          "tp": "Consumption"
         },
         {
          "power_MWh": 3131000,
          "source": 2,
          "time_hr": 123,
          "tp": "Consumption"
         },
         {
          "power_MWh": 3140000,
          "source": 2,
          "time_hr": 124,
          "tp": "Consumption"
         },
         {
          "power_MWh": 3168000,
          "source": 2,
          "time_hr": 125,
          "tp": "Consumption"
         },
         {
          "power_MWh": 3229000,
          "source": 2,
          "time_hr": 126,
          "tp": "Consumption"
         },
         {
          "power_MWh": 3410000,
          "source": 2,
          "time_hr": 127,
          "tp": "Consumption"
         },
         {
          "power_MWh": 3674000,
          "source": 2,
          "time_hr": 128,
          "tp": "Consumption"
         },
         {
          "power_MWh": 3995000,
          "source": 2,
          "time_hr": 129,
          "tp": "Consumption"
         },
         {
          "power_MWh": 4231000,
          "source": 2,
          "time_hr": 130,
          "tp": "Consumption"
         },
         {
          "power_MWh": 4368000,
          "source": 2,
          "time_hr": 131,
          "tp": "Consumption"
         },
         {
          "power_MWh": 4350000,
          "source": 2,
          "time_hr": 132,
          "tp": "Consumption"
         },
         {
          "power_MWh": 4275000,
          "source": 2,
          "time_hr": 133,
          "tp": "Consumption"
         },
         {
          "power_MWh": 4231000,
          "source": 2,
          "time_hr": 134,
          "tp": "Consumption"
         },
         {
          "power_MWh": 4202000,
          "source": 2,
          "time_hr": 135,
          "tp": "Consumption"
         },
         {
          "power_MWh": 4202000,
          "source": 2,
          "time_hr": 136,
          "tp": "Consumption"
         },
         {
          "power_MWh": 4476000,
          "source": 2,
          "time_hr": 137,
          "tp": "Consumption"
         },
         {
          "power_MWh": 4881000,
          "source": 2,
          "time_hr": 138,
          "tp": "Consumption"
         },
         {
          "power_MWh": 4814000,
          "source": 2,
          "time_hr": 139,
          "tp": "Consumption"
         },
         {
          "power_MWh": 4484000,
          "source": 2,
          "time_hr": 140,
          "tp": "Consumption"
         },
         {
          "power_MWh": 4204000,
          "source": 2,
          "time_hr": 141,
          "tp": "Consumption"
         },
         {
          "power_MWh": 3960000,
          "source": 2,
          "time_hr": 142,
          "tp": "Consumption"
         },
         {
          "power_MWh": 3761000,
          "source": 2,
          "time_hr": 143,
          "tp": "Consumption"
         },
         {
          "power_MWh": 3557000,
          "source": 2,
          "time_hr": 144,
          "tp": "Consumption"
         },
         {
          "power_MWh": 3354000,
          "source": 2,
          "time_hr": 145,
          "tp": "Consumption"
         },
         {
          "power_MWh": 3237000,
          "source": 2,
          "time_hr": 146,
          "tp": "Consumption"
         },
         {
          "power_MWh": 3182000,
          "source": 2,
          "time_hr": 147,
          "tp": "Consumption"
         },
         {
          "power_MWh": 3202000,
          "source": 2,
          "time_hr": 148,
          "tp": "Consumption"
         },
         {
          "power_MWh": 3246000,
          "source": 2,
          "time_hr": 149,
          "tp": "Consumption"
         },
         {
          "power_MWh": 3306000,
          "source": 2,
          "time_hr": 150,
          "tp": "Consumption"
         },
         {
          "power_MWh": 3466000,
          "source": 2,
          "time_hr": 151,
          "tp": "Consumption"
         },
         {
          "power_MWh": 3730000,
          "source": 2,
          "time_hr": 152,
          "tp": "Consumption"
         },
         {
          "power_MWh": 4035000,
          "source": 2,
          "time_hr": 153,
          "tp": "Consumption"
         },
         {
          "power_MWh": 4234000,
          "source": 2,
          "time_hr": 154,
          "tp": "Consumption"
         },
         {
          "power_MWh": 4305000,
          "source": 2,
          "time_hr": 155,
          "tp": "Consumption"
         },
         {
          "power_MWh": 4277000,
          "source": 2,
          "time_hr": 156,
          "tp": "Consumption"
         },
         {
          "power_MWh": 4190000,
          "source": 2,
          "time_hr": 157,
          "tp": "Consumption"
         },
         {
          "power_MWh": 4117000,
          "source": 2,
          "time_hr": 158,
          "tp": "Consumption"
         },
         {
          "power_MWh": 4116000,
          "source": 2,
          "time_hr": 159,
          "tp": "Consumption"
         },
         {
          "power_MWh": 4194000,
          "source": 2,
          "time_hr": 160,
          "tp": "Consumption"
         },
         {
          "power_MWh": 4576000,
          "source": 2,
          "time_hr": 161,
          "tp": "Consumption"
         },
         {
          "power_MWh": 5076000,
          "source": 2,
          "time_hr": 162,
          "tp": "Consumption"
         },
         {
          "power_MWh": 4978000,
          "source": 2,
          "time_hr": 163,
          "tp": "Consumption"
         },
         {
          "power_MWh": 4697000,
          "source": 2,
          "time_hr": 164,
          "tp": "Consumption"
         },
         {
          "power_MWh": 4390000,
          "source": 2,
          "time_hr": 165,
          "tp": "Consumption"
         },
         {
          "power_MWh": 4108000,
          "source": 2,
          "time_hr": 166,
          "tp": "Consumption"
         },
         {
          "power_MWh": 3815000,
          "source": 2,
          "time_hr": 167,
          "tp": "Consumption"
         },
         {
          "power_MWh": 3566000,
          "source": 2,
          "time_hr": 168,
          "tp": "Consumption"
         },
         {
          "power_MWh": 3429000,
          "source": 2,
          "time_hr": 169,
          "tp": "Consumption"
         },
         {
          "power_MWh": 3353000,
          "source": 2,
          "time_hr": 170,
          "tp": "Consumption"
         },
         {
          "power_MWh": 3352000,
          "source": 2,
          "time_hr": 171,
          "tp": "Consumption"
         },
         {
          "power_MWh": 3364000,
          "source": 2,
          "time_hr": 172,
          "tp": "Consumption"
         },
         {
          "power_MWh": 3440000,
          "source": 2,
          "time_hr": 173,
          "tp": "Consumption"
         },
         {
          "power_MWh": 3708000,
          "source": 2,
          "time_hr": 174,
          "tp": "Consumption"
         },
         {
          "power_MWh": 4369000,
          "source": 2,
          "time_hr": 175,
          "tp": "Consumption"
         },
         {
          "power_MWh": 5100000,
          "source": 2,
          "time_hr": 176,
          "tp": "Consumption"
         },
         {
          "power_MWh": 5364000,
          "source": 2,
          "time_hr": 177,
          "tp": "Consumption"
         },
         {
          "power_MWh": 5338000,
          "source": 2,
          "time_hr": 178,
          "tp": "Consumption"
         },
         {
          "power_MWh": 5308000,
          "source": 2,
          "time_hr": 179,
          "tp": "Consumption"
         },
         {
          "power_MWh": 5205000,
          "source": 2,
          "time_hr": 180,
          "tp": "Consumption"
         },
         {
          "power_MWh": 5088000,
          "source": 2,
          "time_hr": 181,
          "tp": "Consumption"
         },
         {
          "power_MWh": 5080000,
          "source": 2,
          "time_hr": 182,
          "tp": "Consumption"
         },
         {
          "power_MWh": 5060000,
          "source": 2,
          "time_hr": 183,
          "tp": "Consumption"
         },
         {
          "power_MWh": 5004000,
          "source": 2,
          "time_hr": 184,
          "tp": "Consumption"
         },
         {
          "power_MWh": 5242000,
          "source": 2,
          "time_hr": 185,
          "tp": "Consumption"
         },
         {
          "power_MWh": 5675000,
          "source": 2,
          "time_hr": 186,
          "tp": "Consumption"
         },
         {
          "power_MWh": 5421000,
          "source": 2,
          "time_hr": 187,
          "tp": "Consumption"
         },
         {
          "power_MWh": 5029000,
          "source": 2,
          "time_hr": 188,
          "tp": "Consumption"
         },
         {
          "power_MWh": 4689000,
          "source": 2,
          "time_hr": 189,
          "tp": "Consumption"
         },
         {
          "power_MWh": 4338000,
          "source": 2,
          "time_hr": 190,
          "tp": "Consumption"
         },
         {
          "power_MWh": 3966000,
          "source": 2,
          "time_hr": 191,
          "tp": "Consumption"
         },
         {
          "power_MWh": 3621000,
          "source": 2,
          "time_hr": 192,
          "tp": "Consumption"
         },
         {
          "power_MWh": 3407000,
          "source": 2,
          "time_hr": 193,
          "tp": "Consumption"
         },
         {
          "power_MWh": 3275000,
          "source": 2,
          "time_hr": 194,
          "tp": "Consumption"
         },
         {
          "power_MWh": 3201000,
          "source": 2,
          "time_hr": 195,
          "tp": "Consumption"
         },
         {
          "power_MWh": 3190000,
          "source": 2,
          "time_hr": 196,
          "tp": "Consumption"
         },
         {
          "power_MWh": 3195000,
          "source": 2,
          "time_hr": 197,
          "tp": "Consumption"
         },
         {
          "power_MWh": 3406000,
          "source": 2,
          "time_hr": 198,
          "tp": "Consumption"
         },
         {
          "power_MWh": 4002000,
          "source": 2,
          "time_hr": 199,
          "tp": "Consumption"
         },
         {
          "power_MWh": 4696000,
          "source": 2,
          "time_hr": 200,
          "tp": "Consumption"
         },
         {
          "power_MWh": 4899000,
          "source": 2,
          "time_hr": 201,
          "tp": "Consumption"
         },
         {
          "power_MWh": 4865000,
          "source": 2,
          "time_hr": 202,
          "tp": "Consumption"
         },
         {
          "power_MWh": 5029000,
          "source": 2,
          "time_hr": 203,
          "tp": "Consumption"
         },
         {
          "power_MWh": 4918000,
          "source": 2,
          "time_hr": 204,
          "tp": "Consumption"
         },
         {
          "power_MWh": 4804000,
          "source": 2,
          "time_hr": 205,
          "tp": "Consumption"
         },
         {
          "power_MWh": 4822000,
          "source": 2,
          "time_hr": 206,
          "tp": "Consumption"
         },
         {
          "power_MWh": 4738000,
          "source": 2,
          "time_hr": 207,
          "tp": "Consumption"
         },
         {
          "power_MWh": 4669000,
          "source": 2,
          "time_hr": 208,
          "tp": "Consumption"
         },
         {
          "power_MWh": 4883000,
          "source": 2,
          "time_hr": 209,
          "tp": "Consumption"
         },
         {
          "power_MWh": 5265000,
          "source": 2,
          "time_hr": 210,
          "tp": "Consumption"
         },
         {
          "power_MWh": 5058000,
          "source": 2,
          "time_hr": 211,
          "tp": "Consumption"
         },
         {
          "power_MWh": 4724000,
          "source": 2,
          "time_hr": 212,
          "tp": "Consumption"
         },
         {
          "power_MWh": 4380000,
          "source": 2,
          "time_hr": 213,
          "tp": "Consumption"
         },
         {
          "power_MWh": 4073000,
          "source": 2,
          "time_hr": 214,
          "tp": "Consumption"
         },
         {
          "power_MWh": 3736000,
          "source": 2,
          "time_hr": 215,
          "tp": "Consumption"
         },
         {
          "power_MWh": 3420000,
          "source": 2,
          "time_hr": 216,
          "tp": "Consumption"
         },
         {
          "power_MWh": 3207000,
          "source": 2,
          "time_hr": 217,
          "tp": "Consumption"
         },
         {
          "power_MWh": 3093000,
          "source": 2,
          "time_hr": 218,
          "tp": "Consumption"
         },
         {
          "power_MWh": 3065000,
          "source": 2,
          "time_hr": 219,
          "tp": "Consumption"
         },
         {
          "power_MWh": 3103000,
          "source": 2,
          "time_hr": 220,
          "tp": "Consumption"
         },
         {
          "power_MWh": 3204000,
          "source": 2,
          "time_hr": 221,
          "tp": "Consumption"
         },
         {
          "power_MWh": 3491000,
          "source": 2,
          "time_hr": 222,
          "tp": "Consumption"
         },
         {
          "power_MWh": 4169000,
          "source": 2,
          "time_hr": 223,
          "tp": "Consumption"
         },
         {
          "power_MWh": 4872000,
          "source": 2,
          "time_hr": 224,
          "tp": "Consumption"
         },
         {
          "power_MWh": 5095000,
          "source": 2,
          "time_hr": 225,
          "tp": "Consumption"
         },
         {
          "power_MWh": 5107000,
          "source": 2,
          "time_hr": 226,
          "tp": "Consumption"
         },
         {
          "power_MWh": 5203000,
          "source": 2,
          "time_hr": 227,
          "tp": "Consumption"
         },
         {
          "power_MWh": 5232000,
          "source": 2,
          "time_hr": 228,
          "tp": "Consumption"
         },
         {
          "power_MWh": 5161000,
          "source": 2,
          "time_hr": 229,
          "tp": "Consumption"
         },
         {
          "power_MWh": 5161000,
          "source": 2,
          "time_hr": 230,
          "tp": "Consumption"
         },
         {
          "power_MWh": 5038000,
          "source": 2,
          "time_hr": 231,
          "tp": "Consumption"
         },
         {
          "power_MWh": 4958000,
          "source": 2,
          "time_hr": 232,
          "tp": "Consumption"
         },
         {
          "power_MWh": 5123000,
          "source": 2,
          "time_hr": 233,
          "tp": "Consumption"
         },
         {
          "power_MWh": 5470000,
          "source": 2,
          "time_hr": 234,
          "tp": "Consumption"
         },
         {
          "power_MWh": 5212000,
          "source": 2,
          "time_hr": 235,
          "tp": "Consumption"
         },
         {
          "power_MWh": 4886000,
          "source": 2,
          "time_hr": 236,
          "tp": "Consumption"
         },
         {
          "power_MWh": 4601000,
          "source": 2,
          "time_hr": 237,
          "tp": "Consumption"
         },
         {
          "power_MWh": 4289000,
          "source": 2,
          "time_hr": 238,
          "tp": "Consumption"
         },
         {
          "power_MWh": 3937000,
          "source": 2,
          "time_hr": 239,
          "tp": "Consumption"
         },
         {
          "power_MWh": 3618000,
          "source": 2,
          "time_hr": 240,
          "tp": "Consumption"
         },
         {
          "power_MWh": 3407000,
          "source": 2,
          "time_hr": 241,
          "tp": "Consumption"
         },
         {
          "power_MWh": 3291000,
          "source": 2,
          "time_hr": 242,
          "tp": "Consumption"
         },
         {
          "power_MWh": 3240000,
          "source": 2,
          "time_hr": 243,
          "tp": "Consumption"
         },
         {
          "power_MWh": 3241000,
          "source": 2,
          "time_hr": 244,
          "tp": "Consumption"
         },
         {
          "power_MWh": 3302000,
          "source": 2,
          "time_hr": 245,
          "tp": "Consumption"
         },
         {
          "power_MWh": 3541000,
          "source": 2,
          "time_hr": 246,
          "tp": "Consumption"
         },
         {
          "power_MWh": 4221000,
          "source": 2,
          "time_hr": 247,
          "tp": "Consumption"
         },
         {
          "power_MWh": 4921000,
          "source": 2,
          "time_hr": 248,
          "tp": "Consumption"
         },
         {
          "power_MWh": 5152000,
          "source": 2,
          "time_hr": 249,
          "tp": "Consumption"
         },
         {
          "power_MWh": 5155000,
          "source": 2,
          "time_hr": 250,
          "tp": "Consumption"
         },
         {
          "power_MWh": 5222000,
          "source": 2,
          "time_hr": 251,
          "tp": "Consumption"
         },
         {
          "power_MWh": 5189000,
          "source": 2,
          "time_hr": 252,
          "tp": "Consumption"
         },
         {
          "power_MWh": 5096000,
          "source": 2,
          "time_hr": 253,
          "tp": "Consumption"
         },
         {
          "power_MWh": 5096000,
          "source": 2,
          "time_hr": 254,
          "tp": "Consumption"
         },
         {
          "power_MWh": 5040000,
          "source": 2,
          "time_hr": 255,
          "tp": "Consumption"
         },
         {
          "power_MWh": 4967000,
          "source": 2,
          "time_hr": 256,
          "tp": "Consumption"
         },
         {
          "power_MWh": 5146000,
          "source": 2,
          "time_hr": 257,
          "tp": "Consumption"
         },
         {
          "power_MWh": 5450000,
          "source": 2,
          "time_hr": 258,
          "tp": "Consumption"
         },
         {
          "power_MWh": 5176000,
          "source": 2,
          "time_hr": 259,
          "tp": "Consumption"
         },
         {
          "power_MWh": 4878000,
          "source": 2,
          "time_hr": 260,
          "tp": "Consumption"
         },
         {
          "power_MWh": 4541000,
          "source": 2,
          "time_hr": 261,
          "tp": "Consumption"
         },
         {
          "power_MWh": 4187000,
          "source": 2,
          "time_hr": 262,
          "tp": "Consumption"
         },
         {
          "power_MWh": 3847000,
          "source": 2,
          "time_hr": 263,
          "tp": "Consumption"
         },
         {
          "power_MWh": 3531000,
          "source": 2,
          "time_hr": 264,
          "tp": "Consumption"
         },
         {
          "power_MWh": 3309000,
          "source": 2,
          "time_hr": 265,
          "tp": "Consumption"
         },
         {
          "power_MWh": 3207000,
          "source": 2,
          "time_hr": 266,
          "tp": "Consumption"
         },
         {
          "power_MWh": 3148000,
          "source": 2,
          "time_hr": 267,
          "tp": "Consumption"
         },
         {
          "power_MWh": 3138000,
          "source": 2,
          "time_hr": 268,
          "tp": "Consumption"
         },
         {
          "power_MWh": 3211000,
          "source": 2,
          "time_hr": 269,
          "tp": "Consumption"
         },
         {
          "power_MWh": 3453000,
          "source": 2,
          "time_hr": 270,
          "tp": "Consumption"
         },
         {
          "power_MWh": 4130000,
          "source": 2,
          "time_hr": 271,
          "tp": "Consumption"
         },
         {
          "power_MWh": 4836000,
          "source": 2,
          "time_hr": 272,
          "tp": "Consumption"
         },
         {
          "power_MWh": 5076000,
          "source": 2,
          "time_hr": 273,
          "tp": "Consumption"
         },
         {
          "power_MWh": 5045000,
          "source": 2,
          "time_hr": 274,
          "tp": "Consumption"
         },
         {
          "power_MWh": 5105000,
          "source": 2,
          "time_hr": 275,
          "tp": "Consumption"
         },
         {
          "power_MWh": 5065000,
          "source": 2,
          "time_hr": 276,
          "tp": "Consumption"
         },
         {
          "power_MWh": 4945000,
          "source": 2,
          "time_hr": 277,
          "tp": "Consumption"
         },
         {
          "power_MWh": 4864000,
          "source": 2,
          "time_hr": 278,
          "tp": "Consumption"
         },
         {
          "power_MWh": 4736000,
          "source": 2,
          "time_hr": 279,
          "tp": "Consumption"
         },
         {
          "power_MWh": 4681000,
          "source": 2,
          "time_hr": 280,
          "tp": "Consumption"
         },
         {
          "power_MWh": 4876000,
          "source": 2,
          "time_hr": 281,
          "tp": "Consumption"
         },
         {
          "power_MWh": 5204000,
          "source": 2,
          "time_hr": 282,
          "tp": "Consumption"
         },
         {
          "power_MWh": 5037000,
          "source": 2,
          "time_hr": 283,
          "tp": "Consumption"
         },
         {
          "power_MWh": 4645000,
          "source": 2,
          "time_hr": 284,
          "tp": "Consumption"
         },
         {
          "power_MWh": 4287000,
          "source": 2,
          "time_hr": 285,
          "tp": "Consumption"
         },
         {
          "power_MWh": 4006000,
          "source": 2,
          "time_hr": 286,
          "tp": "Consumption"
         },
         {
          "power_MWh": 3753000,
          "source": 2,
          "time_hr": 287,
          "tp": "Consumption"
         },
         {
          "power_MWh": 3459000,
          "source": 2,
          "time_hr": 288,
          "tp": "Consumption"
         },
         {
          "power_MWh": 3253000,
          "source": 2,
          "time_hr": 289,
          "tp": "Consumption"
         },
         {
          "power_MWh": 3103000,
          "source": 2,
          "time_hr": 290,
          "tp": "Consumption"
         },
         {
          "power_MWh": 3012000,
          "source": 2,
          "time_hr": 291,
          "tp": "Consumption"
         },
         {
          "power_MWh": 2984000,
          "source": 2,
          "time_hr": 292,
          "tp": "Consumption"
         },
         {
          "power_MWh": 3000000,
          "source": 2,
          "time_hr": 293,
          "tp": "Consumption"
         },
         {
          "power_MWh": 3082000,
          "source": 2,
          "time_hr": 294,
          "tp": "Consumption"
         },
         {
          "power_MWh": 3295000,
          "source": 2,
          "time_hr": 295,
          "tp": "Consumption"
         },
         {
          "power_MWh": 3617000,
          "source": 2,
          "time_hr": 296,
          "tp": "Consumption"
         },
         {
          "power_MWh": 3973000,
          "source": 2,
          "time_hr": 297,
          "tp": "Consumption"
         },
         {
          "power_MWh": 4213000,
          "source": 2,
          "time_hr": 298,
          "tp": "Consumption"
         },
         {
          "power_MWh": 4370000,
          "source": 2,
          "time_hr": 299,
          "tp": "Consumption"
         },
         {
          "power_MWh": 4397000,
          "source": 2,
          "time_hr": 300,
          "tp": "Consumption"
         },
         {
          "power_MWh": 1205000,
          "source": 1,
          "time_hr": 1,
          "tp": "Production"
         },
         {
          "power_MWh": 1160000,
          "source": 1,
          "time_hr": 2,
          "tp": "Production"
         },
         {
          "power_MWh": 1198000,
          "source": 1,
          "time_hr": 3,
          "tp": "Production"
         },
         {
          "power_MWh": 1157000,
          "source": 1,
          "time_hr": 4,
          "tp": "Production"
         },
         {
          "power_MWh": 1153000,
          "source": 1,
          "time_hr": 5,
          "tp": "Production"
         },
         {
          "power_MWh": 1008000,
          "source": 1,
          "time_hr": 6,
          "tp": "Production"
         },
         {
          "power_MWh": 967000,
          "source": 1,
          "time_hr": 7,
          "tp": "Production"
         },
         {
          "power_MWh": 1078000,
          "source": 1,
          "time_hr": 8,
          "tp": "Production"
         },
         {
          "power_MWh": 985000,
          "source": 1,
          "time_hr": 9,
          "tp": "Production"
         },
         {
          "power_MWh": 998000,
          "source": 1,
          "time_hr": 10,
          "tp": "Production"
         },
         {
          "power_MWh": 1134000,
          "source": 1,
          "time_hr": 11,
          "tp": "Production"
         },
         {
          "power_MWh": 1203000,
          "source": 1,
          "time_hr": 12,
          "tp": "Production"
         },
         {
          "power_MWh": 1227000,
          "source": 1,
          "time_hr": 13,
          "tp": "Production"
         },
         {
          "power_MWh": 1221000,
          "source": 1,
          "time_hr": 14,
          "tp": "Production"
         },
         {
          "power_MWh": 1163000,
          "source": 1,
          "time_hr": 15,
          "tp": "Production"
         },
         {
          "power_MWh": 1326000,
          "source": 1,
          "time_hr": 16,
          "tp": "Production"
         },
         {
          "power_MWh": 1615000,
          "source": 1,
          "time_hr": 17,
          "tp": "Production"
         },
         {
          "power_MWh": 1883000,
          "source": 1,
          "time_hr": 18,
          "tp": "Production"
         },
         {
          "power_MWh": 1944000,
          "source": 1,
          "time_hr": 19,
          "tp": "Production"
         },
         {
          "power_MWh": 1873000,
          "source": 1,
          "time_hr": 20,
          "tp": "Production"
         },
         {
          "power_MWh": 1517000,
          "source": 1,
          "time_hr": 21,
          "tp": "Production"
         },
         {
          "power_MWh": 1415000,
          "source": 1,
          "time_hr": 22,
          "tp": "Production"
         },
         {
          "power_MWh": 1418000,
          "source": 1,
          "time_hr": 23,
          "tp": "Production"
         },
         {
          "power_MWh": 1423000,
          "source": 1,
          "time_hr": 24,
          "tp": "Production"
         },
         {
          "power_MWh": 1393000,
          "source": 1,
          "time_hr": 25,
          "tp": "Production"
         },
         {
          "power_MWh": 1381000,
          "source": 1,
          "time_hr": 26,
          "tp": "Production"
         },
         {
          "power_MWh": 1325000,
          "source": 1,
          "time_hr": 27,
          "tp": "Production"
         },
         {
          "power_MWh": 1386000,
          "source": 1,
          "time_hr": 28,
          "tp": "Production"
         },
         {
          "power_MWh": 1346000,
          "source": 1,
          "time_hr": 29,
          "tp": "Production"
         },
         {
          "power_MWh": 1461000,
          "source": 1,
          "time_hr": 30,
          "tp": "Production"
         },
         {
          "power_MWh": 1596000,
          "source": 1,
          "time_hr": 31,
          "tp": "Production"
         },
         {
          "power_MWh": 1993000,
          "source": 1,
          "time_hr": 32,
          "tp": "Production"
         },
         {
          "power_MWh": 2674000,
          "source": 1,
          "time_hr": 33,
          "tp": "Production"
         },
         {
          "power_MWh": 2678000,
          "source": 1,
          "time_hr": 34,
          "tp": "Production"
         },
         {
          "power_MWh": 2747000,
          "source": 1,
          "time_hr": 35,
          "tp": "Production"
         },
         {
          "power_MWh": 2691000,
          "source": 1,
          "time_hr": 36,
          "tp": "Production"
         },
         {
          "power_MWh": 2618000,
          "source": 1,
          "time_hr": 37,
          "tp": "Production"
         },
         {
          "power_MWh": 2613000,
          "source": 1,
          "time_hr": 38,
          "tp": "Production"
         },
         {
          "power_MWh": 2738000,
          "source": 1,
          "time_hr": 39,
          "tp": "Production"
         },
         {
          "power_MWh": 2749000,
          "source": 1,
          "time_hr": 40,
          "tp": "Production"
         },
         {
          "power_MWh": 2838000,
          "source": 1,
          "time_hr": 41,
          "tp": "Production"
         },
         {
          "power_MWh": 2874000,
          "source": 1,
          "time_hr": 42,
          "tp": "Production"
         },
         {
          "power_MWh": 2886000,
          "source": 1,
          "time_hr": 43,
          "tp": "Production"
         },
         {
          "power_MWh": 2436000,
          "source": 1,
          "time_hr": 44,
          "tp": "Production"
         },
         {
          "power_MWh": 2038000,
          "source": 1,
          "time_hr": 45,
          "tp": "Production"
         },
         {
          "power_MWh": 1684000,
          "source": 1,
          "time_hr": 46,
          "tp": "Production"
         },
         {
          "power_MWh": 1622000,
          "source": 1,
          "time_hr": 47,
          "tp": "Production"
         },
         {
          "power_MWh": 1477000,
          "source": 1,
          "time_hr": 48,
          "tp": "Production"
         },
         {
          "power_MWh": 1349000,
          "source": 1,
          "time_hr": 49,
          "tp": "Production"
         },
         {
          "power_MWh": 1143000,
          "source": 1,
          "time_hr": 50,
          "tp": "Production"
         },
         {
          "power_MWh": 947000,
          "source": 1,
          "time_hr": 51,
          "tp": "Production"
         },
         {
          "power_MWh": 1012000,
          "source": 1,
          "time_hr": 52,
          "tp": "Production"
         },
         {
          "power_MWh": 974000,
          "source": 1,
          "time_hr": 53,
          "tp": "Production"
         },
         {
          "power_MWh": 1043000,
          "source": 1,
          "time_hr": 54,
          "tp": "Production"
         },
         {
          "power_MWh": 1214000,
          "source": 1,
          "time_hr": 55,
          "tp": "Production"
         },
         {
          "power_MWh": 1713000,
          "source": 1,
          "time_hr": 56,
          "tp": "Production"
         },
         {
          "power_MWh": 1977000,
          "source": 1,
          "time_hr": 57,
          "tp": "Production"
         },
         {
          "power_MWh": 1949000,
          "source": 1,
          "time_hr": 58,
          "tp": "Production"
         },
         {
          "power_MWh": 1992000,
          "source": 1,
          "time_hr": 59,
          "tp": "Production"
         },
         {
          "power_MWh": 1745000,
          "source": 1,
          "time_hr": 60,
          "tp": "Production"
         },
         {
          "power_MWh": 1801000,
          "source": 1,
          "time_hr": 61,
          "tp": "Production"
         },
         {
          "power_MWh": 1995000,
          "source": 1,
          "time_hr": 62,
          "tp": "Production"
         },
         {
          "power_MWh": 2023000,
          "source": 1,
          "time_hr": 63,
          "tp": "Production"
         },
         {
          "power_MWh": 2245000,
          "source": 1,
          "time_hr": 64,
          "tp": "Production"
         },
         {
          "power_MWh": 2294000,
          "source": 1,
          "time_hr": 65,
          "tp": "Production"
         },
         {
          "power_MWh": 2262000,
          "source": 1,
          "time_hr": 66,
          "tp": "Production"
         },
         {
          "power_MWh": 2276000,
          "source": 1,
          "time_hr": 67,
          "tp": "Production"
         },
         {
          "power_MWh": 2067000,
          "source": 1,
          "time_hr": 68,
          "tp": "Production"
         },
         {
          "power_MWh": 1876000,
          "source": 1,
          "time_hr": 69,
          "tp": "Production"
         },
         {
          "power_MWh": 1689000,
          "source": 1,
          "time_hr": 70,
          "tp": "Production"
         },
         {
          "power_MWh": 1625000,
          "source": 1,
          "time_hr": 71,
          "tp": "Production"
         },
         {
          "power_MWh": 1596000,
          "source": 1,
          "time_hr": 72,
          "tp": "Production"
         },
         {
          "power_MWh": 1637000,
          "source": 1,
          "time_hr": 73,
          "tp": "Production"
         },
         {
          "power_MWh": 1556000,
          "source": 1,
          "time_hr": 74,
          "tp": "Production"
         },
         {
          "power_MWh": 1545000,
          "source": 1,
          "time_hr": 75,
          "tp": "Production"
         },
         {
          "power_MWh": 1500000,
          "source": 1,
          "time_hr": 76,
          "tp": "Production"
         },
         {
          "power_MWh": 1443000,
          "source": 1,
          "time_hr": 77,
          "tp": "Production"
         },
         {
          "power_MWh": 1519000,
          "source": 1,
          "time_hr": 78,
          "tp": "Production"
         },
         {
          "power_MWh": 1621000,
          "source": 1,
          "time_hr": 79,
          "tp": "Production"
         },
         {
          "power_MWh": 1951000,
          "source": 1,
          "time_hr": 80,
          "tp": "Production"
         },
         {
          "power_MWh": 2596000,
          "source": 1,
          "time_hr": 81,
          "tp": "Production"
         },
         {
          "power_MWh": 2772000,
          "source": 1,
          "time_hr": 82,
          "tp": "Production"
         },
         {
          "power_MWh": 2772000,
          "source": 1,
          "time_hr": 83,
          "tp": "Production"
         },
         {
          "power_MWh": 2942000,
          "source": 1,
          "time_hr": 84,
          "tp": "Production"
         },
         {
          "power_MWh": 2915000,
          "source": 1,
          "time_hr": 85,
          "tp": "Production"
         },
         {
          "power_MWh": 2969000,
          "source": 1,
          "time_hr": 86,
          "tp": "Production"
         },
         {
          "power_MWh": 3079000,
          "source": 1,
          "time_hr": 87,
          "tp": "Production"
         },
         {
          "power_MWh": 3035000,
          "source": 1,
          "time_hr": 88,
          "tp": "Production"
         },
         {
          "power_MWh": 3034000,
          "source": 1,
          "time_hr": 89,
          "tp": "Production"
         },
         {
          "power_MWh": 3069000,
          "source": 1,
          "time_hr": 90,
          "tp": "Production"
         },
         {
          "power_MWh": 3029000,
          "source": 1,
          "time_hr": 91,
          "tp": "Production"
         },
         {
          "power_MWh": 2994000,
          "source": 1,
          "time_hr": 92,
          "tp": "Production"
         },
         {
          "power_MWh": 2506000,
          "source": 1,
          "time_hr": 93,
          "tp": "Production"
         },
         {
          "power_MWh": 2022000,
          "source": 1,
          "time_hr": 94,
          "tp": "Production"
         },
         {
          "power_MWh": 1743000,
          "source": 1,
          "time_hr": 95,
          "tp": "Production"
         },
         {
          "power_MWh": 1572000,
          "source": 1,
          "time_hr": 96,
          "tp": "Production"
         },
         {
          "power_MWh": 1400000,
          "source": 1,
          "time_hr": 97,
          "tp": "Production"
         },
         {
          "power_MWh": 1328000,
          "source": 1,
          "time_hr": 98,
          "tp": "Production"
         },
         {
          "power_MWh": 1488000,
          "source": 1,
          "time_hr": 99,
          "tp": "Production"
         },
         {
          "power_MWh": 1523000,
          "source": 1,
          "time_hr": 100,
          "tp": "Production"
         },
         {
          "power_MWh": 1556000,
          "source": 1,
          "time_hr": 101,
          "tp": "Production"
         },
         {
          "power_MWh": 1547000,
          "source": 1,
          "time_hr": 102,
          "tp": "Production"
         },
         {
          "power_MWh": 1711000,
          "source": 1,
          "time_hr": 103,
          "tp": "Production"
         },
         {
          "power_MWh": 1807000,
          "source": 1,
          "time_hr": 104,
          "tp": "Production"
         },
         {
          "power_MWh": 2328000,
          "source": 1,
          "time_hr": 105,
          "tp": "Production"
         },
         {
          "power_MWh": 2395000,
          "source": 1,
          "time_hr": 106,
          "tp": "Production"
         },
         {
          "power_MWh": 2648000,
          "source": 1,
          "time_hr": 107,
          "tp": "Production"
         },
         {
          "power_MWh": 2785000,
          "source": 1,
          "time_hr": 108,
          "tp": "Production"
         },
         {
          "power_MWh": 2992000,
          "source": 1,
          "time_hr": 109,
          "tp": "Production"
         },
         {
          "power_MWh": 3186000,
          "source": 1,
          "time_hr": 110,
          "tp": "Production"
         },
         {
          "power_MWh": 3119000,
          "source": 1,
          "time_hr": 111,
          "tp": "Production"
         },
         {
          "power_MWh": 3155000,
          "source": 1,
          "time_hr": 112,
          "tp": "Production"
         },
         {
          "power_MWh": 3216000,
          "source": 1,
          "time_hr": 113,
          "tp": "Production"
         },
         {
          "power_MWh": 3292000,
          "source": 1,
          "time_hr": 114,
          "tp": "Production"
         },
         {
          "power_MWh": 3225000,
          "source": 1,
          "time_hr": 115,
          "tp": "Production"
         },
         {
          "power_MWh": 3064000,
          "source": 1,
          "time_hr": 116,
          "tp": "Production"
         },
         {
          "power_MWh": 2641000,
          "source": 1,
          "time_hr": 117,
          "tp": "Production"
         },
         {
          "power_MWh": 2431000,
          "source": 1,
          "time_hr": 118,
          "tp": "Production"
         },
         {
          "power_MWh": 2288000,
          "source": 1,
          "time_hr": 119,
          "tp": "Production"
         },
         {
          "power_MWh": 2061000,
          "source": 1,
          "time_hr": 120,
          "tp": "Production"
         },
         {
          "power_MWh": 1742000,
          "source": 1,
          "time_hr": 121,
          "tp": "Production"
         },
         {
          "power_MWh": 1706000,
          "source": 1,
          "time_hr": 122,
          "tp": "Production"
         },
         {
          "power_MWh": 1684000,
          "source": 1,
          "time_hr": 123,
          "tp": "Production"
         },
         {
          "power_MWh": 1647000,
          "source": 1,
          "time_hr": 124,
          "tp": "Production"
         },
         {
          "power_MWh": 1612000,
          "source": 1,
          "time_hr": 125,
          "tp": "Production"
         },
         {
          "power_MWh": 1627000,
          "source": 1,
          "time_hr": 126,
          "tp": "Production"
         },
         {
          "power_MWh": 1758000,
          "source": 1,
          "time_hr": 127,
          "tp": "Production"
         },
         {
          "power_MWh": 1820000,
          "source": 1,
          "time_hr": 128,
          "tp": "Production"
         },
         {
          "power_MWh": 2153000,
          "source": 1,
          "time_hr": 129,
          "tp": "Production"
         },
         {
          "power_MWh": 2747000,
          "source": 1,
          "time_hr": 130,
          "tp": "Production"
         },
         {
          "power_MWh": 2731000,
          "source": 1,
          "time_hr": 131,
          "tp": "Production"
         },
         {
          "power_MWh": 2705000,
          "source": 1,
          "time_hr": 132,
          "tp": "Production"
         },
         {
          "power_MWh": 2664000,
          "source": 1,
          "time_hr": 133,
          "tp": "Production"
         },
         {
          "power_MWh": 2602000,
          "source": 1,
          "time_hr": 134,
          "tp": "Production"
         },
         {
          "power_MWh": 2462000,
          "source": 1,
          "time_hr": 135,
          "tp": "Production"
         },
         {
          "power_MWh": 2349000,
          "source": 1,
          "time_hr": 136,
          "tp": "Production"
         },
         {
          "power_MWh": 2413000,
          "source": 1,
          "time_hr": 137,
          "tp": "Production"
         },
         {
          "power_MWh": 2774000,
          "source": 1,
          "time_hr": 138,
          "tp": "Production"
         },
         {
          "power_MWh": 2596000,
          "source": 1,
          "time_hr": 139,
          "tp": "Production"
         },
         {
          "power_MWh": 2351000,
          "source": 1,
          "time_hr": 140,
          "tp": "Production"
         },
         {
          "power_MWh": 2104000,
          "source": 1,
          "time_hr": 141,
          "tp": "Production"
         },
         {
          "power_MWh": 1989000,
          "source": 1,
          "time_hr": 142,
          "tp": "Production"
         },
         {
          "power_MWh": 1903000,
          "source": 1,
          "time_hr": 143,
          "tp": "Production"
         },
         {
          "power_MWh": 1808000,
          "source": 1,
          "time_hr": 144,
          "tp": "Production"
         },
         {
          "power_MWh": 1645000,
          "source": 1,
          "time_hr": 145,
          "tp": "Production"
         },
         {
          "power_MWh": 1573000,
          "source": 1,
          "time_hr": 146,
          "tp": "Production"
         },
         {
          "power_MWh": 1608000,
          "source": 1,
          "time_hr": 147,
          "tp": "Production"
         },
         {
          "power_MWh": 1745000,
          "source": 1,
          "time_hr": 148,
          "tp": "Production"
         },
         {
          "power_MWh": 1764000,
          "source": 1,
          "time_hr": 149,
          "tp": "Production"
         },
         {
          "power_MWh": 1745000,
          "source": 1,
          "time_hr": 150,
          "tp": "Production"
         },
         {
          "power_MWh": 1755000,
          "source": 1,
          "time_hr": 151,
          "tp": "Production"
         },
         {
          "power_MWh": 1748000,
          "source": 1,
          "time_hr": 152,
          "tp": "Production"
         },
         {
          "power_MWh": 1826000,
          "source": 1,
          "time_hr": 153,
          "tp": "Production"
         },
         {
          "power_MWh": 1935000,
          "source": 1,
          "time_hr": 154,
          "tp": "Production"
         },
         {
          "power_MWh": 2208000,
          "source": 1,
          "time_hr": 155,
          "tp": "Production"
         },
         {
          "power_MWh": 2474000,
          "source": 1,
          "time_hr": 156,
          "tp": "Production"
         },
         {
          "power_MWh": 2546000,
          "source": 1,
          "time_hr": 157,
          "tp": "Production"
         },
         {
          "power_MWh": 2493000,
          "source": 1,
          "time_hr": 158,
          "tp": "Production"
         },
         {
          "power_MWh": 2413000,
          "source": 1,
          "time_hr": 159,
          "tp": "Production"
         },
         {
          "power_MWh": 2287000,
          "source": 1,
          "time_hr": 160,
          "tp": "Production"
         },
         {
          "power_MWh": 2276000,
          "source": 1,
          "time_hr": 161,
          "tp": "Production"
         },
         {
          "power_MWh": 2503000,
          "source": 1,
          "time_hr": 162,
          "tp": "Production"
         },
         {
          "power_MWh": 2620000,
          "source": 1,
          "time_hr": 163,
          "tp": "Production"
         },
         {
          "power_MWh": 2482000,
          "source": 1,
          "time_hr": 164,
          "tp": "Production"
         },
         {
          "power_MWh": 2325000,
          "source": 1,
          "time_hr": 165,
          "tp": "Production"
         },
         {
          "power_MWh": 2232000,
          "source": 1,
          "time_hr": 166,
          "tp": "Production"
         },
         {
          "power_MWh": 2114000,
          "source": 1,
          "time_hr": 167,
          "tp": "Production"
         },
         {
          "power_MWh": 1938000,
          "source": 1,
          "time_hr": 168,
          "tp": "Production"
         },
         {
          "power_MWh": 1923000,
          "source": 1,
          "time_hr": 169,
          "tp": "Production"
         },
         {
          "power_MWh": 1763000,
          "source": 1,
          "time_hr": 170,
          "tp": "Production"
         },
         {
          "power_MWh": 1901000,
          "source": 1,
          "time_hr": 171,
          "tp": "Production"
         },
         {
          "power_MWh": 1896000,
          "source": 1,
          "time_hr": 172,
          "tp": "Production"
         },
         {
          "power_MWh": 1848000,
          "source": 1,
          "time_hr": 173,
          "tp": "Production"
         },
         {
          "power_MWh": 1721000,
          "source": 1,
          "time_hr": 174,
          "tp": "Production"
         },
         {
          "power_MWh": 2137000,
          "source": 1,
          "time_hr": 175,
          "tp": "Production"
         },
         {
          "power_MWh": 2517000,
          "source": 1,
          "time_hr": 176,
          "tp": "Production"
         },
         {
          "power_MWh": 2804000,
          "source": 1,
          "time_hr": 177,
          "tp": "Production"
         },
         {
          "power_MWh": 3006000,
          "source": 1,
          "time_hr": 178,
          "tp": "Production"
         },
         {
          "power_MWh": 3274000,
          "source": 1,
          "time_hr": 179,
          "tp": "Production"
         },
         {
          "power_MWh": 3209000,
          "source": 1,
          "time_hr": 180,
          "tp": "Production"
         },
         {
          "power_MWh": 3305000,
          "source": 1,
          "time_hr": 181,
          "tp": "Production"
         },
         {
          "power_MWh": 3140000,
          "source": 1,
          "time_hr": 182,
          "tp": "Production"
         },
         {
          "power_MWh": 2871000,
          "source": 1,
          "time_hr": 183,
          "tp": "Production"
         },
         {
          "power_MWh": 2656000,
          "source": 1,
          "time_hr": 184,
          "tp": "Production"
         },
         {
          "power_MWh": 2536000,
          "source": 1,
          "time_hr": 185,
          "tp": "Production"
         },
         {
          "power_MWh": 2773000,
          "source": 1,
          "time_hr": 186,
          "tp": "Production"
         },
         {
          "power_MWh": 3037000,
          "source": 1,
          "time_hr": 187,
          "tp": "Production"
         },
         {
          "power_MWh": 2715000,
          "source": 1,
          "time_hr": 188,
          "tp": "Production"
         },
         {
          "power_MWh": 2466000,
          "source": 1,
          "time_hr": 189,
          "tp": "Production"
         },
         {
          "power_MWh": 2206000,
          "source": 1,
          "time_hr": 190,
          "tp": "Production"
         },
         {
          "power_MWh": 2288000,
          "source": 1,
          "time_hr": 191,
          "tp": "Production"
         },
         {
          "power_MWh": 2189000,
          "source": 1,
          "time_hr": 192,
          "tp": "Production"
         },
         {
          "power_MWh": 2006000,
          "source": 1,
          "time_hr": 193,
          "tp": "Production"
         },
         {
          "power_MWh": 1955000,
          "source": 1,
          "time_hr": 194,
          "tp": "Production"
         },
         {
          "power_MWh": 1807000,
          "source": 1,
          "time_hr": 195,
          "tp": "Production"
         },
         {
          "power_MWh": 1687000,
          "source": 1,
          "time_hr": 196,
          "tp": "Production"
         },
         {
          "power_MWh": 1810000,
          "source": 1,
          "time_hr": 197,
          "tp": "Production"
         },
         {
          "power_MWh": 1943000,
          "source": 1,
          "time_hr": 198,
          "tp": "Production"
         },
         {
          "power_MWh": 2236000,
          "source": 1,
          "time_hr": 199,
          "tp": "Production"
         },
         {
          "power_MWh": 2374000,
          "source": 1,
          "time_hr": 200,
          "tp": "Production"
         },
         {
          "power_MWh": 2276000,
          "source": 1,
          "time_hr": 201,
          "tp": "Production"
         },
         {
          "power_MWh": 1984000,
          "source": 1,
          "time_hr": 202,
          "tp": "Production"
         },
         {
          "power_MWh": 2006000,
          "source": 1,
          "time_hr": 203,
          "tp": "Production"
         },
         {
          "power_MWh": 1948000,
          "source": 1,
          "time_hr": 204,
          "tp": "Production"
         },
         {
          "power_MWh": 2051000,
          "source": 1,
          "time_hr": 205,
          "tp": "Production"
         },
         {
          "power_MWh": 2041000,
          "source": 1,
          "time_hr": 206,
          "tp": "Production"
         },
         {
          "power_MWh": 2052000,
          "source": 1,
          "time_hr": 207,
          "tp": "Production"
         },
         {
          "power_MWh": 2078000,
          "source": 1,
          "time_hr": 208,
          "tp": "Production"
         },
         {
          "power_MWh": 2147000,
          "source": 1,
          "time_hr": 209,
          "tp": "Production"
         },
         {
          "power_MWh": 2184000,
          "source": 1,
          "time_hr": 210,
          "tp": "Production"
         },
         {
          "power_MWh": 2336000,
          "source": 1,
          "time_hr": 211,
          "tp": "Production"
         },
         {
          "power_MWh": 2173000,
          "source": 1,
          "time_hr": 212,
          "tp": "Production"
         },
         {
          "power_MWh": 2157000,
          "source": 1,
          "time_hr": 213,
          "tp": "Production"
         },
         {
          "power_MWh": 2554000,
          "source": 1,
          "time_hr": 214,
          "tp": "Production"
         },
         {
          "power_MWh": 2238000,
          "source": 1,
          "time_hr": 215,
          "tp": "Production"
         },
         {
          "power_MWh": 2013000,
          "source": 1,
          "time_hr": 216,
          "tp": "Production"
         },
         {
          "power_MWh": 1791000,
          "source": 1,
          "time_hr": 217,
          "tp": "Production"
         },
         {
          "power_MWh": 1842000,
          "source": 1,
          "time_hr": 218,
          "tp": "Production"
         },
         {
          "power_MWh": 1807000,
          "source": 1,
          "time_hr": 219,
          "tp": "Production"
         },
         {
          "power_MWh": 1812000,
          "source": 1,
          "time_hr": 220,
          "tp": "Production"
         },
         {
          "power_MWh": 1859000,
          "source": 1,
          "time_hr": 221,
          "tp": "Production"
         },
         {
          "power_MWh": 2103000,
          "source": 1,
          "time_hr": 222,
          "tp": "Production"
         },
         {
          "power_MWh": 2657000,
          "source": 1,
          "time_hr": 223,
          "tp": "Production"
         },
         {
          "power_MWh": 3349000,
          "source": 1,
          "time_hr": 224,
          "tp": "Production"
         },
         {
          "power_MWh": 3816000,
          "source": 1,
          "time_hr": 225,
          "tp": "Production"
         },
         {
          "power_MWh": 3651000,
          "source": 1,
          "time_hr": 226,
          "tp": "Production"
         },
         {
          "power_MWh": 3404000,
          "source": 1,
          "time_hr": 227,
          "tp": "Production"
         },
         {
          "power_MWh": 3460000,
          "source": 1,
          "time_hr": 228,
          "tp": "Production"
         },
         {
          "power_MWh": 3404000,
          "source": 1,
          "time_hr": 229,
          "tp": "Production"
         },
         {
          "power_MWh": 3441000,
          "source": 1,
          "time_hr": 230,
          "tp": "Production"
         },
         {
          "power_MWh": 3488000,
          "source": 1,
          "time_hr": 231,
          "tp": "Production"
         },
         {
          "power_MWh": 3511000,
          "source": 1,
          "time_hr": 232,
          "tp": "Production"
         },
         {
          "power_MWh": 3416000,
          "source": 1,
          "time_hr": 233,
          "tp": "Production"
         },
         {
          "power_MWh": 3470000,
          "source": 1,
          "time_hr": 234,
          "tp": "Production"
         },
         {
          "power_MWh": 3471000,
          "source": 1,
          "time_hr": 235,
          "tp": "Production"
         },
         {
          "power_MWh": 3392000,
          "source": 1,
          "time_hr": 236,
          "tp": "Production"
         },
         {
          "power_MWh": 3015000,
          "source": 1,
          "time_hr": 237,
          "tp": "Production"
         },
         {
          "power_MWh": 2753000,
          "source": 1,
          "time_hr": 238,
          "tp": "Production"
         },
         {
          "power_MWh": 2329000,
          "source": 1,
          "time_hr": 239,
          "tp": "Production"
         },
         {
          "power_MWh": 2057000,
          "source": 1,
          "time_hr": 240,
          "tp": "Production"
         },
         {
          "power_MWh": 1923000,
          "source": 1,
          "time_hr": 241,
          "tp": "Production"
         },
         {
          "power_MWh": 1987000,
          "source": 1,
          "time_hr": 242,
          "tp": "Production"
         },
         {
          "power_MWh": 1985000,
          "source": 1,
          "time_hr": 243,
          "tp": "Production"
         },
         {
          "power_MWh": 1939000,
          "source": 1,
          "time_hr": 244,
          "tp": "Production"
         },
         {
          "power_MWh": 1935000,
          "source": 1,
          "time_hr": 245,
          "tp": "Production"
         },
         {
          "power_MWh": 2343000,
          "source": 1,
          "time_hr": 246,
          "tp": "Production"
         },
         {
          "power_MWh": 3036000,
          "source": 1,
          "time_hr": 247,
          "tp": "Production"
         },
         {
          "power_MWh": 3662000,
          "source": 1,
          "time_hr": 248,
          "tp": "Production"
         },
         {
          "power_MWh": 3772000,
          "source": 1,
          "time_hr": 249,
          "tp": "Production"
         },
         {
          "power_MWh": 3732000,
          "source": 1,
          "time_hr": 250,
          "tp": "Production"
         },
         {
          "power_MWh": 3890000,
          "source": 1,
          "time_hr": 251,
          "tp": "Production"
         },
         {
          "power_MWh": 4033000,
          "source": 1,
          "time_hr": 252,
          "tp": "Production"
         },
         {
          "power_MWh": 4154000,
          "source": 1,
          "time_hr": 253,
          "tp": "Production"
         },
         {
          "power_MWh": 4155000,
          "source": 1,
          "time_hr": 254,
          "tp": "Production"
         },
         {
          "power_MWh": 4002000,
          "source": 1,
          "time_hr": 255,
          "tp": "Production"
         },
         {
          "power_MWh": 3938000,
          "source": 1,
          "time_hr": 256,
          "tp": "Production"
         },
         {
          "power_MWh": 3993000,
          "source": 1,
          "time_hr": 257,
          "tp": "Production"
         },
         {
          "power_MWh": 3947000,
          "source": 1,
          "time_hr": 258,
          "tp": "Production"
         },
         {
          "power_MWh": 3947000,
          "source": 1,
          "time_hr": 259,
          "tp": "Production"
         },
         {
          "power_MWh": 3508000,
          "source": 1,
          "time_hr": 260,
          "tp": "Production"
         },
         {
          "power_MWh": 2970000,
          "source": 1,
          "time_hr": 261,
          "tp": "Production"
         },
         {
          "power_MWh": 2647000,
          "source": 1,
          "time_hr": 262,
          "tp": "Production"
         },
         {
          "power_MWh": 2261000,
          "source": 1,
          "time_hr": 263,
          "tp": "Production"
         },
         {
          "power_MWh": 1828000,
          "source": 1,
          "time_hr": 264,
          "tp": "Production"
         },
         {
          "power_MWh": 2124000,
          "source": 1,
          "time_hr": 265,
          "tp": "Production"
         },
         {
          "power_MWh": 1904000,
          "source": 1,
          "time_hr": 266,
          "tp": "Production"
         },
         {
          "power_MWh": 1938000,
          "source": 1,
          "time_hr": 267,
          "tp": "Production"
         },
         {
          "power_MWh": 1940000,
          "source": 1,
          "time_hr": 268,
          "tp": "Production"
         },
         {
          "power_MWh": 1941000,
          "source": 1,
          "time_hr": 269,
          "tp": "Production"
         },
         {
          "power_MWh": 2131000,
          "source": 1,
          "time_hr": 270,
          "tp": "Production"
         },
         {
          "power_MWh": 2557000,
          "source": 1,
          "time_hr": 271,
          "tp": "Production"
         },
         {
          "power_MWh": 3559000,
          "source": 1,
          "time_hr": 272,
          "tp": "Production"
         },
         {
          "power_MWh": 3959000,
          "source": 1,
          "time_hr": 273,
          "tp": "Production"
         },
         {
          "power_MWh": 3809000,
          "source": 1,
          "time_hr": 274,
          "tp": "Production"
         },
         {
          "power_MWh": 3772000,
          "source": 1,
          "time_hr": 275,
          "tp": "Production"
         },
         {
          "power_MWh": 4065000,
          "source": 1,
          "time_hr": 276,
          "tp": "Production"
         },
         {
          "power_MWh": 3689000,
          "source": 1,
          "time_hr": 277,
          "tp": "Production"
         },
         {
          "power_MWh": 3665000,
          "source": 1,
          "time_hr": 278,
          "tp": "Production"
         },
         {
          "power_MWh": 3506000,
          "source": 1,
          "time_hr": 279,
          "tp": "Production"
         },
         {
          "power_MWh": 3287000,
          "source": 1,
          "time_hr": 280,
          "tp": "Production"
         },
         {
          "power_MWh": 3424000,
          "source": 1,
          "time_hr": 281,
          "tp": "Production"
         },
         {
          "power_MWh": 3504000,
          "source": 1,
          "time_hr": 282,
          "tp": "Production"
         },
         {
          "power_MWh": 3344000,
          "source": 1,
          "time_hr": 283,
          "tp": "Production"
         },
         {
          "power_MWh": 2912000,
          "source": 1,
          "time_hr": 284,
          "tp": "Production"
         },
         {
          "power_MWh": 2550000,
          "source": 1,
          "time_hr": 285,
          "tp": "Production"
         },
         {
          "power_MWh": 2325000,
          "source": 1,
          "time_hr": 286,
          "tp": "Production"
         },
         {
          "power_MWh": 2203000,
          "source": 1,
          "time_hr": 287,
          "tp": "Production"
         },
         {
          "power_MWh": 2057000,
          "source": 1,
          "time_hr": 288,
          "tp": "Production"
         },
         {
          "power_MWh": 2006000,
          "source": 1,
          "time_hr": 289,
          "tp": "Production"
         },
         {
          "power_MWh": 2023000,
          "source": 1,
          "time_hr": 290,
          "tp": "Production"
         },
         {
          "power_MWh": 2049000,
          "source": 1,
          "time_hr": 291,
          "tp": "Production"
         },
         {
          "power_MWh": 2014000,
          "source": 1,
          "time_hr": 292,
          "tp": "Production"
         },
         {
          "power_MWh": 1987000,
          "source": 1,
          "time_hr": 293,
          "tp": "Production"
         },
         {
          "power_MWh": 2017000,
          "source": 1,
          "time_hr": 294,
          "tp": "Production"
         },
         {
          "power_MWh": 1990000,
          "source": 1,
          "time_hr": 295,
          "tp": "Production"
         },
         {
          "power_MWh": 2012000,
          "source": 1,
          "time_hr": 296,
          "tp": "Production"
         },
         {
          "power_MWh": 2162000,
          "source": 1,
          "time_hr": 297,
          "tp": "Production"
         },
         {
          "power_MWh": 2193000,
          "source": 1,
          "time_hr": 298,
          "tp": "Production"
         },
         {
          "power_MWh": 2413000,
          "source": 1,
          "time_hr": 299,
          "tp": "Production"
         },
         {
          "power_MWh": 2658000,
          "source": 1,
          "time_hr": 300,
          "tp": "Production"
         },
         {
          "power_MWh": 2378000,
          "source": 1,
          "time_hr": 1,
          "tp": "Wind"
         },
         {
          "power_MWh": 2376000,
          "source": 1,
          "time_hr": 2,
          "tp": "Wind"
         },
         {
          "power_MWh": 2171000,
          "source": 1,
          "time_hr": 3,
          "tp": "Wind"
         },
         {
          "power_MWh": 2237000,
          "source": 1,
          "time_hr": 4,
          "tp": "Wind"
         },
         {
          "power_MWh": 2236000,
          "source": 1,
          "time_hr": 5,
          "tp": "Wind"
         },
         {
          "power_MWh": 2196000,
          "source": 1,
          "time_hr": 6,
          "tp": "Wind"
         },
         {
          "power_MWh": 2305000,
          "source": 1,
          "time_hr": 7,
          "tp": "Wind"
         },
         {
          "power_MWh": 2282000,
          "source": 1,
          "time_hr": 8,
          "tp": "Wind"
         },
         {
          "power_MWh": 2409000,
          "source": 1,
          "time_hr": 9,
          "tp": "Wind"
         },
         {
          "power_MWh": 2597000,
          "source": 1,
          "time_hr": 10,
          "tp": "Wind"
         },
         {
          "power_MWh": 2979000,
          "source": 1,
          "time_hr": 11,
          "tp": "Wind"
         },
         {
          "power_MWh": 3022000,
          "source": 1,
          "time_hr": 12,
          "tp": "Wind"
         },
         {
          "power_MWh": 3117000,
          "source": 1,
          "time_hr": 13,
          "tp": "Wind"
         },
         {
          "power_MWh": 3370000,
          "source": 1,
          "time_hr": 14,
          "tp": "Wind"
         },
         {
          "power_MWh": 3291000,
          "source": 1,
          "time_hr": 15,
          "tp": "Wind"
         },
         {
          "power_MWh": 3095000,
          "source": 1,
          "time_hr": 16,
          "tp": "Wind"
         },
         {
          "power_MWh": 2794000,
          "source": 1,
          "time_hr": 17,
          "tp": "Wind"
         },
         {
          "power_MWh": 2549000,
          "source": 1,
          "time_hr": 18,
          "tp": "Wind"
         },
         {
          "power_MWh": 2402000,
          "source": 1,
          "time_hr": 19,
          "tp": "Wind"
         },
         {
          "power_MWh": 2371000,
          "source": 1,
          "time_hr": 20,
          "tp": "Wind"
         },
         {
          "power_MWh": 2324000,
          "source": 1,
          "time_hr": 21,
          "tp": "Wind"
         },
         {
          "power_MWh": 2337000,
          "source": 1,
          "time_hr": 22,
          "tp": "Wind"
         },
         {
          "power_MWh": 2131000,
          "source": 1,
          "time_hr": 23,
          "tp": "Wind"
         },
         {
          "power_MWh": 2009000,
          "source": 1,
          "time_hr": 24,
          "tp": "Wind"
         },
         {
          "power_MWh": 1902000,
          "source": 1,
          "time_hr": 25,
          "tp": "Wind"
         },
         {
          "power_MWh": 1797000,
          "source": 1,
          "time_hr": 26,
          "tp": "Wind"
         },
         {
          "power_MWh": 1651000,
          "source": 1,
          "time_hr": 27,
          "tp": "Wind"
         },
         {
          "power_MWh": 1462000,
          "source": 1,
          "time_hr": 28,
          "tp": "Wind"
         },
         {
          "power_MWh": 1398000,
          "source": 1,
          "time_hr": 29,
          "tp": "Wind"
         },
         {
          "power_MWh": 1279000,
          "source": 1,
          "time_hr": 30,
          "tp": "Wind"
         },
         {
          "power_MWh": 1281000,
          "source": 1,
          "time_hr": 31,
          "tp": "Wind"
         },
         {
          "power_MWh": 1364000,
          "source": 1,
          "time_hr": 32,
          "tp": "Wind"
         },
         {
          "power_MWh": 1322000,
          "source": 1,
          "time_hr": 33,
          "tp": "Wind"
         },
         {
          "power_MWh": 1256000,
          "source": 1,
          "time_hr": 34,
          "tp": "Wind"
         },
         {
          "power_MWh": 1191000,
          "source": 1,
          "time_hr": 35,
          "tp": "Wind"
         },
         {
          "power_MWh": 1084000,
          "source": 1,
          "time_hr": 36,
          "tp": "Wind"
         },
         {
          "power_MWh": 1011000,
          "source": 1,
          "time_hr": 37,
          "tp": "Wind"
         },
         {
          "power_MWh": 1093000,
          "source": 1,
          "time_hr": 38,
          "tp": "Wind"
         },
         {
          "power_MWh": 1080000,
          "source": 1,
          "time_hr": 39,
          "tp": "Wind"
         },
         {
          "power_MWh": 1060000,
          "source": 1,
          "time_hr": 40,
          "tp": "Wind"
         },
         {
          "power_MWh": 1087000,
          "source": 1,
          "time_hr": 41,
          "tp": "Wind"
         },
         {
          "power_MWh": 1211000,
          "source": 1,
          "time_hr": 42,
          "tp": "Wind"
         },
         {
          "power_MWh": 1311000,
          "source": 1,
          "time_hr": 43,
          "tp": "Wind"
         },
         {
          "power_MWh": 1454000,
          "source": 1,
          "time_hr": 44,
          "tp": "Wind"
         },
         {
          "power_MWh": 1549000,
          "source": 1,
          "time_hr": 45,
          "tp": "Wind"
         },
         {
          "power_MWh": 1657000,
          "source": 1,
          "time_hr": 46,
          "tp": "Wind"
         },
         {
          "power_MWh": 1945000,
          "source": 1,
          "time_hr": 47,
          "tp": "Wind"
         },
         {
          "power_MWh": 2239000,
          "source": 1,
          "time_hr": 48,
          "tp": "Wind"
         },
         {
          "power_MWh": 2409000,
          "source": 1,
          "time_hr": 49,
          "tp": "Wind"
         },
         {
          "power_MWh": 2799000,
          "source": 1,
          "time_hr": 50,
          "tp": "Wind"
         },
         {
          "power_MWh": 3117000,
          "source": 1,
          "time_hr": 51,
          "tp": "Wind"
         },
         {
          "power_MWh": 3012000,
          "source": 1,
          "time_hr": 52,
          "tp": "Wind"
         },
         {
          "power_MWh": 3268000,
          "source": 1,
          "time_hr": 53,
          "tp": "Wind"
         },
         {
          "power_MWh": 3546000,
          "source": 1,
          "time_hr": 54,
          "tp": "Wind"
         },
         {
          "power_MWh": 3909000,
          "source": 1,
          "time_hr": 55,
          "tp": "Wind"
         },
         {
          "power_MWh": 3770000,
          "source": 1,
          "time_hr": 56,
          "tp": "Wind"
         },
         {
          "power_MWh": 3596000,
          "source": 1,
          "time_hr": 57,
          "tp": "Wind"
         },
         {
          "power_MWh": 3218000,
          "source": 1,
          "time_hr": 58,
          "tp": "Wind"
         },
         {
          "power_MWh": 2661000,
          "source": 1,
          "time_hr": 59,
          "tp": "Wind"
         },
         {
          "power_MWh": 2316000,
          "source": 1,
          "time_hr": 60,
          "tp": "Wind"
         },
         {
          "power_MWh": 1892000,
          "source": 1,
          "time_hr": 61,
          "tp": "Wind"
         },
         {
          "power_MWh": 1421000,
          "source": 1,
          "time_hr": 62,
          "tp": "Wind"
         },
         {
          "power_MWh": 1123000,
          "source": 1,
          "time_hr": 63,
          "tp": "Wind"
         },
         {
          "power_MWh": 784000,
          "source": 1,
          "time_hr": 64,
          "tp": "Wind"
         },
         {
          "power_MWh": 673000,
          "source": 1,
          "time_hr": 65,
          "tp": "Wind"
         },
         {
          "power_MWh": 588000,
          "source": 1,
          "time_hr": 66,
          "tp": "Wind"
         },
         {
          "power_MWh": 418000,
          "source": 1,
          "time_hr": 67,
          "tp": "Wind"
         },
         {
          "power_MWh": 434000,
          "source": 1,
          "time_hr": 68,
          "tp": "Wind"
         },
         {
          "power_MWh": 630000,
          "source": 1,
          "time_hr": 69,
          "tp": "Wind"
         },
         {
          "power_MWh": 738000,
          "source": 1,
          "time_hr": 70,
          "tp": "Wind"
         },
         {
          "power_MWh": 901000,
          "source": 1,
          "time_hr": 71,
          "tp": "Wind"
         },
         {
          "power_MWh": 975000,
          "source": 1,
          "time_hr": 72,
          "tp": "Wind"
         },
         {
          "power_MWh": 991000,
          "source": 1,
          "time_hr": 73,
          "tp": "Wind"
         },
         {
          "power_MWh": 1078000,
          "source": 1,
          "time_hr": 74,
          "tp": "Wind"
         },
         {
          "power_MWh": 1357000,
          "source": 1,
          "time_hr": 75,
          "tp": "Wind"
         },
         {
          "power_MWh": 1569000,
          "source": 1,
          "time_hr": 76,
          "tp": "Wind"
         },
         {
          "power_MWh": 1671000,
          "source": 1,
          "time_hr": 77,
          "tp": "Wind"
         },
         {
          "power_MWh": 1616000,
          "source": 1,
          "time_hr": 78,
          "tp": "Wind"
         },
         {
          "power_MWh": 1519000,
          "source": 1,
          "time_hr": 79,
          "tp": "Wind"
         },
         {
          "power_MWh": 1360000,
          "source": 1,
          "time_hr": 80,
          "tp": "Wind"
         },
         {
          "power_MWh": 1287000,
          "source": 1,
          "time_hr": 81,
          "tp": "Wind"
         },
         {
          "power_MWh": 1236000,
          "source": 1,
          "time_hr": 82,
          "tp": "Wind"
         },
         {
          "power_MWh": 1115000,
          "source": 1,
          "time_hr": 83,
          "tp": "Wind"
         },
         {
          "power_MWh": 1020000,
          "source": 1,
          "time_hr": 84,
          "tp": "Wind"
         },
         {
          "power_MWh": 919000,
          "source": 1,
          "time_hr": 85,
          "tp": "Wind"
         },
         {
          "power_MWh": 829000,
          "source": 1,
          "time_hr": 86,
          "tp": "Wind"
         },
         {
          "power_MWh": 652000,
          "source": 1,
          "time_hr": 87,
          "tp": "Wind"
         },
         {
          "power_MWh": 493000,
          "source": 1,
          "time_hr": 88,
          "tp": "Wind"
         },
         {
          "power_MWh": 360000,
          "source": 1,
          "time_hr": 89,
          "tp": "Wind"
         },
         {
          "power_MWh": 231000,
          "source": 1,
          "time_hr": 90,
          "tp": "Wind"
         },
         {
          "power_MWh": 220000,
          "source": 1,
          "time_hr": 91,
          "tp": "Wind"
         },
         {
          "power_MWh": 215000,
          "source": 1,
          "time_hr": 92,
          "tp": "Wind"
         },
         {
          "power_MWh": 223000,
          "source": 1,
          "time_hr": 93,
          "tp": "Wind"
         },
         {
          "power_MWh": 230000,
          "source": 1,
          "time_hr": 94,
          "tp": "Wind"
         },
         {
          "power_MWh": 248000,
          "source": 1,
          "time_hr": 95,
          "tp": "Wind"
         },
         {
          "power_MWh": 280000,
          "source": 1,
          "time_hr": 96,
          "tp": "Wind"
         },
         {
          "power_MWh": 278000,
          "source": 1,
          "time_hr": 97,
          "tp": "Wind"
         },
         {
          "power_MWh": 274000,
          "source": 1,
          "time_hr": 98,
          "tp": "Wind"
         },
         {
          "power_MWh": 386000,
          "source": 1,
          "time_hr": 99,
          "tp": "Wind"
         },
         {
          "power_MWh": 642000,
          "source": 1,
          "time_hr": 100,
          "tp": "Wind"
         },
         {
          "power_MWh": 670000,
          "source": 1,
          "time_hr": 101,
          "tp": "Wind"
         },
         {
          "power_MWh": 660000,
          "source": 1,
          "time_hr": 102,
          "tp": "Wind"
         },
         {
          "power_MWh": 591000,
          "source": 1,
          "time_hr": 103,
          "tp": "Wind"
         },
         {
          "power_MWh": 567000,
          "source": 1,
          "time_hr": 104,
          "tp": "Wind"
         },
         {
          "power_MWh": 550000,
          "source": 1,
          "time_hr": 105,
          "tp": "Wind"
         },
         {
          "power_MWh": 503000,
          "source": 1,
          "time_hr": 106,
          "tp": "Wind"
         },
         {
          "power_MWh": 432000,
          "source": 1,
          "time_hr": 107,
          "tp": "Wind"
         },
         {
          "power_MWh": 265000,
          "source": 1,
          "time_hr": 108,
          "tp": "Wind"
         },
         {
          "power_MWh": 251000,
          "source": 1,
          "time_hr": 109,
          "tp": "Wind"
         },
         {
          "power_MWh": 336000,
          "source": 1,
          "time_hr": 110,
          "tp": "Wind"
         },
         {
          "power_MWh": 290000,
          "source": 1,
          "time_hr": 111,
          "tp": "Wind"
         },
         {
          "power_MWh": 252000,
          "source": 1,
          "time_hr": 112,
          "tp": "Wind"
         },
         {
          "power_MWh": 216000,
          "source": 1,
          "time_hr": 113,
          "tp": "Wind"
         },
         {
          "power_MWh": 241000,
          "source": 1,
          "time_hr": 114,
          "tp": "Wind"
         },
         {
          "power_MWh": 230000,
          "source": 1,
          "time_hr": 115,
          "tp": "Wind"
         },
         {
          "power_MWh": 238000,
          "source": 1,
          "time_hr": 116,
          "tp": "Wind"
         },
         {
          "power_MWh": 175000,
          "source": 1,
          "time_hr": 117,
          "tp": "Wind"
         },
         {
          "power_MWh": 161000,
          "source": 1,
          "time_hr": 118,
          "tp": "Wind"
         },
         {
          "power_MWh": 184000,
          "source": 1,
          "time_hr": 119,
          "tp": "Wind"
         },
         {
          "power_MWh": 138000,
          "source": 1,
          "time_hr": 120,
          "tp": "Wind"
         },
         {
          "power_MWh": 105000,
          "source": 1,
          "time_hr": 121,
          "tp": "Wind"
         },
         {
          "power_MWh": 116000,
          "source": 1,
          "time_hr": 122,
          "tp": "Wind"
         },
         {
          "power_MWh": 141000,
          "source": 1,
          "time_hr": 123,
          "tp": "Wind"
         },
         {
          "power_MWh": 138000,
          "source": 1,
          "time_hr": 124,
          "tp": "Wind"
         },
         {
          "power_MWh": 139000,
          "source": 1,
          "time_hr": 125,
          "tp": "Wind"
         },
         {
          "power_MWh": 144000,
          "source": 1,
          "time_hr": 126,
          "tp": "Wind"
         },
         {
          "power_MWh": 169000,
          "source": 1,
          "time_hr": 127,
          "tp": "Wind"
         },
         {
          "power_MWh": 227000,
          "source": 1,
          "time_hr": 128,
          "tp": "Wind"
         },
         {
          "power_MWh": 271000,
          "source": 1,
          "time_hr": 129,
          "tp": "Wind"
         },
         {
          "power_MWh": 362000,
          "source": 1,
          "time_hr": 130,
          "tp": "Wind"
         },
         {
          "power_MWh": 481000,
          "source": 1,
          "time_hr": 131,
          "tp": "Wind"
         },
         {
          "power_MWh": 619000,
          "source": 1,
          "time_hr": 132,
          "tp": "Wind"
         },
         {
          "power_MWh": 640000,
          "source": 1,
          "time_hr": 133,
          "tp": "Wind"
         },
         {
          "power_MWh": 712000,
          "source": 1,
          "time_hr": 134,
          "tp": "Wind"
         },
         {
          "power_MWh": 820000,
          "source": 1,
          "time_hr": 135,
          "tp": "Wind"
         },
         {
          "power_MWh": 830000,
          "source": 1,
          "time_hr": 136,
          "tp": "Wind"
         },
         {
          "power_MWh": 909000,
          "source": 1,
          "time_hr": 137,
          "tp": "Wind"
         },
         {
          "power_MWh": 1050000,
          "source": 1,
          "time_hr": 138,
          "tp": "Wind"
         },
         {
          "power_MWh": 1176000,
          "source": 1,
          "time_hr": 139,
          "tp": "Wind"
         },
         {
          "power_MWh": 1152000,
          "source": 1,
          "time_hr": 140,
          "tp": "Wind"
         },
         {
          "power_MWh": 1081000,
          "source": 1,
          "time_hr": 141,
          "tp": "Wind"
         },
         {
          "power_MWh": 935000,
          "source": 1,
          "time_hr": 142,
          "tp": "Wind"
         },
         {
          "power_MWh": 862000,
          "source": 1,
          "time_hr": 143,
          "tp": "Wind"
         },
         {
          "power_MWh": 751000,
          "source": 1,
          "time_hr": 144,
          "tp": "Wind"
         },
         {
          "power_MWh": 597000,
          "source": 1,
          "time_hr": 145,
          "tp": "Wind"
         },
         {
          "power_MWh": 454000,
          "source": 1,
          "time_hr": 146,
          "tp": "Wind"
         },
         {
          "power_MWh": 339000,
          "source": 1,
          "time_hr": 147,
          "tp": "Wind"
         },
         {
          "power_MWh": 332000,
          "source": 1,
          "time_hr": 148,
          "tp": "Wind"
         },
         {
          "power_MWh": 327000,
          "source": 1,
          "time_hr": 149,
          "tp": "Wind"
         },
         {
          "power_MWh": 309000,
          "source": 1,
          "time_hr": 150,
          "tp": "Wind"
         },
         {
          "power_MWh": 309000,
          "source": 1,
          "time_hr": 151,
          "tp": "Wind"
         },
         {
          "power_MWh": 372000,
          "source": 1,
          "time_hr": 152,
          "tp": "Wind"
         },
         {
          "power_MWh": 461000,
          "source": 1,
          "time_hr": 153,
          "tp": "Wind"
         },
         {
          "power_MWh": 566000,
          "source": 1,
          "time_hr": 154,
          "tp": "Wind"
         },
         {
          "power_MWh": 586000,
          "source": 1,
          "time_hr": 155,
          "tp": "Wind"
         },
         {
          "power_MWh": 489000,
          "source": 1,
          "time_hr": 156,
          "tp": "Wind"
         },
         {
          "power_MWh": 469000,
          "source": 1,
          "time_hr": 157,
          "tp": "Wind"
         },
         {
          "power_MWh": 510000,
          "source": 1,
          "time_hr": 158,
          "tp": "Wind"
         },
         {
          "power_MWh": 525000,
          "source": 1,
          "time_hr": 159,
          "tp": "Wind"
         },
         {
          "power_MWh": 558000,
          "source": 1,
          "time_hr": 160,
          "tp": "Wind"
         },
         {
          "power_MWh": 675000,
          "source": 1,
          "time_hr": 161,
          "tp": "Wind"
         },
         {
          "power_MWh": 720000,
          "source": 1,
          "time_hr": 162,
          "tp": "Wind"
         },
         {
          "power_MWh": 791000,
          "source": 1,
          "time_hr": 163,
          "tp": "Wind"
         },
         {
          "power_MWh": 856000,
          "source": 1,
          "time_hr": 164,
          "tp": "Wind"
         },
         {
          "power_MWh": 907000,
          "source": 1,
          "time_hr": 165,
          "tp": "Wind"
         },
         {
          "power_MWh": 889000,
          "source": 1,
          "time_hr": 166,
          "tp": "Wind"
         },
         {
          "power_MWh": 819000,
          "source": 1,
          "time_hr": 167,
          "tp": "Wind"
         },
         {
          "power_MWh": 877000,
          "source": 1,
          "time_hr": 168,
          "tp": "Wind"
         },
         {
          "power_MWh": 856000,
          "source": 1,
          "time_hr": 169,
          "tp": "Wind"
         },
         {
          "power_MWh": 835000,
          "source": 1,
          "time_hr": 170,
          "tp": "Wind"
         },
         {
          "power_MWh": 754000,
          "source": 1,
          "time_hr": 171,
          "tp": "Wind"
         },
         {
          "power_MWh": 600000,
          "source": 1,
          "time_hr": 172,
          "tp": "Wind"
         },
         {
          "power_MWh": 499000,
          "source": 1,
          "time_hr": 173,
          "tp": "Wind"
         },
         {
          "power_MWh": 469000,
          "source": 1,
          "time_hr": 174,
          "tp": "Wind"
         },
         {
          "power_MWh": 355000,
          "source": 1,
          "time_hr": 175,
          "tp": "Wind"
         },
         {
          "power_MWh": 310000,
          "source": 1,
          "time_hr": 176,
          "tp": "Wind"
         },
         {
          "power_MWh": 291000,
          "source": 1,
          "time_hr": 177,
          "tp": "Wind"
         },
         {
          "power_MWh": 245000,
          "source": 1,
          "time_hr": 178,
          "tp": "Wind"
         },
         {
          "power_MWh": 203000,
          "source": 1,
          "time_hr": 179,
          "tp": "Wind"
         },
         {
          "power_MWh": 184000,
          "source": 1,
          "time_hr": 180,
          "tp": "Wind"
         },
         {
          "power_MWh": 173000,
          "source": 1,
          "time_hr": 181,
          "tp": "Wind"
         },
         {
          "power_MWh": 168000,
          "source": 1,
          "time_hr": 182,
          "tp": "Wind"
         },
         {
          "power_MWh": 182000,
          "source": 1,
          "time_hr": 183,
          "tp": "Wind"
         },
         {
          "power_MWh": 238000,
          "source": 1,
          "time_hr": 184,
          "tp": "Wind"
         },
         {
          "power_MWh": 342000,
          "source": 1,
          "time_hr": 185,
          "tp": "Wind"
         },
         {
          "power_MWh": 514000,
          "source": 1,
          "time_hr": 186,
          "tp": "Wind"
         },
         {
          "power_MWh": 698000,
          "source": 1,
          "time_hr": 187,
          "tp": "Wind"
         },
         {
          "power_MWh": 935000,
          "source": 1,
          "time_hr": 188,
          "tp": "Wind"
         },
         {
          "power_MWh": 1202000,
          "source": 1,
          "time_hr": 189,
          "tp": "Wind"
         },
         {
          "power_MWh": 1502000,
          "source": 1,
          "time_hr": 190,
          "tp": "Wind"
         },
         {
          "power_MWh": 1640000,
          "source": 1,
          "time_hr": 191,
          "tp": "Wind"
         },
         {
          "power_MWh": 1675000,
          "source": 1,
          "time_hr": 192,
          "tp": "Wind"
         },
         {
          "power_MWh": 1824000,
          "source": 1,
          "time_hr": 193,
          "tp": "Wind"
         },
         {
          "power_MWh": 2036000,
          "source": 1,
          "time_hr": 194,
          "tp": "Wind"
         },
         {
          "power_MWh": 2219000,
          "source": 1,
          "time_hr": 195,
          "tp": "Wind"
         },
         {
          "power_MWh": 2393000,
          "source": 1,
          "time_hr": 196,
          "tp": "Wind"
         },
         {
          "power_MWh": 2416000,
          "source": 1,
          "time_hr": 197,
          "tp": "Wind"
         },
         {
          "power_MWh": 2579000,
          "source": 1,
          "time_hr": 198,
          "tp": "Wind"
         },
         {
          "power_MWh": 2858000,
          "source": 1,
          "time_hr": 199,
          "tp": "Wind"
         },
         {
          "power_MWh": 3120000,
          "source": 1,
          "time_hr": 200,
          "tp": "Wind"
         },
         {
          "power_MWh": 3210000,
          "source": 1,
          "time_hr": 201,
          "tp": "Wind"
         },
         {
          "power_MWh": 3119000,
          "source": 1,
          "time_hr": 202,
          "tp": "Wind"
         },
         {
          "power_MWh": 3394000,
          "source": 1,
          "time_hr": 203,
          "tp": "Wind"
         },
         {
          "power_MWh": 3452000,
          "source": 1,
          "time_hr": 204,
          "tp": "Wind"
         },
         {
          "power_MWh": 3604000,
          "source": 1,
          "time_hr": 205,
          "tp": "Wind"
         },
         {
          "power_MWh": 3767000,
          "source": 1,
          "time_hr": 206,
          "tp": "Wind"
         },
         {
          "power_MWh": 3738000,
          "source": 1,
          "time_hr": 207,
          "tp": "Wind"
         },
         {
          "power_MWh": 3725000,
          "source": 1,
          "time_hr": 208,
          "tp": "Wind"
         },
         {
          "power_MWh": 3729000,
          "source": 1,
          "time_hr": 209,
          "tp": "Wind"
         },
         {
          "power_MWh": 3725000,
          "source": 1,
          "time_hr": 210,
          "tp": "Wind"
         },
         {
          "power_MWh": 3624000,
          "source": 1,
          "time_hr": 211,
          "tp": "Wind"
         },
         {
          "power_MWh": 3417000,
          "source": 1,
          "time_hr": 212,
          "tp": "Wind"
         },
         {
          "power_MWh": 3077000,
          "source": 1,
          "time_hr": 213,
          "tp": "Wind"
         },
         {
          "power_MWh": 2806000,
          "source": 1,
          "time_hr": 214,
          "tp": "Wind"
         },
         {
          "power_MWh": 2516000,
          "source": 1,
          "time_hr": 215,
          "tp": "Wind"
         },
         {
          "power_MWh": 2423000,
          "source": 1,
          "time_hr": 216,
          "tp": "Wind"
         },
         {
          "power_MWh": 2376000,
          "source": 1,
          "time_hr": 217,
          "tp": "Wind"
         },
         {
          "power_MWh": 2224000,
          "source": 1,
          "time_hr": 218,
          "tp": "Wind"
         },
         {
          "power_MWh": 2003000,
          "source": 1,
          "time_hr": 219,
          "tp": "Wind"
         },
         {
          "power_MWh": 1780000,
          "source": 1,
          "time_hr": 220,
          "tp": "Wind"
         },
         {
          "power_MWh": 1542000,
          "source": 1,
          "time_hr": 221,
          "tp": "Wind"
         },
         {
          "power_MWh": 1412000,
          "source": 1,
          "time_hr": 222,
          "tp": "Wind"
         },
         {
          "power_MWh": 1346000,
          "source": 1,
          "time_hr": 223,
          "tp": "Wind"
         },
         {
          "power_MWh": 1244000,
          "source": 1,
          "time_hr": 224,
          "tp": "Wind"
         },
         {
          "power_MWh": 1087000,
          "source": 1,
          "time_hr": 225,
          "tp": "Wind"
         },
         {
          "power_MWh": 995000,
          "source": 1,
          "time_hr": 226,
          "tp": "Wind"
         },
         {
          "power_MWh": 929000,
          "source": 1,
          "time_hr": 227,
          "tp": "Wind"
         },
         {
          "power_MWh": 895000,
          "source": 1,
          "time_hr": 228,
          "tp": "Wind"
         },
         {
          "power_MWh": 820000,
          "source": 1,
          "time_hr": 229,
          "tp": "Wind"
         },
         {
          "power_MWh": 812000,
          "source": 1,
          "time_hr": 230,
          "tp": "Wind"
         },
         {
          "power_MWh": 738000,
          "source": 1,
          "time_hr": 231,
          "tp": "Wind"
         },
         {
          "power_MWh": 808000,
          "source": 1,
          "time_hr": 232,
          "tp": "Wind"
         },
         {
          "power_MWh": 929000,
          "source": 1,
          "time_hr": 233,
          "tp": "Wind"
         },
         {
          "power_MWh": 1071000,
          "source": 1,
          "time_hr": 234,
          "tp": "Wind"
         },
         {
          "power_MWh": 919000,
          "source": 1,
          "time_hr": 235,
          "tp": "Wind"
         },
         {
          "power_MWh": 677000,
          "source": 1,
          "time_hr": 236,
          "tp": "Wind"
         },
         {
          "power_MWh": 727000,
          "source": 1,
          "time_hr": 237,
          "tp": "Wind"
         },
         {
          "power_MWh": 701000,
          "source": 1,
          "time_hr": 238,
          "tp": "Wind"
         },
         {
          "power_MWh": 643000,
          "source": 1,
          "time_hr": 239,
          "tp": "Wind"
         },
         {
          "power_MWh": 605000,
          "source": 1,
          "time_hr": 240,
          "tp": "Wind"
         },
         {
          "power_MWh": 561000,
          "source": 1,
          "time_hr": 241,
          "tp": "Wind"
         },
         {
          "power_MWh": 496000,
          "source": 1,
          "time_hr": 242,
          "tp": "Wind"
         },
         {
          "power_MWh": 470000,
          "source": 1,
          "time_hr": 243,
          "tp": "Wind"
         },
         {
          "power_MWh": 504000,
          "source": 1,
          "time_hr": 244,
          "tp": "Wind"
         },
         {
          "power_MWh": 481000,
          "source": 1,
          "time_hr": 245,
          "tp": "Wind"
         },
         {
          "power_MWh": 444000,
          "source": 1,
          "time_hr": 246,
          "tp": "Wind"
         },
         {
          "power_MWh": 376000,
          "source": 1,
          "time_hr": 247,
          "tp": "Wind"
         },
         {
          "power_MWh": 317000,
          "source": 1,
          "time_hr": 248,
          "tp": "Wind"
         },
         {
          "power_MWh": 261000,
          "source": 1,
          "time_hr": 249,
          "tp": "Wind"
         },
         {
          "power_MWh": 218000,
          "source": 1,
          "time_hr": 250,
          "tp": "Wind"
         },
         {
          "power_MWh": 221000,
          "source": 1,
          "time_hr": 251,
          "tp": "Wind"
         },
         {
          "power_MWh": 260000,
          "source": 1,
          "time_hr": 252,
          "tp": "Wind"
         },
         {
          "power_MWh": 337000,
          "source": 1,
          "time_hr": 253,
          "tp": "Wind"
         },
         {
          "power_MWh": 441000,
          "source": 1,
          "time_hr": 254,
          "tp": "Wind"
         },
         {
          "power_MWh": 498000,
          "source": 1,
          "time_hr": 255,
          "tp": "Wind"
         },
         {
          "power_MWh": 540000,
          "source": 1,
          "time_hr": 256,
          "tp": "Wind"
         },
         {
          "power_MWh": 628000,
          "source": 1,
          "time_hr": 257,
          "tp": "Wind"
         },
         {
          "power_MWh": 664000,
          "source": 1,
          "time_hr": 258,
          "tp": "Wind"
         },
         {
          "power_MWh": 637000,
          "source": 1,
          "time_hr": 259,
          "tp": "Wind"
         },
         {
          "power_MWh": 725000,
          "source": 1,
          "time_hr": 260,
          "tp": "Wind"
         },
         {
          "power_MWh": 721000,
          "source": 1,
          "time_hr": 261,
          "tp": "Wind"
         },
         {
          "power_MWh": 824000,
          "source": 1,
          "time_hr": 262,
          "tp": "Wind"
         },
         {
          "power_MWh": 912000,
          "source": 1,
          "time_hr": 263,
          "tp": "Wind"
         },
         {
          "power_MWh": 1018000,
          "source": 1,
          "time_hr": 264,
          "tp": "Wind"
         },
         {
          "power_MWh": 973000,
          "source": 1,
          "time_hr": 265,
          "tp": "Wind"
         },
         {
          "power_MWh": 1032000,
          "source": 1,
          "time_hr": 266,
          "tp": "Wind"
         },
         {
          "power_MWh": 1047000,
          "source": 1,
          "time_hr": 267,
          "tp": "Wind"
         },
         {
          "power_MWh": 1065000,
          "source": 1,
          "time_hr": 268,
          "tp": "Wind"
         },
         {
          "power_MWh": 1136000,
          "source": 1,
          "time_hr": 269,
          "tp": "Wind"
         },
         {
          "power_MWh": 1259000,
          "source": 1,
          "time_hr": 270,
          "tp": "Wind"
         },
         {
          "power_MWh": 1387000,
          "source": 1,
          "time_hr": 271,
          "tp": "Wind"
         },
         {
          "power_MWh": 1409000,
          "source": 1,
          "time_hr": 272,
          "tp": "Wind"
         },
         {
          "power_MWh": 1458000,
          "source": 1,
          "time_hr": 273,
          "tp": "Wind"
         },
         {
          "power_MWh": 1467000,
          "source": 1,
          "time_hr": 274,
          "tp": "Wind"
         },
         {
          "power_MWh": 1426000,
          "source": 1,
          "time_hr": 275,
          "tp": "Wind"
         },
         {
          "power_MWh": 1537000,
          "source": 1,
          "time_hr": 276,
          "tp": "Wind"
         },
         {
          "power_MWh": 1543000,
          "source": 1,
          "time_hr": 277,
          "tp": "Wind"
         },
         {
          "power_MWh": 1425000,
          "source": 1,
          "time_hr": 278,
          "tp": "Wind"
         },
         {
          "power_MWh": 1476000,
          "source": 1,
          "time_hr": 279,
          "tp": "Wind"
         },
         {
          "power_MWh": 1567000,
          "source": 1,
          "time_hr": 280,
          "tp": "Wind"
         },
         {
          "power_MWh": 1674000,
          "source": 1,
          "time_hr": 281,
          "tp": "Wind"
         },
         {
          "power_MWh": 1721000,
          "source": 1,
          "time_hr": 282,
          "tp": "Wind"
         },
         {
          "power_MWh": 1670000,
          "source": 1,
          "time_hr": 283,
          "tp": "Wind"
         },
         {
          "power_MWh": 1696000,
          "source": 1,
          "time_hr": 284,
          "tp": "Wind"
         },
         {
          "power_MWh": 1615000,
          "source": 1,
          "time_hr": 285,
          "tp": "Wind"
         },
         {
          "power_MWh": 1635000,
          "source": 1,
          "time_hr": 286,
          "tp": "Wind"
         },
         {
          "power_MWh": 1594000,
          "source": 1,
          "time_hr": 287,
          "tp": "Wind"
         },
         {
          "power_MWh": 1578000,
          "source": 1,
          "time_hr": 288,
          "tp": "Wind"
         },
         {
          "power_MWh": 1569000,
          "source": 1,
          "time_hr": 289,
          "tp": "Wind"
         },
         {
          "power_MWh": 1468000,
          "source": 1,
          "time_hr": 290,
          "tp": "Wind"
         },
         {
          "power_MWh": 1459000,
          "source": 1,
          "time_hr": 291,
          "tp": "Wind"
         },
         {
          "power_MWh": 1533000,
          "source": 1,
          "time_hr": 292,
          "tp": "Wind"
         },
         {
          "power_MWh": 1602000,
          "source": 1,
          "time_hr": 293,
          "tp": "Wind"
         },
         {
          "power_MWh": 1690000,
          "source": 1,
          "time_hr": 294,
          "tp": "Wind"
         },
         {
          "power_MWh": 1797000,
          "source": 1,
          "time_hr": 295,
          "tp": "Wind"
         },
         {
          "power_MWh": 1894000,
          "source": 1,
          "time_hr": 296,
          "tp": "Wind"
         },
         {
          "power_MWh": 1966000,
          "source": 1,
          "time_hr": 297,
          "tp": "Wind"
         },
         {
          "power_MWh": 2081000,
          "source": 1,
          "time_hr": 298,
          "tp": "Wind"
         },
         {
          "power_MWh": 2194000,
          "source": 1,
          "time_hr": 299,
          "tp": "Wind"
         },
         {
          "power_MWh": 2240000,
          "source": 1,
          "time_hr": 300,
          "tp": "Wind"
         },
         {
          "power_MWh": -190000,
          "source": 1,
          "time_hr": 1,
          "tp": "Import"
         },
         {
          "power_MWh": -283000,
          "source": 1,
          "time_hr": 2,
          "tp": "Import"
         },
         {
          "power_MWh": -165000,
          "source": 1,
          "time_hr": 3,
          "tp": "Import"
         },
         {
          "power_MWh": -340000,
          "source": 1,
          "time_hr": 4,
          "tp": "Import"
         },
         {
          "power_MWh": -437000,
          "source": 1,
          "time_hr": 5,
          "tp": "Import"
         },
         {
          "power_MWh": -348000,
          "source": 1,
          "time_hr": 6,
          "tp": "Import"
         },
         {
          "power_MWh": -425000,
          "source": 1,
          "time_hr": 7,
          "tp": "Import"
         },
         {
          "power_MWh": -346000,
          "source": 1,
          "time_hr": 8,
          "tp": "Import"
         },
         {
          "power_MWh": -436000,
          "source": 1,
          "time_hr": 9,
          "tp": "Import"
         },
         {
          "power_MWh": -422000,
          "source": 1,
          "time_hr": 10,
          "tp": "Import"
         },
         {
          "power_MWh": -791000,
          "source": 1,
          "time_hr": 11,
          "tp": "Import"
         },
         {
          "power_MWh": -584000,
          "source": 1,
          "time_hr": 12,
          "tp": "Import"
         },
         {
          "power_MWh": -640000,
          "source": 1,
          "time_hr": 13,
          "tp": "Import"
         },
         {
          "power_MWh": -1098000,
          "source": 1,
          "time_hr": 14,
          "tp": "Import"
         },
         {
          "power_MWh": -777000,
          "source": 1,
          "time_hr": 15,
          "tp": "Import"
         },
         {
          "power_MWh": -637000,
          "source": 1,
          "time_hr": 16,
          "tp": "Import"
         },
         {
          "power_MWh": -339000,
          "source": 1,
          "time_hr": 17,
          "tp": "Import"
         },
         {
          "power_MWh": -65000,
          "source": 1,
          "time_hr": 18,
          "tp": "Import"
         },
         {
          "power_MWh": -137000,
          "source": 1,
          "time_hr": 19,
          "tp": "Import"
         },
         {
          "power_MWh": -190000,
          "source": 1,
          "time_hr": 20,
          "tp": "Import"
         },
         {
          "power_MWh": -148000,
          "source": 1,
          "time_hr": 21,
          "tp": "Import"
         },
         {
          "power_MWh": -315000,
          "source": 1,
          "time_hr": 22,
          "tp": "Import"
         },
         {
          "power_MWh": -224000,
          "source": 1,
          "time_hr": 23,
          "tp": "Import"
         },
         {
          "power_MWh": -324000,
          "source": 1,
          "time_hr": 24,
          "tp": "Import"
         },
         {
          "power_MWh": -422000,
          "source": 1,
          "time_hr": 25,
          "tp": "Import"
         },
         {
          "power_MWh": -418000,
          "source": 1,
          "time_hr": 26,
          "tp": "Import"
         },
         {
          "power_MWh": -301000,
          "source": 1,
          "time_hr": 27,
          "tp": "Import"
         },
         {
          "power_MWh": -121000,
          "source": 1,
          "time_hr": 28,
          "tp": "Import"
         },
         {
          "power_MWh": 71000,
          "source": 1,
          "time_hr": 29,
          "tp": "Import"
         },
         {
          "power_MWh": 297000,
          "source": 1,
          "time_hr": 30,
          "tp": "Import"
         },
         {
          "power_MWh": 676000,
          "source": 1,
          "time_hr": 31,
          "tp": "Import"
         },
         {
          "power_MWh": 826000,
          "source": 1,
          "time_hr": 32,
          "tp": "Import"
         },
         {
          "power_MWh": 742000,
          "source": 1,
          "time_hr": 33,
          "tp": "Import"
         },
         {
          "power_MWh": 883000,
          "source": 1,
          "time_hr": 34,
          "tp": "Import"
         },
         {
          "power_MWh": 953000,
          "source": 1,
          "time_hr": 35,
          "tp": "Import"
         },
         {
          "power_MWh": 1103000,
          "source": 1,
          "time_hr": 36,
          "tp": "Import"
         },
         {
          "power_MWh": 1138000,
          "source": 1,
          "time_hr": 37,
          "tp": "Import"
         },
         {
          "power_MWh": 1069000,
          "source": 1,
          "time_hr": 38,
          "tp": "Import"
         },
         {
          "power_MWh": 948000,
          "source": 1,
          "time_hr": 39,
          "tp": "Import"
         },
         {
          "power_MWh": 931000,
          "source": 1,
          "time_hr": 40,
          "tp": "Import"
         },
         {
          "power_MWh": 1081000,
          "source": 1,
          "time_hr": 41,
          "tp": "Import"
         },
         {
          "power_MWh": 1318000,
          "source": 1,
          "time_hr": 42,
          "tp": "Import"
         },
         {
          "power_MWh": 943000,
          "source": 1,
          "time_hr": 43,
          "tp": "Import"
         },
         {
          "power_MWh": 748000,
          "source": 1,
          "time_hr": 44,
          "tp": "Import"
         },
         {
          "power_MWh": 761000,
          "source": 1,
          "time_hr": 45,
          "tp": "Import"
         },
         {
          "power_MWh": 731000,
          "source": 1,
          "time_hr": 46,
          "tp": "Import"
         },
         {
          "power_MWh": 217000,
          "source": 1,
          "time_hr": 47,
          "tp": "Import"
         },
         {
          "power_MWh": -208000,
          "source": 1,
          "time_hr": 48,
          "tp": "Import"
         },
         {
          "power_MWh": -403000,
          "source": 1,
          "time_hr": 49,
          "tp": "Import"
         },
         {
          "power_MWh": -756000,
          "source": 1,
          "time_hr": 50,
          "tp": "Import"
         },
         {
          "power_MWh": -1148000,
          "source": 1,
          "time_hr": 51,
          "tp": "Import"
         },
         {
          "power_MWh": -1045000,
          "source": 1,
          "time_hr": 52,
          "tp": "Import"
         },
         {
          "power_MWh": -1214000,
          "source": 1,
          "time_hr": 53,
          "tp": "Import"
         },
         {
          "power_MWh": -1124000,
          "source": 1,
          "time_hr": 54,
          "tp": "Import"
         },
         {
          "power_MWh": -1144000,
          "source": 1,
          "time_hr": 55,
          "tp": "Import"
         },
         {
          "power_MWh": -796000,
          "source": 1,
          "time_hr": 56,
          "tp": "Import"
         },
         {
          "power_MWh": -514000,
          "source": 1,
          "time_hr": 57,
          "tp": "Import"
         },
         {
          "power_MWh": -65000,
          "source": 1,
          "time_hr": 58,
          "tp": "Import"
         },
         {
          "power_MWh": 559000,
          "source": 1,
          "time_hr": 59,
          "tp": "Import"
         },
         {
          "power_MWh": 1003000,
          "source": 1,
          "time_hr": 60,
          "tp": "Import"
         },
         {
          "power_MWh": 1357000,
          "source": 1,
          "time_hr": 61,
          "tp": "Import"
         },
         {
          "power_MWh": 1660000,
          "source": 1,
          "time_hr": 62,
          "tp": "Import"
         },
         {
          "power_MWh": 1918000,
          "source": 1,
          "time_hr": 63,
          "tp": "Import"
         },
         {
          "power_MWh": 1999000,
          "source": 1,
          "time_hr": 64,
          "tp": "Import"
         },
         {
          "power_MWh": 2278000,
          "source": 1,
          "time_hr": 65,
          "tp": "Import"
         },
         {
          "power_MWh": 2643000,
          "source": 1,
          "time_hr": 66,
          "tp": "Import"
         },
         {
          "power_MWh": 2616000,
          "source": 1,
          "time_hr": 67,
          "tp": "Import"
         },
         {
          "power_MWh": 2507000,
          "source": 1,
          "time_hr": 68,
          "tp": "Import"
         },
         {
          "power_MWh": 2169000,
          "source": 1,
          "time_hr": 69,
          "tp": "Import"
         },
         {
          "power_MWh": 1867000,
          "source": 1,
          "time_hr": 70,
          "tp": "Import"
         },
         {
          "power_MWh": 1433000,
          "source": 1,
          "time_hr": 71,
          "tp": "Import"
         },
         {
          "power_MWh": 1029000,
          "source": 1,
          "time_hr": 72,
          "tp": "Import"
         },
         {
          "power_MWh": 820000,
          "source": 1,
          "time_hr": 73,
          "tp": "Import"
         },
         {
          "power_MWh": 597000,
          "source": 1,
          "time_hr": 74,
          "tp": "Import"
         },
         {
          "power_MWh": 255000,
          "source": 1,
          "time_hr": 75,
          "tp": "Import"
         },
         {
          "power_MWh": 113000,
          "source": 1,
          "time_hr": 76,
          "tp": "Import"
         },
         {
          "power_MWh": 99000,
          "source": 1,
          "time_hr": 77,
          "tp": "Import"
         },
         {
          "power_MWh": 361000,
          "source": 1,
          "time_hr": 78,
          "tp": "Import"
         },
         {
          "power_MWh": 1006000,
          "source": 1,
          "time_hr": 79,
          "tp": "Import"
         },
         {
          "power_MWh": 1509000,
          "source": 1,
          "time_hr": 80,
          "tp": "Import"
         },
         {
          "power_MWh": 1254000,
          "source": 1,
          "time_hr": 81,
          "tp": "Import"
         },
         {
          "power_MWh": 1133000,
          "source": 1,
          "time_hr": 82,
          "tp": "Import"
         },
         {
          "power_MWh": 1306000,
          "source": 1,
          "time_hr": 83,
          "tp": "Import"
         },
         {
          "power_MWh": 1169000,
          "source": 1,
          "time_hr": 84,
          "tp": "Import"
         },
         {
          "power_MWh": 1180000,
          "source": 1,
          "time_hr": 85,
          "tp": "Import"
         },
         {
          "power_MWh": 1377000,
          "source": 1,
          "time_hr": 86,
          "tp": "Import"
         },
         {
          "power_MWh": 1375000,
          "source": 1,
          "time_hr": 87,
          "tp": "Import"
         },
         {
          "power_MWh": 1542000,
          "source": 1,
          "time_hr": 88,
          "tp": "Import"
         },
         {
          "power_MWh": 1896000,
          "source": 1,
          "time_hr": 89,
          "tp": "Import"
         },
         {
          "power_MWh": 2327000,
          "source": 1,
          "time_hr": 90,
          "tp": "Import"
         },
         {
          "power_MWh": 2144000,
          "source": 1,
          "time_hr": 91,
          "tp": "Import"
         },
         {
          "power_MWh": 1854000,
          "source": 1,
          "time_hr": 92,
          "tp": "Import"
         },
         {
          "power_MWh": 1948000,
          "source": 1,
          "time_hr": 93,
          "tp": "Import"
         },
         {
          "power_MWh": 2122000,
          "source": 1,
          "time_hr": 94,
          "tp": "Import"
         },
         {
          "power_MWh": 2015000,
          "source": 1,
          "time_hr": 95,
          "tp": "Import"
         },
         {
          "power_MWh": 1774000,
          "source": 1,
          "time_hr": 96,
          "tp": "Import"
         },
         {
          "power_MWh": 1742000,
          "source": 1,
          "time_hr": 97,
          "tp": "Import"
         },
         {
          "power_MWh": 1750000,
          "source": 1,
          "time_hr": 98,
          "tp": "Import"
         },
         {
          "power_MWh": 1382000,
          "source": 1,
          "time_hr": 99,
          "tp": "Import"
         },
         {
          "power_MWh": 1073000,
          "source": 1,
          "time_hr": 100,
          "tp": "Import"
         },
         {
          "power_MWh": 1084000,
          "source": 1,
          "time_hr": 101,
          "tp": "Import"
         },
         {
          "power_MWh": 1347000,
          "source": 1,
          "time_hr": 102,
          "tp": "Import"
         },
         {
          "power_MWh": 1926000,
          "source": 1,
          "time_hr": 103,
          "tp": "Import"
         },
         {
          "power_MWh": 2427000,
          "source": 1,
          "time_hr": 104,
          "tp": "Import"
         },
         {
          "power_MWh": 2323000,
          "source": 1,
          "time_hr": 105,
          "tp": "Import"
         },
         {
          "power_MWh": 2362000,
          "source": 1,
          "time_hr": 106,
          "tp": "Import"
         },
         {
          "power_MWh": 2214000,
          "source": 1,
          "time_hr": 107,
          "tp": "Import"
         },
         {
          "power_MWh": 2224000,
          "source": 1,
          "time_hr": 108,
          "tp": "Import"
         },
         {
          "power_MWh": 1929000,
          "source": 1,
          "time_hr": 109,
          "tp": "Import"
         },
         {
          "power_MWh": 1528000,
          "source": 1,
          "time_hr": 110,
          "tp": "Import"
         },
         {
          "power_MWh": 1422000,
          "source": 1,
          "time_hr": 111,
          "tp": "Import"
         },
         {
          "power_MWh": 1321000,
          "source": 1,
          "time_hr": 112,
          "tp": "Import"
         },
         {
          "power_MWh": 1599000,
          "source": 1,
          "time_hr": 113,
          "tp": "Import"
         },
         {
          "power_MWh": 1832000,
          "source": 1,
          "time_hr": 114,
          "tp": "Import"
         },
         {
          "power_MWh": 1645000,
          "source": 1,
          "time_hr": 115,
          "tp": "Import"
         },
         {
          "power_MWh": 1455000,
          "source": 1,
          "time_hr": 116,
          "tp": "Import"
         },
         {
          "power_MWh": 1622000,
          "source": 1,
          "time_hr": 117,
          "tp": "Import"
         },
         {
          "power_MWh": 1526000,
          "source": 1,
          "time_hr": 118,
          "tp": "Import"
         },
         {
          "power_MWh": 1357000,
          "source": 1,
          "time_hr": 119,
          "tp": "Import"
         },
         {
          "power_MWh": 1444000,
          "source": 1,
          "time_hr": 120,
          "tp": "Import"
         },
         {
          "power_MWh": 1439000,
          "source": 1,
          "time_hr": 121,
          "tp": "Import"
         },
         {
          "power_MWh": 1395000,
          "source": 1,
          "time_hr": 122,
          "tp": "Import"
         },
         {
          "power_MWh": 1316000,
          "source": 1,
          "time_hr": 123,
          "tp": "Import"
         },
         {
          "power_MWh": 1358000,
          "source": 1,
          "time_hr": 124,
          "tp": "Import"
         },
         {
          "power_MWh": 1418000,
          "source": 1,
          "time_hr": 125,
          "tp": "Import"
         },
         {
          "power_MWh": 1464000,
          "source": 1,
          "time_hr": 126,
          "tp": "Import"
         },
         {
          "power_MWh": 1549000,
          "source": 1,
          "time_hr": 127,
          "tp": "Import"
         },
         {
          "power_MWh": 1685000,
          "source": 1,
          "time_hr": 128,
          "tp": "Import"
         },
         {
          "power_MWh": 1627000,
          "source": 1,
          "time_hr": 129,
          "tp": "Import"
         },
         {
          "power_MWh": 1241000,
          "source": 1,
          "time_hr": 130,
          "tp": "Import"
         },
         {
          "power_MWh": 1232000,
          "source": 1,
          "time_hr": 131,
          "tp": "Import"
         },
         {
          "power_MWh": 1088000,
          "source": 1,
          "time_hr": 132,
          "tp": "Import"
         },
         {
          "power_MWh": 1027000,
          "source": 1,
          "time_hr": 133,
          "tp": "Import"
         },
         {
          "power_MWh": 963000,
          "source": 1,
          "time_hr": 134,
          "tp": "Import"
         },
         {
          "power_MWh": 919000,
          "source": 1,
          "time_hr": 135,
          "tp": "Import"
         },
         {
          "power_MWh": 1075000,
          "source": 1,
          "time_hr": 136,
          "tp": "Import"
         },
         {
          "power_MWh": 1204000,
          "source": 1,
          "time_hr": 137,
          "tp": "Import"
         },
         {
          "power_MWh": 1151000,
          "source": 1,
          "time_hr": 138,
          "tp": "Import"
         },
         {
          "power_MWh": 1096000,
          "source": 1,
          "time_hr": 139,
          "tp": "Import"
         },
         {
          "power_MWh": 1090000,
          "source": 1,
          "time_hr": 140,
          "tp": "Import"
         },
         {
          "power_MWh": 1084000,
          "source": 1,
          "time_hr": 141,
          "tp": "Import"
         },
         {
          "power_MWh": 1124000,
          "source": 1,
          "time_hr": 142,
          "tp": "Import"
         },
         {
          "power_MWh": 1143000,
          "source": 1,
          "time_hr": 143,
          "tp": "Import"
         },
         {
          "power_MWh": 1082000,
          "source": 1,
          "time_hr": 144,
          "tp": "Import"
         },
         {
          "power_MWh": 1092000,
          "source": 1,
          "time_hr": 145,
          "tp": "Import"
         },
         {
          "power_MWh": 1225000,
          "source": 1,
          "time_hr": 146,
          "tp": "Import"
         },
         {
          "power_MWh": 1243000,
          "source": 1,
          "time_hr": 147,
          "tp": "Import"
         },
         {
          "power_MWh": 1136000,
          "source": 1,
          "time_hr": 148,
          "tp": "Import"
         },
         {
          "power_MWh": 1131000,
          "source": 1,
          "time_hr": 149,
          "tp": "Import"
         },
         {
          "power_MWh": 1233000,
          "source": 1,
          "time_hr": 150,
          "tp": "Import"
         },
         {
          "power_MWh": 1364000,
          "source": 1,
          "time_hr": 151,
          "tp": "Import"
         },
         {
          "power_MWh": 1538000,
          "source": 1,
          "time_hr": 152,
          "tp": "Import"
         },
         {
          "power_MWh": 1683000,
          "source": 1,
          "time_hr": 153,
          "tp": "Import"
         },
         {
          "power_MWh": 1658000,
          "source": 1,
          "time_hr": 154,
          "tp": "Import"
         },
         {
          "power_MWh": 1407000,
          "source": 1,
          "time_hr": 155,
          "tp": "Import"
         },
         {
          "power_MWh": 1262000,
          "source": 1,
          "time_hr": 156,
          "tp": "Import"
         },
         {
          "power_MWh": 1101000,
          "source": 1,
          "time_hr": 157,
          "tp": "Import"
         },
         {
          "power_MWh": 1038000,
          "source": 1,
          "time_hr": 158,
          "tp": "Import"
         },
         {
          "power_MWh": 1163000,
          "source": 1,
          "time_hr": 159,
          "tp": "Import"
         },
         {
          "power_MWh": 1307000,
          "source": 1,
          "time_hr": 160,
          "tp": "Import"
         },
         {
          "power_MWh": 1528000,
          "source": 1,
          "time_hr": 161,
          "tp": "Import"
         },
         {
          "power_MWh": 1870000,
          "source": 1,
          "time_hr": 162,
          "tp": "Import"
         },
         {
          "power_MWh": 1617000,
          "source": 1,
          "time_hr": 163,
          "tp": "Import"
         },
         {
          "power_MWh": 1414000,
          "source": 1,
          "time_hr": 164,
          "tp": "Import"
         },
         {
          "power_MWh": 1207000,
          "source": 1,
          "time_hr": 165,
          "tp": "Import"
         },
         {
          "power_MWh": 985000,
          "source": 1,
          "time_hr": 166,
          "tp": "Import"
         },
         {
          "power_MWh": 882000,
          "source": 1,
          "time_hr": 167,
          "tp": "Import"
         },
         {
          "power_MWh": 633000,
          "source": 1,
          "time_hr": 168,
          "tp": "Import"
         },
         {
          "power_MWh": 594000,
          "source": 1,
          "time_hr": 169,
          "tp": "Import"
         },
         {
          "power_MWh": 673000,
          "source": 1,
          "time_hr": 170,
          "tp": "Import"
         },
         {
          "power_MWh": 625000,
          "source": 1,
          "time_hr": 171,
          "tp": "Import"
         },
         {
          "power_MWh": 794000,
          "source": 1,
          "time_hr": 172,
          "tp": "Import"
         },
         {
          "power_MWh": 1060000,
          "source": 1,
          "time_hr": 173,
          "tp": "Import"
         },
         {
          "power_MWh": 1446000,
          "source": 1,
          "time_hr": 174,
          "tp": "Import"
         },
         {
          "power_MWh": 1923000,
          "source": 1,
          "time_hr": 175,
          "tp": "Import"
         },
         {
          "power_MWh": 2317000,
          "source": 1,
          "time_hr": 176,
          "tp": "Import"
         },
         {
          "power_MWh": 2320000,
          "source": 1,
          "time_hr": 177,
          "tp": "Import"
         },
         {
          "power_MWh": 2146000,
          "source": 1,
          "time_hr": 178,
          "tp": "Import"
         },
         {
          "power_MWh": 1877000,
          "source": 1,
          "time_hr": 179,
          "tp": "Import"
         },
         {
          "power_MWh": 1848000,
          "source": 1,
          "time_hr": 180,
          "tp": "Import"
         },
         {
          "power_MWh": 1630000,
          "source": 1,
          "time_hr": 181,
          "tp": "Import"
         },
         {
          "power_MWh": 1809000,
          "source": 1,
          "time_hr": 182,
          "tp": "Import"
         },
         {
          "power_MWh": 2067000,
          "source": 1,
          "time_hr": 183,
          "tp": "Import"
         },
         {
          "power_MWh": 2146000,
          "source": 1,
          "time_hr": 184,
          "tp": "Import"
         },
         {
          "power_MWh": 2383000,
          "source": 1,
          "time_hr": 185,
          "tp": "Import"
         },
         {
          "power_MWh": 2465000,
          "source": 1,
          "time_hr": 186,
          "tp": "Import"
         },
         {
          "power_MWh": 1716000,
          "source": 1,
          "time_hr": 187,
          "tp": "Import"
         },
         {
          "power_MWh": 1388000,
          "source": 1,
          "time_hr": 188,
          "tp": "Import"
         },
         {
          "power_MWh": 1009000,
          "source": 1,
          "time_hr": 189,
          "tp": "Import"
         },
         {
          "power_MWh": 587000,
          "source": 1,
          "time_hr": 190,
          "tp": "Import"
         },
         {
          "power_MWh": 74000,
          "source": 1,
          "time_hr": 191,
          "tp": "Import"
         },
         {
          "power_MWh": -225000,
          "source": 1,
          "time_hr": 192,
          "tp": "Import"
         },
         {
          "power_MWh": -457000,
          "source": 1,
          "time_hr": 193,
          "tp": "Import"
         },
         {
          "power_MWh": -771000,
          "source": 1,
          "time_hr": 194,
          "tp": "Import"
         },
         {
          "power_MWh": -860000,
          "source": 1,
          "time_hr": 195,
          "tp": "Import"
         },
         {
          "power_MWh": -930000,
          "source": 1,
          "time_hr": 196,
          "tp": "Import"
         },
         {
          "power_MWh": -1067000,
          "source": 1,
          "time_hr": 197,
          "tp": "Import"
         },
         {
          "power_MWh": -1184000,
          "source": 1,
          "time_hr": 198,
          "tp": "Import"
         },
         {
          "power_MWh": -1152000,
          "source": 1,
          "time_hr": 199,
          "tp": "Import"
         },
         {
          "power_MWh": -753000,
          "source": 1,
          "time_hr": 200,
          "tp": "Import"
         },
         {
          "power_MWh": -592000,
          "source": 1,
          "time_hr": 201,
          "tp": "Import"
         },
         {
          "power_MWh": -201000,
          "source": 1,
          "time_hr": 202,
          "tp": "Import"
         },
         {
          "power_MWh": -341000,
          "source": 1,
          "time_hr": 203,
          "tp": "Import"
         },
         {
          "power_MWh": -543000,
          "source": 1,
          "time_hr": 204,
          "tp": "Import"
         },
         {
          "power_MWh": -847000,
          "source": 1,
          "time_hr": 205,
          "tp": "Import"
         },
         {
          "power_MWh": -964000,
          "source": 1,
          "time_hr": 206,
          "tp": "Import"
         },
         {
          "power_MWh": -1018000,
          "source": 1,
          "time_hr": 207,
          "tp": "Import"
         },
         {
          "power_MWh": -1124000,
          "source": 1,
          "time_hr": 208,
          "tp": "Import"
         },
         {
          "power_MWh": -1021000,
          "source": 1,
          "time_hr": 209,
          "tp": "Import"
         },
         {
          "power_MWh": -608000,
          "source": 1,
          "time_hr": 210,
          "tp": "Import"
         },
         {
          "power_MWh": -847000,
          "source": 1,
          "time_hr": 211,
          "tp": "Import"
         },
         {
          "power_MWh": -788000,
          "source": 1,
          "time_hr": 212,
          "tp": "Import"
         },
         {
          "power_MWh": -807000,
          "source": 1,
          "time_hr": 213,
          "tp": "Import"
         },
         {
          "power_MWh": -1170000,
          "source": 1,
          "time_hr": 214,
          "tp": "Import"
         },
         {
          "power_MWh": -1015000,
          "source": 1,
          "time_hr": 215,
          "tp": "Import"
         },
         {
          "power_MWh": -1022000,
          "source": 1,
          "time_hr": 216,
          "tp": "Import"
         },
         {
          "power_MWh": -941000,
          "source": 1,
          "time_hr": 217,
          "tp": "Import"
         },
         {
          "power_MWh": -926000,
          "source": 1,
          "time_hr": 218,
          "tp": "Import"
         },
         {
          "power_MWh": -683000,
          "source": 1,
          "time_hr": 219,
          "tp": "Import"
         },
         {
          "power_MWh": -451000,
          "source": 1,
          "time_hr": 220,
          "tp": "Import"
         },
         {
          "power_MWh": -128000,
          "source": 1,
          "time_hr": 221,
          "tp": "Import"
         },
         {
          "power_MWh": 52000,
          "source": 1,
          "time_hr": 222,
          "tp": "Import"
         },
         {
          "power_MWh": 308000,
          "source": 1,
          "time_hr": 223,
          "tp": "Import"
         },
         {
          "power_MWh": 421000,
          "source": 1,
          "time_hr": 224,
          "tp": "Import"
         },
         {
          "power_MWh": 294000,
          "source": 1,
          "time_hr": 225,
          "tp": "Import"
         },
         {
          "power_MWh": 536000,
          "source": 1,
          "time_hr": 226,
          "tp": "Import"
         },
         {
          "power_MWh": 923000,
          "source": 1,
          "time_hr": 227,
          "tp": "Import"
         },
         {
          "power_MWh": 960000,
          "source": 1,
          "time_hr": 228,
          "tp": "Import"
         },
         {
          "power_MWh": 964000,
          "source": 1,
          "time_hr": 229,
          "tp": "Import"
         },
         {
          "power_MWh": 938000,
          "source": 1,
          "time_hr": 230,
          "tp": "Import"
         },
         {
          "power_MWh": 911000,
          "source": 1,
          "time_hr": 231,
          "tp": "Import"
         },
         {
          "power_MWh": 654000,
          "source": 1,
          "time_hr": 232,
          "tp": "Import"
         },
         {
          "power_MWh": 740000,
          "source": 1,
          "time_hr": 233,
          "tp": "Import"
         },
         {
          "power_MWh": 948000,
          "source": 1,
          "time_hr": 234,
          "tp": "Import"
         },
         {
          "power_MWh": 939000,
          "source": 1,
          "time_hr": 235,
          "tp": "Import"
         },
         {
          "power_MWh": 1002000,
          "source": 1,
          "time_hr": 236,
          "tp": "Import"
         },
         {
          "power_MWh": 985000,
          "source": 1,
          "time_hr": 237,
          "tp": "Import"
         },
         {
          "power_MWh": 943000,
          "source": 1,
          "time_hr": 238,
          "tp": "Import"
         },
         {
          "power_MWh": 1099000,
          "source": 1,
          "time_hr": 239,
          "tp": "Import"
         },
         {
          "power_MWh": 636000,
          "source": 1,
          "time_hr": 240,
          "tp": "Import"
         },
         {
          "power_MWh": 1031000,
          "source": 1,
          "time_hr": 241,
          "tp": "Import"
         },
         {
          "power_MWh": 957000,
          "source": 1,
          "time_hr": 242,
          "tp": "Import"
         },
         {
          "power_MWh": 923000,
          "source": 1,
          "time_hr": 243,
          "tp": "Import"
         },
         {
          "power_MWh": 907000,
          "source": 1,
          "time_hr": 244,
          "tp": "Import"
         },
         {
          "power_MWh": 996000,
          "source": 1,
          "time_hr": 245,
          "tp": "Import"
         },
         {
          "power_MWh": 786000,
          "source": 1,
          "time_hr": 246,
          "tp": "Import"
         },
         {
          "power_MWh": 997000,
          "source": 1,
          "time_hr": 247,
          "tp": "Import"
         },
         {
          "power_MWh": 1036000,
          "source": 1,
          "time_hr": 248,
          "tp": "Import"
         },
         {
          "power_MWh": 1149000,
          "source": 1,
          "time_hr": 249,
          "tp": "Import"
         },
         {
          "power_MWh": 1252000,
          "source": 1,
          "time_hr": 250,
          "tp": "Import"
         },
         {
          "power_MWh": 1172000,
          "source": 1,
          "time_hr": 251,
          "tp": "Import"
         },
         {
          "power_MWh": 927000,
          "source": 1,
          "time_hr": 252,
          "tp": "Import"
         },
         {
          "power_MWh": 645000,
          "source": 1,
          "time_hr": 253,
          "tp": "Import"
         },
         {
          "power_MWh": 540000,
          "source": 1,
          "time_hr": 254,
          "tp": "Import"
         },
         {
          "power_MWh": 593000,
          "source": 1,
          "time_hr": 255,
          "tp": "Import"
         },
         {
          "power_MWh": 546000,
          "source": 1,
          "time_hr": 256,
          "tp": "Import"
         },
         {
          "power_MWh": 581000,
          "source": 1,
          "time_hr": 257,
          "tp": "Import"
         },
         {
          "power_MWh": 886000,
          "source": 1,
          "time_hr": 258,
          "tp": "Import"
         },
         {
          "power_MWh": 662000,
          "source": 1,
          "time_hr": 259,
          "tp": "Import"
         },
         {
          "power_MWh": 657000,
          "source": 1,
          "time_hr": 260,
          "tp": "Import"
         },
         {
          "power_MWh": 895000,
          "source": 1,
          "time_hr": 261,
          "tp": "Import"
         },
         {
          "power_MWh": 758000,
          "source": 1,
          "time_hr": 262,
          "tp": "Import"
         },
         {
          "power_MWh": 674000,
          "source": 1,
          "time_hr": 263,
          "tp": "Import"
         },
         {
          "power_MWh": 725000,
          "source": 1,
          "time_hr": 264,
          "tp": "Import"
         },
         {
          "power_MWh": 320000,
          "source": 1,
          "time_hr": 265,
          "tp": "Import"
         },
         {
          "power_MWh": 350000,
          "source": 1,
          "time_hr": 266,
          "tp": "Import"
         },
         {
          "power_MWh": 243000,
          "source": 1,
          "time_hr": 267,
          "tp": "Import"
         },
         {
          "power_MWh": 230000,
          "source": 1,
          "time_hr": 268,
          "tp": "Import"
         },
         {
          "power_MWh": 204000,
          "source": 1,
          "time_hr": 269,
          "tp": "Import"
         },
         {
          "power_MWh": 155000,
          "source": 1,
          "time_hr": 270,
          "tp": "Import"
         },
         {
          "power_MWh": 318000,
          "source": 1,
          "time_hr": 271,
          "tp": "Import"
         },
         {
          "power_MWh": 33000,
          "source": 1,
          "time_hr": 272,
          "tp": "Import"
         },
         {
          "power_MWh": -271000,
          "source": 1,
          "time_hr": 273,
          "tp": "Import"
         },
         {
          "power_MWh": -131000,
          "source": 1,
          "time_hr": 274,
          "tp": "Import"
         },
         {
          "power_MWh": -19000,
          "source": 1,
          "time_hr": 275,
          "tp": "Import"
         },
         {
          "power_MWh": -427000,
          "source": 1,
          "time_hr": 276,
          "tp": "Import"
         },
         {
          "power_MWh": -252000,
          "source": 1,
          "time_hr": 277,
          "tp": "Import"
         },
         {
          "power_MWh": -173000,
          "source": 1,
          "time_hr": 278,
          "tp": "Import"
         },
         {
          "power_MWh": -228000,
          "source": 1,
          "time_hr": 279,
          "tp": "Import"
         },
         {
          "power_MWh": -171000,
          "source": 1,
          "time_hr": 280,
          "tp": "Import"
         },
         {
          "power_MWh": -177000,
          "source": 1,
          "time_hr": 281,
          "tp": "Import"
         },
         {
          "power_MWh": 49000,
          "source": 1,
          "time_hr": 282,
          "tp": "Import"
         },
         {
          "power_MWh": 75000,
          "source": 1,
          "time_hr": 283,
          "tp": "Import"
         },
         {
          "power_MWh": 127000,
          "source": 1,
          "time_hr": 284,
          "tp": "Import"
         },
         {
          "power_MWh": 211000,
          "source": 1,
          "time_hr": 285,
          "tp": "Import"
         },
         {
          "power_MWh": 119000,
          "source": 1,
          "time_hr": 286,
          "tp": "Import"
         },
         {
          "power_MWh": 3000,
          "source": 1,
          "time_hr": 287,
          "tp": "Import"
         },
         {
          "power_MWh": -126000,
          "source": 1,
          "time_hr": 288,
          "tp": "Import"
         },
         {
          "power_MWh": -198000,
          "source": 1,
          "time_hr": 289,
          "tp": "Import"
         },
         {
          "power_MWh": -239000,
          "source": 1,
          "time_hr": 290,
          "tp": "Import"
         },
         {
          "power_MWh": -401000,
          "source": 1,
          "time_hr": 291,
          "tp": "Import"
         },
         {
          "power_MWh": -471000,
          "source": 1,
          "time_hr": 292,
          "tp": "Import"
         },
         {
          "power_MWh": -508000,
          "source": 1,
          "time_hr": 293,
          "tp": "Import"
         },
         {
          "power_MWh": -550000,
          "source": 1,
          "time_hr": 294,
          "tp": "Import"
         },
         {
          "power_MWh": -385000,
          "source": 1,
          "time_hr": 295,
          "tp": "Import"
         },
         {
          "power_MWh": -184000,
          "source": 1,
          "time_hr": 296,
          "tp": "Import"
         },
         {
          "power_MWh": -34000,
          "source": 1,
          "time_hr": 297,
          "tp": "Import"
         },
         {
          "power_MWh": 25000,
          "source": 1,
          "time_hr": 298,
          "tp": "Import"
         },
         {
          "power_MWh": -142000,
          "source": 1,
          "time_hr": 299,
          "tp": "Import"
         },
         {
          "power_MWh": -367000,
          "source": 1,
          "time_hr": 300,
          "tp": "Import"
         }
        ]
       },
       "hieght": 700,
       "layer": [
        {
         "encoding": {
          "color": {
           "field": "tp",
           "type": "nominal"
          },
          "x": {
           "field": "time_hr",
           "type": "quantitative"
          },
          "y": {
           "field": "power_MWh",
           "stack": "zero",
           "type": "quantitative"
          }
         },
         "mark": "area",
         "transform": [
          {
           "filter": "datum.source==1"
          }
         ]
        },
        {
         "encoding": {
          "color": {
           "field": "tp",
           "scale": {
            "range": [
             "red",
             "#a1d99b",
             "#fd8d3c",
             "#3182bd"
            ]
           },
           "type": "nominal"
          },
          "x": {
           "field": "time_hr",
           "type": "quantitative"
          },
          "y": {
           "field": "power_MWh",
           "type": "quantitative"
          }
         },
         "mark": "line",
         "transform": [
          {
           "filter": "datum.source==2"
          }
         ]
        }
       ],
       "width": 850
      },
      "image/png": "[encoded data removed]",
      "image/svg+xml": [
       "<?xml version=\"1.0\" encoding=\"utf-8\"?>\n",
       "<!DOCTYPE svg PUBLIC \"-//W3C//DTD SVG 1.1//EN\" \"http://www.w3.org/Graphics/SVG/1.1/DTD/svg11.dtd\">\n",
       "<svg class=\"marks\" width=\"1023\" height=\"247\" viewBox=\"0 0 1023 247\" version=\"1.1\" xmlns=\"http://www.w3.org/2000/svg\" xmlns:xlink=\"http://www.w3.org/1999/xlink\"><rect width=\"1023\" height=\"247\" fill=\"white\"></rect><g fill=\"none\" stroke-miterlimit=\"10\" transform=\"translate(72,10)\"><g class=\"mark-group role-frame root\" role=\"graphics-object\" aria-roledescription=\"group mark container\"><g transform=\"translate(0,0)\"><path class=\"background\" aria-hidden=\"true\" d=\"M0.5,0.5h850v200h-850Z\" stroke=\"#ddd\"></path><g><g class=\"mark-group role-axis\" aria-hidden=\"true\"><g transform=\"translate(0.5,200.5)\"><path class=\"background\" aria-hidden=\"true\" d=\"M0,0h0v0h0Z\" pointer-events=\"none\"></path><g><g class=\"mark-rule role-axis-grid\" pointer-events=\"none\"><line transform=\"translate(0,-200)\" x2=\"0\" y2=\"200\" stroke=\"#ddd\" stroke-width=\"1\" opacity=\"1\"></line><line transform=\"translate(28,-200)\" x2=\"0\" y2=\"200\" stroke=\"#ddd\" stroke-width=\"1\" opacity=\"1\"></line><line transform=\"translate(57,-200)\" x2=\"0\" y2=\"200\" stroke=\"#ddd\" stroke-width=\"1\" opacity=\"1\"></line><line transform=\"translate(85,-200)\" x2=\"0\" y2=\"200\" stroke=\"#ddd\" stroke-width=\"1\" opacity=\"1\"></line><line transform=\"translate(113,-200)\" x2=\"0\" y2=\"200\" stroke=\"#ddd\" stroke-width=\"1\" opacity=\"1\"></line><line transform=\"translate(142,-200)\" x2=\"0\" y2=\"200\" stroke=\"#ddd\" stroke-width=\"1\" opacity=\"1\"></line><line transform=\"translate(170,-200)\" x2=\"0\" y2=\"200\" stroke=\"#ddd\" stroke-width=\"1\" opacity=\"1\"></line><line transform=\"translate(198,-200)\" x2=\"0\" y2=\"200\" stroke=\"#ddd\" stroke-width=\"1\" opacity=\"1\"></line><line transform=\"translate(227,-200)\" x2=\"0\" y2=\"200\" stroke=\"#ddd\" stroke-width=\"1\" opacity=\"1\"></line><line transform=\"translate(255,-200)\" x2=\"0\" y2=\"200\" stroke=\"#ddd\" stroke-width=\"1\" opacity=\"1\"></line><line transform=\"translate(283,-200)\" x2=\"0\" y2=\"200\" stroke=\"#ddd\" stroke-width=\"1\" opacity=\"1\"></line><line transform=\"translate(312,-200)\" x2=\"0\" y2=\"200\" stroke=\"#ddd\" stroke-width=\"1\" opacity=\"1\"></line><line transform=\"translate(340,-200)\" x2=\"0\" y2=\"200\" stroke=\"#ddd\" stroke-width=\"1\" opacity=\"1\"></line><line transform=\"translate(368,-200)\" x2=\"0\" y2=\"200\" stroke=\"#ddd\" stroke-width=\"1\" opacity=\"1\"></line><line transform=\"translate(397,-200)\" x2=\"0\" y2=\"200\" stroke=\"#ddd\" stroke-width=\"1\" opacity=\"1\"></line><line transform=\"translate(425,-200)\" x2=\"0\" y2=\"200\" stroke=\"#ddd\" stroke-width=\"1\" opacity=\"1\"></line><line transform=\"translate(453,-200)\" x2=\"0\" y2=\"200\" stroke=\"#ddd\" stroke-width=\"1\" opacity=\"1\"></line><line transform=\"translate(482,-200)\" x2=\"0\" y2=\"200\" stroke=\"#ddd\" stroke-width=\"1\" opacity=\"1\"></line><line transform=\"translate(510,-200)\" x2=\"0\" y2=\"200\" stroke=\"#ddd\" stroke-width=\"1\" opacity=\"1\"></line><line transform=\"translate(538,-200)\" x2=\"0\" y2=\"200\" stroke=\"#ddd\" stroke-width=\"1\" opacity=\"1\"></line><line transform=\"translate(567,-200)\" x2=\"0\" y2=\"200\" stroke=\"#ddd\" stroke-width=\"1\" opacity=\"1\"></line><line transform=\"translate(595,-200)\" x2=\"0\" y2=\"200\" stroke=\"#ddd\" stroke-width=\"1\" opacity=\"1\"></line><line transform=\"translate(623,-200)\" x2=\"0\" y2=\"200\" stroke=\"#ddd\" stroke-width=\"1\" opacity=\"1\"></line><line transform=\"translate(652,-200)\" x2=\"0\" y2=\"200\" stroke=\"#ddd\" stroke-width=\"1\" opacity=\"1\"></line><line transform=\"translate(680,-200)\" x2=\"0\" y2=\"200\" stroke=\"#ddd\" stroke-width=\"1\" opacity=\"1\"></line><line transform=\"translate(708,-200)\" x2=\"0\" y2=\"200\" stroke=\"#ddd\" stroke-width=\"1\" opacity=\"1\"></line><line transform=\"translate(737,-200)\" x2=\"0\" y2=\"200\" stroke=\"#ddd\" stroke-width=\"1\" opacity=\"1\"></line><line transform=\"translate(765,-200)\" x2=\"0\" y2=\"200\" stroke=\"#ddd\" stroke-width=\"1\" opacity=\"1\"></line><line transform=\"translate(793,-200)\" x2=\"0\" y2=\"200\" stroke=\"#ddd\" stroke-width=\"1\" opacity=\"1\"></line><line transform=\"translate(822,-200)\" x2=\"0\" y2=\"200\" stroke=\"#ddd\" stroke-width=\"1\" opacity=\"1\"></line><line transform=\"translate(850,-200)\" x2=\"0\" y2=\"200\" stroke=\"#ddd\" stroke-width=\"1\" opacity=\"1\"></line></g></g><path class=\"foreground\" aria-hidden=\"true\" d=\"\" pointer-events=\"none\" display=\"none\"></path></g></g><g class=\"mark-group role-axis\" aria-hidden=\"true\"><g transform=\"translate(0.5,0.5)\"><path class=\"background\" aria-hidden=\"true\" d=\"M0,0h0v0h0Z\" pointer-events=\"none\"></path><g><g class=\"mark-rule role-axis-grid\" pointer-events=\"none\"><line transform=\"translate(0,200)\" x2=\"850\" y2=\"0\" stroke=\"#ddd\" stroke-width=\"1\" opacity=\"1\"></line><line transform=\"translate(0,150)\" x2=\"850\" y2=\"0\" stroke=\"#ddd\" stroke-width=\"1\" opacity=\"1\"></line><line transform=\"translate(0,100)\" x2=\"850\" y2=\"0\" stroke=\"#ddd\" stroke-width=\"1\" opacity=\"1\"></line><line transform=\"translate(0,50)\" x2=\"850\" y2=\"0\" stroke=\"#ddd\" stroke-width=\"1\" opacity=\"1\"></line><line transform=\"translate(0,0)\" x2=\"850\" y2=\"0\" stroke=\"#ddd\" stroke-width=\"1\" opacity=\"1\"></line></g></g><path class=\"foreground\" aria-hidden=\"true\" d=\"\" pointer-events=\"none\" display=\"none\"></path></g></g><g class=\"mark-group role-axis\" role=\"graphics-symbol\" aria-roledescription=\"axis\" aria-label=\"X-axis titled 'time_hr' for a linear scale with values from 0 to 300\"><g transform=\"translate(0.5,200.5)\"><path class=\"background\" aria-hidden=\"true\" d=\"M0,0h0v0h0Z\" pointer-events=\"none\"></path><g><g class=\"mark-rule role-axis-tick\" pointer-events=\"none\"><line transform=\"translate(0,0)\" x2=\"0\" y2=\"5\" stroke=\"#888\" stroke-width=\"1\" opacity=\"1\"></line><line transform=\"translate(28,0)\" x2=\"0\" y2=\"5\" stroke=\"#888\" stroke-width=\"1\" opacity=\"1\"></line><line transform=\"translate(57,0)\" x2=\"0\" y2=\"5\" stroke=\"#888\" stroke-width=\"1\" opacity=\"1\"></line><line transform=\"translate(85,0)\" x2=\"0\" y2=\"5\" stroke=\"#888\" stroke-width=\"1\" opacity=\"1\"></line><line transform=\"translate(113,0)\" x2=\"0\" y2=\"5\" stroke=\"#888\" stroke-width=\"1\" opacity=\"1\"></line><line transform=\"translate(142,0)\" x2=\"0\" y2=\"5\" stroke=\"#888\" stroke-width=\"1\" opacity=\"1\"></line><line transform=\"translate(170,0)\" x2=\"0\" y2=\"5\" stroke=\"#888\" stroke-width=\"1\" opacity=\"1\"></line><line transform=\"translate(198,0)\" x2=\"0\" y2=\"5\" stroke=\"#888\" stroke-width=\"1\" opacity=\"1\"></line><line transform=\"translate(227,0)\" x2=\"0\" y2=\"5\" stroke=\"#888\" stroke-width=\"1\" opacity=\"1\"></line><line transform=\"translate(255,0)\" x2=\"0\" y2=\"5\" stroke=\"#888\" stroke-width=\"1\" opacity=\"1\"></line><line transform=\"translate(283,0)\" x2=\"0\" y2=\"5\" stroke=\"#888\" stroke-width=\"1\" opacity=\"1\"></line><line transform=\"translate(312,0)\" x2=\"0\" y2=\"5\" stroke=\"#888\" stroke-width=\"1\" opacity=\"1\"></line><line transform=\"translate(340,0)\" x2=\"0\" y2=\"5\" stroke=\"#888\" stroke-width=\"1\" opacity=\"1\"></line><line transform=\"translate(368,0)\" x2=\"0\" y2=\"5\" stroke=\"#888\" stroke-width=\"1\" opacity=\"1\"></line><line transform=\"translate(397,0)\" x2=\"0\" y2=\"5\" stroke=\"#888\" stroke-width=\"1\" opacity=\"1\"></line><line transform=\"translate(425,0)\" x2=\"0\" y2=\"5\" stroke=\"#888\" stroke-width=\"1\" opacity=\"1\"></line><line transform=\"translate(453,0)\" x2=\"0\" y2=\"5\" stroke=\"#888\" stroke-width=\"1\" opacity=\"1\"></line><line transform=\"translate(482,0)\" x2=\"0\" y2=\"5\" stroke=\"#888\" stroke-width=\"1\" opacity=\"1\"></line><line transform=\"translate(510,0)\" x2=\"0\" y2=\"5\" stroke=\"#888\" stroke-width=\"1\" opacity=\"1\"></line><line transform=\"translate(538,0)\" x2=\"0\" y2=\"5\" stroke=\"#888\" stroke-width=\"1\" opacity=\"1\"></line><line transform=\"translate(567,0)\" x2=\"0\" y2=\"5\" stroke=\"#888\" stroke-width=\"1\" opacity=\"1\"></line><line transform=\"translate(595,0)\" x2=\"0\" y2=\"5\" stroke=\"#888\" stroke-width=\"1\" opacity=\"1\"></line><line transform=\"translate(623,0)\" x2=\"0\" y2=\"5\" stroke=\"#888\" stroke-width=\"1\" opacity=\"1\"></line><line transform=\"translate(652,0)\" x2=\"0\" y2=\"5\" stroke=\"#888\" stroke-width=\"1\" opacity=\"1\"></line><line transform=\"translate(680,0)\" x2=\"0\" y2=\"5\" stroke=\"#888\" stroke-width=\"1\" opacity=\"1\"></line><line transform=\"translate(708,0)\" x2=\"0\" y2=\"5\" stroke=\"#888\" stroke-width=\"1\" opacity=\"1\"></line><line transform=\"translate(737,0)\" x2=\"0\" y2=\"5\" stroke=\"#888\" stroke-width=\"1\" opacity=\"1\"></line><line transform=\"translate(765,0)\" x2=\"0\" y2=\"5\" stroke=\"#888\" stroke-width=\"1\" opacity=\"1\"></line><line transform=\"translate(793,0)\" x2=\"0\" y2=\"5\" stroke=\"#888\" stroke-width=\"1\" opacity=\"1\"></line><line transform=\"translate(822,0)\" x2=\"0\" y2=\"5\" stroke=\"#888\" stroke-width=\"1\" opacity=\"1\"></line><line transform=\"translate(850,0)\" x2=\"0\" y2=\"5\" stroke=\"#888\" stroke-width=\"1\" opacity=\"1\"></line></g><g class=\"mark-text role-axis-label\" pointer-events=\"none\"><text text-anchor=\"start\" transform=\"translate(0,15)\" font-family=\"sans-serif\" font-size=\"10px\" fill=\"#000\" opacity=\"1\">0</text><text text-anchor=\"middle\" transform=\"translate(28.333333333333332,15)\" font-family=\"sans-serif\" font-size=\"10px\" fill=\"#000\" opacity=\"1\">10</text><text text-anchor=\"middle\" transform=\"translate(56.666666666666664,15)\" font-family=\"sans-serif\" font-size=\"10px\" fill=\"#000\" opacity=\"1\">20</text><text text-anchor=\"middle\" transform=\"translate(85,15)\" font-family=\"sans-serif\" font-size=\"10px\" fill=\"#000\" opacity=\"1\">30</text><text text-anchor=\"middle\" transform=\"translate(113.33333333333333,15)\" font-family=\"sans-serif\" font-size=\"10px\" fill=\"#000\" opacity=\"1\">40</text><text text-anchor=\"middle\" transform=\"translate(141.66666666666666,15)\" font-family=\"sans-serif\" font-size=\"10px\" fill=\"#000\" opacity=\"1\">50</text><text text-anchor=\"middle\" transform=\"translate(170,15)\" font-family=\"sans-serif\" font-size=\"10px\" fill=\"#000\" opacity=\"1\">60</text><text text-anchor=\"middle\" transform=\"translate(198.33333333333334,15)\" font-family=\"sans-serif\" font-size=\"10px\" fill=\"#000\" opacity=\"1\">70</text><text text-anchor=\"middle\" transform=\"translate(226.66666666666666,15)\" font-family=\"sans-serif\" font-size=\"10px\" fill=\"#000\" opacity=\"1\">80</text><text text-anchor=\"middle\" transform=\"translate(255,15)\" font-family=\"sans-serif\" font-size=\"10px\" fill=\"#000\" opacity=\"1\">90</text><text text-anchor=\"middle\" transform=\"translate(283.3333333333333,15)\" font-family=\"sans-serif\" font-size=\"10px\" fill=\"#000\" opacity=\"1\">100</text><text text-anchor=\"middle\" transform=\"translate(311.66666666666663,15)\" font-family=\"sans-serif\" font-size=\"10px\" fill=\"#000\" opacity=\"1\">110</text><text text-anchor=\"middle\" transform=\"translate(340,15)\" font-family=\"sans-serif\" font-size=\"10px\" fill=\"#000\" opacity=\"1\">120</text><text text-anchor=\"middle\" transform=\"translate(368.33333333333337,15)\" font-family=\"sans-serif\" font-size=\"10px\" fill=\"#000\" opacity=\"1\">130</text><text text-anchor=\"middle\" transform=\"translate(396.6666666666667,15)\" font-family=\"sans-serif\" font-size=\"10px\" fill=\"#000\" opacity=\"1\">140</text><text text-anchor=\"middle\" transform=\"translate(425,15)\" font-family=\"sans-serif\" font-size=\"10px\" fill=\"#000\" opacity=\"1\">150</text><text text-anchor=\"middle\" transform=\"translate(453.3333333333333,15)\" font-family=\"sans-serif\" font-size=\"10px\" fill=\"#000\" opacity=\"1\">160</text><text text-anchor=\"middle\" transform=\"translate(481.66666666666663,15)\" font-family=\"sans-serif\" font-size=\"10px\" fill=\"#000\" opacity=\"1\">170</text><text text-anchor=\"middle\" transform=\"translate(510,15)\" font-family=\"sans-serif\" font-size=\"10px\" fill=\"#000\" opacity=\"1\">180</text><text text-anchor=\"middle\" transform=\"translate(538.3333333333333,15)\" font-family=\"sans-serif\" font-size=\"10px\" fill=\"#000\" opacity=\"1\">190</text><text text-anchor=\"middle\" transform=\"translate(566.6666666666666,15)\" font-family=\"sans-serif\" font-size=\"10px\" fill=\"#000\" opacity=\"1\">200</text><text text-anchor=\"middle\" transform=\"translate(595,15)\" font-family=\"sans-serif\" font-size=\"10px\" fill=\"#000\" opacity=\"1\">210</text><text text-anchor=\"middle\" transform=\"translate(623.3333333333333,15)\" font-family=\"sans-serif\" font-size=\"10px\" fill=\"#000\" opacity=\"1\">220</text><text text-anchor=\"middle\" transform=\"translate(651.6666666666667,15)\" font-family=\"sans-serif\" font-size=\"10px\" fill=\"#000\" opacity=\"1\">230</text><text text-anchor=\"middle\" transform=\"translate(680,15)\" font-family=\"sans-serif\" font-size=\"10px\" fill=\"#000\" opacity=\"1\">240</text><text text-anchor=\"middle\" transform=\"translate(708.3333333333334,15)\" font-family=\"sans-serif\" font-size=\"10px\" fill=\"#000\" opacity=\"1\">250</text><text text-anchor=\"middle\" transform=\"translate(736.6666666666667,15)\" font-family=\"sans-serif\" font-size=\"10px\" fill=\"#000\" opacity=\"1\">260</text><text text-anchor=\"middle\" transform=\"translate(765,15)\" font-family=\"sans-serif\" font-size=\"10px\" fill=\"#000\" opacity=\"1\">270</text><text text-anchor=\"middle\" transform=\"translate(793.3333333333334,15)\" font-family=\"sans-serif\" font-size=\"10px\" fill=\"#000\" opacity=\"1\">280</text><text text-anchor=\"middle\" transform=\"translate(821.6666666666666,15)\" font-family=\"sans-serif\" font-size=\"10px\" fill=\"#000\" opacity=\"1\">290</text><text text-anchor=\"end\" transform=\"translate(850,15)\" font-family=\"sans-serif\" font-size=\"10px\" fill=\"#000\" opacity=\"1\">300</text></g><g class=\"mark-rule role-axis-domain\" pointer-events=\"none\"><line transform=\"translate(0,0)\" x2=\"850\" y2=\"0\" stroke=\"#888\" stroke-width=\"1\" opacity=\"1\"></line></g><g class=\"mark-text role-axis-title\" pointer-events=\"none\"><text text-anchor=\"middle\" transform=\"translate(425,30)\" font-family=\"sans-serif\" font-size=\"11px\" font-weight=\"bold\" fill=\"#000\" opacity=\"1\">time_hr</text></g></g><path class=\"foreground\" aria-hidden=\"true\" d=\"\" pointer-events=\"none\" display=\"none\"></path></g></g><g class=\"mark-group role-axis\" role=\"graphics-symbol\" aria-roledescription=\"axis\" aria-label=\"Y-axis titled 'power_MWh' for a linear scale with values from -2,000,000 to 6,000,000\"><g transform=\"translate(0.5,0.5)\"><path class=\"background\" aria-hidden=\"true\" d=\"M0,0h0v0h0Z\" pointer-events=\"none\"></path><g><g class=\"mark-rule role-axis-tick\" pointer-events=\"none\"><line transform=\"translate(0,200)\" x2=\"-5\" y2=\"0\" stroke=\"#888\" stroke-width=\"1\" opacity=\"1\"></line><line transform=\"translate(0,150)\" x2=\"-5\" y2=\"0\" stroke=\"#888\" stroke-width=\"1\" opacity=\"1\"></line><line transform=\"translate(0,100)\" x2=\"-5\" y2=\"0\" stroke=\"#888\" stroke-width=\"1\" opacity=\"1\"></line><line transform=\"translate(0,50)\" x2=\"-5\" y2=\"0\" stroke=\"#888\" stroke-width=\"1\" opacity=\"1\"></line><line transform=\"translate(0,0)\" x2=\"-5\" y2=\"0\" stroke=\"#888\" stroke-width=\"1\" opacity=\"1\"></line></g><g class=\"mark-text role-axis-label\" pointer-events=\"none\"><text text-anchor=\"end\" transform=\"translate(-7,203)\" font-family=\"sans-serif\" font-size=\"10px\" fill=\"#000\" opacity=\"1\">-2,000,000</text><text text-anchor=\"end\" transform=\"translate(-7,153)\" font-family=\"sans-serif\" font-size=\"10px\" fill=\"#000\" opacity=\"1\">0</text><text text-anchor=\"end\" transform=\"translate(-7,103)\" font-family=\"sans-serif\" font-size=\"10px\" fill=\"#000\" opacity=\"1\">2,000,000</text><text text-anchor=\"end\" transform=\"translate(-7,53)\" font-family=\"sans-serif\" font-size=\"10px\" fill=\"#000\" opacity=\"1\">4,000,000</text><text text-anchor=\"end\" transform=\"translate(-7,3)\" font-family=\"sans-serif\" font-size=\"10px\" fill=\"#000\" opacity=\"1\">6,000,000</text></g><g class=\"mark-rule role-axis-domain\" pointer-events=\"none\"><line transform=\"translate(0,200)\" x2=\"0\" y2=\"-200\" stroke=\"#888\" stroke-width=\"1\" opacity=\"1\"></line></g><g class=\"mark-text role-axis-title\" pointer-events=\"none\"><text text-anchor=\"middle\" transform=\"translate(-56,100) rotate(-90) translate(0,-2)\" font-family=\"sans-serif\" font-size=\"11px\" font-weight=\"bold\" fill=\"#000\" opacity=\"1\">power_MWh</text></g></g><path class=\"foreground\" aria-hidden=\"true\" d=\"\" pointer-events=\"none\" display=\"none\"></path></g></g><g class=\"mark-group role-scope layer_0_pathgroup\" role=\"graphics-object\" aria-roledescription=\"group mark container\"><g transform=\"translate(0,0)\"><path class=\"background\" aria-hidden=\"true\" d=\"M0,0h850v200h-850Z\"></path><g><g class=\"mark-area role-mark layer_0_marks\" role=\"graphics-object\" aria-roledescription=\"area mark container\"><path aria-label=\"time_hr: 1; power_MWh: 1205000; tp: Production\" role=\"graphics-symbol\" aria-roledescription=\"area mark\" d=\"M2.8333333333333335,60.425L5.666666666666667,61.60000000000001L8.5,65.775L11.333333333333334,65.14999999999999L14.166666666666666,65.27499999999999L17,69.9L19.833333333333336,68.19999999999999L22.666666666666668,65.99999999999999L25.5,65.14999999999999L28.333333333333332,60.12500000000001L31.166666666666668,47.17499999999999L34,44.37500000000001L36.833333333333336,41.39999999999999L39.66666666666667,35.224999999999994L42.5,38.650000000000006L45.333333333333336,39.474999999999994L48.166666666666664,39.775000000000006L51,39.19999999999999L53.833333333333336,41.349999999999994L56.666666666666664,43.900000000000006L59.50000000000001,53.974999999999994L62.333333333333336,56.2L65.16666666666666,61.27499999999999L68,64.19999999999999L70.83333333333333,67.625L73.66666666666667,70.55L76.5,75.6L79.33333333333334,78.8L82.16666666666667,81.4L85,81.5L87.83333333333333,78.075L90.66666666666667,66.07499999999999L93.5,50.09999999999999L96.33333333333333,51.65L99.16666666666667,51.550000000000004L102,55.62499999999999L104.83333333333334,59.27500000000001L107.66666666666667,57.34999999999999L110.5,54.55000000000001L113.33333333333333,54.775L116.16666666666666,51.87500000000001L119.00000000000001,47.875L121.83333333333334,45.074999999999996L124.66666666666667,52.75000000000001L127.5,60.325L130.33333333333331,66.475L133.16666666666669,60.824999999999996L136,57.099999999999994L138.83333333333334,56.05L141.66666666666666,51.449999999999996L144.5,48.4L147.33333333333334,49.4L150.16666666666666,43.95L153,35.27499999999999L155.83333333333331,21.924999999999994L158.66666666666669,12.925000000000008L161.5,10.67499999999999L164.33333333333334,20.825000000000003L167.16666666666666,33.67500000000001L170,48.475L172.83333333333334,57.67500000000001L175.66666666666666,64.6L178.5,71.35000000000001L181.33333333333334,74.275L184.16666666666669,75.825L187,78.75000000000001L189.83333333333334,82.65L192.66666666666666,87.475L195.5,87.35L198.33333333333334,89.32500000000002L201.16666666666666,86.85000000000001L204,85.72500000000001L206.83333333333334,84.3L209.66666666666669,84.14999999999999L212.5,77.45L215.33333333333334,73.275L218.16666666666666,72.15L221,71.625L223.83333333333331,71.50000000000001L226.66666666666666,67.225L229.50000000000003,52.925L232.33333333333331,49.8L235.16666666666666,52.82500000000001L238.00000000000003,50.95L240.83333333333331,54.150000000000006L243.66666666666669,55.05L246.49999999999997,56.725L249.33333333333334,61.80000000000001L252.16666666666669,65.14999999999999L255,67.5L257.8333333333333,68.775L260.66666666666663,69.775L263.5,81.77499999999999L266.33333333333337,93.7L269.16666666666663,100.22500000000001L272,103.69999999999999L274.8333333333333,108.05L277.6666666666667,109.94999999999999L280.5,103.14999999999999L283.3333333333333,95.875L286.1666666666667,94.35L289,94.825L291.8333333333333,92.45000000000002L294.6666666666667,90.65L297.5,78.05L300.3333333333333,77.55000000000001L303.1666666666667,73L306,73.75L308.8333333333333,68.925L311.66666666666663,61.949999999999996L314.5,64.775L317.33333333333337,64.825L320.16666666666663,64.19999999999999L323,61.67499999999999L325.83333333333337,63.625L328.6666666666667,67.45000000000002L331.5,79.60000000000001L334.3333333333333,85.2L337.1666666666667,88.19999999999999L340,95.025L342.8333333333333,103.82500000000002L345.6666666666667,104.45L348.5,104.375L351.3333333333333,105.375L354.1666666666667,106.22500000000001L357,105.72500000000001L359.8333333333333,101.82500000000002L362.6666666666667,98.825L365.5,89.39999999999999L368.33333333333337,72.275L371.16666666666663,69.7L374,66.9L376.83333333333337,67.39999999999999L379.6666666666667,67.15L382.5,67.95L385.3333333333333,70.52499999999999L388.1666666666667,66.95L391,54.400000000000006L393.8333333333333,55.699999999999996L396.6666666666667,62.425L399.5,70.37500000000001L402.3333333333333,76.89999999999999L405.1666666666667,80.87500000000001L408,86.02499999999999L410.8333333333333,93.95L413.6666666666667,99.325L416.5,101.325L419.33333333333337,98.075L422.16666666666663,97.725L425,98.64999999999999L427.8333333333333,98.4L430.6666666666667,97L433.5,92.825L436.3333333333333,87.475L439.1666666666667,80.15L442,75.925L444.8333333333333,74.62500000000001L447.66666666666663,74.925L450.5,76.55000000000001L453.3333333333333,78.875L456.16666666666663,76.22500000000001L459.00000000000006,69.425L461.8333333333333,64.72500000000001L464.66666666666663,66.55L467.50000000000006,69.19999999999999L470.3333333333333,71.975L473.16666666666663,76.67500000000001L476.00000000000006,79.62499999999999L478.83333333333337,80.525L481.66666666666663,85.05L484.49999999999994,83.625L487.33333333333337,87.6L490.1666666666667,91.32499999999999L492.99999999999994,95.24999999999999L495.83333333333337,87.7L498.6666666666667,79.325L501.5,72.625L504.33333333333337,68.725L507.1666666666667,63.07499999999999L510,65.17500000000001L512.8333333333334,63.050000000000004L515.6666666666666,67.30000000000001L518.5,73.675L521.3333333333333,77.64999999999999L524.1666666666667,78.05L527,67.825L529.8333333333333,56.62499999999999L532.6666666666667,58.74999999999999L535.5,58.3L538.3333333333333,57.3L541.1666666666667,51.800000000000004L544,53.400000000000006L546.8333333333334,54.25L549.6666666666666,50.22500000000001L552.5,49.35000000000001L555.3333333333334,48L558.1666666666666,44.35L561,36.949999999999996L563.8333333333334,22.64999999999999L566.6666666666666,12.650000000000006L569.5,12.850000000000005L572.3333333333334,22.425000000000004L575.1666666666666,14.999999999999991L578,14.999999999999991L580.8333333333334,8.624999999999993L583.6666666666666,4.800000000000004L586.5,5.249999999999999L589.3333333333334,4.925000000000002L592.1666666666666,3.0999999999999917L595,2.275000000000005L597.8333333333334,1.0000000000000009L600.6666666666666,10.250000000000004L603.5,19.15L606.3333333333334,15.999999999999993L609.1666666666666,31.150000000000013L612,39.1L614.8333333333334,45.825L617.6666666666666,48.35L620.5,54.75000000000001L623.3333333333333,60.20000000000001L626.1666666666667,64.97500000000001L629,62.12500000000001L631.8333333333333,49.925L634.6666666666667,35.175L637.5,27.42500000000001L640.3333333333333,33.85L643.1666666666667,41.675L646,41.124999999999986L648.8333333333333,44.39999999999999L651.6666666666667,43.675L654.5,44.35L657.3333333333334,42.025L660.1666666666666,41.37500000000001L663,36.474999999999994L665.8333333333334,40.25000000000001L668.6666666666666,48.275L671.5,56.45L674.3333333333334,63.650000000000006L677.1666666666666,75.69999999999999L680,83.45L682.8333333333334,87.9L685.6666666666666,87.92500000000001L688.5,88.625L691.3333333333334,88.92500000000001L694.1666666666666,89.6L697,80.325L699.8333333333334,64.7L702.6666666666666,50.525L705.5,49.17499999999999L708.3333333333334,51.24999999999999L711.1666666666666,47.22500000000001L714,42.675L716.8333333333334,37.72500000000001L719.6666666666666,35.099999999999994L722.5,37.5L725.3333333333334,38.050000000000004L728.1666666666666,34.47499999999999L731,34.72500000000001L733.8333333333333,35.400000000000006L736.6666666666667,44.17500000000001L739.5,57.725L742.3333333333333,63.224999999999994L745.1666666666667,70.675L748,78.85L750.8333333333333,72.57499999999999L753.6666666666667,76.6L756.5,75.37499999999999L759.3333333333334,74.875L762.1666666666666,73.075L765,65.25000000000001L767.8333333333334,51.4L770.6666666666666,25.8L773.5,14.575000000000005L776.3333333333334,18.100000000000005L779.1666666666666,20.04999999999999L782,9.949999999999992L784.8333333333334,19.199999999999996L787.6666666666666,22.750000000000004L790.5,25.449999999999996L793.3333333333334,28.65L796.1666666666666,22.550000000000004L799,19.375000000000007L801.8333333333334,24.649999999999995L804.6666666666666,34.80000000000001L807.5,45.875L810.3333333333334,51L813.1666666666666,55.07500000000001L816,59.12500000000001L818.8333333333334,60.62499999999999L821.6666666666666,62.72500000000001L824.5,62.3L827.3333333333334,61.32500000000001L830.1666666666666,60.27499999999999L833,57.325L835.8333333333333,55.325L838.6666666666667,52.35000000000001L841.5,46.8L844.3333333333333,43.15L847.1666666666667,34.824999999999996L850,27.550000000000008L850,94L847.1666666666667,95.15L844.3333333333333,97.975L841.5,100.85L838.6666666666667,102.64999999999999L835.8333333333333,105.07499999999999L833,107.75000000000001L830.1666666666666,109.94999999999999L827.3333333333334,111.67500000000001L824.5,113.525L821.6666666666666,113.3L818.8333333333334,110.775L816,110.55000000000001L813.1666666666666,110.15000000000002L810.3333333333334,109.125L807.5,109.625L804.6666666666666,107.60000000000001L801.8333333333334,108.25L799,106.975L796.1666666666666,108.15L793.3333333333334,110.82499999999999L790.5,113.1L787.6666666666666,114.375L784.8333333333334,111.42499999999998L782,111.575L779.1666666666666,114.35L776.3333333333334,113.32499999999999L773.5,113.55L770.6666666666666,114.775L767.8333333333334,115.32499999999999L765,118.52499999999999L762.1666666666666,121.6L759.3333333333334,123.37500000000001L756.5,123.82499999999999L753.6666666666667,124.2L750.8333333333333,125.675L748,124.55000000000001L745.1666666666667,127.2L742.3333333333333,129.4L739.5,131.975L736.6666666666667,131.875L733.8333333333333,134.075L731,133.4L728.1666666666666,134.3L725.3333333333334,136.5L722.5,137.54999999999998L719.6666666666666,138.975L716.8333333333334,141.57500000000002L714,143.5L711.1666666666666,144.475L708.3333333333334,144.55L705.5,143.475L702.6666666666666,142.075L699.8333333333334,140.60000000000002L697,138.9L694.1666666666666,137.975L691.3333333333334,137.4L688.5,138.24999999999997L685.6666666666666,137.6L682.8333333333334,135.975L680,134.875L677.1666666666666,133.925L674.3333333333334,132.475L671.5,131.825L668.6666666666666,133.07500000000002L665.8333333333334,127.02499999999998L663,123.22500000000001L660.1666666666666,126.77499999999998L657.3333333333334,129.8L654.5,131.55L651.6666666666667,129.70000000000002L648.8333333333333,129.5L646,127.62500000000001L643.1666666666667,126.77499999999999L640.3333333333333,125.125L637.5,122.825L634.6666666666667,118.9L631.8333333333333,116.35L629,114.7L626.1666666666667,111.45L623.3333333333333,105.50000000000001L620.5,99.925L617.6666666666666,94.39999999999999L614.8333333333334,90.6L612,89.425L609.1666666666666,87.1L606.3333333333334,79.85L603.5,73.075L600.6666666666666,64.575L597.8333333333334,59.400000000000006L595,56.87500000000001L592.1666666666666,56.775L589.3333333333334,56.87500000000001L586.5,56.54999999999999L583.6666666666666,55.82499999999999L580.8333333333334,59.9L578,63.7L575.1666666666666,65.14999999999999L572.3333333333334,72.025L569.5,69.75L566.6666666666666,72L563.8333333333334,78.55000000000001L561,85.525L558.1666666666666,89.6L555.3333333333334,90.17500000000001L552.5,94.52499999999999L549.6666666666666,99.10000000000001L546.8333333333334,104.4L544,108.125L541.1666666666667,108.99999999999999L538.3333333333333,112.45L535.5,119.95L532.6666666666667,126.625L529.8333333333333,132.54999999999998L527,137.15L524.1666666666667,141.45L521.3333333333333,144.05L518.5,145.45L515.6666666666666,145.79999999999998L512.8333333333334,145.675L510,145.4L507.1666666666667,144.925L504.33333333333337,143.875L501.5,142.725L498.6666666666667,142.25L495.83333333333337,141.125L492.99999999999994,138.275L490.1666666666667,137.52499999999998L487.33333333333337,135L484.49999999999994,131.15L481.66666666666663,129.125L478.83333333333337,128.6L476.00000000000006,128.07500000000002L473.16666666666663,129.525L470.3333333333333,127.77500000000002L467.50000000000006,127.325L464.66666666666663,128.6L461.8333333333333,130.225L459.00000000000006,131.99999999999997L456.16666666666663,133.125L453.3333333333333,136.05L450.5,136.875L447.66666666666663,137.25L444.8333333333333,138.275L442,137.775L439.1666666666667,135.35L436.3333333333333,135.85L433.5,138.475L430.6666666666667,140.7L427.8333333333333,142.275L425,142.275L422.16666666666663,141.825L419.33333333333337,141.70000000000002L416.5,141.52499999999998L413.6666666666667,138.64999999999998L410.8333333333333,135.07500000000002L408,131.22500000000002L405.1666666666667,128.45L402.3333333333333,126.62499999999999L399.5,122.97500000000001L396.6666666666667,121.2L393.8333333333333,120.6L391,123.75L388.1666666666667,127.275L385.3333333333333,129.25L382.5,129.5L379.6666666666667,132.20000000000002L376.83333333333337,134L374,134.525L371.16666666666663,137.975L368.33333333333337,140.95L365.5,143.225L362.6666666666667,144.325L359.8333333333333,145.77499999999998L357,146.4L354.1666666666667,146.525L351.3333333333333,146.55L348.5,146.475L345.6666666666667,147.10000000000002L342.8333333333333,147.375L340,146.55L337.1666666666667,145.4L334.3333333333333,145.97500000000002L331.5,145.625L328.6666666666667,144.05L325.83333333333337,144.25L323,143.97500000000002L320.16666666666663,144.6L317.33333333333337,143.70000000000002L314.5,142.75L311.66666666666663,141.6L308.8333333333333,143.72500000000002L306,143.375L303.1666666666667,139.2L300.3333333333333,137.425L297.5,136.25L294.6666666666667,135.825L291.8333333333333,135.225L289,133.5L286.1666666666667,133.25L283.3333333333333,133.95000000000002L280.5,140.35L277.6666666666667,143.15L274.8333333333333,143.04999999999998L272,143.00000000000003L269.16666666666663,143.79999999999998L266.33333333333337,144.25L263.5,144.425L260.66666666666663,144.625L257.8333333333333,144.49999999999997L255,144.225L252.16666666666669,141L249.33333333333334,137.67499999999998L246.49999999999997,133.7L243.66666666666669,129.27499999999998L240.83333333333331,127.02499999999999L238.00000000000003,124.50000000000001L235.16666666666666,122.125L232.33333333333331,119.09999999999998L229.50000000000003,117.825L226.66666666666666,116.00000000000001L223.83333333333331,112.02499999999999L221,109.60000000000001L218.16666666666666,108.22500000000002L215.33333333333334,110.775L212.5,116.07499999999999L209.66666666666669,123.05000000000001L206.83333333333334,125.22500000000001L204,125.62500000000001L201.16666666666666,127.47500000000001L198.33333333333334,131.55L195.5,134.25L192.66666666666666,139.15L189.83333333333334,139.54999999999998L187,135.3L184.16666666666669,133.175L181.33333333333334,130.4L178.5,121.925L175.66666666666666,114.47500000000002L172.83333333333334,102.70000000000002L170,92.10000000000001L167.16666666666666,83.47500000000001L164.33333333333334,69.55L161.5,60.099999999999994L158.66666666666669,55.750000000000014L155.83333333333331,52.275000000000006L153,61.349999999999994L150.16666666666666,68.30000000000001L147.33333333333334,74.70000000000002L144.5,72.075L141.66666666666666,80.02499999999999L138.83333333333334,89.775L136,94.025L133.16666666666669,101.375L130.33333333333331,108.575L127.5,111.275L124.66666666666667,113.64999999999998L121.83333333333334,117.225L119.00000000000001,119.725L116.16666666666666,122.82499999999999L113.33333333333333,123.5L110.5,123L107.66666666666667,122.67500000000001L104.83333333333334,124.725L102,122.9L99.16666666666667,120.22500000000002L96.33333333333333,118.6L93.5,116.95000000000002L90.66666666666667,115.9L87.83333333333333,117.97499999999998L85,118.025L82.16666666666667,115.05000000000001L79.33333333333334,113.45L76.5,108.72500000000001L73.66666666666667,105.07499999999999L70.83333333333333,102.45L68,99.77499999999999L65.16666666666666,96.725L62.333333333333336,91.575L59.50000000000001,91.9L56.666666666666664,90.725L53.833333333333336,89.95L51,86.27499999999999L48.166666666666664,80.15L45.333333333333336,72.625L42.5,67.725L39.66666666666667,65.75L36.833333333333336,72.075L34,74.44999999999999L31.166666666666668,75.52499999999999L28.333333333333332,85.07499999999999L25.5,89.775L22.666666666666668,92.95L19.833333333333336,92.375L17,95.10000000000001L14.166666666666666,94.10000000000001L11.333333333333334,94.075L8.5,95.725L5.666666666666667,90.6L2.8333333333333335,90.55Z\" fill=\"#fd8d3c\"></path></g></g><path class=\"foreground\" aria-hidden=\"true\" d=\"\" display=\"none\"></path></g><g transform=\"translate(0,0)\"><path class=\"background\" aria-hidden=\"true\" d=\"M0,0h850v200h-850Z\"></path><g><g class=\"mark-area role-mark layer_0_marks\" role=\"graphics-object\" aria-roledescription=\"area mark container\"><path aria-label=\"time_hr: 1; power_MWh: 2378000; tp: Wind\" role=\"graphics-symbol\" aria-roledescription=\"area mark\" d=\"M2.8333333333333335,90.55L5.666666666666667,90.6L8.5,95.725L11.333333333333334,94.075L14.166666666666666,94.10000000000001L17,95.10000000000001L19.833333333333336,92.375L22.666666666666668,92.95L25.5,89.775L28.333333333333332,85.07499999999999L31.166666666666668,75.52499999999999L34,74.44999999999999L36.833333333333336,72.075L39.66666666666667,65.75L42.5,67.725L45.333333333333336,72.625L48.166666666666664,80.15L51,86.27499999999999L53.833333333333336,89.95L56.666666666666664,90.725L59.50000000000001,91.9L62.333333333333336,91.575L65.16666666666666,96.725L68,99.77499999999999L70.83333333333333,102.45L73.66666666666667,105.07499999999999L76.5,108.72500000000001L79.33333333333334,113.45L82.16666666666667,115.05000000000001L85,118.025L87.83333333333333,117.97499999999998L90.66666666666667,115.9L93.5,116.95L96.33333333333333,118.6L99.16666666666667,120.22500000000001L102,122.9L104.83333333333334,124.725L107.66666666666667,122.675L110.5,123L113.33333333333333,123.49999999999999L116.16666666666666,122.825L119.00000000000001,119.725L121.83333333333334,117.225L124.66666666666667,113.64999999999998L127.5,111.275L130.33333333333331,108.575L133.16666666666669,101.375L136,94.025L138.83333333333334,89.775L141.66666666666666,80.02499999999999L144.5,72.075L147.33333333333334,74.70000000000002L150.16666666666666,68.30000000000001L153,61.349999999999994L155.83333333333331,52.275000000000006L158.66666666666669,55.750000000000014L161.5,60.099999999999994L164.33333333333334,69.55L167.16666666666666,83.47500000000001L170,92.10000000000001L172.83333333333334,102.70000000000002L175.66666666666666,114.47500000000002L178.5,121.925L181.33333333333334,130.4L184.16666666666669,133.175L187,135.3L189.83333333333334,139.54999999999998L192.66666666666666,139.15L195.5,134.25L198.33333333333334,131.55L201.16666666666666,127.47500000000001L204,125.62500000000001L206.83333333333334,125.22500000000001L209.66666666666669,123.05000000000001L212.5,116.07499999999999L215.33333333333334,110.775L218.16666666666666,108.22500000000002L221,109.60000000000001L223.83333333333331,112.02499999999999L226.66666666666666,116.00000000000001L229.50000000000003,117.825L232.33333333333331,119.09999999999998L235.16666666666666,122.125L238.00000000000003,124.50000000000001L240.83333333333331,127.02499999999999L243.66666666666669,129.27499999999998L246.49999999999997,133.7L249.33333333333334,137.67499999999998L252.16666666666669,141L255,144.225L257.8333333333333,144.49999999999997L260.66666666666663,144.625L263.5,144.425L266.33333333333337,144.25L269.16666666666663,143.79999999999998L272,143.00000000000003L274.8333333333333,143.04999999999998L277.6666666666667,143.15L280.5,140.35L283.3333333333333,133.95000000000002L286.1666666666667,133.25L289,133.5L291.8333333333333,135.225L294.6666666666667,135.825L297.5,136.25L300.3333333333333,137.425L303.1666666666667,139.2L306,143.375L308.8333333333333,143.72500000000002L311.66666666666663,141.6L314.5,142.75L317.33333333333337,143.70000000000002L320.16666666666663,144.6L323,143.97500000000002L325.83333333333337,144.25L328.6666666666667,144.05L331.5,145.625L334.3333333333333,145.97500000000002L337.1666666666667,145.4L340,146.55L342.8333333333333,147.375L345.6666666666667,147.10000000000002L348.5,146.475L351.3333333333333,146.55L354.1666666666667,146.525L357,146.4L359.8333333333333,145.77499999999998L362.6666666666667,144.325L365.5,143.225L368.33333333333337,140.95L371.16666666666663,137.975L374,134.525L376.83333333333337,134L379.6666666666667,132.20000000000002L382.5,129.5L385.3333333333333,129.25L388.1666666666667,127.275L391,123.75L393.8333333333333,120.6L396.6666666666667,121.2L399.5,122.97500000000001L402.3333333333333,126.62499999999999L405.1666666666667,128.45L408,131.22500000000002L410.8333333333333,135.07500000000002L413.6666666666667,138.64999999999998L416.5,141.52499999999998L419.33333333333337,141.70000000000002L422.16666666666663,141.825L425,142.275L427.8333333333333,142.275L430.6666666666667,140.7L433.5,138.475L436.3333333333333,135.85L439.1666666666667,135.35L442,137.775L444.8333333333333,138.275L447.66666666666663,137.25L450.5,136.875L453.3333333333333,136.05L456.16666666666663,133.125L459.00000000000006,131.99999999999997L461.8333333333333,130.225L464.66666666666663,128.6L467.50000000000006,127.325L470.3333333333333,127.77500000000002L473.16666666666663,129.525L476.00000000000006,128.07500000000002L478.83333333333337,128.6L481.66666666666663,129.125L484.49999999999994,131.15L487.33333333333337,135L490.1666666666667,137.52499999999998L492.99999999999994,138.275L495.83333333333337,141.125L498.6666666666667,142.25L501.5,142.725L504.33333333333337,143.875L507.1666666666667,144.925L510,145.4L512.8333333333334,145.675L515.6666666666666,145.79999999999998L518.5,145.45L521.3333333333333,144.05L524.1666666666667,141.45L527,137.15L529.8333333333333,132.54999999999998L532.6666666666667,126.62499999999999L535.5,119.95L538.3333333333333,112.45L541.1666666666667,108.99999999999999L544,108.125L546.8333333333334,104.4L549.6666666666666,99.10000000000001L552.5,94.52499999999999L555.3333333333334,90.17500000000001L558.1666666666666,89.6L561,85.525L563.8333333333334,78.55000000000001L566.6666666666666,72L569.5,69.75L572.3333333333334,72.025L575.1666666666666,65.14999999999999L578,63.7L580.8333333333334,59.9L583.6666666666666,55.82499999999999L586.5,56.54999999999999L589.3333333333334,56.87500000000001L592.1666666666666,56.775L595,56.87500000000001L597.8333333333334,59.400000000000006L600.6666666666666,64.575L603.5,73.075L606.3333333333334,79.85L609.1666666666666,87.1L612,89.425L614.8333333333334,90.6L617.6666666666666,94.39999999999999L620.5,99.925L623.3333333333333,105.50000000000001L626.1666666666667,111.45L629,114.7L631.8333333333333,116.35L634.6666666666667,118.9L637.5,122.825L640.3333333333333,125.125L643.1666666666667,126.77499999999999L646,127.62500000000001L648.8333333333333,129.5L651.6666666666667,129.70000000000002L654.5,131.55L657.3333333333334,129.8L660.1666666666666,126.77499999999999L663,123.22500000000001L665.8333333333334,127.02499999999999L668.6666666666666,133.07500000000002L671.5,131.825L674.3333333333334,132.475L677.1666666666666,133.925L680,134.875L682.8333333333334,135.975L685.6666666666666,137.6L688.5,138.24999999999997L691.3333333333334,137.4L694.1666666666666,137.975L697,138.9L699.8333333333334,140.60000000000002L702.6666666666666,142.075L705.5,143.475L708.3333333333334,144.55L711.1666666666666,144.475L714,143.5L716.8333333333334,141.57500000000002L719.6666666666666,138.975L722.5,137.54999999999998L725.3333333333334,136.5L728.1666666666666,134.3L731,133.4L733.8333333333333,134.075L736.6666666666667,131.875L739.5,131.975L742.3333333333333,129.4L745.1666666666667,127.2L748,124.55000000000001L750.8333333333333,125.675L753.6666666666667,124.2L756.5,123.82499999999999L759.3333333333334,123.37500000000001L762.1666666666666,121.6L765,118.52499999999999L767.8333333333334,115.32499999999999L770.6666666666666,114.775L773.5,113.55L776.3333333333334,113.32499999999999L779.1666666666666,114.35L782,111.575L784.8333333333334,111.425L787.6666666666666,114.375L790.5,113.1L793.3333333333334,110.82499999999999L796.1666666666666,108.15L799,106.975L801.8333333333334,108.25L804.6666666666666,107.60000000000001L807.5,109.625L810.3333333333334,109.125L813.1666666666666,110.15000000000002L816,110.55000000000001L818.8333333333334,110.775L821.6666666666666,113.3L824.5,113.525L827.3333333333334,111.67500000000001L830.1666666666666,109.94999999999999L833,107.75000000000001L835.8333333333333,105.07499999999999L838.6666666666667,102.64999999999999L841.5,100.85L844.3333333333333,97.975L847.1666666666667,95.15L850,94L850,150L847.1666666666667,150L844.3333333333333,150L841.5,150L838.6666666666667,150L835.8333333333333,150L833,150L830.1666666666666,150L827.3333333333334,150L824.5,150L821.6666666666666,150L818.8333333333334,150L816,150L813.1666666666666,150L810.3333333333334,150L807.5,150L804.6666666666666,150L801.8333333333334,150L799,150L796.1666666666666,150L793.3333333333334,150L790.5,150L787.6666666666666,150L784.8333333333334,150L782,150L779.1666666666666,150L776.3333333333334,150L773.5,150L770.6666666666666,150L767.8333333333334,150L765,150L762.1666666666666,150L759.3333333333334,150L756.5,150L753.6666666666667,150L750.8333333333333,150L748,150L745.1666666666667,150L742.3333333333333,150L739.5,150L736.6666666666667,150L733.8333333333333,150L731,150L728.1666666666666,150L725.3333333333334,150L722.5,150L719.6666666666666,150L716.8333333333334,150L714,150L711.1666666666666,150L708.3333333333334,150L705.5,150L702.6666666666666,150L699.8333333333334,150L697,150L694.1666666666666,150L691.3333333333334,150L688.5,150L685.6666666666666,150L682.8333333333334,150L680,150L677.1666666666666,150L674.3333333333334,150L671.5,150L668.6666666666666,150L665.8333333333334,150L663,150L660.1666666666666,150L657.3333333333334,150L654.5,150L651.6666666666667,150L648.8333333333333,150L646,150L643.1666666666667,150L640.3333333333333,150L637.5,150L634.6666666666667,150L631.8333333333333,150L629,150L626.1666666666667,150L623.3333333333333,150L620.5,150L617.6666666666666,150L614.8333333333334,150L612,150L609.1666666666666,150L606.3333333333334,150L603.5,150L600.6666666666666,150L597.8333333333334,150L595,150L592.1666666666666,150L589.3333333333334,150L586.5,150L583.6666666666666,150L580.8333333333334,150L578,150L575.1666666666666,150L572.3333333333334,150L569.5,150L566.6666666666666,150L563.8333333333334,150L561,150L558.1666666666666,150L555.3333333333334,150L552.5,150L549.6666666666666,150L546.8333333333334,150L544,150L541.1666666666667,150L538.3333333333333,150L535.5,150L532.6666666666667,150L529.8333333333333,150L527,150L524.1666666666667,150L521.3333333333333,150L518.5,150L515.6666666666666,150L512.8333333333334,150L510,150L507.1666666666667,150L504.33333333333337,150L501.5,150L498.6666666666667,150L495.83333333333337,150L492.99999999999994,150L490.1666666666667,150L487.33333333333337,150L484.49999999999994,150L481.66666666666663,150L478.83333333333337,150L476.00000000000006,150L473.16666666666663,150L470.3333333333333,150L467.50000000000006,150L464.66666666666663,150L461.8333333333333,150L459.00000000000006,150L456.16666666666663,150L453.3333333333333,150L450.5,150L447.66666666666663,150L444.8333333333333,150L442,150L439.1666666666667,150L436.3333333333333,150L433.5,150L430.6666666666667,150L427.8333333333333,150L425,150L422.16666666666663,150L419.33333333333337,150L416.5,150L413.6666666666667,150L410.8333333333333,150L408,150L405.1666666666667,150L402.3333333333333,150L399.5,150L396.6666666666667,150L393.8333333333333,150L391,150L388.1666666666667,150L385.3333333333333,150L382.5,150L379.6666666666667,150L376.83333333333337,150L374,150L371.16666666666663,150L368.33333333333337,150L365.5,150L362.6666666666667,150L359.8333333333333,150L357,150L354.1666666666667,150L351.3333333333333,150L348.5,150L345.6666666666667,150L342.8333333333333,150L340,150L337.1666666666667,150L334.3333333333333,150L331.5,150L328.6666666666667,150L325.83333333333337,150L323,150L320.16666666666663,150L317.33333333333337,150L314.5,150L311.66666666666663,150L308.8333333333333,150L306,150L303.1666666666667,150L300.3333333333333,150L297.5,150L294.6666666666667,150L291.8333333333333,150L289,150L286.1666666666667,150L283.3333333333333,150L280.5,150L277.6666666666667,150L274.8333333333333,150L272,150L269.16666666666663,150L266.33333333333337,150L263.5,150L260.66666666666663,150L257.8333333333333,150L255,150L252.16666666666669,150L249.33333333333334,150L246.49999999999997,150L243.66666666666669,150L240.83333333333331,150L238.00000000000003,150L235.16666666666666,150L232.33333333333331,150L229.50000000000003,150L226.66666666666666,150L223.83333333333331,150L221,150L218.16666666666666,150L215.33333333333334,150L212.5,150L209.66666666666669,150L206.83333333333334,150L204,150L201.16666666666666,150L198.33333333333334,150L195.5,150L192.66666666666666,150L189.83333333333334,150L187,150L184.16666666666669,150L181.33333333333334,150L178.5,150L175.66666666666666,150L172.83333333333334,150L170,150L167.16666666666666,150L164.33333333333334,150L161.5,150L158.66666666666669,150L155.83333333333331,150L153,150L150.16666666666666,150L147.33333333333334,150L144.5,150L141.66666666666666,150L138.83333333333334,150L136,150L133.16666666666669,150L130.33333333333331,150L127.5,150L124.66666666666667,150L121.83333333333334,150L119.00000000000001,150L116.16666666666666,150L113.33333333333333,150L110.5,150L107.66666666666667,150L104.83333333333334,150L102,150L99.16666666666667,150L96.33333333333333,150L93.5,150L90.66666666666667,150L87.83333333333333,150L85,150L82.16666666666667,150L79.33333333333334,150L76.5,150L73.66666666666667,150L70.83333333333333,150L68,150L65.16666666666666,150L62.333333333333336,150L59.50000000000001,150L56.666666666666664,150L53.833333333333336,150L51,150L48.166666666666664,150L45.333333333333336,150L42.5,150L39.66666666666667,150L36.833333333333336,150L34,150L31.166666666666668,150L28.333333333333332,150L25.5,150L22.666666666666668,150L19.833333333333336,150L17,150L14.166666666666666,150L11.333333333333334,150L8.5,150L5.666666666666667,150L2.8333333333333335,150Z\" fill=\"#3182bd\"></path></g></g><path class=\"foreground\" aria-hidden=\"true\" d=\"\" display=\"none\"></path></g><g transform=\"translate(0,0)\"><path class=\"background\" aria-hidden=\"true\" d=\"M0,0h850v200h-850Z\"></path><g><g class=\"mark-area role-mark layer_0_marks\" role=\"graphics-object\" aria-roledescription=\"area mark container\"><path aria-label=\"time_hr: 1; power_MWh: -190000; tp: Import\" role=\"graphics-symbol\" aria-roledescription=\"area mark\" d=\"M2.8333333333333335,154.75L5.666666666666667,157.075L8.5,154.125L11.333333333333334,158.5L14.166666666666666,160.925L17,158.7L19.833333333333336,160.625L22.666666666666668,158.65L25.5,160.9L28.333333333333332,160.54999999999998L31.166666666666668,169.775L34,164.6L36.833333333333336,166L39.66666666666667,177.45L42.5,169.425L45.333333333333336,165.925L48.166666666666664,158.47500000000002L51,151.625L53.833333333333336,153.425L56.666666666666664,154.75L59.50000000000001,153.7L62.333333333333336,157.875L65.16666666666666,155.6L68,158.1L70.83333333333333,160.54999999999998L73.66666666666667,160.45000000000002L76.5,157.525L79.33333333333334,153.025L82.16666666666667,79.62499999999999L85,74.075L87.83333333333333,61.175000000000004L90.66666666666667,45.425000000000004L93.5,31.54999999999999L96.33333333333333,29.574999999999996L99.16666666666667,27.725L102,28.049999999999997L104.83333333333334,30.824999999999992L107.66666666666667,30.624999999999993L110.5,30.85L113.33333333333333,31.499999999999993L116.16666666666666,24.849999999999994L119.00000000000001,14.925000000000011L121.83333333333334,21.500000000000007L124.66666666666667,34.050000000000004L127.5,41.300000000000004L130.33333333333331,48.199999999999996L133.16666666666669,55.400000000000006L136,155.20000000000002L138.83333333333334,160.07500000000002L141.66666666666666,168.9L144.5,178.7L147.33333333333334,176.125L150.16666666666666,180.35000000000002L153,178.1L155.83333333333331,178.6L158.66666666666669,169.9L161.5,162.85L164.33333333333334,151.625L167.16666666666666,19.700000000000006L170,23.4L172.83333333333334,23.750000000000004L175.66666666666666,23.10000000000001L178.5,23.4L181.33333333333334,24.30000000000001L184.16666666666669,18.874999999999996L187,12.674999999999992L189.83333333333334,17.25000000000001L192.66666666666666,24.8L195.5,33.12500000000001L198.33333333333334,42.65000000000001L201.16666666666666,51.025000000000006L204,60.00000000000001L206.83333333333334,63.79999999999999L209.66666666666669,69.22500000000001L212.5,71.075L215.33333333333334,70.44999999999999L218.16666666666666,69.675L221,62.59999999999999L223.83333333333331,46.35L226.66666666666666,29.499999999999993L229.50000000000003,21.57500000000001L232.33333333333331,21.475L235.16666666666666,20.17500000000001L238.00000000000003,21.724999999999994L240.83333333333331,24.649999999999995L243.66666666666669,20.625000000000004L246.49999999999997,22.35L249.33333333333334,23.249999999999993L252.16666666666669,17.75L255,9.325000000000006L257.8333333333333,15.175000000000004L260.66666666666663,23.425000000000008L263.5,33.07500000000001L266.33333333333337,40.650000000000006L269.16666666666663,49.849999999999994L272,59.349999999999994L274.8333333333333,64.5L277.6666666666667,66.19999999999999L280.5,68.6L283.3333333333333,69.04999999999998L286.1666666666667,67.25000000000001L289,61.14999999999999L291.8333333333333,44.300000000000004L294.6666666666667,29.974999999999994L297.5,19.97500000000001L300.3333333333333,18.500000000000007L303.1666666666667,17.65000000000001L306,18.15L308.8333333333333,20.700000000000006L311.66666666666663,23.750000000000004L314.5,29.22499999999999L317.33333333333337,31.800000000000004L320.16666666666663,24.22500000000001L323,15.874999999999995L325.83333333333337,22.500000000000007L328.6666666666667,31.07500000000001L331.5,39.050000000000004L334.3333333333333,47.04999999999999L337.1666666666667,54.275000000000006L340,58.925000000000004L342.8333333333333,67.85000000000001L345.6666666666667,69.575L348.5,71.475L351.3333333333333,71.42500000000001L354.1666666666667,70.775L357,69.12499999999999L359.8333333333333,63.1L362.6666666666667,56.699999999999996L365.5,48.724999999999994L368.33333333333337,41.25000000000001L371.16666666666663,38.9L374,39.7L376.83333333333337,41.72499999999999L379.6666666666667,43.074999999999996L382.5,44.97500000000001L385.3333333333333,43.65000000000001L388.1666666666667,36.85000000000001L391,25.625000000000007L393.8333333333333,28.29999999999999L396.6666666666667,35.175L399.5,43.275L402.3333333333333,48.8L405.1666666666667,52.29999999999999L408,58.975L410.8333333333333,66.65L413.6666666666667,68.7L416.5,70.24999999999999L419.33333333333337,69.675L422.16666666666663,69.44999999999999L425,67.825L427.8333333333333,64.3L430.6666666666667,58.54999999999999L433.5,50.75000000000001L436.3333333333333,46.025000000000006L439.1666666666667,44.97500000000001L442,44.37500000000001L444.8333333333333,47.10000000000001L447.66666666666663,48.974999999999994L450.5,47.475L453.3333333333333,46.199999999999996L456.16666666666663,38.025L459.00000000000006,22.675L461.8333333333333,24.30000000000001L464.66666666666663,31.200000000000006L467.50000000000006,39.025L470.3333333333333,47.35L473.16666666666663,54.62499999999999L476.00000000000006,63.79999999999999L478.83333333333337,65.675L481.66666666666663,68.22500000000001L484.49999999999994,68L487.33333333333337,67.75L490.1666666666667,64.825L492.99999999999994,59.099999999999994L495.83333333333337,39.625L498.6666666666667,21.4L501.5,14.625L504.33333333333337,15.074999999999994L507.1666666666667,16.15L510,18.97500000000001L512.8333333333334,22.300000000000008L515.6666666666666,22.075L518.5,21.999999999999996L521.3333333333333,24L524.1666666666667,18.474999999999998L527,6.2000000000000055L529.8333333333333,13.725000000000009L532.6666666666667,24.049999999999994L535.5,33.07500000000001L538.3333333333333,42.625L541.1666666666667,49.95L544,155.625L546.8333333333334,161.42499999999998L549.6666666666666,169.275L552.5,171.5L555.3333333333334,173.25L558.1666666666666,176.675L561,179.6L563.8333333333334,178.8L566.6666666666666,168.825L569.5,164.8L572.3333333333334,155.025L575.1666666666666,158.525L578,163.57500000000002L580.8333333333334,171.17499999999998L583.6666666666666,174.10000000000002L586.5,175.45L589.3333333333334,178.1L592.1666666666666,175.525L595,165.20000000000002L597.8333333333334,171.17499999999998L600.6666666666666,169.70000000000002L603.5,170.175L606.3333333333334,179.25L609.1666666666666,175.375L612,175.55L614.8333333333334,173.525L617.6666666666666,173.15L620.5,167.075L623.3333333333333,161.275L626.1666666666667,153.2L629,60.824999999999996L631.8333333333333,42.225L634.6666666666667,24.649999999999995L637.5,20.075L640.3333333333333,20.44999999999999L643.1666666666667,18.599999999999994L646,17.12499999999999L648.8333333333333,20.300000000000008L651.6666666666667,20.225000000000005L654.5,21.57500000000001L657.3333333333334,25.675000000000004L660.1666666666666,22.875L663,12.775000000000002L665.8333333333334,16.775000000000006L668.6666666666666,23.22500000000001L671.5,31.824999999999992L674.3333333333334,40.074999999999996L677.1666666666666,48.22500000000001L680,67.55L682.8333333333334,62.12500000000001L685.6666666666666,63.99999999999999L688.5,65.55L691.3333333333334,66.25000000000001L694.1666666666666,64.7L697,60.67499999999999L699.8333333333334,39.775000000000006L702.6666666666666,24.625000000000007L705.5,20.44999999999999L708.3333333333334,19.950000000000003L711.1666666666666,17.92499999999999L714,19.500000000000007L716.8333333333334,21.599999999999998L719.6666666666666,21.599999999999998L722.5,22.675L725.3333333333334,24.4L728.1666666666666,19.950000000000003L731,12.575000000000003L733.8333333333333,18.849999999999987L736.6666666666667,27.750000000000007L739.5,35.349999999999994L742.3333333333333,44.275L745.1666666666667,53.82499999999999L748,60.72500000000001L750.8333333333333,64.575L753.6666666666667,67.85000000000001L756.5,69.30000000000001L759.3333333333334,69.12499999999999L762.1666666666666,67.97500000000001L765,61.375L767.8333333333334,43.45000000000001L770.6666666666666,24.97499999999999L773.5,156.775L776.3333333333334,153.275L779.1666666666666,150.475L782,160.67499999999998L784.8333333333334,156.29999999999998L787.6666666666666,154.325L790.5,155.7L793.3333333333334,154.275L796.1666666666666,154.42499999999998L799,18.15L801.8333333333334,22.77499999999999L804.6666666666666,31.624999999999993L807.5,40.599999999999994L810.3333333333334,48.025000000000006L813.1666666666666,55.00000000000001L816,153.14999999999998L818.8333333333334,154.95000000000002L821.6666666666666,155.975L824.5,160.025L827.3333333333334,161.775L830.1666666666666,162.7L833,163.75L835.8333333333333,159.625L838.6666666666667,154.6L841.5,150.85L844.3333333333333,42.52499999999999L847.1666666666667,153.54999999999998L850,159.175L850,150L847.1666666666667,150L844.3333333333333,43.15L841.5,150L838.6666666666667,150L835.8333333333333,150L833,150L830.1666666666666,150L827.3333333333334,150L824.5,150L821.6666666666666,150L818.8333333333334,150L816,150L813.1666666666666,55.07500000000001L810.3333333333334,51L807.5,45.875L804.6666666666666,34.80000000000001L801.8333333333334,24.649999999999995L799,19.375000000000007L796.1666666666666,150L793.3333333333334,150L790.5,150L787.6666666666666,150L784.8333333333334,150L782,150L779.1666666666666,150L776.3333333333334,150L773.5,150L770.6666666666666,25.8L767.8333333333334,51.4L765,65.25000000000001L762.1666666666666,73.075L759.3333333333334,74.875L756.5,75.37499999999999L753.6666666666667,76.6L750.8333333333333,72.57499999999999L748,78.85L745.1666666666667,70.675L742.3333333333333,63.224999999999994L739.5,57.725L736.6666666666667,44.17500000000001L733.8333333333333,35.400000000000006L731,34.72500000000001L728.1666666666666,34.47499999999999L725.3333333333334,38.050000000000004L722.5,37.5L719.6666666666666,35.099999999999994L716.8333333333334,37.72500000000001L714,42.675L711.1666666666666,47.22500000000001L708.3333333333334,51.24999999999999L705.5,49.17499999999999L702.6666666666666,50.525L699.8333333333334,64.7L697,80.325L694.1666666666666,89.6L691.3333333333334,88.92500000000001L688.5,88.625L685.6666666666666,87.92500000000001L682.8333333333334,87.9L680,83.45L677.1666666666666,75.69999999999999L674.3333333333334,63.650000000000006L671.5,56.45L668.6666666666666,48.275L665.8333333333334,40.25000000000001L663,36.474999999999994L660.1666666666666,41.37500000000001L657.3333333333334,42.025L654.5,44.35L651.6666666666667,43.675L648.8333333333333,44.39999999999999L646,41.124999999999986L643.1666666666667,41.675L640.3333333333333,33.85L637.5,27.42500000000001L634.6666666666667,35.175L631.8333333333333,49.925L629,62.12500000000001L626.1666666666667,150L623.3333333333333,150L620.5,150L617.6666666666666,150L614.8333333333334,150L612,150L609.1666666666666,150L606.3333333333334,150L603.5,150L600.6666666666666,150L597.8333333333334,150L595,150L592.1666666666666,150L589.3333333333334,150L586.5,150L583.6666666666666,150L580.8333333333334,150L578,150L575.1666666666666,150L572.3333333333334,150L569.5,150L566.6666666666666,150L563.8333333333334,150L561,150L558.1666666666666,150L555.3333333333334,150L552.5,150L549.6666666666666,150L546.8333333333334,150L544,150L541.1666666666667,51.800000000000004L538.3333333333333,57.3L535.5,58.3L532.6666666666667,58.75L529.8333333333333,56.62499999999999L527,67.825L524.1666666666667,78.05L521.3333333333333,77.64999999999999L518.5,73.675L515.6666666666666,67.30000000000001L512.8333333333334,63.05000000000001L510,65.17500000000001L507.1666666666667,63.07499999999999L504.33333333333337,68.725L501.5,72.625L498.6666666666667,79.325L495.83333333333337,87.7L492.99999999999994,95.24999999999999L490.1666666666667,91.32499999999999L487.33333333333337,87.6L484.49999999999994,83.625L481.66666666666663,85.05L478.83333333333337,80.525L476.00000000000006,79.62499999999999L473.16666666666663,76.67500000000001L470.3333333333333,71.975L467.50000000000006,69.19999999999999L464.66666666666663,66.55L461.8333333333333,64.72500000000001L459.00000000000006,69.425L456.16666666666663,76.22500000000001L453.3333333333333,78.875L450.5,76.55000000000001L447.66666666666663,74.925L444.8333333333333,74.62500000000001L442,75.925L439.1666666666667,80.15L436.3333333333333,87.475L433.5,92.825L430.6666666666667,97L427.8333333333333,98.4L425,98.64999999999999L422.16666666666663,97.725L419.33333333333337,98.075L416.5,101.325L413.6666666666667,99.325L410.8333333333333,93.95L408,86.02499999999999L405.1666666666667,80.87500000000001L402.3333333333333,76.89999999999999L399.5,70.37500000000001L396.6666666666667,62.425L393.8333333333333,55.699999999999996L391,54.400000000000006L388.1666666666667,66.95L385.3333333333333,70.52499999999999L382.5,67.95L379.6666666666667,67.15L376.83333333333337,67.39999999999999L374,66.9L371.16666666666663,69.7L368.33333333333337,72.275L365.5,89.39999999999999L362.6666666666667,98.825L359.8333333333333,101.82500000000002L357,105.72500000000001L354.1666666666667,106.22500000000001L351.3333333333333,105.375L348.5,104.375L345.6666666666667,104.45L342.8333333333333,103.82500000000002L340,95.025L337.1666666666667,88.19999999999999L334.3333333333333,85.2L331.5,79.60000000000001L328.6666666666667,67.45000000000002L325.83333333333337,63.625L323,61.67499999999999L320.16666666666663,64.19999999999999L317.33333333333337,64.825L314.5,64.775L311.66666666666663,61.94999999999999L308.8333333333333,68.925L306,73.75L303.1666666666667,73L300.3333333333333,77.55000000000001L297.5,78.05L294.6666666666667,90.65L291.8333333333333,92.45000000000002L289,94.825L286.1666666666667,94.35L283.3333333333333,95.875L280.5,103.14999999999999L277.6666666666667,109.94999999999999L274.8333333333333,108.05L272,103.69999999999999L269.16666666666663,100.22500000000001L266.33333333333337,93.7L263.5,81.77499999999999L260.66666666666663,69.775L257.8333333333333,68.775L255,67.5L252.16666666666669,65.14999999999999L249.33333333333334,61.80000000000001L246.49999999999997,56.725L243.66666666666669,55.05L240.83333333333331,54.150000000000006L238.00000000000003,50.95L235.16666666666666,52.82500000000001L232.33333333333331,49.8L229.50000000000003,52.925L226.66666666666666,67.225L223.83333333333331,71.50000000000001L221,71.625L218.16666666666666,72.15L215.33333333333334,73.275L212.5,77.45L209.66666666666669,84.14999999999999L206.83333333333334,84.3L204,85.72500000000001L201.16666666666666,86.85000000000001L198.33333333333334,89.32500000000002L195.5,87.35L192.66666666666666,87.475L189.83333333333334,82.65L187,78.75000000000001L184.16666666666669,75.825L181.33333333333334,74.275L178.5,71.35000000000001L175.66666666666666,64.6L172.83333333333334,57.67500000000001L170,48.475L167.16666666666666,33.67500000000001L164.33333333333334,150L161.5,150L158.66666666666669,150L155.83333333333331,150L153,150L150.16666666666666,150L147.33333333333334,150L144.5,150L141.66666666666666,150L138.83333333333334,150L136,150L133.16666666666669,60.824999999999996L130.33333333333331,66.475L127.5,60.325L124.66666666666667,52.75000000000001L121.83333333333334,45.074999999999996L119.00000000000001,47.875L116.16666666666666,51.87500000000001L113.33333333333333,54.775L110.5,54.55000000000001L107.66666666666667,57.34999999999999L104.83333333333334,59.27500000000001L102,55.62499999999999L99.16666666666667,51.550000000000004L96.33333333333333,51.65L93.5,50.09999999999999L90.66666666666667,66.07499999999999L87.83333333333333,78.075L85,81.5L82.16666666666667,81.4L79.33333333333334,150L76.5,150L73.66666666666667,150L70.83333333333333,150L68,150L65.16666666666666,150L62.333333333333336,150L59.50000000000001,150L56.666666666666664,150L53.833333333333336,150L51,150L48.166666666666664,150L45.333333333333336,150L42.5,150L39.66666666666667,150L36.833333333333336,150L34,150L31.166666666666668,150L28.333333333333332,150L25.5,150L22.666666666666668,150L19.833333333333336,150L17,150L14.166666666666666,150L11.333333333333334,150L8.5,150L5.666666666666667,150L2.8333333333333335,150Z\" fill=\"#a1d99b\"></path></g></g><path class=\"foreground\" aria-hidden=\"true\" d=\"\" display=\"none\"></path></g></g><g class=\"mark-group role-scope layer_1_pathgroup\" role=\"graphics-object\" aria-roledescription=\"group mark container\"><g transform=\"translate(0,0)\"><path class=\"background\" aria-hidden=\"true\" d=\"M0,0h850v200h-850Z\"></path><g><g class=\"mark-line role-mark layer_1_marks\" role=\"graphics-object\" aria-roledescription=\"line mark container\"><path aria-label=\"time_hr: 1; power_MWh: 3420000; tp: Consumption\" role=\"graphics-symbol\" aria-roledescription=\"line mark\" d=\"M2.8333333333333335,64.5L5.666666666666667,67.35L8.5,72.10000000000001L11.333333333333334,74.47500000000001L14.166666666666666,77.025L17,79.89999999999999L19.833333333333336,78.85L22.666666666666668,76.375L25.5,74.675L28.333333333333332,69.19999999999999L31.166666666666668,64.12500000000001L34,60.699999999999996L36.833333333333336,58.775L39.66666666666667,59.824999999999996L42.5,56.45L45.333333333333336,56.67500000000001L48.166666666666664,50.37499999999999L51,43.225L53.833333333333336,45.4L56.666666666666664,51.29999999999999L59.50000000000001,56.82499999999999L62.333333333333336,63.1L65.16666666666666,68.39999999999999L68,73.30000000000001L70.83333333333333,77.77499999999999L73.66666666666667,79.375L76.5,80.45L79.33333333333334,80.125L82.16666666666667,77.22500000000001L85,72.52499999999999L87.83333333333333,58.94999999999999L90.66666666666667,44.37500000000001L93.5,35.099999999999994L96.33333333333333,32.699999999999996L99.16666666666667,30.800000000000004L102,31.74999999999999L104.83333333333334,34.02499999999999L107.66666666666667,34.3L110.5,34.67499999999999L113.33333333333333,35.175L116.16666666666666,27.174999999999994L119.00000000000001,18.175000000000008L121.83333333333334,24.550000000000004L124.66666666666667,34.050000000000004L127.5,42.50000000000001L130.33333333333331,48.875L133.16666666666669,56.699999999999996L136,63.85000000000001L138.83333333333334,68.30000000000001L141.66666666666666,71.30000000000001L144.5,74.95L147.33333333333334,75.95L150.16666666666666,73.32499999999999L153,63.650000000000006L155.83333333333331,50.75000000000001L158.66666666666669,34.099999999999994L161.5,24.4L164.33333333333334,23.22500000000001L167.16666666666666,20.825000000000003L170,22.025000000000006L172.83333333333334,23.57499999999999L175.66666666666666,25.449999999999996L178.5,25.374999999999993L181.33333333333334,27.22500000000001L184.16666666666669,22.17499999999999L187,13.874999999999993L189.83333333333334,18.500000000000007L192.66666666666666,27.125L195.5,35.72500000000001L198.33333333333334,43.025000000000006L201.16666666666666,50.8L204,59.425L206.83333333333334,64.99999999999999L209.66666666666669,68.8L212.5,70.475L215.33333333333334,70.17500000000001L218.16666666666666,68.925L221,62.32500000000001L223.83333333333331,46.550000000000004L226.66666666666666,29.875000000000007L229.50000000000003,23.324999999999996L232.33333333333331,24.724999999999998L235.16666666666666,23.97499999999999L238.00000000000003,25.049999999999994L240.83333333333331,27.049999999999997L243.66666666666669,25.69999999999999L246.49999999999997,26.574999999999992L249.33333333333334,27.525L252.16666666666669,21.249999999999993L255,11.549999999999994L257.8333333333333,17.074999999999996L260.66666666666663,26.374999999999993L263.5,35.02499999999999L266.33333333333337,42.37500000000001L269.16666666666663,51.17499999999999L272,59.375L274.8333333333333,64.55L277.6666666666667,67.475L280.5,68.775L283.3333333333333,69.35L286.1666666666667,67.32499999999999L289,61.40000000000001L291.8333333333333,45.074999999999996L294.6666666666667,29.25L297.5,22.275L300.3333333333333,22.199999999999996L303.1666666666667,20.64999999999999L306,21.875L308.8333333333333,25.550000000000004L311.66666666666663,28.224999999999987L314.5,31.974999999999998L317.33333333333337,34.375L320.16666666666663,27.974999999999994L323,19.300000000000004L325.83333333333337,24.124999999999996L328.6666666666667,33.3L331.5,41.15L334.3333333333333,48.04999999999999L337.1666666666667,54.55000000000001L340,60.525000000000006L342.8333333333333,66.05000000000001L345.6666666666667,70.04999999999998L348.5,71.725L351.3333333333333,71.50000000000001L354.1666666666667,70.8L357,69.27499999999999L359.8333333333333,64.75L362.6666666666667,58.14999999999999L365.5,50.125L368.33333333333337,44.225L371.16666666666663,40.79999999999999L374,41.25000000000001L376.83333333333337,43.12499999999999L379.6666666666667,44.225L382.5,44.95L385.3333333333333,44.95L388.1666666666667,38.1L391,27.974999999999994L393.8333333333333,29.65L396.6666666666667,37.9L399.5,44.900000000000006L402.3333333333333,51L405.1666666666667,55.974999999999994L408,61.07499999999999L410.8333333333333,66.14999999999999L413.6666666666667,69.075L416.5,70.44999999999999L419.33333333333337,69.95L422.16666666666663,68.85L425,67.35L427.8333333333333,63.349999999999994L430.6666666666667,56.749999999999986L433.5,49.125L436.3333333333333,44.15L439.1666666666667,42.37500000000001L442,43.074999999999996L444.8333333333333,45.24999999999999L447.66666666666663,47.075L450.5,47.10000000000001L453.3333333333333,45.15L456.16666666666663,35.60000000000001L459.00000000000006,23.10000000000001L461.8333333333333,25.550000000000004L464.66666666666663,32.574999999999996L467.50000000000006,40.25000000000001L470.3333333333333,47.30000000000001L473.16666666666663,54.62499999999999L476.00000000000006,60.85L478.83333333333337,64.27499999999999L481.66666666666663,66.17500000000001L484.49999999999994,66.19999999999999L487.33333333333337,65.9L490.1666666666667,63.99999999999999L492.99999999999994,57.3L495.83333333333337,40.775000000000006L498.6666666666667,22.500000000000007L501.5,15.900000000000002L504.33333333333337,16.549999999999997L507.1666666666667,17.300000000000004L510,19.875L512.8333333333334,22.799999999999997L515.6666666666666,23L518.5,23.50000000000001L521.3333333333333,24.900000000000013L524.1666666666667,18.95L527,8.125000000000004L529.8333333333333,14.474999999999994L532.6666666666667,24.275000000000002L535.5,32.775L538.3333333333333,41.55L541.1666666666667,50.849999999999994L544,59.47499999999999L546.8333333333334,64.825L549.6666666666666,68.12499999999999L552.5,69.97500000000001L555.3333333333334,70.24999999999999L558.1666666666666,70.125L561,64.85000000000001L563.8333333333334,49.95L566.6666666666666,32.60000000000001L569.5,27.525L572.3333333333334,28.374999999999993L575.1666666666666,24.275000000000002L578,27.049999999999997L580.8333333333334,29.89999999999999L583.6666666666666,29.45L586.5,31.54999999999999L589.3333333333334,33.27500000000001L592.1666666666666,27.925L595,18.375000000000007L597.8333333333334,23.550000000000004L600.6666666666666,31.899999999999995L603.5,40.5L606.3333333333334,48.17499999999999L609.1666666666666,56.60000000000001L612,64.5L614.8333333333334,69.825L617.6666666666666,72.675L620.5,73.37499999999999L623.3333333333333,72.42500000000001L626.1666666666667,69.9L629,62.72500000000001L631.8333333333333,45.77500000000001L634.6666666666667,28.200000000000003L637.5,22.625000000000007L640.3333333333333,22.324999999999996L643.1666666666667,19.924999999999994L646,19.199999999999996L648.8333333333333,20.97500000000001L651.6666666666667,20.97500000000001L654.5,24.049999999999994L657.3333333333334,26.049999999999997L660.1666666666666,21.924999999999994L663,13.250000000000007L665.8333333333334,19.700000000000006L668.6666666666666,27.849999999999998L671.5,34.975L674.3333333333334,42.775000000000006L677.1666666666666,51.574999999999996L680,59.54999999999999L682.8333333333334,64.825L685.6666666666666,67.725L688.5,69L691.3333333333334,68.97500000000001L694.1666666666666,67.45000000000002L697,61.474999999999994L699.8333333333334,44.474999999999994L702.6666666666666,26.974999999999994L705.5,21.199999999999996L708.3333333333334,21.124999999999993L711.1666666666666,19.44999999999999L714,20.275L716.8333333333334,22.599999999999998L719.6666666666666,22.599999999999998L722.5,24L725.3333333333334,25.82500000000001L728.1666666666666,21.35L731,13.749999999999996L733.8333333333333,20.599999999999994L736.6666666666667,28.049999999999997L739.5,36.474999999999994L742.3333333333333,45.324999999999996L745.1666666666667,53.82499999999999L748,61.72500000000001L750.8333333333333,67.27499999999999L753.6666666666667,69.825L756.5,71.30000000000001L759.3333333333334,71.55L762.1666666666666,69.725L765,63.67499999999999L767.8333333333334,46.75L770.6666666666666,29.099999999999994L773.5,23.10000000000001L776.3333333333334,23.875L779.1666666666666,22.37499999999999L782,23.37499999999999L784.8333333333334,26.374999999999993L787.6666666666666,28.400000000000002L790.5,31.600000000000005L793.3333333333334,32.975L796.1666666666666,28.09999999999999L799,19.900000000000006L801.8333333333334,24.075000000000003L804.6666666666666,33.875000000000014L807.5,42.825L810.3333333333334,49.849999999999994L813.1666666666666,56.175L816,63.525000000000006L818.8333333333334,68.675L821.6666666666666,72.42500000000001L824.5,74.70000000000002L827.3333333333334,75.4L830.1666666666666,75L833,72.95L835.8333333333333,67.625L838.6666666666667,59.575L841.5,50.675000000000004L844.3333333333333,44.675L847.1666666666667,40.75L850,40.074999999999996\" stroke=\"red\" stroke-width=\"2\"></path></g></g><path class=\"foreground\" aria-hidden=\"true\" d=\"\" display=\"none\"></path></g></g><g class=\"mark-group role-legend\" role=\"graphics-symbol\" aria-roledescription=\"legend\" aria-label=\"Symbol legend titled 'tp' for fill color and stroke color with 4 values: Consumption, Import, Production, Wind\"><g transform=\"translate(870,0)\"><path class=\"background\" aria-hidden=\"true\" d=\"M0,0h76v77h-76Z\" pointer-events=\"none\"></path><g><g class=\"mark-group role-legend-entry\"><g transform=\"translate(0,16)\"><path class=\"background\" aria-hidden=\"true\" d=\"M0,0h0v0h0Z\" pointer-events=\"none\"></path><g><g class=\"mark-group role-scope\" role=\"graphics-object\" aria-roledescription=\"group mark container\"><g transform=\"translate(0,0)\"><path class=\"background\" aria-hidden=\"true\" d=\"M0,0h76v12.5h-76Z\" pointer-events=\"none\" opacity=\"1\"></path><g><g class=\"mark-symbol role-legend-symbol\" pointer-events=\"none\"><path transform=\"translate(6,6)\" d=\"M5,0A5,5,0,1,1,-5,0A5,5,0,1,1,5,0\" fill=\"red\" stroke=\"red\" stroke-width=\"1.5\" opacity=\"1\"></path></g><g class=\"mark-text role-legend-label\" pointer-events=\"none\"><text text-anchor=\"start\" transform=\"translate(16,9)\" font-family=\"sans-serif\" font-size=\"10px\" fill=\"#000\" opacity=\"1\">Consumption</text></g></g><path class=\"foreground\" aria-hidden=\"true\" d=\"\" pointer-events=\"none\" display=\"none\"></path></g><g transform=\"translate(0,16)\"><path class=\"background\" aria-hidden=\"true\" d=\"M0,0h76v12.5h-76Z\" pointer-events=\"none\" opacity=\"1\"></path><g><g class=\"mark-symbol role-legend-symbol\" pointer-events=\"none\"><path transform=\"translate(6,6)\" d=\"M5,0A5,5,0,1,1,-5,0A5,5,0,1,1,5,0\" fill=\"#a1d99b\" stroke=\"#a1d99b\" stroke-width=\"1.5\" opacity=\"1\"></path></g><g class=\"mark-text role-legend-label\" pointer-events=\"none\"><text text-anchor=\"start\" transform=\"translate(16,9)\" font-family=\"sans-serif\" font-size=\"10px\" fill=\"#000\" opacity=\"1\">Import</text></g></g><path class=\"foreground\" aria-hidden=\"true\" d=\"\" pointer-events=\"none\" display=\"none\"></path></g><g transform=\"translate(0,32)\"><path class=\"background\" aria-hidden=\"true\" d=\"M0,0h76v12.5h-76Z\" pointer-events=\"none\" opacity=\"1\"></path><g><g class=\"mark-symbol role-legend-symbol\" pointer-events=\"none\"><path transform=\"translate(6,6)\" d=\"M5,0A5,5,0,1,1,-5,0A5,5,0,1,1,5,0\" fill=\"#fd8d3c\" stroke=\"#fd8d3c\" stroke-width=\"1.5\" opacity=\"1\"></path></g><g class=\"mark-text role-legend-label\" pointer-events=\"none\"><text text-anchor=\"start\" transform=\"translate(16,9)\" font-family=\"sans-serif\" font-size=\"10px\" fill=\"#000\" opacity=\"1\">Production</text></g></g><path class=\"foreground\" aria-hidden=\"true\" d=\"\" pointer-events=\"none\" display=\"none\"></path></g><g transform=\"translate(0,48)\"><path class=\"background\" aria-hidden=\"true\" d=\"M0,0h76v12.5h-76Z\" pointer-events=\"none\" opacity=\"1\"></path><g><g class=\"mark-symbol role-legend-symbol\" pointer-events=\"none\"><path transform=\"translate(6,6)\" d=\"M5,0A5,5,0,1,1,-5,0A5,5,0,1,1,5,0\" fill=\"#3182bd\" stroke=\"#3182bd\" stroke-width=\"1.5\" opacity=\"1\"></path></g><g class=\"mark-text role-legend-label\" pointer-events=\"none\"><text text-anchor=\"start\" transform=\"translate(16,9)\" font-family=\"sans-serif\" font-size=\"10px\" fill=\"#000\" opacity=\"1\">Wind</text></g></g><path class=\"foreground\" aria-hidden=\"true\" d=\"\" pointer-events=\"none\" display=\"none\"></path></g></g></g><path class=\"foreground\" aria-hidden=\"true\" d=\"\" pointer-events=\"none\" display=\"none\"></path></g></g><g class=\"mark-text role-legend-title\" pointer-events=\"none\"><text text-anchor=\"start\" transform=\"translate(0,9)\" font-family=\"sans-serif\" font-size=\"11px\" font-weight=\"bold\" fill=\"#000\" opacity=\"1\">tp</text></g></g><path class=\"foreground\" aria-hidden=\"true\" d=\"\" pointer-events=\"none\" display=\"none\"></path></g></g></g><path class=\"foreground\" aria-hidden=\"true\" d=\"\" display=\"none\"></path></g></g></g></svg>\n"
      ],
      "text/plain": [
       "@vlplot(\n",
       "    width=850,\n",
       "    hieght=700,\n",
       "    layer=[\n",
       "        {\n",
       "            mark=\"area\",\n",
       "            transform=[\n",
       "                {\n",
       "                    filter=\"datum.source==1\"\n",
       "                }\n",
       "            ],\n",
       "            encoding={\n",
       "                x={\n",
       "                    field=\"time_hr\"\n",
       "                },\n",
       "                y={\n",
       "                    stack=\"zero\",\n",
       "                    field=\"power_MWh\"\n",
       "                },\n",
       "                color={\n",
       "                    field=\"tp\"\n",
       "                }\n",
       "            }\n",
       "        },\n",
       "        {\n",
       "            mark=\"line\",\n",
       "            transform=[\n",
       "                {\n",
       "                    filter=\"datum.source==2\"\n",
       "                }\n",
       "            ],\n",
       "            encoding={\n",
       "                x={\n",
       "                    field=\"time_hr\"\n",
       "                },\n",
       "                y={\n",
       "                    field=\"power_MWh\"\n",
       "                },\n",
       "                color={\n",
       "                    scale={\n",
       "                        range=[\n",
       "                            \"red\",\n",
       "                            \"#a1d99b\",\n",
       "                            \"#fd8d3c\",\n",
       "                            \"#3182bd\"\n",
       "                        ]\n",
       "                    },\n",
       "                    field=\"tp\"\n",
       "                }\n",
       "            }\n",
       "        }\n",
       "    ],\n",
       "    data={\n",
       "        values=...\n",
       "    }\n",
       ")"
      ]
     },
     "execution_count": 1,
     "metadata": {},
     "output_type": "execute_result"
    }
   ],
   "source": [
    "using CSV, VegaLite, DataFrames, Statistics\n",
    "\n",
    "consum = CSV.read(\"consumption-dk-areas_2018_hourly.csv\", DataFrame)\n",
    "produc = CSV.read(\"production-dk-areas_2018_hourly.csv\", DataFrame)\n",
    "wind   = CSV.read(\"wind-power-dk_2018_hourly.csv\", DataFrame)\n",
    "exp    = CSV.read(\"exchange-per-country_2018_hourly.csv\", DataFrame)\n",
    "solar  = CSV.read(\"solarpv2018.csv\", DataFrame)\n",
    "\n",
    "\n",
    "n = 300\n",
    "\n",
    "#production with wind substracted\n",
    "dif = produc[1:n,\"DK\"]-wind[1:n,\"DK\"]\n",
    "\n",
    "data = vcat(DataFrame(time_hr=collect(1:n),power_MWh = consum[1:n,\"DK\"]*1000, tp = \"Consumption\",source = 2),           \n",
    "            DataFrame(time_hr=collect(1:n),power_MWh = dif*1000, tp =\"Production\",source = 1),\n",
    "            DataFrame(time_hr=collect(1:n),power_MWh = wind[1:n,\"DK\"]*1000, tp = \"Wind\",source = 1),\n",
    "            DataFrame(time_hr=collect(1:n),power_MWh = exp[1:n,\"DK\"]*1000, tp = \"Import\",source = 1))\n",
    "\n",
    "#Plotting data\n",
    "data |>\n",
    "@vlplot(width=850, hieght=700)+\n",
    "@vlplot(mark=:area, x=:time_hr, y={:power_MWh,stack=:zero},color=:tp,transform=[{filter=\"datum.source==1\"}]) +\n",
    "@vlplot(mark=:line, x=:time_hr, y=:power_MWh, transform=[{filter=\"datum.source==2\"}],\n",
    "    color={:tp,\n",
    "    scale={range = [\"red\",\"#a1d99b\",\"#fd8d3c\",\"#3182bd\"]}})"
   ]
  },
  {
   "cell_type": "markdown",
   "metadata": {},
   "source": [
    "+ Total energy demand is covered by the combination of local energy production and import of energy from neighbouring countries\n",
    "+ Big part of electric energy is covered by the wind power production\n",
    "+ The difference is covered by the combination of renewable and non-renewable sources\n",
    "\n",
    "Share of production technologies in energy mix can be found in Energy Statistics Report for 2018 by Danish Energy Agency (https://ens.dk/en/our-services/statistics-data-key-figures-and-energy-maps/annual-and-monthly-statistics) \n",
    "\n",
    "For the simulation all units could be represented in a model, but only most feasable units are dispatched to cover difference between wind and consumption."
   ]
  },
  {
   "cell_type": "markdown",
   "metadata": {},
   "source": [
    "### Modeling\n",
    "Energy system could be modeled based on the data from above. In this case the system would consist of already deployed units and investment opportunities what will further optimize the system (Minimize costs). Wind production will be substracted from consumption for each of the time steps and optimization for mix of technologies covering the difference will be made.\n",
    "\n",
    "Additional information required:\n",
    "+ Operational prices for existing power plants based on type of plant/fuel\n",
    "+ Investment prices (price per KW) for further investments \n"
   ]
  },
  {
   "cell_type": "code",
   "execution_count": 2,
   "metadata": {},
   "outputs": [
    {
     "data": {
      "text/html": [
       "<table class=\"data-frame\"><thead><tr><th></th><th>Name</th><th>Capex_avg</th><th>Lifetime</th><th>Opex_of_capex</th><th>Opex_fix</th><th>Opex_var</th><th>Fuel_price</th></tr><tr><th></th><th>String</th><th>Int64</th><th>Int64</th><th>Float64</th><th>Int64</th><th>Float64</th><th>Float64</th></tr></thead><tbody><p>8 rows × 8 columns (omitted printing of 1 columns)</p><tr><th>1</th><td>Solar PV</td><td>700000</td><td>25</td><td>0.025</td><td>0</td><td>0.0</td><td>0.0</td></tr><tr><th>2</th><td>Wind Onshore</td><td>1750000</td><td>25</td><td>0.0</td><td>30000</td><td>5.0</td><td>0.0</td></tr><tr><th>3</th><td>Wind Offshore</td><td>3900000</td><td>25</td><td>0.0</td><td>100000</td><td>5.0</td><td>0.0</td></tr><tr><th>4</th><td>Biogas</td><td>3000000</td><td>30</td><td>0.04</td><td>0</td><td>0.0</td><td>30.3</td></tr><tr><th>5</th><td>Brown coal</td><td>1900000</td><td>40</td><td>0.0</td><td>36000</td><td>5.0</td><td>1.8</td></tr><tr><th>6</th><td>Hard coal</td><td>1650000</td><td>40</td><td>0.0</td><td>32000</td><td>5.0</td><td>9.6</td></tr><tr><th>7</th><td>CCGT</td><td>950000</td><td>30</td><td>0.0</td><td>22000</td><td>4.0</td><td>21.0</td></tr><tr><th>8</th><td>GT</td><td>500000</td><td>30</td><td>0.0</td><td>20000</td><td>3.0</td><td>21.0</td></tr></tbody></table>"
      ],
      "text/latex": [
       "\\begin{tabular}{r|cccccccc}\n",
       "\t& Name & Capex\\_avg & Lifetime & Opex\\_of\\_capex & Opex\\_fix & Opex\\_var & Fuel\\_price & \\\\\n",
       "\t\\hline\n",
       "\t& String & Int64 & Int64 & Float64 & Int64 & Float64 & Float64 & \\\\\n",
       "\t\\hline\n",
       "\t1 & Solar PV & 700000 & 25 & 0.025 & 0 & 0.0 & 0.0 & $\\dots$ \\\\\n",
       "\t2 & Wind Onshore & 1750000 & 25 & 0.0 & 30000 & 5.0 & 0.0 & $\\dots$ \\\\\n",
       "\t3 & Wind Offshore & 3900000 & 25 & 0.0 & 100000 & 5.0 & 0.0 & $\\dots$ \\\\\n",
       "\t4 & Biogas & 3000000 & 30 & 0.04 & 0 & 0.0 & 30.3 & $\\dots$ \\\\\n",
       "\t5 & Brown coal & 1900000 & 40 & 0.0 & 36000 & 5.0 & 1.8 & $\\dots$ \\\\\n",
       "\t6 & Hard coal & 1650000 & 40 & 0.0 & 32000 & 5.0 & 9.6 & $\\dots$ \\\\\n",
       "\t7 & CCGT & 950000 & 30 & 0.0 & 22000 & 4.0 & 21.0 & $\\dots$ \\\\\n",
       "\t8 & GT & 500000 & 30 & 0.0 & 20000 & 3.0 & 21.0 & $\\dots$ \\\\\n",
       "\\end{tabular}\n"
      ],
      "text/plain": [
       "\u001b[1m8×8 DataFrame\u001b[0m\n",
       "\u001b[1m Row \u001b[0m│\u001b[1m Name          \u001b[0m\u001b[1m Capex_avg \u001b[0m\u001b[1m Lifetime \u001b[0m\u001b[1m Opex_of_capex \u001b[0m\u001b[1m Opex_fix \u001b[0m\u001b[1m Opex_var \u001b[0m\u001b[1m \u001b[0m ⋯\n",
       "\u001b[1m     \u001b[0m│\u001b[90m String        \u001b[0m\u001b[90m Int64     \u001b[0m\u001b[90m Int64    \u001b[0m\u001b[90m Float64       \u001b[0m\u001b[90m Int64    \u001b[0m\u001b[90m Float64  \u001b[0m\u001b[90m \u001b[0m ⋯\n",
       "─────┼──────────────────────────────────────────────────────────────────────────\n",
       "   1 │ Solar PV          700000        25          0.025         0       0.0   ⋯\n",
       "   2 │ Wind Onshore     1750000        25          0.0       30000       5.0\n",
       "   3 │ Wind Offshore    3900000        25          0.0      100000       5.0\n",
       "   4 │ Biogas           3000000        30          0.04          0       0.0\n",
       "   5 │ Brown coal       1900000        40          0.0       36000       5.0   ⋯\n",
       "   6 │ Hard coal        1650000        40          0.0       32000       5.0\n",
       "   7 │ CCGT              950000        30          0.0       22000       4.0\n",
       "   8 │ GT                500000        30          0.0       20000       3.0\n",
       "\u001b[31m                                                               2 columns omitted\u001b[0m"
      ]
     },
     "execution_count": 2,
     "metadata": {},
     "output_type": "execute_result"
    }
   ],
   "source": [
    "p = 1000    #to convert to EU per MWh\n",
    "inp = DataFrame(Name            = [\"Solar PV\",\"Wind Onshore\",\"Wind Offshore\",\"Biogas\",\"Brown coal\",\"Hard coal\",\"CCGT\",\"GT\"],\n",
    "                Capex_avg       = [700,1750,3900,3000,1900,1650,950,500]*p,    #investment cost EUR/kW (nominal capacity)\n",
    "                Lifetime        = [25,25,25,30,40,40,30,30],                   #Years\n",
    "                Opex_of_capex   = [0.025,0,0,0.04,0,0,0,0],                    #EUR/kw % of CAPEX\n",
    "                Opex_fix        = [0,30,100,0,36,32,22,20]*p,                  #EUR/Kw\n",
    "                Opex_var        = [0,0.005,0.005,0,0.005,0.005,0.004,0.003]*p, #EUR/kwh\n",
    "                Fuel_price      = [0,0,0,30.3,1.8,9.6,21,21],                  #EUR/MWh heat\n",
    "                Fuel_eff        = [1,1,1,0.4,0.45,0.46,0.6,0.6])               #el. eng. % of heat en"
   ]
  },
  {
   "cell_type": "markdown",
   "metadata": {},
   "source": [
    "### Estiamtion of the capacity factor"
   ]
  },
  {
   "cell_type": "code",
   "execution_count": 3,
   "metadata": {},
   "outputs": [
    {
     "name": "stdout",
     "output_type": "stream",
     "text": [
      "\n"
     ]
    }
   ],
   "source": [
    "T = size(consum)[1]\n",
    "#capacity factor\n",
    "c = []\n",
    "append!(c, wind[i,\"DK\"]/maximum(wind[1:T,\"DK\"]) for i=1:T)    #capacity factor\n",
    "println(\"\")"
   ]
  },
  {
   "cell_type": "markdown",
   "metadata": {},
   "source": [
    "### Mathematical  formualtion\n",
    "\n",
    "**Variables:** \n",
    "<br> $p_{it}$ production of technology i in time unit t\n",
    "<br> $p_i^{max}$ max power production of unit i\n",
    "\n",
    "**Parameters:**\n",
    "<br> $a$ - operations varaible cost [EUR/KWh]\n",
    "<br> $f$ - fuel price [EUR/KWh]\n",
    "<br> $e$ - fuel efficiency [\\$]\n",
    "<br> $b$ - CAPEX [EUR/KWh]\n",
    "<br> $l$ - expected system lifetime [yr.]\n",
    "<br> $o$ - fixed operational expenses [EUR/kw % of CAPEX]\n",
    "<br> $k$ - fixed operational expenses [EUR/kw]\n",
    "<br> $d$ - demand for power [Mw]\n",
    "<br> $c$ - capacity factor "
   ]
  },
  {
   "cell_type": "markdown",
   "metadata": {},
   "source": [
    "**Objective:** \n",
    "<br>to minimize cost of electricity\n",
    "\n",
    "$$Z = \\dfrac{\\sum_{t=1}^{T}\\sum_{i=1}^{n}p_{it} \\left( a_i+ f_ie_i\\right) + \n",
    "\\sum_{i=1}^{n} \\dfrac{p^{max}_{i}}{l_{i}}\\left(b_i(1+o_i)+k_{i} \\right)}{\\sum_{t=1}^{T}d_t} \\tag{1}$$\n",
    "\n",
    "$$p_{it}\\leq p^{max}_i \\tag{2} $$\n",
    "\n",
    "$$p_{wt} = p^{max}_w c_{wt} \\tag{3} $$\n",
    "\n",
    "$$\\sum_{t=1}^{T}\\sum_{i=1}^{I} p_{it} \\geq d_t \\tag{4} $$\n",
    "\n",
    "$$p_{it},p_{i}^{max} \\geq 0 $$"
   ]
  },
  {
   "cell_type": "markdown",
   "metadata": {},
   "source": [
    "### Renewable deployment strategy\n",
    "\n",
    "Most of the active wind turbines in Denmark were onshore, around 5.7 thousand compared to 558 offshore."
   ]
  },
  {
   "cell_type": "code",
   "execution_count": 4,
   "metadata": {},
   "outputs": [
    {
     "data": {
      "text/plain": [
       "28500"
      ]
     },
     "execution_count": 4,
     "metadata": {},
     "output_type": "execute_result"
    }
   ],
   "source": [
    "max_wind = 5700 * 5     #max number of onshore turbines"
   ]
  },
  {
   "cell_type": "markdown",
   "metadata": {},
   "source": [
    "## Main"
   ]
  },
  {
   "cell_type": "code",
   "execution_count": 81,
   "metadata": {},
   "outputs": [
    {
     "name": "stdout",
     "output_type": "stream",
     "text": [
      "\r\n",
      "Root node processing (before b&c):\r\n",
      "  Real time             =    0.03 sec. (10.84 ticks)\r\n",
      "Parallel b&c, 4 threads:\r\n",
      "  Real time             =    0.00 sec. (0.00 ticks)\r\n",
      "  Sync time (average)   =    0.00 sec.\r\n",
      "  Wait time (average)   =    0.00 sec.\r\n",
      "                          ------------\r\n",
      "Total (root+branch&cut) =    0.03 sec. (10.84 ticks)\r\n",
      "Version identifier: 12.10.0.0 | 2019-11-26 | 843d4de2ae\r\n",
      "Warning:  Non-integral bounds for integer variables rounded.\r\n",
      "1 of 1 MIP starts provided solutions.\r\n",
      "MIP start 'm1' defined initial solution with objective 13.0327.\r\n",
      "Warning:  Non-integral bounds for integer variables rounded.\r\n",
      "Tried aggregator 2 times.\r\n",
      "MIP Presolve eliminated 4455 rows and 4462 columns.\r\n",
      "Aggregator did 21829 substitutions.\r\n",
      "Reduced MIP has 52567 rows, 43813 columns, and 197049 nonzeros.\r\n",
      "Reduced MIP has 0 binaries, 0 generals, 0 SOSs, and 0 indicators.\r\n",
      "Presolve time = 0.25 sec. (263.34 ticks)\r\n",
      "Tried aggregator 1 time.\r\n",
      "Detecting symmetries...\r\n",
      "MIP Presolve eliminated 12 rows and 10 columns.\r\n",
      "Reduced MIP has 52555 rows, 43803 columns, and 197005 nonzeros.\r\n",
      "Reduced MIP has 0 binaries, 0 generals, 0 SOSs, and 0 indicators.\r\n",
      "Presolve time = 0.14 sec. (75.05 ticks)\r\n",
      "MIP emphasis: balance optimality and feasibility.\r\n",
      "MIP search method: dynamic search.\r\n",
      "Parallel mode: deterministic, using up to 4 threads.\r\n",
      "Root relaxation solution time = 6.33 sec. (2057.77 ticks)\r\n",
      "\r\n",
      "        Nodes                                         Cuts/\r\n",
      "   Node  Left     Objective  IInf  Best Integer    Best Bound    ItCnt     Gap\r\n",
      "\r\n",
      "*     0+    0                           13.0327        0.0000           100.00%\r\n",
      "*     0     0      integral     0       13.0323       13.0323       89    0.00%\r\n",
      "Elapsed time = 56.27 sec. (59713.58 ticks, tree = 0.00 MB, solutions = 2)\r\n",
      "\r\n",
      "Root node processing (before b&c):\r\n",
      "  Real time             =   56.28 sec. (59717.29 ticks)\r\n",
      "Parallel b&c, 4 threads:\r\n",
      "  Real time             =    0.00 sec. (0.00 ticks)\r\n",
      "  Sync time (average)   =    0.00 sec.\r\n",
      "  Wait time (average)   =    0.00 sec.\r\n",
      "                          ------------\r\n",
      "Total (root+branch&cut) =   56.28 sec. (59717.29 ticks)\r\n",
      "Version identifier: 12.10.0.0 | 2019-11-26 | 843d4de2ae\r\n",
      "Warning:  Non-integral bounds for integer variables rounded.\r\n",
      "1 of 1 MIP starts provided solutions.\r\n",
      "MIP start 'm1' defined initial solution with objective 27.3005.\r\n",
      "Warning:  Non-integral bounds for integer variables rounded.\r\n",
      "Tried aggregator 2 times.\r\n",
      "MIP Presolve eliminated 4455 rows and 4462 columns.\r\n",
      "Aggregator did 21829 substitutions.\r\n",
      "Reduced MIP has 52567 rows, 43813 columns, and 197049 nonzeros.\r\n",
      "Reduced MIP has 0 binaries, 0 generals, 0 SOSs, and 0 indicators.\r\n",
      "Presolve time = 0.26 sec. (263.34 ticks)\r\n",
      "Tried aggregator 1 time.\r\n",
      "Detecting symmetries...\r\n",
      "MIP Presolve eliminated 12 rows and 10 columns.\r\n",
      "Reduced MIP has 52555 rows, 43803 columns, and 197005 nonzeros.\r\n",
      "Reduced MIP has 0 binaries, 0 generals, 0 SOSs, and 0 indicators.\r\n",
      "Presolve time = 0.16 sec. (75.05 ticks)\r\n",
      "MIP emphasis: balance optimality and feasibility.\r\n",
      "MIP search method: dynamic search.\r\n",
      "Parallel mode: deterministic, using up to 4 threads.\r\n",
      "Root relaxation solution time = 6.23 sec. (2337.34 ticks)\r\n",
      "\r\n",
      "        Nodes                                         Cuts/\r\n",
      "   Node  Left     Objective  IInf  Best Integer    Best Bound    ItCnt     Gap\r\n",
      "\r\n",
      "*     0+    0                           27.3005        0.0000           100.00%\r\n",
      "*     0     0      integral     0       27.2970       27.2970       80    0.00%\r\n",
      "Elapsed time = 69.92 sec. (69501.15 ticks, tree = 0.00 MB, solutions = 2)\r\n",
      "\r\n",
      "Root node processing (before b&c):\r\n",
      "  Real time             =   69.94 sec. (69504.86 ticks)\r\n",
      "Parallel b&c, 4 threads:\r\n",
      "  Real time             =    0.00 sec. (0.00 ticks)\r\n",
      "  Sync time (average)   =    0.00 sec.\r\n",
      "  Wait time (average)   =    0.00 sec.\r\n",
      "                          ------------\r\n",
      "Total (root+branch&cut) =   69.94 sec. (69504.86 ticks)\r\n",
      "Version identifier: 12.10.0.0 | 2019-11-26 | 843d4de2ae\r\n",
      "Warning:  Non-integral bounds for integer variables rounded.\r\n",
      "1 of 1 MIP starts provided solutions.\r\n",
      "MIP start 'm1' defined initial solution with objective 45.2072.\r\n",
      "Warning:  Non-integral bounds for integer variables rounded.\r\n",
      "Tried aggregator 2 times.\r\n",
      "MIP Presolve eliminated 4455 rows and 4462 columns.\r\n",
      "Aggregator did 21829 substitutions.\r\n",
      "Reduced MIP has 52567 rows, 43813 columns, and 197049 nonzeros.\r\n",
      "Reduced MIP has 0 binaries, 0 generals, 0 SOSs, and 0 indicators.\r\n",
      "Presolve time = 0.27 sec. (263.34 ticks)\r\n",
      "Tried aggregator 1 time.\r\n",
      "Detecting symmetries...\r\n",
      "MIP Presolve eliminated 12 rows and 10 columns.\r\n",
      "Reduced MIP has 52555 rows, 43803 columns, and 197005 nonzeros.\r\n",
      "Reduced MIP has 0 binaries, 0 generals, 0 SOSs, and 0 indicators.\r\n",
      "Presolve time = 0.14 sec. (75.05 ticks)\r\n",
      "MIP emphasis: balance optimality and feasibility.\r\n",
      "MIP search method: dynamic search.\r\n",
      "Parallel mode: deterministic, using up to 4 threads.\r\n",
      "Root relaxation solution time = 15.06 sec. (5129.41 ticks)\r\n",
      "\r\n",
      "        Nodes                                         Cuts/\r\n",
      "   Node  Left     Objective  IInf  Best Integer    Best Bound    ItCnt     Gap\r\n",
      "\r\n",
      "*     0+    0                           45.2072        0.0000           100.00%\r\n",
      "      0     0        cutoff             45.2072       45.2108      349   -0.01%\r\n",
      "      0     0        cutoff             45.2072       45.2108      349   -0.01%\r\n",
      "Elapsed time = 64.13 sec. (47822.48 ticks, tree = 0.01 MB, solutions = 1)\r\n",
      "\r\n",
      "Root node processing (before b&c):\r\n",
      "  Real time             =   64.14 sec. (47825.20 ticks)\r\n",
      "Parallel b&c, 4 threads:\r\n",
      "  Real time             =    0.00 sec. (0.00 ticks)\r\n",
      "  Sync time (average)   =    0.00 sec.\r\n",
      "  Wait time (average)   =    0.00 sec.\r\n",
      "                          ------------\r\n",
      "Total (root+branch&cut) =   64.14 sec. (47825.20 ticks)\r\n",
      "Version identifier: 12.10.0.0 | 2019-11-26 | 843d4de2ae\r\n",
      "Warning:  Non-integral bounds for integer variables rounded.\r\n",
      "1 of 1 MIP starts provided solutions.\r\n",
      "MIP start 'm1' defined initial solution with objective 173.9891.\r\n",
      "Warning:  Non-integral bounds for integer variables rounded.\r\n",
      "Tried aggregator 2 times.\r\n",
      "MIP Presolve eliminated 4455 rows and 4462 columns.\r\n",
      "Aggregator did 21829 substitutions.\r\n",
      "Reduced MIP has 52567 rows, 43813 columns, and 197049 nonzeros.\r\n",
      "Reduced MIP has 0 binaries, 0 generals, 0 SOSs, and 0 indicators.\r\n",
      "Presolve time = 0.25 sec. (263.34 ticks)\r\n",
      "Tried aggregator 1 time.\r\n",
      "Detecting symmetries...\r\n",
      "MIP Presolve eliminated 12 rows and 10 columns.\r\n",
      "Reduced MIP has 52555 rows, 43803 columns, and 197005 nonzeros.\r\n",
      "Reduced MIP has 0 binaries, 0 generals, 0 SOSs, and 0 indicators.\r\n",
      "Presolve time = 0.14 sec. (75.05 ticks)\r\n",
      "MIP emphasis: balance optimality and feasibility.\r\n",
      "MIP search method: dynamic search.\r\n",
      "Parallel mode: deterministic, using up to 4 threads.\r\n",
      "Root relaxation solution time = 15.20 sec. (5129.96 ticks)\r\n",
      "\r\n",
      "        Nodes                                         Cuts/\r\n",
      "   Node  Left     Objective  IInf  Best Integer    Best Bound    ItCnt     Gap\r\n",
      "\r\n",
      "*     0+    0                          173.9891        0.0000           100.00%\r\n",
      "      0     0        cutoff            173.9891      173.9891      235    0.00%\r\n",
      "      0     0        cutoff            173.9891      173.9891      235    0.00%\r\n",
      "Elapsed time = 39.77 sec. (20441.95 ticks, tree = 0.01 MB, solutions = 1)\r\n",
      "\r\n",
      "Root node processing (before b&c):\r\n",
      "  Real time             =   39.78 sec. (20444.67 ticks)\r\n",
      "Parallel b&c, 4 threads:\r\n",
      "  Real time             =    0.00 sec. (0.00 ticks)\r\n",
      "  Sync time (average)   =    0.00 sec.\r\n",
      "  Wait time (average)   =    0.00 sec.\r\n",
      "                          ------------\r\n",
      "Total (root+branch&cut) =   39.78 sec. (20444.67 ticks)\r\n",
      "Version identifier: 12.10.0.0 | 2019-11-26 | 843d4de2ae\r\n",
      "Warning:  Non-integral bounds for integer variables rounded.\r\n",
      "Warning:  No solution found from 1 MIP starts.\r\n",
      "Retaining values of one MIP start for possible repair.\r\n",
      "Warning:  Non-integral bounds for integer variables rounded.\r\n",
      "Infeasibility row 'c19517':  0 >= 3093.\r\n",
      "Presolve time = 0.05 sec. (16.58 ticks)\r\n"
     ]
    },
    {
     "ename": "LoadError",
     "evalue": "Result index of attribute MathOptInterface.VariablePrimal(1) out of bounds. There are currently 0 solution(s) in the model.",
     "output_type": "error",
     "traceback": [
      "Result index of attribute MathOptInterface.VariablePrimal(1) out of bounds. There are currently 0 solution(s) in the model.",
      "",
      "Stacktrace:",
      " [1] check_result_index_bounds at C:\\Users\\anton\\.julia\\packages\\MathOptInterface\\RmalA\\src\\attributes.jl:133 [inlined]",
      " [2] get(::CPLEX.Optimizer, ::MathOptInterface.VariablePrimal, ::MathOptInterface.VariableIndex) at C:\\Users\\anton\\.julia\\packages\\CPLEX\\DgohF\\src\\MOI\\MOI_wrapper.jl:2036",
      " [3] get(::MathOptInterface.Bridges.LazyBridgeOptimizer{CPLEX.Optimizer}, ::MathOptInterface.VariablePrimal, ::MathOptInterface.VariableIndex) at C:\\Users\\anton\\.julia\\packages\\MathOptInterface\\RmalA\\src\\Bridges\\bridge_optimizer.jl:752",
      " [4] get(::MathOptInterface.Utilities.CachingOptimizer{MathOptInterface.AbstractOptimizer,MathOptInterface.Utilities.UniversalFallback{MathOptInterface.Utilities.Model{Float64}}}, ::MathOptInterface.VariablePrimal, ::MathOptInterface.VariableIndex) at C:\\Users\\anton\\.julia\\packages\\MathOptInterface\\RmalA\\src\\Utilities\\cachingoptimizer.jl:508",
      " [5] _moi_get_result(::MathOptInterface.Utilities.CachingOptimizer{MathOptInterface.AbstractOptimizer,MathOptInterface.Utilities.UniversalFallback{MathOptInterface.Utilities.Model{Float64}}}, ::MathOptInterface.VariablePrimal, ::Vararg{Any,N} where N) at C:\\Users\\anton\\.julia\\packages\\JuMP\\YXK4e\\src\\JuMP.jl:847",
      " [6] get(::Model, ::MathOptInterface.VariablePrimal, ::VariableRef) at C:\\Users\\anton\\.julia\\packages\\JuMP\\YXK4e\\src\\JuMP.jl:877",
      " [7] value(::VariableRef; result::Int64) at C:\\Users\\anton\\.julia\\packages\\JuMP\\YXK4e\\src\\variables.jl:767",
      " [8] value at C:\\Users\\anton\\.julia\\packages\\JuMP\\YXK4e\\src\\variables.jl:767 [inlined]",
      " [9] _broadcast_getindex_evalf at .\\broadcast.jl:648 [inlined]",
      " [10] _broadcast_getindex at .\\broadcast.jl:621 [inlined]",
      " [11] getindex at .\\broadcast.jl:575 [inlined]",
      " [12] macro expansion at .\\broadcast.jl:932 [inlined]",
      " [13] macro expansion at .\\simdloop.jl:77 [inlined]",
      " [14] copyto! at .\\broadcast.jl:931 [inlined]",
      " [15] copyto! at .\\broadcast.jl:886 [inlined]",
      " [16] copy at .\\broadcast.jl:862 [inlined]",
      " [17] materialize(::Base.Broadcast.Broadcasted{Base.Broadcast.DefaultArrayStyle{1},Nothing,typeof(value),Tuple{Array{VariableRef,1}}}) at .\\broadcast.jl:837",
      " [18] optimize(::Float64, ::Int64) at .\\In[61]:46",
      " [19] top-level scope at .\\In[81]:36",
      " [20] include_string(::Function, ::Module, ::String, ::String) at .\\loading.jl:1091"
     ]
    }
   ],
   "source": [
    "#share of renewables\n",
    "ren_s = [0,0.6,0.8,0.95,1]\n",
    "\n",
    "T = size(consum)[1] #simulation size\n",
    "d = 500 #plots diplay size\n",
    "\n",
    "Per_tech_ren = DataFrame(\n",
    "                         Technology      = String[],\n",
    "                         Capacity_GWh    = Float64[],\n",
    "                         Utilization     = Float64[],\n",
    "                         CAPEX_bilEUR    = Float64[], \n",
    "                         OM_bilEUR       = Float64[],\n",
    "                         Share_ren       = String[])\n",
    "\n",
    "Totals_ren   = DataFrame(Share_ren       = String[],\n",
    "                         LCOE            = Float64[], \n",
    "                         Production_MWh  = Float64[], \n",
    "                         Demand_MWh      = Float64[], \n",
    "                         Curtailment_MWh = Float64[],\n",
    "                         CAPEX_t_bilEUR  = Float64[], \n",
    "                         OM_t_bilEUR     = Float64[])\n",
    "\n",
    "T_series       = DataFrame(Time_hr       = Int64[], \n",
    "                           Solar_PV      = Float64[],\n",
    "                           Wind_onshore  = Float64[],\n",
    "                           Wind_offshore = Float64[],                       \n",
    "                           Biogas        = Float64[],\n",
    "                           Coal_brown    = Float64[],\n",
    "                           Coal_hard     = Float64[],\n",
    "                           CCGT          = Float64[],\n",
    "                           GT            = Float64[],\n",
    "                           Consumption   = Int64[])    \n",
    "\n",
    "#Data gathering\n",
    "for share in ren_s\n",
    "    opt = optimize(share,T)\n",
    "    append!(Totals_ren,opt[1])\n",
    "    append!(Per_tech_ren, opt[2])\n",
    "    append!(T_series, opt[3])\n",
    "end\n"
   ]
  },
  {
   "cell_type": "code",
   "execution_count": 87,
   "metadata": {},
   "outputs": [
    {
     "name": "stderr",
     "output_type": "stream",
     "text": [
      "┌ Warning: Mapping to the storage type failed; perhaps your data had out-of-range values?\n",
      "│ Try `map(clamp01nan, img)` to clamp values to a valid range.\n",
      "└ @ ImageMagick C:\\Users\\anton\\.julia\\packages\\ImageMagick\\0LwpT\\src\\ImageMagick.jl:180\n",
      "┌ Warning: Mapping to the storage type failed; perhaps your data had out-of-range values?\n",
      "│ Try `map(clamp01nan, img)` to clamp values to a valid range.\n",
      "└ @ ImageMagick C:\\Users\\anton\\.julia\\packages\\ImageMagick\\0LwpT\\src\\ImageMagick.jl:180\n",
      "┌ Warning: Mapping to the storage type failed; perhaps your data had out-of-range values?\n",
      "│ Try `map(clamp01nan, img)` to clamp values to a valid range.\n",
      "└ @ ImageMagick C:\\Users\\anton\\.julia\\packages\\ImageMagick\\0LwpT\\src\\ImageMagick.jl:180\n",
      "┌ Warning: Mapping to the storage type failed; perhaps your data had out-of-range values?\n",
      "│ Try `map(clamp01nan, img)` to clamp values to a valid range.\n",
      "└ @ ImageMagick C:\\Users\\anton\\.julia\\packages\\ImageMagick\\0LwpT\\src\\ImageMagick.jl:180\n",
      "┌ Warning: Mapping to the storage type failed; perhaps your data had out-of-range values?\n",
      "│ Try `map(clamp01nan, img)` to clamp values to a valid range.\n",
      "└ @ ImageMagick C:\\Users\\anton\\.julia\\packages\\ImageMagick\\0LwpT\\src\\ImageMagick.jl:180\n",
      "┌ Warning: Mapping to the storage type failed; perhaps your data had out-of-range values?\n",
      "│ Try `map(clamp01nan, img)` to clamp values to a valid range.\n",
      "└ @ ImageMagick C:\\Users\\anton\\.julia\\packages\\ImageMagick\\0LwpT\\src\\ImageMagick.jl:180\n",
      "┌ Warning: Mapping to the storage type failed; perhaps your data had out-of-range values?\n",
      "│ Try `map(clamp01nan, img)` to clamp values to a valid range.\n",
      "└ @ ImageMagick C:\\Users\\anton\\.julia\\packages\\ImageMagick\\0LwpT\\src\\ImageMagick.jl:180\n",
      "┌ Warning: Mapping to the storage type failed; perhaps your data had out-of-range values?\n",
      "│ Try `map(clamp01nan, img)` to clamp values to a valid range.\n",
      "└ @ ImageMagick C:\\Users\\anton\\.julia\\packages\\ImageMagick\\0LwpT\\src\\ImageMagick.jl:180\n",
      "┌ Warning: Mapping to the storage type failed; perhaps your data had out-of-range values?\n",
      "│ Try `map(clamp01nan, img)` to clamp values to a valid range.\n",
      "└ @ ImageMagick C:\\Users\\anton\\.julia\\packages\\ImageMagick\\0LwpT\\src\\ImageMagick.jl:180\n",
      "┌ Warning: Mapping to the storage type failed; perhaps your data had out-of-range values?\n",
      "│ Try `map(clamp01nan, img)` to clamp values to a valid range.\n",
      "└ @ ImageMagick C:\\Users\\anton\\.julia\\packages\\ImageMagick\\0LwpT\\src\\ImageMagick.jl:180\n",
      "┌ Warning: Mapping to the storage type failed; perhaps your data had out-of-range values?\n",
      "│ Try `map(clamp01nan, img)` to clamp values to a valid range.\n",
      "└ @ ImageMagick C:\\Users\\anton\\.julia\\packages\\ImageMagick\\0LwpT\\src\\ImageMagick.jl:180\n",
      "┌ Warning: Mapping to the storage type failed; perhaps your data had out-of-range values?\n",
      "│ Try `map(clamp01nan, img)` to clamp values to a valid range.\n",
      "└ @ ImageMagick C:\\Users\\anton\\.julia\\packages\\ImageMagick\\0LwpT\\src\\ImageMagick.jl:180\n",
      "┌ Warning: Mapping to the storage type failed; perhaps your data had out-of-range values?\n",
      "│ Try `map(clamp01nan, img)` to clamp values to a valid range.\n",
      "└ @ ImageMagick C:\\Users\\anton\\.julia\\packages\\ImageMagick\\0LwpT\\src\\ImageMagick.jl:180\n",
      "┌ Warning: Mapping to the storage type failed; perhaps your data had out-of-range values?\n",
      "│ Try `map(clamp01nan, img)` to clamp values to a valid range.\n",
      "└ @ ImageMagick C:\\Users\\anton\\.julia\\packages\\ImageMagick\\0LwpT\\src\\ImageMagick.jl:180\n",
      "┌ Warning: Mapping to the storage type failed; perhaps your data had out-of-range values?\n",
      "│ Try `map(clamp01nan, img)` to clamp values to a valid range.\n",
      "└ @ ImageMagick C:\\Users\\anton\\.julia\\packages\\ImageMagick\\0LwpT\\src\\ImageMagick.jl:180\n",
      "┌ Warning: Mapping to the storage type failed; perhaps your data had out-of-range values?\n",
      "│ Try `map(clamp01nan, img)` to clamp values to a valid range.\n",
      "└ @ ImageMagick C:\\Users\\anton\\.julia\\packages\\ImageMagick\\0LwpT\\src\\ImageMagick.jl:180\n",
      "┌ Warning: Mapping to the storage type failed; perhaps your data had out-of-range values?\n",
      "│ Try `map(clamp01nan, img)` to clamp values to a valid range.\n",
      "└ @ ImageMagick C:\\Users\\anton\\.julia\\packages\\ImageMagick\\0LwpT\\src\\ImageMagick.jl:180\n",
      "┌ Warning: Mapping to the storage type failed; perhaps your data had out-of-range values?\n",
      "│ Try `map(clamp01nan, img)` to clamp values to a valid range.\n",
      "└ @ ImageMagick C:\\Users\\anton\\.julia\\packages\\ImageMagick\\0LwpT\\src\\ImageMagick.jl:180\n",
      "┌ Warning: Mapping to the storage type failed; perhaps your data had out-of-range values?\n",
      "│ Try `map(clamp01nan, img)` to clamp values to a valid range.\n",
      "└ @ ImageMagick C:\\Users\\anton\\.julia\\packages\\ImageMagick\\0LwpT\\src\\ImageMagick.jl:180\n",
      "┌ Warning: Mapping to the storage type failed; perhaps your data had out-of-range values?\n",
      "│ Try `map(clamp01nan, img)` to clamp values to a valid range.\n",
      "└ @ ImageMagick C:\\Users\\anton\\.julia\\packages\\ImageMagick\\0LwpT\\src\\ImageMagick.jl:180\n",
      "┌ Warning: Mapping to the storage type failed; perhaps your data had out-of-range values?\n",
      "│ Try `map(clamp01nan, img)` to clamp values to a valid range.\n",
      "└ @ ImageMagick C:\\Users\\anton\\.julia\\packages\\ImageMagick\\0LwpT\\src\\ImageMagick.jl:180\n"
     ]
    }
   ],
   "source": [
    "#Printing output files\n",
    "open(\"Results/Totals.txt\",\"w\") do io\n",
    "   println(io,Totals_ren)\n",
    "end\n",
    "\n",
    "open(\"Results/Per_tech_ren.txt\",\"w\") do io\n",
    "   println(io,Per_tech_ren)\n",
    "end\n",
    "\n",
    "# ----------------------------Ploting-----------------------------------\n",
    "k = 1                                                   #initial printing lcoation\n",
    "for value in 1:size(ren_s)[1]\n",
    "#     plotSeries(T_series[k:(k+T-1),:],ren_s[value],d)\n",
    "     k = k+T\n",
    "end\n",
    "\n",
    "#Roudning decimals\n",
    "Per_tech_ren.Capacity_GWh = round.(Per_tech_ren.Capacity_GWh; digits = 2)\n",
    "Per_tech_ren.CAPEX_bilEUR = round.(Per_tech_ren.CAPEX_bilEUR; digits = 1)\n",
    "Per_tech_ren.OM_bilEUR    = round.(Per_tech_ren.OM_bilEUR;    digits = 1)\n",
    "Per_tech_ren.Utilization  = round.(Per_tech_ren.Utilization;  digits = 3)\n",
    "\n",
    "#ploting   \n",
    "plotTechnology(Per_tech_ren)"
   ]
  },
  {
   "cell_type": "markdown",
   "metadata": {},
   "source": [
    "## Mathematical model"
   ]
  },
  {
   "cell_type": "code",
   "execution_count": 61,
   "metadata": {},
   "outputs": [
    {
     "data": {
      "text/plain": [
       "optimize (generic function with 1 method)"
      ]
     },
     "execution_count": 61,
     "metadata": {},
     "output_type": "execute_result"
    }
   ],
   "source": [
    "using CSV, JuMP, GLPK, CPLEX\n",
    "\n",
    "#Declaration of data frames\n",
    "\n",
    "function optimize(x,y)\n",
    "\n",
    "n = size(inp)[2]\n",
    "T = y\n",
    "M = 10*maximum(consum[1:T,\"DK\"])\n",
    "\n",
    "m = Model(with_optimizer(CPLEX.Optimizer))\n",
    "\n",
    "@variable(m,p[i=1:n,t=1:T] >= 0)        #power per technology\n",
    "@variable(m,pmax[i=1:n] >= 0)           #power per technology\n",
    "@variable(m,u[i=1:n], Bin)         #controling number of technologies\n",
    "\n",
    "@objective(m, Min, (sum(p[i,t]*                      (inp[i,\"Opex_var\"] + inp[i,\"Fuel_price\"]*inp[i,\"Fuel_eff\"])            for i=1:n for t=1:T) +\n",
    "                    sum((pmax[i]/inp[i,\"Lifetime\"])* (inp[i,\"Capex_avg\"]*(1+inp[i,\"Opex_of_capex\"])+inp[i,\"Opex_fix\"])      for i=1:n))/\n",
    "                    sum(consum[t,\"DK\"]                                                                                  for t=1:T)  )\n",
    "\n",
    "@constraint(m, Solar[t=1:T],                 p[1,t] <= pmax[1]*solar[t,\"DK\"])                  #Solar\n",
    "@constraint(m, OnShoreWind[t=1:T],           p[2,t] == pmax[2]*c[t])             #Onshore wind\n",
    "@constraint(m, OffShoreWind[t=1:T],          p[3,t] == pmax[3]*c[t])             #Offshore wind\n",
    "@constraint(m, NotIntermittent[i=4:n,t=1:T], p[i,t] <= pmax[i])                  #not intermittent\n",
    "\n",
    "#Demand constraint\n",
    "@constraint(m, Demand[t=1:T], sum(p[i,t] for i=1:n) >= consum[t,\"DK\"] ) #Demand\n",
    "                        \n",
    "#Limting max amount of Onshore wind\n",
    "@constraint(m, pmax[2] <= max_wind)                                         #Onshore wind                        \n",
    "\n",
    "#Limiting production for non-renewables\n",
    "@constraint(m, sum(p[i,t] for i=4:n for t=1:T) <= (1-x)*sum(consum[1:T,\"DK\"]))\n",
    "                \n",
    "\n",
    "#limiting number of technologies\n",
    "#@constraint(m,[i=1:n], p[i] <=M*u[i])\n",
    "#@constraint(m, sum(u[i] for i=1:n) <= 3)           #number of technologies allowed\n",
    "                    \n",
    "optimize!(m)\n",
    "                                        \n",
    "#End of model. Data expoerting ->\n",
    "                                        \n",
    "T_series = DataFrame(Time_hr       = collect(1:T), \n",
    "                     Solar_PV      = JuMP.value.(p[1,1:T]),\n",
    "                     Wind_onshore  = JuMP.value.(p[2,1:T]),\n",
    "                     Wind_offshore = JuMP.value.(p[3,1:T]),                       \n",
    "                     Biogas        = JuMP.value.(p[4,1:T]),\n",
    "                     Coal_brown    = JuMP.value.(p[5,1:T]),\n",
    "                     Coal_hard     = JuMP.value.(p[6,1:T]),\n",
    "                     CCGT          = JuMP.value.(p[7,1:T]),\n",
    "                     GT            = JuMP.value.(p[8,1:T]),\n",
    "                     Consumption   = consum[1:T,\"DK\"])                                        \n",
    "\n",
    "Totals   = DataFrame(Share_ren       = string(x),\n",
    "                     LCOE            = JuMP.objective_value(m), \n",
    "                     Production_MWh  = sum( JuMP.value.(p[i,t]) for i=1:n for t=1:T),\n",
    "                     Demand_MWh      = sum(consum[1:T,\"DK\"]),\n",
    "                     Curtailment_MWh = sum( JuMP.value.(p[i,t]) for i=1:n for t=1:T)/sum(consum[1:T,\"DK\"]),\n",
    "                     CAPEX_t_bilEUR  = sum(JuMP.value.(pmax[i])*inp[i,\"Capex_avg\"] for i=1:n)*1e-9,\n",
    "                     OM_t_bilEUR     = sum(JuMP.value.(p[i,t])*(inp[i,\"Opex_var\"]+\n",
    "                                          inp[i,\"Fuel_price\"]*inp[i,\"Fuel_eff\"])+\n",
    "sum((JuMP.value.(pmax[i])/inp[i,\"Lifetime\"])*(inp[i,\"Capex_avg\"]*inp[i,\"Opex_of_capex\"]+inp[i,\"Opex_fix\"])) \n",
    "                                        for i=1:n for t=1:T)*1e-9)                                                                   \n",
    "                                                                    \n",
    "Per_tech = DataFrame(\n",
    "                     Technology     = String[],\n",
    "                     Capacity_GWh   = Float64[],\n",
    "                     Utilization    = Float64[],\n",
    "                     CAPEX_bilEUR   = Float64[], \n",
    "                     OM_bilEUR      = Float64[],\n",
    "                     Share_ren      = String[])                                                                    \n",
    "\n",
    "for i = 1:n\n",
    "    append!(Per_tech, DataFrame(\n",
    "                                Technology     = inp[i,\"Name\"],\n",
    "                                Capacity_GWh   = JuMP.value.(pmax[i]*1e-3), \n",
    "                                Utilization    = mean(JuMP.value.(p[i,1:T]))/JuMP.value.(pmax[i]),\n",
    "                                CAPEX_bilEUR   = (JuMP.value.(pmax[i])*inp[i,\"Capex_avg\"])*1e-9, \n",
    "                                OM_bilEUR      = sum(JuMP.value.(p[i,t])*(inp[i,\"Opex_var\"]+\n",
    "                                                     inp[i,\"Fuel_price\"]*inp[i,\"Fuel_eff\"])+\n",
    "                                                     sum((JuMP.value.(pmax[i])/inp[i,\"Lifetime\"])*(inp[i,\"Capex_avg\"]*inp[i,\"Opex_of_capex\"]+inp[i,\"Opex_fix\"])) for t=1:T)*1e-9,\n",
    "                                Share_ren      = string(x)))\n",
    "end\n",
    "                                                                \n",
    "return Totals,Per_tech,T_series\n",
    "end\n",
    "                                                                                                                          "
   ]
  },
  {
   "cell_type": "markdown",
   "metadata": {},
   "source": [
    "### Visualization"
   ]
  },
  {
   "cell_type": "code",
   "execution_count": 79,
   "metadata": {},
   "outputs": [
    {
     "data": {
      "text/plain": [
       "plotTechnology (generic function with 1 method)"
      ]
     },
     "execution_count": 79,
     "metadata": {},
     "output_type": "execute_result"
    }
   ],
   "source": [
    "#Displaying results\n",
    "\n",
    "colors = [\"#ff7f0e\",\"#74c476\",\"#1f77b4\",\"#6baed6\"]\n",
    "#Time series\n",
    "function plotSeries(x,y,z)\n",
    "    \n",
    "    d = z  \n",
    "    x[1:d,:] |>\n",
    "    stack |>         #Stacking data\n",
    "    @vlplot(width=850, hieght=700)+\n",
    "    @vlplot(transform=[{filter=\"datum.variable != 'Consumption'\"}],\n",
    "            transform=[{filter=\"datum.value     > 10\"}],\n",
    "            mark=:area, \n",
    "            x=:Time_hr, \n",
    "            y={:value,stack=:zero},\n",
    "            color={:variable,\n",
    "            scale={range = colors},\n",
    "            #scale={scheme=\"tableau10\"},\n",
    "            legend={title=\"Technologies\"}})+ \n",
    "    @vlplot(#transform=[{filter=\"datum.variable == 'Consumption'\"}],\n",
    "            mark=:line, \n",
    "            x=:Time_hr, \n",
    "            y=:Consumption) |> save(\"Results/$y/$y _Series.png\")\n",
    "end\n",
    "\n",
    "\n",
    "#Bars chart\n",
    "function plotTechnology(x)\n",
    "    x |>\n",
    "    @vlplot(transform=[{filter=\"datum.Capacity_GWh >0\"}],\n",
    "        height=500,\n",
    "        width =300,\n",
    "        mark={\n",
    "            :bar,\n",
    "            cornerRadiusTopLeft = 15,\n",
    "            cornerRadiusTopRight= 15\n",
    "        },\n",
    "        x=:Share_ren,\n",
    "        y=:Capacity_GWh,\n",
    "        color={:Technology,\n",
    "        scale={range = colors},\n",
    "        }\n",
    "    ) |> save(\"Results/BarChart.png\")\n",
    "\n",
    "    #Donat plots\n",
    "    for i= 1:size(ren_s)[1]   \n",
    "        df = filter(row -> row[:Share_ren ] == string(ren_s[i]), x)   \n",
    "\n",
    "    n = ren_s[i]\n",
    "        df |>\n",
    "        stack |>\n",
    "        @vlplot(transform=[{filter=\"datum.variable == 'Capacity_GWh'\"},\n",
    "                   {filter=\"datum.value != 0\"}],\n",
    "        theta={:value, stack=true},\n",
    "        color={\"Technology\",\n",
    "        scale={range = colors},    \n",
    "            },\n",
    "        view={stroke=nothing}) +\n",
    "        @vlplot(mark={:arc, innerRadius = 50, outerRadius=90}) +\n",
    "        @vlplot(mark={:text, radius=105}, text=\"value:n\",title= \"Capacity_GWh\") |> save(\"Results/$n/$n _Capacity_GWh.png\")# \n",
    "\n",
    "        df |>\n",
    "        stack |>\n",
    "        @vlplot(transform=[{filter=\"datum.variable == 'Utilization'\"},\n",
    "                   {filter=\"datum.value != 0\"}],\n",
    "        theta={:value, stack=true},\n",
    "        color={\"Technology\",\n",
    "            scale={range = colors},\n",
    "            },\n",
    "        view={stroke=nothing}) +\n",
    "        @vlplot(mark={:arc, innerRadius = 50, outerRadius=90}) +\n",
    "        @vlplot(mark={:text, radius=105}, text=\"value:n\",title= \"Utilization\") |> save(\"Results/$n/$n _Utilization.png\")\n",
    "\n",
    "        df |>\n",
    "        stack |>\n",
    "        @vlplot(transform=[{filter=\"datum.variable == 'CAPEX_bilEUR'\"},\n",
    "                   {filter=\"datum.value != 0\"}],\n",
    "        theta={:value, stack=true},\n",
    "        color={\"Technology\",\n",
    "            scale={range = colors},\n",
    "            },\n",
    "        view={stroke=nothing}) +\n",
    "        @vlplot(mark={:arc, innerRadius = 50, outerRadius=90}) +\n",
    "        @vlplot(mark={:text, radius=105}, text=\"value:n\",title= \"CAPEX_bilEUR\") |> save(\"Results/$n/$n _CAPEX_bilEUR.png\")\n",
    "    \n",
    "        df |>\n",
    "        stack |>\n",
    "        @vlplot(transform=[{filter=\"datum.variable == 'OM_bilEUR'\"},\n",
    "                   {filter=\"datum.value != 0\"}],\n",
    "        theta={:value, stack=true},\n",
    "        color={\"Technology\",\n",
    "            scale={range = colors},\n",
    "            },\n",
    "        view={stroke=nothing}) +\n",
    "        @vlplot(mark={:arc, innerRadius = 50, outerRadius=90}) +\n",
    "        @vlplot(mark={:text, radius=105}, text=\"value:n\",title= \"OM_bilEUR\") |> save(\"Results/$n/$n _OM_bilEUR.png\")\n",
    "    \n",
    "    end\n",
    "end\n"
   ]
  },
  {
   "cell_type": "markdown",
   "metadata": {},
   "source": [
    "### Sensitivity analysis"
   ]
  },
  {
   "cell_type": "code",
   "execution_count": 28,
   "metadata": {},
   "outputs": [
    {
     "name": "stdout",
     "output_type": "stream",
     "text": [
      "0.0\n"
     ]
    }
   ],
   "source": [
    "#Get dual value\n",
    "println(getdual(NotIntermittent[4,1000]))\n",
    "\n",
    "#Get shadow prices\n",
    "JuMP. shadow_price.(NotIntermittent[4,1000])"
   ]
  },
  {
   "cell_type": "markdown",
   "metadata": {},
   "source": [
    "Old code"
   ]
  },
  {
   "cell_type": "code",
   "execution_count": null,
   "metadata": {},
   "outputs": [],
   "source": [
    "Totals_ren |>\n",
    "     stack |>         #Stacking data\n",
    "     @vlplot(width=300)+\n",
    "     @vlplot(transform=[{filter=\"datum.variable == 'LCOE'\"}],\n",
    "            mark=:line, \n",
    "            x=:Share_ren, \n",
    "            y=:value,\n",
    "            color=:variable) |> display"
   ]
  },
  {
   "cell_type": "markdown",
   "metadata": {},
   "source": [
    "# Extension 1 (Storage technologies)\n",
    "\n",
    "\n",
    "Storage technologies\n",
    "The extension will include options for investing into strage technologies such as Li-ion batteries or convesion of electical energy into fuels such as H2 or Biomethanol. Furter on fossil fuels will be removed to estimate amount of storage required to achieve fully renewable electricity production by 2050. "
   ]
  },
  {
   "cell_type": "markdown",
   "metadata": {},
   "source": [
    "### Further model improvements"
   ]
  },
  {
   "cell_type": "markdown",
   "metadata": {},
   "source": [
    "Ideas for further model improvements:\n",
    "+ Green transition requirements (100% of electric energy from Renewables)\n",
    "+ Backup generation requirements\n",
    "+ Including price of fuel and CO2 tax\n",
    "+ Energy import and export\n",
    "+ Subsidy for renewables\n",
    "+ Storage \n",
    "+ Sell/buy \n",
    "+ Electric cars\n",
    "+ Heat"
   ]
  },
  {
   "cell_type": "markdown",
   "metadata": {},
   "source": [
    "# Name of extension"
   ]
  },
  {
   "cell_type": "markdown",
   "metadata": {},
   "source": [
    "## Formualtion\n",
    "waht, why we do this\n",
    "what are articles/resources that support the idea"
   ]
  },
  {
   "cell_type": "markdown",
   "metadata": {},
   "source": [
    "## Mathematical model\n",
    "constraint"
   ]
  },
  {
   "cell_type": "markdown",
   "metadata": {},
   "source": [
    "## Implementation\n",
    "coding\n",
    "constraints, varaibles, data (parameters)"
   ]
  },
  {
   "cell_type": "markdown",
   "metadata": {},
   "source": [
    "## Sensitivity analysis"
   ]
  },
  {
   "cell_type": "markdown",
   "metadata": {},
   "source": [
    "###  Sub-conclusion\n"
   ]
  }
 ],
 "metadata": {
  "kernelspec": {
   "display_name": "Julia 1.5.1",
   "language": "julia",
   "name": "julia-1.5"
  },
  "language_info": {
   "file_extension": ".jl",
   "mimetype": "application/julia",
   "name": "julia",
   "version": "1.5.1"
  }
 },
 "nbformat": 4,
 "nbformat_minor": 2
}

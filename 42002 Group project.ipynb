{
 "cells": [
  {
   "cell_type": "markdown",
   "metadata": {},
   "source": [
    "# Group project (Master)"
   ]
  },
  {
   "cell_type": "markdown",
   "metadata": {},
   "source": [
    "Analysis of competitiveness of different energy production technologies in Danish Electricity Market"
   ]
  },
  {
   "cell_type": "markdown",
   "metadata": {},
   "source": [
    "## Modeling of current energy system"
   ]
  },
  {
   "cell_type": "markdown",
   "metadata": {},
   "source": [
    "### Data gathering and analysis"
   ]
  },
  {
   "cell_type": "markdown",
   "metadata": {},
   "source": [
    "Latest energy statistics reports available is for 2018. Thereforte, all data used is dated to year 2018."
   ]
  },
  {
   "cell_type": "markdown",
   "metadata": {},
   "source": [
    "Hourly consumption, production, as well as wind energy production data available from https://www.nordpoolgroup.com/historical-market-data/"
   ]
  },
  {
   "cell_type": "code",
   "execution_count": 1,
   "metadata": {},
   "outputs": [
    {
     "data": {
      "text/plain": [
       "300"
      ]
     },
     "execution_count": 1,
     "metadata": {},
     "output_type": "execute_result"
    }
   ],
   "source": [
    "using CSV, VegaLite, DataFrames, Statistics\n",
    "\n",
    "consum = CSV.read(\"consumption-dk-areas_2018_hourlys.csv\", DataFrame)\n",
    "produc = CSV.read(\"production-dk-areas_2018_hourly.csv\", DataFrame)\n",
    "wind   = CSV.read(\"wind-power-dk_2018_hourlys.csv\", DataFrame)\n",
    "exp    = CSV.read(\"exchange-per-country_2018_hourly.csv\", DataFrame)\n",
    "solar  = CSV.read(\"solarpv2018.csv\", DataFrame)\n",
    "\n",
    "\n",
    "n = 300\n",
    "\n",
    "#production with wind substracted\n",
    "#dif = produc[1:n,\"DK\"]-wind[1:n,\"DK\"]\n",
    "\n",
    "#data = vcat(DataFrame(time_hr=collect(1:n),power_MWh = consum[1:n,\"DK\"]*1000, tp = \"Consumption\",source = 2),           \n",
    "#            DataFrame(time_hr=collect(1:n),power_MWh = dif*1000, tp =\"Production\",source = 1),\n",
    "#            DataFrame(time_hr=collect(1:n),power_MWh = wind[1:n,\"DK\"]*1000, tp = \"Wind\",source = 1),\n",
    "#            DataFrame(time_hr=collect(1:n),power_MWh = exp[1:n,\"DK\"]*1000, tp = \"Import\",source = 1))\n",
    "\n",
    "#Plotting data\n",
    "#data |>\n",
    "#@vlplot(width=850, hieght=700)+\n",
    "#@vlplot(mark=:area, x=:time_hr, y={:power_MWh,stack=:zero},color=:tp,transform=[{filter=\"datum.source==1\"}]) +\n",
    "#@vlplot(mark=:line, x=:time_hr, y=:power_MWh, transform=[{filter=\"datum.source==2\"}],\n",
    "#    color={:tp,\n",
    "#    scale={range = [\"red\",\"#a1d99b\",\"#fd8d3c\",\"#3182bd\"]}})"
   ]
  },
  {
   "cell_type": "markdown",
   "metadata": {},
   "source": [
    "### Modeling\n",
    "Energy system could be modeled based on the data from above. In this case the system would consist of already deployed units and investment opportunities what will further optimize the system (Minimize costs). Wind production will be substracted from consumption for each of the time steps and optimization for mix of technologies covering the difference will be made.\n",
    "\n",
    "Additional information required:\n",
    "+ Operational prices for existing power plants based on type of plant/fuel\n",
    "+ Investment prices (price per KW) for further investments \n"
   ]
  },
  {
   "cell_type": "code",
   "execution_count": 2,
   "metadata": {},
   "outputs": [
    {
     "data": {
      "text/html": [
       "<table class=\"data-frame\"><thead><tr><th></th><th>Name</th><th>Capex_avg</th><th>Lifetime</th><th>Opex_of_capex</th><th>Opex_fix</th><th>Opex_var</th><th>Fuel_price</th></tr><tr><th></th><th>String</th><th>Int64</th><th>Int64</th><th>Float64</th><th>Int64</th><th>Float64</th><th>Float64</th></tr></thead><tbody><p>8 rows × 8 columns (omitted printing of 1 columns)</p><tr><th>1</th><td>Solar PV</td><td>700000</td><td>25</td><td>0.025</td><td>0</td><td>0.0</td><td>0.0</td></tr><tr><th>2</th><td>Wind Onshore</td><td>1750000</td><td>25</td><td>0.0</td><td>30000</td><td>5.0</td><td>0.0</td></tr><tr><th>3</th><td>Wind Offshore</td><td>3900000</td><td>25</td><td>0.0</td><td>100000</td><td>5.0</td><td>0.0</td></tr><tr><th>4</th><td>Biogas</td><td>3000000</td><td>30</td><td>0.04</td><td>0</td><td>0.0</td><td>30.3</td></tr><tr><th>5</th><td>Brown coal</td><td>1900000</td><td>40</td><td>0.0</td><td>36000</td><td>5.0</td><td>1.8</td></tr><tr><th>6</th><td>Hard coal</td><td>1650000</td><td>40</td><td>0.0</td><td>32000</td><td>5.0</td><td>9.6</td></tr><tr><th>7</th><td>CCGT</td><td>950000</td><td>30</td><td>0.0</td><td>22000</td><td>4.0</td><td>21.0</td></tr><tr><th>8</th><td>GT</td><td>500000</td><td>30</td><td>0.0</td><td>20000</td><td>3.0</td><td>21.0</td></tr></tbody></table>"
      ],
      "text/latex": [
       "\\begin{tabular}{r|cccccccc}\n",
       "\t& Name & Capex\\_avg & Lifetime & Opex\\_of\\_capex & Opex\\_fix & Opex\\_var & Fuel\\_price & \\\\\n",
       "\t\\hline\n",
       "\t& String & Int64 & Int64 & Float64 & Int64 & Float64 & Float64 & \\\\\n",
       "\t\\hline\n",
       "\t1 & Solar PV & 700000 & 25 & 0.025 & 0 & 0.0 & 0.0 & $\\dots$ \\\\\n",
       "\t2 & Wind Onshore & 1750000 & 25 & 0.0 & 30000 & 5.0 & 0.0 & $\\dots$ \\\\\n",
       "\t3 & Wind Offshore & 3900000 & 25 & 0.0 & 100000 & 5.0 & 0.0 & $\\dots$ \\\\\n",
       "\t4 & Biogas & 3000000 & 30 & 0.04 & 0 & 0.0 & 30.3 & $\\dots$ \\\\\n",
       "\t5 & Brown coal & 1900000 & 40 & 0.0 & 36000 & 5.0 & 1.8 & $\\dots$ \\\\\n",
       "\t6 & Hard coal & 1650000 & 40 & 0.0 & 32000 & 5.0 & 9.6 & $\\dots$ \\\\\n",
       "\t7 & CCGT & 950000 & 30 & 0.0 & 22000 & 4.0 & 21.0 & $\\dots$ \\\\\n",
       "\t8 & GT & 500000 & 30 & 0.0 & 20000 & 3.0 & 21.0 & $\\dots$ \\\\\n",
       "\\end{tabular}\n"
      ],
      "text/plain": [
       "\u001b[1m8×8 DataFrame\u001b[0m\n",
       "\u001b[1m Row \u001b[0m│\u001b[1m Name          \u001b[0m\u001b[1m Capex_avg \u001b[0m\u001b[1m Lifetime \u001b[0m\u001b[1m Opex_of_capex \u001b[0m\u001b[1m Opex_fix \u001b[0m\u001b[1m Opex_var \u001b[0m\u001b[1m \u001b[0m ⋯\n",
       "\u001b[1m     \u001b[0m│\u001b[90m String        \u001b[0m\u001b[90m Int64     \u001b[0m\u001b[90m Int64    \u001b[0m\u001b[90m Float64       \u001b[0m\u001b[90m Int64    \u001b[0m\u001b[90m Float64  \u001b[0m\u001b[90m \u001b[0m ⋯\n",
       "─────┼──────────────────────────────────────────────────────────────────────────\n",
       "   1 │ Solar PV          700000        25          0.025         0       0.0   ⋯\n",
       "   2 │ Wind Onshore     1750000        25          0.0       30000       5.0\n",
       "   3 │ Wind Offshore    3900000        25          0.0      100000       5.0\n",
       "   4 │ Biogas           3000000        30          0.04          0       0.0\n",
       "   5 │ Brown coal       1900000        40          0.0       36000       5.0   ⋯\n",
       "   6 │ Hard coal        1650000        40          0.0       32000       5.0\n",
       "   7 │ CCGT              950000        30          0.0       22000       4.0\n",
       "   8 │ GT                500000        30          0.0       20000       3.0\n",
       "\u001b[31m                                                               2 columns omitted\u001b[0m"
      ]
     },
     "execution_count": 2,
     "metadata": {},
     "output_type": "execute_result"
    }
   ],
   "source": [
    "p = 1000    #to convert to EU per MWh\n",
    "inp = DataFrame(Name            = [\"Solar PV\",\"Wind Onshore\",\"Wind Offshore\",\"Biogas\",\"Brown coal\",\"Hard coal\",\"CCGT\",\"GT\"],\n",
    "                Capex_avg       = [700,1750,3900,3000,1900,1650,950,500]*p,    #investment cost EUR/kW (nominal capacity)\n",
    "                Lifetime        = [25,25,25,30,40,40,30,30],                   #Years\n",
    "                Opex_of_capex   = [0.025,0,0,0.04,0,0,0,0],                    #EUR/kw % of CAPEX\n",
    "                Opex_fix        = [0,30,100,0,36,32,22,20]*p,                  #EUR/Kw\n",
    "                Opex_var        = [0,0.005,0.005,0,0.005,0.005,0.004,0.003]*p, #EUR/kwh\n",
    "                Fuel_price      = [0,0,0,30.3,1.8,9.6,21,21],                  #EUR/MWh heat\n",
    "                Fuel_eff        = [1,1,1,0.4,0.45,0.46,0.6,0.6])               #el. eng. % of heat en"
   ]
  },
  {
   "cell_type": "markdown",
   "metadata": {},
   "source": [
    "### Estiamtion of the capacity factor"
   ]
  },
  {
   "cell_type": "code",
   "execution_count": 3,
   "metadata": {},
   "outputs": [
    {
     "name": "stdout",
     "output_type": "stream",
     "text": [
      "\n"
     ]
    }
   ],
   "source": [
    "T = size(consum)[1]\n",
    "#capacity factor\n",
    "c = []\n",
    "append!(c, wind[i,\"DK\"]/maximum(wind[1:T,\"DK\"]) for i=1:T)    #capacity factor\n",
    "println(\"\")"
   ]
  },
  {
   "cell_type": "markdown",
   "metadata": {},
   "source": [
    "### Mathematical  formualtion\n",
    "\n",
    "**Variables:** \n",
    "<br> $p_{it}$ production of technology i in time unit t\n",
    "<br> $p_i^{max}$ max power production of unit i\n",
    "\n",
    "**Parameters:**\n",
    "<br> $a$ - operations varaible cost [EUR/KWh]\n",
    "<br> $f$ - fuel price [EUR/KWh]\n",
    "<br> $e$ - fuel efficiency []\n",
    "<br> $b$ - CAPEX [EUR/KWh]\n",
    "<br> $l$ - expected system lifetime [yr.]\n",
    "<br> $o$ - fixed operational expenses [EUR/kw % of CAPEX]\n",
    "<br> $k$ - fixed operational expenses [EUR/kw]\n",
    "<br> $d$ - demand for power [Mw]\n",
    "<br> $c$ - capacity factor "
   ]
  },
  {
   "cell_type": "markdown",
   "metadata": {},
   "source": [
    "**Objective:** \n",
    "<br>to minimize cost of electricity\n",
    "\n",
    "$$Z = \\dfrac{\\sum_{t=1}^{T}\\sum_{i=1}^{n}p_{it} \\left( a_i+ f_ie_i\\right) + \n",
    "\\sum_{i=1}^{n} \\dfrac{p^{max}_{i}}{l_{i}}\\left(b_i(1+o_i)+k_{i} \\right)}{\\sum_{t=1}^{T}d_t} \\tag{1}$$\n",
    "\n",
    "$$p_{it}\\leq p^{max}_i \\tag{2} $$\n",
    "\n",
    "$$p_{wt} = p^{max}_w c_{wt} \\tag{3} $$\n",
    "\n",
    "$$p^{max}_i \\leq \\sum_{t=1}^{T} d_t \\tag{4} $$\n",
    "\n",
    "$$\\sum_{i=1}^{I} p_{it} \\geq d_t \\tag{5} $$\n",
    "\n",
    "$$\\sum_{i=4}^{8} p_{it} \\geq d_t \\tag{5} * r_s $$\n",
    "\n",
    "$$p_{it},p_{i}^{max} \\geq 0 $$"
   ]
  },
  {
   "cell_type": "markdown",
   "metadata": {},
   "source": [
    "### Renewable deployment strategy\n",
    "\n",
    "Most of the active wind turbines in Denmark were onshore, around 5.7 thousand compared to 558 offshore."
   ]
  },
  {
   "cell_type": "code",
   "execution_count": 4,
   "metadata": {},
   "outputs": [
    {
     "data": {
      "text/plain": [
       "28500"
      ]
     },
     "execution_count": 4,
     "metadata": {},
     "output_type": "execute_result"
    }
   ],
   "source": [
    "max_wind = 5700 * 5     #max number of onshore turbines"
   ]
  },
  {
   "cell_type": "markdown",
   "metadata": {},
   "source": [
    "## Mathematical model"
   ]
  },
  {
   "cell_type": "code",
   "execution_count": 187,
   "metadata": {},
   "outputs": [
    {
     "data": {
      "text/plain": [
       "optimize (generic function with 2 methods)"
      ]
     },
     "execution_count": 187,
     "metadata": {},
     "output_type": "execute_result"
    }
   ],
   "source": [
    "using CSV, JuMP, GLPK, CPLEX\n",
    "\n",
    "#Declaration of data frames\n",
    "\n",
    "function optimize(x,y,fp,opex,d)\n",
    "println(\"optim entry\")\n",
    "#fp  = share for change in fuel prices\n",
    "#opex= share for change in opex costs\n",
    "#d   =  share for change in demand\n",
    "\n",
    "n = size(inp)[2]\n",
    "T = y\n",
    "M = 10*maximum(consum[1:T,\"DK\"])\n",
    "\n",
    "m = Model(GLPK.Optimizer)\n",
    "\n",
    "@variable(m,p[i=1:n,t=1:T] >= 0)        #power per technology\n",
    "@variable(m,pmax[i=1:n] >= 0)           #power per technology\n",
    "#@variable(m,u[i=1:n], Bin)         #controling number of technologies\n",
    "\n",
    "@objective(m, Min, (sum(p[i,t]*                      (inp[i,\"Opex_var\"]*(1+opex[i,2]) + inp[i,\"Fuel_price\"]*(1+fp[i,2])*inp[i,\"Fuel_eff\"])            for i=1:n for t=1:T) +\n",
    "                    sum((pmax[i]/inp[i,\"Lifetime\"])*(1+opex[i,2])* (inp[i,\"Capex_avg\"]*(1+inp[i,\"Opex_of_capex\"])+inp[i,\"Opex_fix\"])      for i=1:n))/\n",
    "                    sum(consum[t,\"DK\"]   for t=1:T)*(1+d))\n",
    "println(\"objdefined\")\n",
    "@constraint(m, Solar[t=1:T],                 p[1,t] <= pmax[1]*solar[t,\"DK\"])                  #Solar\n",
    "@constraint(m, OnShoreWind[t=1:T],           p[2,t] == pmax[2]*c[t])             #Onshore wind\n",
    "@constraint(m, OffShoreWind[t=1:T],          p[3,t] == pmax[3]*c[t])             #Offshore wind\n",
    "@constraint(m, NotIntermittent[i=4:n,t=1:T], p[i,t] <= pmax[i])                  #not intermittent\n",
    "\n",
    "#Demand constraint\n",
    "@constraint(m, Demand[t=1:T], sum(p[i,t] for i=1:n) >= consum[t,\"DK\"]*(1+d) ) #Demand\n",
    "                        \n",
    "#Limting max amount of Onshore wind\n",
    "@constraint(m, MaxWind, pmax[2] <= max_wind)                                         #Onshore wind  \n",
    "@constraint(m,Max[i=1:8],pmax[i]<=sum(consum[t,\"DK\"] for t=1:T)*(1+d))\n",
    "\n",
    "#Limiting production for non-renewables\n",
    "@constraint(m, ren_share,sum(p[i,t] for i=4:n for t=1:T) <= (1-x)*sum(consum[1:T,\"DK\"])*(1+d))\n",
    "                \n",
    "\n",
    "#limiting number of technologies\n",
    "#@constraint(m,[i=1:n], p[i] <=M*u[i])\n",
    "#@constraint(m, sum(u[i] for i=1:n) >= 4)           #number of technologies allowed\n",
    "                    \n",
    "optimize!(m)\n",
    "Primal_Status= (JuMP.primal_status(m)==JuMP.MathOptInterface.FEASIBLE_POINT || JuMP.primal_status(m)==JuMP.MathOptInterface.OPTIMAL)\n",
    "println(\"primal_status: \",JuMP.primal_status(m))  \n",
    "if Primal_Status\n",
    " \n",
    "    #End of model. Data exporting ->\n",
    "\n",
    "    T_series = DataFrame(Time_hr       = collect(1:T), \n",
    "                         Solar_PV      = JuMP.value.(p[1,1:T]),\n",
    "                         Wind_onshore  = JuMP.value.(p[2,1:T]),\n",
    "                         Wind_offshore = JuMP.value.(p[3,1:T]),                       \n",
    "                         Biogas        = JuMP.value.(p[4,1:T]),\n",
    "                         Coal_brown    = JuMP.value.(p[5,1:T]),\n",
    "                         Coal_hard     = JuMP.value.(p[6,1:T]),\n",
    "                         CCGT          = JuMP.value.(p[7,1:T]),\n",
    "                         GT            = JuMP.value.(p[8,1:T]),\n",
    "                         Consumption   = consum[1:T,\"DK\"])                                        \n",
    "\n",
    "    Totals   = DataFrame(Share_ren       = string(x),\n",
    "                         LCOE            = JuMP.objective_value(m), \n",
    "                         Production_MWh  = sum( JuMP.value.(p[i,t]) for i=1:n for t=1:T),\n",
    "                         Demand_MWh      = sum(consum[1:T,\"DK\"]),\n",
    "                         Curtailment_MWh = sum( JuMP.value.(p[i,t]) for i=1:n for t=1:T)/sum(consum[1:T,\"DK\"]),\n",
    "                         CAPEX_t_bilEUR  = sum(JuMP.value.(pmax[i])*inp[i,\"Capex_avg\"] for i=1:n)*1e-9,\n",
    "                         OM_t_bilEUR     = sum(JuMP.value.(p[i,t])*(inp[i,\"Opex_var\"]+\n",
    "                                              inp[i,\"Fuel_price\"]*(1+fp[i,2])*inp[i,\"Fuel_eff\"])+\n",
    "    sum((JuMP.value.(pmax[i])/inp[i,\"Lifetime\"])*(inp[i,\"Capex_avg\"]*inp[i,\"Opex_of_capex\"]+inp[i,\"Opex_fix\"]*(1+opex[i,2]))) \n",
    "                                            for i=1:n for t=1:T)*1e-9,\n",
    "                         Extension       = 0,\n",
    "                          )                                                                   \n",
    "\n",
    "    Per_tech = DataFrame(\n",
    "                         Technology     = String[],\n",
    "                         Capacity_GW   = Float64[],\n",
    "                         Utilization    = Float64[],\n",
    "                         CAPEX_bilEUR   = Float64[], \n",
    "                         OM_bilEUR      = Float64[],\n",
    "                         Share_ren      = String[],\n",
    "                         Extension      = Int64[])                                                                    \n",
    "\n",
    "    for i = 1:n\n",
    "        append!(Per_tech, DataFrame(\n",
    "                                    Technology     = inp[i,\"Name\"],\n",
    "                                    Capacity_GW   = JuMP.value.(pmax[i]*1e-3), \n",
    "                                    Utilization    = sum(JuMP.value.(p[i,t]) for t=1:T)*1e-3, #production converted from MWh to GWh\n",
    "                                    CAPEX_bilEUR   = (JuMP.value.(pmax[i])*inp[i,\"Capex_avg\"])*1e-9, \n",
    "                                    OM_bilEUR      = sum(JuMP.value.(p[i,t])*(inp[i,\"Opex_var\"]+\n",
    "                                                         inp[i,\"Fuel_price\"]*(1+fp[i,2])*inp[i,\"Fuel_eff\"])+\n",
    "                                                         sum((JuMP.value.(pmax[i])/inp[i,\"Lifetime\"])*(inp[i,\"Capex_avg\"]*inp[i,\"Opex_of_capex\"]+inp[i,\"Opex_fix\"]*(1+opex[i,2]))) for t=1:T)*1e-9,\n",
    "                                    Share_ren      = string(x),\n",
    "                                    Extension      = 0\n",
    "                                    )\n",
    "               )\n",
    "    end\n",
    "\n",
    "\n",
    "    return Totals,Per_tech,T_series\n",
    "    else return DataFrame(),DataFrame(),DataFrame()\n",
    "    end\n",
    "    \n",
    "end  \n"
   ]
  },
  {
   "cell_type": "markdown",
   "metadata": {},
   "source": [
    "### Visualization"
   ]
  },
  {
   "cell_type": "code",
   "execution_count": 204,
   "metadata": {},
   "outputs": [
    {
     "data": {
      "text/plain": [
       "plotTechnology (generic function with 1 method)"
      ]
     },
     "execution_count": 204,
     "metadata": {},
     "output_type": "execute_result"
    }
   ],
   "source": [
    "#Displaying result\n",
    "colors = [\"#ff7f0e\",\"#74c476\",\"#1f77b4\",\"#6baed6\"]\n",
    "#Time series\n",
    "function plotSeries(x,y,z,s)\n",
    "    \n",
    "    d = z  \n",
    "    x[1:d,:] |>\n",
    "    stack |>         #Stacking data\n",
    "    @vlplot(width=850, hieght=700)+\n",
    "    @vlplot(transform=[{filter=\"datum.variable != 'Consumption'\"}],\n",
    "            transform=[{filter=\"datum.value     > 10\"}],\n",
    "            mark=:area, \n",
    "            x=:Time_hr, \n",
    "            y={:value,stack=:zero},\n",
    "            color={:variable,\n",
    "            scale={range = colors},\n",
    "            #scale={scheme=\"tableau10\"},\n",
    "            legend={title=\"Technologies\"}})+ \n",
    "    @vlplot(#transform=[{filter=\"datum.variable == 'Consumption'\"}],\n",
    "            mark=:line, \n",
    "            x=:Time_hr, \n",
    "            y=:Consumption) |> save(string(\"Results/Sensitivity_\",s,\"/$y/$y _Series.png\"))\n",
    "end\n",
    "\n",
    "\n",
    "#Bars chart\n",
    "function plotTechnology(x,s)\n",
    "    x |>\n",
    "    @vlplot(transform=[{filter=\"datum.Capacity_GW >0\"}],\n",
    "        height=500,\n",
    "        width =300,\n",
    "        mark={\n",
    "            :bar,\n",
    "            cornerRadiusTopLeft = 15,\n",
    "            cornerRadiusTopRight= 15\n",
    "        },\n",
    "        x=:Share_ren,\n",
    "        y=:Capacity_GW,\n",
    "        color={\"Technology\",\n",
    "        scale={range = colors},\n",
    "        }\n",
    "    ) |> save(string(\"Results/Sensitivity_\",s,\"/BarChart_$s.png\"))\n",
    "    \n",
    "      x |>\n",
    "    @vlplot(transform=[{filter=\"datum.Utilization >0\"}],\n",
    "        height=500,\n",
    "        width =300,\n",
    "        mark={\n",
    "            :bar,\n",
    "            cornerRadiusTopLeft = 15,\n",
    "            cornerRadiusTopRight= 15\n",
    "        },\n",
    "        x=:Share_ren,\n",
    "        y=:Utilization,\n",
    "        color={\"Technology\",\n",
    "        scale={range = colors},\n",
    "        }\n",
    "    ) |> save(string(\"Results/Sensitivity_\",s,\"/BarChart_utilization$s.png\"))\n",
    "    \n",
    "\n",
    "    #Donat plots\n",
    "    for i= 1:size(ren_s)[1]   \n",
    "        df = filter(row -> row[:Share_ren ] == string(ren_s[i]), x)   \n",
    "\n",
    "    n = ren_s[i]\n",
    "        df |>\n",
    "        stack |>\n",
    "        @vlplot(transform=[{filter=\"datum.variable == 'Capacity_GW'\"},\n",
    "                   {filter=\"datum.value != 0\"}],\n",
    "        theta={:value, stack=true},\n",
    "        color={\"Technology\",\n",
    "        scale={range =colors},    \n",
    "            },\n",
    "        view={stroke=nothing}) +\n",
    "        @vlplot(mark={:arc, innerRadius = 50, outerRadius=90}) +\n",
    "        @vlplot(mark={:text, radius=105}, text=\"value:n\",title= \"Capacity_GW\") |> save(string(\"Results/Sensitivity_\",s,\"/$n/$n _Capacity_GW_\",s,\".png\") )\n",
    "\n",
    "        df |>\n",
    "        stack |>\n",
    "        @vlplot(transform=[{filter=\"datum.variable == 'Utilization'\"},\n",
    "                   {filter=\"datum.value != 0\"}],\n",
    "        theta={:value, stack=true},\n",
    "        color={\"Technology\",\n",
    "            scale={range = colors},\n",
    "            },\n",
    "        view={stroke=nothing}) +\n",
    "        @vlplot(mark={:arc, innerRadius = 50, outerRadius=90}) +\n",
    "        @vlplot(mark={:text, radius=105}, text=\"value:n\",title= \"Utilization\") |> save(string(\"Results/Sensitivity_\",s,\"/$n/$n _Utilization_\",s,\".png\"))\n",
    "\n",
    "        df |>\n",
    "        stack |>\n",
    "        @vlplot(transform=[{filter=\"datum.variable == 'CAPEX_bilEUR'\"},\n",
    "                   {filter=\"datum.value != 0\"}],\n",
    "        theta={:value, stack=true},\n",
    "        color={\"Technology\",\n",
    "            scale={range = colors},\n",
    "            },\n",
    "        view={stroke=nothing}) +\n",
    "        @vlplot(mark={:arc, innerRadius = 50, outerRadius=90}) +\n",
    "        @vlplot(mark={:text, radius=105}, text=\"value:n\",title= \"CAPEX_bilEUR\") |> save(string(\"Results/Sensitivity_\",s,\"/$n/$n _CAPEX_bilEUR_\",s,\".png\"))\n",
    "    \n",
    "        df |>\n",
    "        stack |>\n",
    "        @vlplot(transform=[{filter=\"datum.variable == 'OM_bilEUR'\"},\n",
    "                   {filter=\"datum.value != 0\"}],\n",
    "        theta={:value, stack=true},\n",
    "        color={\"Technology\",\n",
    "            scale={range = colors},\n",
    "            },\n",
    "        view={stroke=nothing}) +\n",
    "        @vlplot(mark={:arc, innerRadius = 50, outerRadius=90}) +\n",
    "        @vlplot(mark={:text, radius=105}, text=\"value:n\",title= \"OM_bilEUR\") |> save(string(\"Results/Sensitivity_\",s,\"/$n/$n _OM_bilEUR_\",s,\".png\"))\n",
    "    \n",
    "    end\n",
    "end\n",
    "\n"
   ]
  },
  {
   "cell_type": "markdown",
   "metadata": {},
   "source": [
    "## Main"
   ]
  },
  {
   "cell_type": "code",
   "execution_count": null,
   "metadata": {},
   "outputs": [
    {
     "name": "stdout",
     "output_type": "stream",
     "text": [
      "sensitivity: opex_ren\n",
      "optim entry\n",
      "objdefined\n",
      "primal_status: FEASIBLE_POINT\n",
      "optim entry\n",
      "objdefined\n",
      "primal_status: FEASIBLE_POINT\n",
      "optim entry\n",
      "objdefined\n",
      "primal_status: FEASIBLE_POINT\n"
     ]
    }
   ],
   "source": [
    "#share of renewables\n",
    "ren_s = [0,0.6,0.8,0.95]\n",
    "\n",
    "T = size(consum)[1] #simulation size\n",
    "d = 500 #plots diplay size\n",
    "#change in fuel prices & demand  \n",
    "sensitivity=[\"fpn10\",\"fp10\",\"fpn50\",\"fp50\",\"opex_ren\",\"opex_ff\"]\n",
    "fpn10=DataFrame(Name=\"fpn10\",\n",
    "                Values=[-0.10,-0.10,-0.10,-0.10,-0.10,-0.10,-0.10,-0.10]\n",
    "                )\n",
    "fp10=DataFrame(Name=\"fp10\",\n",
    "               Values=[0.10,0.10,0.10,0.10,0.10,0.10,0.10,0.10]\n",
    "               )\n",
    "fpn50=DataFrame(Name=\"fpn50\",\n",
    "                Values=[-0.50,-0.50,-0.50,-0.50,-0.50,-0.50,-0.50,-0.50]\n",
    "                )\n",
    "fp50=DataFrame(Name=\"fp50\",\n",
    "               Values=[0.50,0.50,0.50,0.50,0.50,0.50,0.50,0.50]\n",
    "               )\n",
    "opex_ren=DataFrame(Name=\"opex_ren\",\n",
    "               Values=[-0.95,-0.95,-0.95,0,0,0,0,0])\n",
    "opex_ff=DataFrame(Name=\"opex_ff\",\n",
    "              Values=[0,0,0,0,8*0.9,8*0.9,8*0.9,8*0.6]\n",
    "                )\n",
    "null=DataFrame(Name=\"null\",\n",
    "              Values=[0,0,0,0,0,0,0,0]\n",
    "              )\n",
    "    \n",
    "\n",
    "\n",
    "demand=0\n",
    "\n",
    "\n",
    "\n",
    "\n",
    "#Choice of sensitivity \n",
    "#s=fpn10\n",
    "#s=fp10\n",
    "#s=fpn50\n",
    "#s=fp50\n",
    "s=opex_ren\n",
    "#s=opex_ff\n",
    " \n",
    "    println(\"sensitivity: \",s[1,\"Name\"])\n",
    "Per_tech_ren = DataFrame(\n",
    "                         Technology      = String[],\n",
    "                         Capacity_GW     = Float64[],\n",
    "                         Utilization     = Float64[],\n",
    "                         CAPEX_bilEUR    = Float64[], \n",
    "                         OM_bilEUR       = Float64[],\n",
    "                         Share_ren       = String[],\n",
    "                         Extension       = Int64[]\n",
    "                         )\n",
    "\n",
    "Totals_ren   = DataFrame(Share_ren       = String[],\n",
    "                         LCOE            = Float64[], \n",
    "                         Production_MWh  = Float64[], \n",
    "                         Demand_MWh      = Float64[], \n",
    "                         Curtailment_MWh = Float64[],\n",
    "                         CAPEX_t_bilEUR  = Float64[], \n",
    "                         OM_t_bilEUR     = Float64[],\n",
    "                         Extension       = Int64[],\n",
    "                         )\n",
    "\n",
    "T_series       = DataFrame(Time_hr       = Int64[], \n",
    "                           Solar_PV      = Float64[],\n",
    "                           Wind_onshore  = Float64[],\n",
    "                           Wind_offshore = Float64[],                       \n",
    "                           Biogas        = Float64[],\n",
    "                           Coal_brown    = Float64[],\n",
    "                           Coal_hard     = Float64[],\n",
    "                           CCGT          = Float64[],\n",
    "                           GT            = Float64[],\n",
    "                           Consumption   = Int64[]\n",
    "                         )   \n",
    "\n",
    "\n",
    "    \n",
    "    for share in ren_s\n",
    "    opt = optimize(share,T,null,s,demand)\n",
    "    append!(Totals_ren,opt[1])\n",
    "    append!(Per_tech_ren, opt[2])\n",
    "    append!(T_series, opt[3])\n",
    "    \n",
    "    end \n",
    "    \n",
    "    CSV.write(string(\"Results/Sensitivity_\",s[1,1],\"/Totals.csv\"), Totals_ren)\n",
    "    CSV.write(string(\"Results/Sensitivity_\",s[1,1],\"/Per_tech_ren.csv\"), Per_tech_ren)\n",
    "\n",
    "\n",
    " println(\"Printing output files\") \n",
    "open(string(\"Results/Sensitivity_\",s[1,1],\"/Totals.txt\"),\"w\") do io\n",
    "   println(io,Totals_ren)\n",
    "end\n",
    "\n",
    "open(string(\"Results/Sensitivity_\",s[1,1],\"/Per_tech_ren.txt\"),\"w\") do io\n",
    "   println(io,Per_tech_ren)\n",
    "end\n",
    "\n",
    "# ----------------------------Ploting-----------------------------------\n",
    "\n",
    "#Rouding decimals\n",
    "Per_tech_ren.Capacity_GW = round.(Per_tech_ren.Capacity_GW; digits = 2)\n",
    "Per_tech_ren.CAPEX_bilEUR = round.(Per_tech_ren.CAPEX_bilEUR; digits = 1)\n",
    "Per_tech_ren.OM_bilEUR    = round.(Per_tech_ren.OM_bilEUR;    digits = 1)\n",
    "Per_tech_ren.Utilization  = round.(Per_tech_ren.Utilization;  digits = 3)\n",
    "\n",
    "#ploting   \n",
    "plotTechnology(Per_tech_ren,s[1,\"Name\"])\n",
    "# ----------------------------Ploting-----------------------------------\n",
    "k = 1                                                   #initial printing lcoation\n",
    "for value in 1:size(ren_s)[1]\n",
    "     plotSeries(T_series[k:(k+T-1),:],ren_s[value],d,s[1,\"Name\"])\n",
    "     k = k+T\n",
    "end"
   ]
  },
  {
   "cell_type": "markdown",
   "metadata": {},
   "source": [
    "### Sensitivity analysis"
   ]
  },
  {
   "cell_type": "code",
   "execution_count": 178,
   "metadata": {
    "scrolled": false
   },
   "outputs": [],
   "source": [
    "Per_sensitivity = DataFrame( Sensitivity = [\"base model\",\"-10% fuel price\",\"+10% fuel price\",\"-50% fuel price\",\"+50% fuel price\"],\n",
    "                         LCOE            = [52.6204,51.3604,53.8804,46.3204,58.9204])\n",
    "                         \n",
    " Per_sensitivity |>\n",
    "    @vlplot(transform=[{filter=\"datum.LCOE >0\"}],\n",
    "        height=500,\n",
    "        width =300,\n",
    "        mark={\n",
    "            :bar,\n",
    "            cornerRadiusTopLeft = 15,\n",
    "            cornerRadiusTopRight= 15\n",
    "        },\n",
    "        x=:Sensitivity,\n",
    "        y=:LCOE,\n",
    "    ) |> save(\"Results/LCOE.png\")\n",
    "    "
   ]
  },
  {
   "cell_type": "markdown",
   "metadata": {},
   "source": [
    "Old code"
   ]
  },
  {
   "cell_type": "code",
   "execution_count": 182,
   "metadata": {},
   "outputs": [
    {
     "data": {
      "text/html": [
       "<table class=\"data-frame\"><thead><tr><th></th><th>opexfix</th><th>opexvar</th><th>capex</th><th>opexcapx</th><th>opxfix</th></tr><tr><th></th><th>Float64</th><th>Float64</th><th>Float64</th><th>Float64</th><th>Float64</th></tr></thead><tbody><p>8 rows × 5 columns</p><tr><th>1</th><td>0.0</td><td>0.0</td><td>700000.0</td><td>0.025</td><td>0.0</td></tr><tr><th>2</th><td>30000.0</td><td>5.0</td><td>1.75e6</td><td>0.0</td><td>30000.0</td></tr><tr><th>3</th><td>100000.0</td><td>5.0</td><td>3.9e6</td><td>0.0</td><td>100000.0</td></tr><tr><th>4</th><td>0.0</td><td>0.0</td><td>9.0e6</td><td>0.04</td><td>0.0</td></tr><tr><th>5</th><td>756000.0</td><td>105.0</td><td>3.99e7</td><td>0.0</td><td>756000.0</td></tr><tr><th>6</th><td>672000.0</td><td>105.0</td><td>3.465e7</td><td>0.0</td><td>672000.0</td></tr><tr><th>7</th><td>462000.0</td><td>84.0</td><td>1.995e7</td><td>0.0</td><td>462000.0</td></tr><tr><th>8</th><td>420000.0</td><td>63.0</td><td>1.05e7</td><td>0.0</td><td>420000.0</td></tr></tbody></table>"
      ],
      "text/latex": [
       "\\begin{tabular}{r|ccccc}\n",
       "\t& opexfix & opexvar & capex & opexcapx & opxfix\\\\\n",
       "\t\\hline\n",
       "\t& Float64 & Float64 & Float64 & Float64 & Float64\\\\\n",
       "\t\\hline\n",
       "\t1 & 0.0 & 0.0 & 700000.0 & 0.025 & 0.0 \\\\\n",
       "\t2 & 30000.0 & 5.0 & 1.75e6 & 0.0 & 30000.0 \\\\\n",
       "\t3 & 100000.0 & 5.0 & 3.9e6 & 0.0 & 100000.0 \\\\\n",
       "\t4 & 0.0 & 0.0 & 9.0e6 & 0.04 & 0.0 \\\\\n",
       "\t5 & 756000.0 & 105.0 & 3.99e7 & 0.0 & 756000.0 \\\\\n",
       "\t6 & 672000.0 & 105.0 & 3.465e7 & 0.0 & 672000.0 \\\\\n",
       "\t7 & 462000.0 & 84.0 & 1.995e7 & 0.0 & 462000.0 \\\\\n",
       "\t8 & 420000.0 & 63.0 & 1.05e7 & 0.0 & 420000.0 \\\\\n",
       "\\end{tabular}\n"
      ],
      "text/plain": [
       "\u001b[1m8×5 DataFrame\u001b[0m\n",
       "\u001b[1m Row \u001b[0m│\u001b[1m opexfix  \u001b[0m\u001b[1m opexvar \u001b[0m\u001b[1m capex        \u001b[0m\u001b[1m opexcapx \u001b[0m\u001b[1m opxfix   \u001b[0m\n",
       "\u001b[1m     \u001b[0m│\u001b[90m Float64  \u001b[0m\u001b[90m Float64 \u001b[0m\u001b[90m Float64      \u001b[0m\u001b[90m Float64  \u001b[0m\u001b[90m Float64  \u001b[0m\n",
       "─────┼─────────────────────────────────────────────────────\n",
       "   1 │      0.0      0.0  700000.0         0.025       0.0\n",
       "   2 │  30000.0      5.0       1.75e6      0.0     30000.0\n",
       "   3 │ 100000.0      5.0       3.9e6       0.0    100000.0\n",
       "   4 │      0.0      0.0       9.0e6       0.04        0.0\n",
       "   5 │ 756000.0    105.0       3.99e7      0.0    756000.0\n",
       "   6 │ 672000.0    105.0       3.465e7     0.0    672000.0\n",
       "   7 │ 462000.0     84.0       1.995e7     0.0    462000.0\n",
       "   8 │ 420000.0     63.0       1.05e7      0.0    420000.0"
      ]
     },
     "execution_count": 182,
     "metadata": {},
     "output_type": "execute_result"
    }
   ],
   "source": [
    "y= DataFrame(\n",
    "    opexfix=Float64[],\n",
    "    opexvar=Float64[],\n",
    "    capex=Float64[],\n",
    "    opexcapx=Float64[],\n",
    "    opxfix=Float64[],\n",
    ")\n",
    "for i=1:8\n",
    "    append!(y,\n",
    "DataFrame(\n",
    "    opexfix=(inp[i,\"Opex_fix\"]*(1+opex_ff[i,2])),\n",
    "    opexvar=(inp[i,\"Opex_var\"]*(1+opex_ff[i,2]) ),\n",
    "    capex=(inp[i,\"Capex_avg\"]*(1+opex_ff[i,2])),\n",
    "    opexcapx=(inp[i,\"Opex_of_capex\"]),\n",
    "    opxfix=(inp[i,\"Opex_fix\"]*(1+opex_ff[i,2])),\n",
    "    \n",
    "))\n",
    "end\n",
    "return(y)"
   ]
  },
  {
   "cell_type": "markdown",
   "metadata": {},
   "source": [
    "# Extension 1 (Storage technologies)\n",
    "\n",
    "\n",
    "Storage technologies\n",
    "The extension will include options for investing into strage technologies such as Li-ion batteries or convesion of electical energy into fuels such as H2 or Biomethanol. Furter on fossil fuels will be removed to estimate amount of storage required to achieve fully renewable electricity production by 2050. "
   ]
  },
  {
   "cell_type": "markdown",
   "metadata": {},
   "source": [
    "### Further model improvements"
   ]
  },
  {
   "cell_type": "markdown",
   "metadata": {},
   "source": [
    "Ideas for further model improvements:\n",
    "+ Green transition requirements (100% of electric energy from Renewables)\n",
    "+ Backup generation requirements\n",
    "+ Including price of fuel and CO2 tax\n",
    "+ Energy import and export\n",
    "+ Subsidy for renewables\n",
    "+ Storage \n",
    "+ Sell/buy \n",
    "+ Electric cars\n",
    "+ Heat"
   ]
  },
  {
   "cell_type": "markdown",
   "metadata": {},
   "source": [
    "# Name of extension"
   ]
  },
  {
   "cell_type": "markdown",
   "metadata": {},
   "source": [
    "## Formualtion\n",
    "waht, why we do this\n",
    "what are articles/resources that support the idea"
   ]
  },
  {
   "cell_type": "markdown",
   "metadata": {},
   "source": [
    "## Mathematical model\n",
    "constraint"
   ]
  },
  {
   "cell_type": "markdown",
   "metadata": {},
   "source": [
    "## Implementation\n",
    "coding\n",
    "constraints, varaibles, data (parameters)"
   ]
  },
  {
   "cell_type": "markdown",
   "metadata": {},
   "source": [
    "## Sensitivity analysis"
   ]
  },
  {
   "cell_type": "markdown",
   "metadata": {},
   "source": [
    "###  Sub-conclusion\n"
   ]
  }
 ],
 "metadata": {
  "kernelspec": {
   "display_name": "Julia 1.4.0",
   "language": "julia",
   "name": "julia-1.4"
  },
  "language_info": {
   "file_extension": ".jl",
   "mimetype": "application/julia",
   "name": "julia",
   "version": "1.4.0"
  }
 },
 "nbformat": 4,
 "nbformat_minor": 2
}

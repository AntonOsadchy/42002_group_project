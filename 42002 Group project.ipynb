{
 "cells": [
  {
   "cell_type": "markdown",
   "metadata": {},
   "source": [
    "# Group project (Master)"
   ]
  },
  {
   "cell_type": "markdown",
   "metadata": {},
   "source": [
    "Analysis of competitiveness of different energy production technologies in Danish Electricity Market"
   ]
  },
  {
   "cell_type": "markdown",
   "metadata": {},
   "source": [
    "## Modeling of current energy system"
   ]
  },
  {
   "cell_type": "markdown",
   "metadata": {},
   "source": [
    "### Data gathering and analysis"
   ]
  },
  {
   "cell_type": "markdown",
   "metadata": {},
   "source": [
    "Latest energy statistics reports available is for 2018. Thereforte, all data used is dated to year 2018."
   ]
  },
  {
   "cell_type": "markdown",
   "metadata": {},
   "source": [
    "Hourly consumption, production, as well as wind energy production data available from https://www.nordpoolgroup.com/historical-market-data/"
   ]
  },
  {
   "cell_type": "code",
   "execution_count": 5,
   "metadata": {},
   "outputs": [
    {
     "data": {
      "text/plain": [
       "300"
      ]
     },
     "execution_count": 5,
     "metadata": {},
     "output_type": "execute_result"
    }
   ],
   "source": [
    "using CSV, VegaLite, DataFrames, Statistics\n",
    "\n",
    "consum = CSV.read(\"consumption-dk-areas_2018_hourlys.csv\", DataFrame)\n",
    "produc = CSV.read(\"production-dk-areas_2018_hourly.csv\", DataFrame)\n",
    "wind   = CSV.read(\"wind-power-dk_2018_hourlys.csv\", DataFrame)\n",
    "exp    = CSV.read(\"exchange-per-country_2018_hourly.csv\", DataFrame)\n",
    "solar  = CSV.read(\"solarpv2018.csv\", DataFrame)\n",
    "\n",
    "\n",
    "n = 300\n",
    "\n",
    "#production with wind substracted\n",
    "#dif = produc[1:n,\"DK\"]-wind[1:n,\"DK\"]\n",
    "\n",
    "#data = vcat(DataFrame(time_hr=collect(1:n),power_MWh = consum[1:n,\"DK\"]*1000, tp = \"Consumption\",source = 2),           \n",
    "#            DataFrame(time_hr=collect(1:n),power_MWh = dif*1000, tp =\"Production\",source = 1),\n",
    "#            DataFrame(time_hr=collect(1:n),power_MWh = wind[1:n,\"DK\"]*1000, tp = \"Wind\",source = 1),\n",
    "#            DataFrame(time_hr=collect(1:n),power_MWh = exp[1:n,\"DK\"]*1000, tp = \"Import\",source = 1))\n",
    "\n",
    "#Plotting data\n",
    "#data |>\n",
    "#@vlplot(width=850, hieght=700)+\n",
    "#@vlplot(mark=:area, x=:time_hr, y={:power_MWh,stack=:zero},color=:tp,transform=[{filter=\"datum.source==1\"}]) +\n",
    "#@vlplot(mark=:line, x=:time_hr, y=:power_MWh, transform=[{filter=\"datum.source==2\"}],\n",
    "#    color={:tp,\n",
    "#    scale={range = [\"red\",\"#a1d99b\",\"#fd8d3c\",\"#3182bd\"]}})"
   ]
  },
  {
   "cell_type": "markdown",
   "metadata": {},
   "source": [
    "### Modeling\n",
    "Energy system could be modeled based on the data from above. In this case the system would consist of already deployed units and investment opportunities what will further optimize the system (Minimize costs). Wind production will be substracted from consumption for each of the time steps and optimization for mix of technologies covering the difference will be made.\n",
    "\n",
    "Additional information required:\n",
    "+ Operational prices for existing power plants based on type of plant/fuel\n",
    "+ Investment prices (price per KW) for further investments \n"
   ]
  },
  {
   "cell_type": "code",
   "execution_count": 6,
   "metadata": {},
   "outputs": [
    {
     "data": {
      "text/html": [
       "<table class=\"data-frame\"><thead><tr><th></th><th>Name</th><th>Capex_avg</th><th>Lifetime</th><th>Opex_of_capex</th><th>Opex_fix</th><th>Opex_var</th><th>Fuel_price</th></tr><tr><th></th><th>String</th><th>Int64</th><th>Int64</th><th>Float64</th><th>Int64</th><th>Float64</th><th>Float64</th></tr></thead><tbody><p>8 rows × 8 columns (omitted printing of 1 columns)</p><tr><th>1</th><td>Solar PV</td><td>700000</td><td>25</td><td>0.025</td><td>0</td><td>0.0</td><td>0.0</td></tr><tr><th>2</th><td>Wind Onshore</td><td>1750000</td><td>25</td><td>0.0</td><td>30000</td><td>5.0</td><td>0.0</td></tr><tr><th>3</th><td>Wind Offshore</td><td>3900000</td><td>25</td><td>0.0</td><td>100000</td><td>5.0</td><td>0.0</td></tr><tr><th>4</th><td>Biogas</td><td>3000000</td><td>30</td><td>0.04</td><td>0</td><td>0.0</td><td>30.3</td></tr><tr><th>5</th><td>Brown coal</td><td>1900000</td><td>40</td><td>0.0</td><td>36000</td><td>5.0</td><td>1.8</td></tr><tr><th>6</th><td>Hard coal</td><td>1650000</td><td>40</td><td>0.0</td><td>32000</td><td>5.0</td><td>9.6</td></tr><tr><th>7</th><td>CCGT</td><td>950000</td><td>30</td><td>0.0</td><td>22000</td><td>4.0</td><td>21.0</td></tr><tr><th>8</th><td>GT</td><td>500000</td><td>30</td><td>0.0</td><td>20000</td><td>3.0</td><td>21.0</td></tr></tbody></table>"
      ],
      "text/latex": [
       "\\begin{tabular}{r|cccccccc}\n",
       "\t& Name & Capex\\_avg & Lifetime & Opex\\_of\\_capex & Opex\\_fix & Opex\\_var & Fuel\\_price & \\\\\n",
       "\t\\hline\n",
       "\t& String & Int64 & Int64 & Float64 & Int64 & Float64 & Float64 & \\\\\n",
       "\t\\hline\n",
       "\t1 & Solar PV & 700000 & 25 & 0.025 & 0 & 0.0 & 0.0 & $\\dots$ \\\\\n",
       "\t2 & Wind Onshore & 1750000 & 25 & 0.0 & 30000 & 5.0 & 0.0 & $\\dots$ \\\\\n",
       "\t3 & Wind Offshore & 3900000 & 25 & 0.0 & 100000 & 5.0 & 0.0 & $\\dots$ \\\\\n",
       "\t4 & Biogas & 3000000 & 30 & 0.04 & 0 & 0.0 & 30.3 & $\\dots$ \\\\\n",
       "\t5 & Brown coal & 1900000 & 40 & 0.0 & 36000 & 5.0 & 1.8 & $\\dots$ \\\\\n",
       "\t6 & Hard coal & 1650000 & 40 & 0.0 & 32000 & 5.0 & 9.6 & $\\dots$ \\\\\n",
       "\t7 & CCGT & 950000 & 30 & 0.0 & 22000 & 4.0 & 21.0 & $\\dots$ \\\\\n",
       "\t8 & GT & 500000 & 30 & 0.0 & 20000 & 3.0 & 21.0 & $\\dots$ \\\\\n",
       "\\end{tabular}\n"
      ],
      "text/plain": [
       "\u001b[1m8×8 DataFrame\u001b[0m\n",
       "\u001b[1m Row \u001b[0m│\u001b[1m Name          \u001b[0m\u001b[1m Capex_avg \u001b[0m\u001b[1m Lifetime \u001b[0m\u001b[1m Opex_of_capex \u001b[0m\u001b[1m Opex_fix \u001b[0m\u001b[1m Opex_var \u001b[0m\u001b[1m \u001b[0m ⋯\n",
       "\u001b[1m     \u001b[0m│\u001b[90m String        \u001b[0m\u001b[90m Int64     \u001b[0m\u001b[90m Int64    \u001b[0m\u001b[90m Float64       \u001b[0m\u001b[90m Int64    \u001b[0m\u001b[90m Float64  \u001b[0m\u001b[90m \u001b[0m ⋯\n",
       "─────┼──────────────────────────────────────────────────────────────────────────\n",
       "   1 │ Solar PV          700000        25          0.025         0       0.0   ⋯\n",
       "   2 │ Wind Onshore     1750000        25          0.0       30000       5.0\n",
       "   3 │ Wind Offshore    3900000        25          0.0      100000       5.0\n",
       "   4 │ Biogas           3000000        30          0.04          0       0.0\n",
       "   5 │ Brown coal       1900000        40          0.0       36000       5.0   ⋯\n",
       "   6 │ Hard coal        1650000        40          0.0       32000       5.0\n",
       "   7 │ CCGT              950000        30          0.0       22000       4.0\n",
       "   8 │ GT                500000        30          0.0       20000       3.0\n",
       "\u001b[31m                                                               2 columns omitted\u001b[0m"
      ]
     },
     "execution_count": 6,
     "metadata": {},
     "output_type": "execute_result"
    }
   ],
   "source": [
    "p = 1000    #to convert to EU per MWh\n",
    "inp = DataFrame(Name            = [\"Solar PV\",\"Wind Onshore\",\"Wind Offshore\",\"Biogas\",\"Brown coal\",\"Hard coal\",\"CCGT\",\"GT\"],\n",
    "                Capex_avg       = [700,1750,3900,3000,1900,1650,950,500]*p,    #investment cost EUR/kW (nominal capacity)\n",
    "                Lifetime        = [25,25,25,30,40,40,30,30],                   #Years\n",
    "                Opex_of_capex   = [0.025,0,0,0.04,0,0,0,0],                    #EUR/kw % of CAPEX\n",
    "                Opex_fix        = [0,30,100,0,36,32,22,20]*p,                  #EUR/Kw\n",
    "                Opex_var        = [0,0.005,0.005,0,0.005,0.005,0.004,0.003]*p, #EUR/kwh\n",
    "                Fuel_price      = [0,0,0,30.3,1.8,9.6,21,21],                  #EUR/MWh heat\n",
    "                Fuel_eff        = [1,1,1,0.4,0.45,0.46,0.6,0.6])               #el. eng. % of heat en"
   ]
  },
  {
   "cell_type": "markdown",
   "metadata": {},
   "source": [
    "### Estiamtion of the capacity factor"
   ]
  },
  {
   "cell_type": "code",
   "execution_count": 7,
   "metadata": {},
   "outputs": [
    {
     "name": "stdout",
     "output_type": "stream",
     "text": [
      "\n"
     ]
    }
   ],
   "source": [
    "T = size(consum)[1]\n",
    "#capacity factor\n",
    "c = []\n",
    "append!(c, wind[i,\"DK\"]/maximum(wind[1:T,\"DK\"]) for i=1:T)    #capacity factor\n",
    "println(\"\")"
   ]
  },
  {
   "cell_type": "markdown",
   "metadata": {},
   "source": [
    "### Mathematical  formualtion\n",
    "\n",
    "**Variables:** \n",
    "<br> $p_{it}$ production of technology i in time unit t\n",
    "<br> $p_i^{max}$ max power production of unit i\n",
    "\n",
    "**Parameters:**\n",
    "<br> $a$ - operations varaible cost [EUR/KWh]\n",
    "<br> $f$ - fuel price [EUR/KWh]\n",
    "<br> $e$ - fuel efficiency []\n",
    "<br> $b$ - CAPEX [EUR/KWh]\n",
    "<br> $l$ - expected system lifetime [yr.]\n",
    "<br> $o$ - fixed operational expenses [EUR/kw % of CAPEX]\n",
    "<br> $k$ - fixed operational expenses [EUR/kw]\n",
    "<br> $d$ - demand for power [Mw]\n",
    "<br> $c$ - capacity factor "
   ]
  },
  {
   "cell_type": "markdown",
   "metadata": {},
   "source": [
    "**Objective:** \n",
    "<br>to minimize cost of electricity\n",
    "\n",
    "$$Z = \\dfrac{\\sum_{t=1}^{T}\\sum_{i=1}^{n}p_{it} \\left( a_i+ f_ie_i\\right) + \n",
    "\\sum_{i=1}^{n} \\dfrac{p^{max}_{i}}{l_{i}}\\left(b_i(1+o_i)+k_{i} \\right)}{\\sum_{t=1}^{T}d_t} \\tag{1}$$\n",
    "\n",
    "$$p_{it}\\leq p^{max}_i \\tag{2} $$\n",
    "\n",
    "$$p_{wt} = p^{max}_w c_{wt} \\tag{3} $$\n",
    "\n",
    "$$p^{max}_i \\leq \\sum_{t=1}^{T} d_t \\tag{4} $$\n",
    "\n",
    "$$\\sum_{i=1}^{I} p_{it} \\geq d_t \\tag{5} $$\n",
    "\n",
    "$$\\sum_{i=4}^{8} p_{it} \\geq d_t \\tag{5} * r_s $$\n",
    "\n",
    "$$p_{it},p_{i}^{max} \\geq 0 $$"
   ]
  },
  {
   "cell_type": "markdown",
   "metadata": {},
   "source": [
    "### Renewable deployment strategy\n",
    "\n",
    "Most of the active wind turbines in Denmark were onshore, around 5.7 thousand compared to 558 offshore."
   ]
  },
  {
   "cell_type": "code",
   "execution_count": 8,
   "metadata": {},
   "outputs": [
    {
     "data": {
      "text/plain": [
       "28500"
      ]
     },
     "execution_count": 8,
     "metadata": {},
     "output_type": "execute_result"
    }
   ],
   "source": [
    "max_wind = 5700 * 5     #max number of onshore turbines"
   ]
  },
  {
   "cell_type": "markdown",
   "metadata": {},
   "source": [
    "## Mathematical model"
   ]
  },
  {
   "cell_type": "code",
   "execution_count": 141,
   "metadata": {},
   "outputs": [
    {
     "data": {
      "text/plain": [
       "optimize (generic function with 2 methods)"
      ]
     },
     "execution_count": 141,
     "metadata": {},
     "output_type": "execute_result"
    }
   ],
   "source": [
    "using CSV, JuMP, GLPK, CPLEX\n",
    "\n",
    "#Declaration of data frames\n",
    "\n",
    "function optimize(x,y,fp,d)\n",
    "println(\"entree opti\")\n",
    "#fp = share for change in fuel prices\n",
    "#d  =  share for change in demand\n",
    "    \n",
    "n = size(inp)[2]\n",
    "T = y\n",
    "M = 10*maximum(consum[1:T,\"DK\"])\n",
    "\n",
    "m = Model(GLPK.Optimizer)\n",
    "\n",
    "@variable(m,p[i=1:n,t=1:T] >= 0)        #power per technology\n",
    "@variable(m,pmax[i=1:n] >= 0)           #power per technology\n",
    "@variable(m,u[i=1:n], Bin)         #controling number of technologies\n",
    "\n",
    "@objective(m, Min, (sum(p[i,t]*                      (inp[i,\"Opex_var\"] + inp[i,\"Fuel_price\"]*(1+fp)*inp[i,\"Fuel_eff\"])            for i=1:n for t=1:T) +\n",
    "                    sum((pmax[i]/inp[i,\"Lifetime\"])* (inp[i,\"Capex_avg\"]*(1+inp[i,\"Opex_of_capex\"])+inp[i,\"Opex_fix\"])      for i=1:n))/\n",
    "                    sum(consum[t,\"DK\"]                                                                                  for t=1:T)*(1+d)  )\n",
    "\n",
    "@constraint(m, Solar[t=1:T],                 p[1,t] <= pmax[1]*solar[t,\"DK\"])                  #Solar\n",
    "@constraint(m, OnShoreWind[t=1:T],           p[2,t] == pmax[2]*c[t])             #Onshore wind\n",
    "@constraint(m, OffShoreWind[t=1:T],          p[3,t] == pmax[3]*c[t])             #Offshore wind\n",
    "@constraint(m, NotIntermittent[i=4:n,t=1:T], p[i,t] <= pmax[i])                  #not intermittent\n",
    "\n",
    "#Demand constraint\n",
    "@constraint(m, Demand[t=1:T], sum(p[i,t] for i=1:n) >= consum[t,\"DK\"]*(1+d) ) #Demand\n",
    "                        \n",
    "#Limting max amount of Onshore wind\n",
    "@constraint(m, MaxWind, pmax[2] <= max_wind)                                         #Onshore wind  \n",
    "@constraint(m,Max[i=1:8],pmax[i]<=sum(consum[t,\"DK\"] for t=1:T)*(1+d))\n",
    "\n",
    "#Limiting production for non-renewables\n",
    "@constraint(m, ren_share,sum(p[i,t] for i=4:n for t=1:T) <= (1-x)*sum(consum[1:T,\"DK\"])*(1+d))\n",
    "                \n",
    "\n",
    "#limiting number of technologies\n",
    "@constraint(m,[i=1:n], p[i] <=M*u[i])\n",
    "@constraint(m, sum(u[i] for i=1:n) >= 4)           #number of technologies allowed\n",
    "                    \n",
    "optimize!(m)\n",
    "println(\"run for share: \",x)\n",
    "Primal_Status= (JuMP.primal_status(m)==JuMP.MathOptInterface.FEASIBLE_POINT || JuMP.primal_status(m)==JuMP.MathOptInterface.OPTIMAL)\n",
    "println(\"primal_status: \",JuMP.primal_status(m))  \n",
    "if Primal_Status\n",
    " \n",
    "    #End of model. Data exporting ->\n",
    "\n",
    "    T_series = DataFrame(Time_hr       = collect(1:T), \n",
    "                         Solar_PV      = JuMP.value.(p[1,1:T]),\n",
    "                         Wind_onshore  = JuMP.value.(p[2,1:T]),\n",
    "                         Wind_offshore = JuMP.value.(p[3,1:T]),                       \n",
    "                         Biogas        = JuMP.value.(p[4,1:T]),\n",
    "                         Coal_brown    = JuMP.value.(p[5,1:T]),\n",
    "                         Coal_hard     = JuMP.value.(p[6,1:T]),\n",
    "                         CCGT          = JuMP.value.(p[7,1:T]),\n",
    "                         GT            = JuMP.value.(p[8,1:T]),\n",
    "                         Consumption   = consum[1:T,\"DK\"])                                        \n",
    "\n",
    "    Totals   = DataFrame(Share_ren       = string(x),\n",
    "                         LCOE            = JuMP.objective_value(m), \n",
    "                         Production_MWh  = sum( JuMP.value.(p[i,t]) for i=1:n for t=1:T),\n",
    "                         Demand_MWh      = sum(consum[1:T,\"DK\"]),\n",
    "                         Curtailment_MWh = sum( JuMP.value.(p[i,t]) for i=1:n for t=1:T)/sum(consum[1:T,\"DK\"]),\n",
    "                         CAPEX_t_bilEUR  = sum(JuMP.value.(pmax[i])*inp[i,\"Capex_avg\"] for i=1:n)*1e-9,\n",
    "                         OM_t_bilEUR     = sum(JuMP.value.(p[i,t])*(inp[i,\"Opex_var\"]+\n",
    "                                              inp[i,\"Fuel_price\"]*inp[i,\"Fuel_eff\"])+\n",
    "    sum((JuMP.value.(pmax[i])/inp[i,\"Lifetime\"])*(inp[i,\"Capex_avg\"]*inp[i,\"Opex_of_capex\"]+inp[i,\"Opex_fix\"])) \n",
    "                                            for i=1:n for t=1:T)*1e-9,\n",
    "                         Extension       = 0\n",
    "                          )                                                                   \n",
    "\n",
    "    Per_tech = DataFrame(\n",
    "                         Technology     = String[],\n",
    "                         Capacity_GWh   = Float64[],\n",
    "                         Utilization    = Float64[],\n",
    "                         CAPEX_bilEUR   = Float64[], \n",
    "                         OM_bilEUR      = Float64[],\n",
    "                         Share_ren      = String[],\n",
    "                         Extension      = Int64[])                                                                    \n",
    "\n",
    "    for i = 1:n\n",
    "        append!(Per_tech, DataFrame(\n",
    "                                    Technology     = inp[i,\"Name\"],\n",
    "                                    Capacity_GWh   = JuMP.value.(pmax[i]*1e-3), \n",
    "                                    Utilization    = mean(JuMP.value.(p[i,1:T]))/JuMP.value.(pmax[i]),\n",
    "                                    CAPEX_bilEUR   = (JuMP.value.(pmax[i])*inp[i,\"Capex_avg\"])*1e-9, \n",
    "                                    OM_bilEUR      = sum(JuMP.value.(p[i,t])*(inp[i,\"Opex_var\"]+\n",
    "                                                         inp[i,\"Fuel_price\"]*inp[i,\"Fuel_eff\"])+\n",
    "                                                         sum((JuMP.value.(pmax[i])/inp[i,\"Lifetime\"])*(inp[i,\"Capex_avg\"]*inp[i,\"Opex_of_capex\"]+inp[i,\"Opex_fix\"])) for t=1:T)*1e-9,\n",
    "                                    Share_ren      = string(x),\n",
    "                                    Extension      = 0\n",
    "                                    )\n",
    "               )\n",
    "    end\n",
    "\n",
    " \n",
    "    return Totals,Per_tech,T_series\n",
    "    else return DataFrame(),DataFrame(),DataFrame()\n",
    "    end\n",
    "    \n",
    "end  \n"
   ]
  },
  {
   "cell_type": "markdown",
   "metadata": {},
   "source": [
    "### Visualization"
   ]
  },
  {
   "cell_type": "code",
   "execution_count": 139,
   "metadata": {},
   "outputs": [
    {
     "data": {
      "text/plain": [
       "plotTechnology (generic function with 2 methods)"
      ]
     },
     "execution_count": 139,
     "metadata": {},
     "output_type": "execute_result"
    }
   ],
   "source": [
    "#Displaying results\n",
    "\n",
    "colors = [\"#ff7f0e\",\"#74c476\",\"#1f77b4\",\"#6baed6\"]\n",
    "#Time series\n",
    "function plotSeries(x,y,z,s)\n",
    "    \n",
    "    d = z  \n",
    "    x[1:d,:] |>\n",
    "    stack |>         #Stacking data\n",
    "    @vlplot(width=850, hieght=700)+\n",
    "    @vlplot(transform=[{filter=\"datum.variable != 'Consumption'\"}],\n",
    "            transform=[{filter=\"datum.value     > 10\"}],\n",
    "            mark=:area, \n",
    "            x=:Time_hr, \n",
    "            y={:value,stack=:zero},\n",
    "            color={:variable,\n",
    "            scale={range = colors},\n",
    "            #scale={scheme=\"tableau10\"},\n",
    "            legend={title=\"Technologies\"}})+ \n",
    "    @vlplot(#transform=[{filter=\"datum.variable == 'Consumption'\"}],\n",
    "            mark=:line, \n",
    "            x=:Time_hr, \n",
    "            y=:Consumption) |> save(\"Results/Sensitivity_$s/$y/$y _Series.png\")\n",
    "end\n",
    "\n",
    "\n",
    "#Bars chart\n",
    "function plotTechnology(x,s)\n",
    "    x |>\n",
    "    @vlplot(transform=[{filter=\"datum.Capacity_GWh >0\"}],\n",
    "        height=500,\n",
    "        width =300,\n",
    "        mark={\n",
    "            :bar,\n",
    "            cornerRadiusTopLeft = 15,\n",
    "            cornerRadiusTopRight= 15\n",
    "        },\n",
    "        x=:Share_ren,\n",
    "        y=:Capacity_GWh,\n",
    "        color={:Technology,\n",
    "        scale={range = colors},\n",
    "        }\n",
    "    ) |> save(\"Results/Sensitivity_$s/BarChart.png\")\n",
    "\n",
    "    #Donat plots\n",
    "    for i= 1:size(ren_s)[1]   \n",
    "        df = filter(row -> row[:Share_ren ] == string(ren_s[i]), x)   \n",
    "\n",
    "    n = ren_s[i]\n",
    "        df |>\n",
    "        stack |>\n",
    "        @vlplot(transform=[{filter=\"datum.variable == 'Capacity_GWh'\"},\n",
    "                   {filter=\"datum.value != 0\"}],\n",
    "        theta={:value, stack=true},\n",
    "        color={\"Technology\",\n",
    "        scale={range = colors},    \n",
    "            },\n",
    "        view={stroke=nothing}) +\n",
    "        @vlplot(mark={:arc, innerRadius = 50, outerRadius=90}) +\n",
    "        @vlplot(mark={:text, radius=105}, text=\"value:n\",title= \"Capacity_GWh\") |> save(\"Results/Sensitivity_$s/$n/$n _Capacity_GWh.png\") \n",
    "\n",
    "        df |>\n",
    "        stack |>\n",
    "        @vlplot(transform=[{filter=\"datum.variable == 'Utilization'\"},\n",
    "                   {filter=\"datum.value != 0\"}],\n",
    "        theta={:value, stack=true},\n",
    "        color={\"Technology\",\n",
    "            scale={range = colors},\n",
    "            },\n",
    "        view={stroke=nothing}) +\n",
    "        @vlplot(mark={:arc, innerRadius = 50, outerRadius=90}) +\n",
    "        @vlplot(mark={:text, radius=105}, text=\"value:n\",title= \"Utilization\") |> save(\"Results/Sensitivity_$s/$n/$n _Utilization.png\")\n",
    "\n",
    "        df |>\n",
    "        stack |>\n",
    "        @vlplot(transform=[{filter=\"datum.variable == 'CAPEX_bilEUR'\"},\n",
    "                   {filter=\"datum.value != 0\"}],\n",
    "        theta={:value, stack=true},\n",
    "        color={\"Technology\",\n",
    "            scale={range = colors},\n",
    "            },\n",
    "        view={stroke=nothing}) +\n",
    "        @vlplot(mark={:arc, innerRadius = 50, outerRadius=90}) +\n",
    "        @vlplot(mark={:text, radius=105}, text=\"value:n\",title= \"CAPEX_bilEUR\") |> save(\"Results/Sensitivity_$s/$n/$n _CAPEX_bilEUR.png\")\n",
    "    \n",
    "        df |>\n",
    "        stack |>\n",
    "        @vlplot(transform=[{filter=\"datum.variable == 'OM_bilEUR'\"},\n",
    "                   {filter=\"datum.value != 0\"}],\n",
    "        theta={:value, stack=true},\n",
    "        color={\"Technology\",\n",
    "            scale={range = colors},\n",
    "            },\n",
    "        view={stroke=nothing}) +\n",
    "        @vlplot(mark={:arc, innerRadius = 50, outerRadius=90}) +\n",
    "        @vlplot(mark={:text, radius=105}, text=\"value:n\",title= \"OM_bilEUR\") |> save(\"Results/Sensitivity_$s/$n/$n _OM_bilEUR.png\")\n",
    "    \n",
    "    end\n",
    "end\n",
    "\n",
    "\n"
   ]
  },
  {
   "cell_type": "markdown",
   "metadata": {},
   "source": [
    "## Main"
   ]
  },
  {
   "cell_type": "code",
   "execution_count": 142,
   "metadata": {},
   "outputs": [
    {
     "name": "stdout",
     "output_type": "stream",
     "text": [
      "entree opti\n",
      "run for share: 0.0\n",
      "primal_status: FEASIBLE_POINT\n",
      "entree opti\n",
      "run for share: 0.6\n",
      "primal_status: FEASIBLE_POINT\n",
      "entree opti\n",
      "run for share: 0.8\n",
      "primal_status: FEASIBLE_POINT\n",
      "entree opti\n",
      "run for share: 0.95\n",
      "primal_status: FEASIBLE_POINT\n",
      "entree opti\n",
      "run for share: 1.0\n",
      "primal_status: NO_SOLUTION\n",
      "Printing output files\n",
      "entree opti\n",
      "run for share: 0.0\n",
      "primal_status: FEASIBLE_POINT\n",
      "entree opti\n",
      "run for share: 0.6\n",
      "primal_status: FEASIBLE_POINT\n",
      "entree opti\n",
      "run for share: 0.8\n",
      "primal_status: FEASIBLE_POINT\n",
      "entree opti\n",
      "run for share: 0.95\n",
      "primal_status: FEASIBLE_POINT\n",
      "entree opti\n",
      "run for share: 1.0\n",
      "primal_status: NO_SOLUTION\n",
      "Printing output files\n",
      "entree opti\n",
      "run for share: 0.0\n",
      "primal_status: FEASIBLE_POINT\n",
      "entree opti\n",
      "run for share: 0.6\n",
      "primal_status: FEASIBLE_POINT\n",
      "entree opti\n",
      "run for share: 0.8\n",
      "primal_status: FEASIBLE_POINT\n",
      "entree opti\n",
      "run for share: 0.95\n",
      "primal_status: FEASIBLE_POINT\n",
      "entree opti\n",
      "run for share: 1.0\n",
      "primal_status: NO_SOLUTION\n",
      "Printing output files\n",
      "entree opti\n",
      "run for share: 0.0\n",
      "primal_status: FEASIBLE_POINT\n",
      "entree opti\n",
      "run for share: 0.6\n",
      "primal_status: FEASIBLE_POINT\n",
      "entree opti\n",
      "run for share: 0.8\n",
      "primal_status: FEASIBLE_POINT\n",
      "entree opti\n",
      "run for share: 0.95\n",
      "primal_status: FEASIBLE_POINT\n",
      "entree opti\n",
      "run for share: 1.0\n",
      "primal_status: NO_SOLUTION\n",
      "Printing output files\n",
      "entree opti\n",
      "run for share: 0.0\n",
      "primal_status: FEASIBLE_POINT\n",
      "entree opti\n",
      "run for share: 0.6\n",
      "primal_status: FEASIBLE_POINT\n",
      "entree opti\n",
      "run for share: 0.8\n",
      "primal_status: FEASIBLE_POINT\n",
      "entree opti\n",
      "run for share: 0.95\n",
      "primal_status: FEASIBLE_POINT\n",
      "entree opti\n",
      "run for share: 1.0\n",
      "primal_status: NO_SOLUTION\n",
      "Printing output files\n",
      "entree opti\n",
      "run for share: 0.0\n",
      "primal_status: FEASIBLE_POINT\n",
      "entree opti\n",
      "run for share: 0.6\n",
      "primal_status: FEASIBLE_POINT\n",
      "entree opti\n",
      "run for share: 0.8\n",
      "primal_status: FEASIBLE_POINT\n",
      "entree opti\n",
      "run for share: 0.95\n",
      "primal_status: FEASIBLE_POINT\n",
      "entree opti\n",
      "run for share: 1.0\n",
      "primal_status: NO_SOLUTION\n",
      "Printing output files\n"
     ]
    }
   ],
   "source": [
    "#share of renewables\n",
    "ren_s = [0,0.6,0.8,0.95,1]\n",
    "\n",
    "T = size(consum)[1] #simulation size\n",
    "d = 500 #plots diplay size\n",
    "#change in fuel prices and demand  \n",
    "sensitivity=[[-0.10,0],[0.10,0],[0,0.10],[0,-0.10],[-0.50,0],[0.50,0]]\n",
    "#Data gathering\n",
    "s=0\n",
    "for option in sensitivity \n",
    "Per_tech_ren = DataFrame(\n",
    "                         Technology      = String[],\n",
    "                         Capacity_GWh    = Float64[],\n",
    "                         Utilization     = Float64[],\n",
    "                         CAPEX_bilEUR    = Float64[], \n",
    "                         OM_bilEUR       = Float64[],\n",
    "                         Share_ren       = String[],\n",
    "                         Extension       = Int64[]\n",
    "                         )\n",
    "\n",
    "Totals_ren   = DataFrame(Share_ren       = String[],\n",
    "                         LCOE            = Float64[], \n",
    "                         Production_MWh  = Float64[], \n",
    "                         Demand_MWh      = Float64[], \n",
    "                         Curtailment_MWh = Float64[],\n",
    "                         CAPEX_t_bilEUR  = Float64[], \n",
    "                         OM_t_bilEUR     = Float64[],\n",
    "                         Extension       = Int64[]\n",
    "                         )\n",
    "\n",
    "T_series       = DataFrame(Time_hr       = Int64[], \n",
    "                           Solar_PV      = Float64[],\n",
    "                           Wind_onshore  = Float64[],\n",
    "                           Wind_offshore = Float64[],                       \n",
    "                           Biogas        = Float64[],\n",
    "                           Coal_brown    = Float64[],\n",
    "                           Coal_hard     = Float64[],\n",
    "                           CCGT          = Float64[],\n",
    "                           GT            = Float64[],\n",
    "                           Consumption   = Int64[]\n",
    "                         )   \n",
    "\n",
    "\n",
    "    s=s+1\n",
    "    for share in ren_s\n",
    "    opt = optimize(share,T,option[1],option[2])\n",
    "    append!(Totals_ren,opt[1])\n",
    "    append!(Per_tech_ren, opt[2])\n",
    "    append!(T_series, opt[3])\n",
    "    \n",
    "    end\n",
    "    \n",
    "    CSV.write(\"Results/Sensitivity_$s/Totals.csv\", Totals_ren)\n",
    "    CSV.write(\"Results/Sensitivity_$s/Per_tech_ren.csv\", Per_tech_ren)\n",
    "\n",
    "\n",
    " println(\"Printing output files\") \n",
    "open(\"Results/Sensitivity_$s/Totals.txt\",\"w\") do io\n",
    "   println(io,Totals_ren)\n",
    "end\n",
    "\n",
    "open(\"Results/Sensitivity_$s/Per_tech_ren.txt\",\"w\") do io\n",
    "   println(io,Per_tech_ren)\n",
    "end\n",
    "\n",
    "# ----------------------------Ploting-----------------------------------\n",
    "k = 1                                                   #initial printing lcoation\n",
    "for value in 1:size(ren_s)[1]\n",
    "   # plotSeries(T_series[k:(k+T-1),:],ren_s[value],d)\n",
    "     k = k+T\n",
    "end\n",
    "\n",
    "#Rouding decimals\n",
    "Per_tech_ren.Capacity_GWh = round.(Per_tech_ren.Capacity_GWh; digits = 2)\n",
    "Per_tech_ren.CAPEX_bilEUR = round.(Per_tech_ren.CAPEX_bilEUR; digits = 1)\n",
    "Per_tech_ren.OM_bilEUR    = round.(Per_tech_ren.OM_bilEUR;    digits = 1)\n",
    "Per_tech_ren.Utilization  = round.(Per_tech_ren.Utilization;  digits = 3)\n",
    "\n",
    "#ploting   \n",
    "plotTechnology(Per_tech_ren,s)\n",
    "end"
   ]
  },
  {
   "cell_type": "markdown",
   "metadata": {},
   "source": [
    "### Sensitivity analysis"
   ]
  },
  {
   "cell_type": "code",
   "execution_count": 28,
   "metadata": {
    "scrolled": false
   },
   "outputs": [
    {
     "name": "stdout",
     "output_type": "stream",
     "text": [
      "0.0\n"
     ]
    }
   ],
   "source": []
  },
  {
   "cell_type": "markdown",
   "metadata": {},
   "source": [
    "Old code"
   ]
  },
  {
   "cell_type": "code",
   "execution_count": 92,
   "metadata": {},
   "outputs": [
    {
     "data": {
      "application/vnd.vegalite.v4+json": {
       "data": {
        "values": [
         {
          "Extension": 0,
          "Share_ren": "0.0",
          "value": 51.36044081126692,
          "variable": "LCOE"
         },
         {
          "Extension": 0,
          "Share_ren": "0.0",
          "value": 53.88044081126692,
          "variable": "LCOE"
         },
         {
          "Extension": 0,
          "Share_ren": "0.0",
          "value": 63.67073338163252,
          "variable": "LCOE"
         },
         {
          "Extension": 0,
          "Share_ren": "0.0",
          "value": 42.62255705712636,
          "variable": "LCOE"
         },
         {
          "Extension": 0,
          "Share_ren": "0.6",
          "value": 342.3699137517348,
          "variable": "LCOE"
         },
         {
          "Extension": 0,
          "Share_ren": "0.6",
          "value": 343.37791375173487,
          "variable": "LCOE"
         },
         {
          "Extension": 0,
          "Share_ren": "0.6",
          "value": 414.87743563959935,
          "variable": "LCOE"
         },
         {
          "Extension": 0,
          "Share_ren": "0.6",
          "value": 277.72787013890525,
          "variable": "LCOE"
         },
         {
          "Extension": 0,
          "Share_ren": "0.8",
          "value": 754.0472651997313,
          "variable": "LCOE"
         },
         {
          "Extension": 0,
          "Share_ren": "0.8",
          "value": 754.551265199732,
          "variable": "LCOE"
         },
         {
          "Extension": 0,
          "Share_ren": "0.8",
          "value": 914.0900023645279,
          "variable": "LCOE"
         },
         {
          "Extension": 0,
          "Share_ren": "0.8",
          "value": 610.9824048117822,
          "variable": "LCOE"
         },
         {
          "Extension": 0,
          "Share_ren": "0.95",
          "value": 4451.054366868135,
          "variable": "LCOE"
         },
         {
          "Extension": 0,
          "Share_ren": "0.95",
          "value": 4451.180366868135,
          "variable": "LCOE"
         },
         {
          "Extension": 0,
          "Share_ren": "0.95",
          "value": 5491.837683147044,
          "variable": "LCOE"
         },
         {
          "Extension": 0,
          "Share_ren": "0.95",
          "value": 3518.689519605988,
          "variable": "LCOE"
         },
         {
          "Extension": 0,
          "Share_ren": "1.0",
          "value": 68165.07266169619,
          "variable": "LCOE"
         },
         {
          "Extension": 0,
          "Share_ren": "1.0",
          "value": 68165.07266169619,
          "variable": "LCOE"
         },
         {
          "Extension": 0,
          "Share_ren": "1.0",
          "value": 82585.72358988914,
          "variable": "LCOE"
         },
         {
          "Extension": 0,
          "Share_ren": "1.0",
          "value": 55126.993308416735,
          "variable": "LCOE"
         },
         {
          "Extension": 0,
          "Share_ren": "0.0",
          "value": 2626657,
          "variable": "Production_MWh"
         },
         {
          "Extension": 0,
          "Share_ren": "0.0",
          "value": 2626657,
          "variable": "Production_MWh"
         },
         {
          "Extension": 0,
          "Share_ren": "0.0",
          "value": 2889322.6999999937,
          "variable": "Production_MWh"
         },
         {
          "Extension": 0,
          "Share_ren": "0.0",
          "value": 2363991.3000000035,
          "variable": "Production_MWh"
         },
         {
          "Extension": 0,
          "Share_ren": "0.6",
          "value": 3201824.0525355074,
          "variable": "Production_MWh"
         },
         {
          "Extension": 0,
          "Share_ren": "0.6",
          "value": 3201824.0525355074,
          "variable": "Production_MWh"
         },
         {
          "Extension": 0,
          "Share_ren": "0.6",
          "value": 3522006.4577890555,
          "variable": "Production_MWh"
         },
         {
          "Extension": 0,
          "Share_ren": "0.6",
          "value": 2881641.647281957,
          "variable": "Production_MWh"
         },
         {
          "Extension": 0,
          "Share_ren": "0.8",
          "value": 5630167.890778116,
          "variable": "Production_MWh"
         },
         {
          "Extension": 0,
          "Share_ren": "0.8",
          "value": 5630167.890778121,
          "variable": "Production_MWh"
         },
         {
          "Extension": 0,
          "Share_ren": "0.8",
          "value": 6121091.093194957,
          "variable": "Production_MWh"
         },
         {
          "Extension": 0,
          "Share_ren": "0.8",
          "value": 5067151.101700305,
          "variable": "Production_MWh"
         },
         {
          "Extension": 0,
          "Share_ren": "0.95",
          "value": 16336242.120987214,
          "variable": "Production_MWh"
         },
         {
          "Extension": 0,
          "Share_ren": "0.95",
          "value": 16336242.120987214,
          "variable": "Production_MWh"
         },
         {
          "Extension": 0,
          "Share_ren": "0.95",
          "value": 17971933.347588092,
          "variable": "Production_MWh"
         },
         {
          "Extension": 0,
          "Share_ren": "0.95",
          "value": 14699554.11842077,
          "variable": "Production_MWh"
         },
         {
          "Extension": 0,
          "Share_ren": "1.0",
          "value": 191682579.94117674,
          "variable": "Production_MWh"
         },
         {
          "Extension": 0,
          "Share_ren": "1.0",
          "value": 191682579.94117674,
          "variable": "Production_MWh"
         },
         {
          "Extension": 0,
          "Share_ren": "1.0",
          "value": 210849054.25294128,
          "variable": "Production_MWh"
         },
         {
          "Extension": 0,
          "Share_ren": "1.0",
          "value": 172655881.46470612,
          "variable": "Production_MWh"
         },
         {
          "Extension": 0,
          "Share_ren": "0.0",
          "value": 2626657,
          "variable": "Demand_MWh"
         },
         {
          "Extension": 0,
          "Share_ren": "0.0",
          "value": 2626657,
          "variable": "Demand_MWh"
         },
         {
          "Extension": 0,
          "Share_ren": "0.0",
          "value": 2626657,
          "variable": "Demand_MWh"
         },
         {
          "Extension": 0,
          "Share_ren": "0.0",
          "value": 2626657,
          "variable": "Demand_MWh"
         },
         {
          "Extension": 0,
          "Share_ren": "0.6",
          "value": 2626657,
          "variable": "Demand_MWh"
         },
         {
          "Extension": 0,
          "Share_ren": "0.6",
          "value": 2626657,
          "variable": "Demand_MWh"
         },
         {
          "Extension": 0,
          "Share_ren": "0.6",
          "value": 2626657,
          "variable": "Demand_MWh"
         },
         {
          "Extension": 0,
          "Share_ren": "0.6",
          "value": 2626657,
          "variable": "Demand_MWh"
         },
         {
          "Extension": 0,
          "Share_ren": "0.8",
          "value": 2626657,
          "variable": "Demand_MWh"
         },
         {
          "Extension": 0,
          "Share_ren": "0.8",
          "value": 2626657,
          "variable": "Demand_MWh"
         },
         {
          "Extension": 0,
          "Share_ren": "0.8",
          "value": 2626657,
          "variable": "Demand_MWh"
         },
         {
          "Extension": 0,
          "Share_ren": "0.8",
          "value": 2626657,
          "variable": "Demand_MWh"
         },
         {
          "Extension": 0,
          "Share_ren": "0.95",
          "value": 2626657,
          "variable": "Demand_MWh"
         },
         {
          "Extension": 0,
          "Share_ren": "0.95",
          "value": 2626657,
          "variable": "Demand_MWh"
         },
         {
          "Extension": 0,
          "Share_ren": "0.95",
          "value": 2626657,
          "variable": "Demand_MWh"
         },
         {
          "Extension": 0,
          "Share_ren": "0.95",
          "value": 2626657,
          "variable": "Demand_MWh"
         },
         {
          "Extension": 0,
          "Share_ren": "1.0",
          "value": 2626657,
          "variable": "Demand_MWh"
         },
         {
          "Extension": 0,
          "Share_ren": "1.0",
          "value": 2626657,
          "variable": "Demand_MWh"
         },
         {
          "Extension": 0,
          "Share_ren": "1.0",
          "value": 2626657,
          "variable": "Demand_MWh"
         },
         {
          "Extension": 0,
          "Share_ren": "1.0",
          "value": 2626657,
          "variable": "Demand_MWh"
         },
         {
          "Extension": 0,
          "Share_ren": "0.0",
          "value": 1,
          "variable": "Curtailment_MWh"
         },
         {
          "Extension": 0,
          "Share_ren": "0.0",
          "value": 1,
          "variable": "Curtailment_MWh"
         },
         {
          "Extension": 0,
          "Share_ren": "0.0",
          "value": 1.0999999999999976,
          "variable": "Curtailment_MWh"
         },
         {
          "Extension": 0,
          "Share_ren": "0.0",
          "value": 0.9000000000000014,
          "variable": "Curtailment_MWh"
         },
         {
          "Extension": 0,
          "Share_ren": "0.6",
          "value": 1.2189730339878817,
          "variable": "Curtailment_MWh"
         },
         {
          "Extension": 0,
          "Share_ren": "0.6",
          "value": 1.2189730339878817,
          "variable": "Curtailment_MWh"
         },
         {
          "Extension": 0,
          "Share_ren": "0.6",
          "value": 1.3408703373866688,
          "variable": "Curtailment_MWh"
         },
         {
          "Extension": 0,
          "Share_ren": "0.6",
          "value": 1.0970757305890937,
          "variable": "Curtailment_MWh"
         },
         {
          "Extension": 0,
          "Share_ren": "0.8",
          "value": 2.14347282145256,
          "variable": "Curtailment_MWh"
         },
         {
          "Extension": 0,
          "Share_ren": "0.8",
          "value": 2.1434728214525616,
          "variable": "Curtailment_MWh"
         },
         {
          "Extension": 0,
          "Share_ren": "0.8",
          "value": 2.330373205635512,
          "variable": "Curtailment_MWh"
         },
         {
          "Extension": 0,
          "Share_ren": "0.8",
          "value": 1.929125539307304,
          "variable": "Curtailment_MWh"
         },
         {
          "Extension": 0,
          "Share_ren": "0.95",
          "value": 6.219404406813381,
          "variable": "Curtailment_MWh"
         },
         {
          "Extension": 0,
          "Share_ren": "0.95",
          "value": 6.219404406813381,
          "variable": "Curtailment_MWh"
         },
         {
          "Extension": 0,
          "Share_ren": "0.95",
          "value": 6.842131784845944,
          "variable": "Curtailment_MWh"
         },
         {
          "Extension": 0,
          "Share_ren": "0.95",
          "value": 5.596297544148616,
          "variable": "Curtailment_MWh"
         },
         {
          "Extension": 0,
          "Share_ren": "1.0",
          "value": 72.97587006646728,
          "variable": "Curtailment_MWh"
         },
         {
          "Extension": 0,
          "Share_ren": "1.0",
          "value": 72.97587006646728,
          "variable": "Curtailment_MWh"
         },
         {
          "Extension": 0,
          "Share_ren": "1.0",
          "value": 80.27277800372919,
          "variable": "Curtailment_MWh"
         },
         {
          "Extension": 0,
          "Share_ren": "1.0",
          "value": 65.73217647553759,
          "variable": "Curtailment_MWh"
         },
         {
          "Extension": 0,
          "Share_ren": "0.0",
          "value": 2.804999999999999,
          "variable": "CAPEX_t_bilEUR"
         },
         {
          "Extension": 0,
          "Share_ren": "0.0",
          "value": 2.804999999999999,
          "variable": "CAPEX_t_bilEUR"
         },
         {
          "Extension": 0,
          "Share_ren": "0.0",
          "value": 3.08549999999997,
          "variable": "CAPEX_t_bilEUR"
         },
         {
          "Extension": 0,
          "Share_ren": "0.0",
          "value": 2.52450000000001,
          "variable": "CAPEX_t_bilEUR"
         },
         {
          "Extension": 0,
          "Share_ren": "0.6",
          "value": 21.82983459414071,
          "variable": "CAPEX_t_bilEUR"
         },
         {
          "Extension": 0,
          "Share_ren": "0.6",
          "value": 21.82983459414071,
          "variable": "CAPEX_t_bilEUR"
         },
         {
          "Extension": 0,
          "Share_ren": "0.6",
          "value": 24.01281805355479,
          "variable": "CAPEX_t_bilEUR"
         },
         {
          "Extension": 0,
          "Share_ren": "0.6",
          "value": 19.64685113472664,
          "variable": "CAPEX_t_bilEUR"
         },
         {
          "Extension": 0,
          "Share_ren": "0.8",
          "value": 48.191355089606695,
          "variable": "CAPEX_t_bilEUR"
         },
         {
          "Extension": 0,
          "Share_ren": "0.8",
          "value": 48.19135508960674,
          "variable": "CAPEX_t_bilEUR"
         },
         {
          "Extension": 0,
          "Share_ren": "0.8",
          "value": 53.09518155737025,
          "variable": "CAPEX_t_bilEUR"
         },
         {
          "Extension": 0,
          "Share_ren": "0.8",
          "value": 43.37221958064601,
          "variable": "CAPEX_t_bilEUR"
         },
         {
          "Extension": 0,
          "Share_ren": "0.95",
          "value": 283.7048326094722,
          "variable": "CAPEX_t_bilEUR"
         },
         {
          "Extension": 0,
          "Share_ren": "0.95",
          "value": 283.7048326094722,
          "variable": "CAPEX_t_bilEUR"
         },
         {
          "Extension": 0,
          "Share_ren": "0.95",
          "value": 318.2028158704194,
          "variable": "CAPEX_t_bilEUR"
         },
         {
          "Extension": 0,
          "Share_ren": "0.95",
          "value": 249.20684934852608,
          "variable": "CAPEX_t_bilEUR"
         },
         {
          "Extension": 0,
          "Share_ren": "1.0",
          "value": 4341.748100000001,
          "variable": "CAPEX_t_bilEUR"
         },
         {
          "Extension": 0,
          "Share_ren": "1.0",
          "value": 4341.748100000001,
          "variable": "CAPEX_t_bilEUR"
         },
         {
          "Extension": 0,
          "Share_ren": "1.0",
          "value": 4782.050410000008,
          "variable": "CAPEX_t_bilEUR"
         },
         {
          "Extension": 0,
          "Share_ren": "1.0",
          "value": 3901.4457900000025,
          "variable": "CAPEX_t_bilEUR"
         },
         {
          "Extension": 0,
          "Share_ren": "0.0",
          "value": 2.5542558492000023,
          "variable": "OM_t_bilEUR"
         },
         {
          "Extension": 0,
          "Share_ren": "0.0",
          "value": 2.5542558492000023,
          "variable": "OM_t_bilEUR"
         },
         {
          "Extension": 0,
          "Share_ren": "0.0",
          "value": 2.8096814341199905,
          "variable": "OM_t_bilEUR"
         },
         {
          "Extension": 0,
          "Share_ren": "0.0",
          "value": 2.298830264280003,
          "variable": "OM_t_bilEUR"
         },
         {
          "Extension": 0,
          "Share_ren": "0.6",
          "value": 11.148938983957692,
          "variable": "OM_t_bilEUR"
         },
         {
          "Extension": 0,
          "Share_ren": "0.6",
          "value": 11.148938983957692,
          "variable": "OM_t_bilEUR"
         },
         {
          "Extension": 0,
          "Share_ren": "0.6",
          "value": 12.263832882353729,
          "variable": "OM_t_bilEUR"
         },
         {
          "Extension": 0,
          "Share_ren": "0.6",
          "value": 10.034045085562042,
          "variable": "OM_t_bilEUR"
         },
         {
          "Extension": 0,
          "Share_ren": "0.8",
          "value": 23.189905762012774,
          "variable": "OM_t_bilEUR"
         },
         {
          "Extension": 0,
          "Share_ren": "0.8",
          "value": 23.189905762012803,
          "variable": "OM_t_bilEUR"
         },
         {
          "Extension": 0,
          "Share_ren": "0.8",
          "value": 25.720034648515984,
          "variable": "OM_t_bilEUR"
         },
         {
          "Extension": 0,
          "Share_ren": "0.8",
          "value": 20.870915185810144,
          "variable": "OM_t_bilEUR"
         },
         {
          "Extension": 0,
          "Share_ren": "0.95",
          "value": 184.31708171709093,
          "variable": "OM_t_bilEUR"
         },
         {
          "Extension": 0,
          "Share_ren": "0.95",
          "value": 184.31708171709093,
          "variable": "OM_t_bilEUR"
         },
         {
          "Extension": 0,
          "Share_ren": "0.95",
          "value": 208.11134988878598,
          "variable": "OM_t_bilEUR"
         },
         {
          "Extension": 0,
          "Share_ren": "0.95",
          "value": 160.52281354537928,
          "variable": "OM_t_bilEUR"
         },
         {
          "Extension": 0,
          "Share_ren": "1.0",
          "value": 2972.2491007917665,
          "variable": "OM_t_bilEUR"
         },
         {
          "Extension": 0,
          "Share_ren": "1.0",
          "value": 2972.2491007917665,
          "variable": "OM_t_bilEUR"
         },
         {
          "Extension": 0,
          "Share_ren": "1.0",
          "value": 3274.836570870944,
          "variable": "OM_t_bilEUR"
         },
         {
          "Extension": 0,
          "Share_ren": "1.0",
          "value": 2669.6616307125855,
          "variable": "OM_t_bilEUR"
         }
        ]
       },
       "layer": [
        {
         "encoding": {
          "color": {
           "field": "variable",
           "type": "nominal"
          },
          "x": {
           "field": "Share_ren",
           "type": "nominal"
          },
          "y": {
           "field": "value",
           "type": "quantitative"
          }
         },
         "mark": "line",
         "transform": [
          {
           "filter": "datum.variable == 'LCOE'"
          }
         ]
        }
       ],
       "width": 300
      },
      "image/png": "[encoded data removed]",
      "image/svg+xml": [
       "<?xml version=\"1.0\" encoding=\"utf-8\"?>\n",
       "<!DOCTYPE svg PUBLIC \"-//W3C//DTD SVG 1.1//EN\" \"http://www.w3.org/Graphics/SVG/1.1/DTD/svg11.dtd\">\n",
       "<svg class=\"marks\" width=\"427\" height=\"253\" viewBox=\"0 0 427 253\" version=\"1.1\" xmlns=\"http://www.w3.org/2000/svg\" xmlns:xlink=\"http://www.w3.org/1999/xlink\"><rect width=\"427\" height=\"253\" fill=\"white\"></rect><g fill=\"none\" stroke-miterlimit=\"10\" transform=\"translate(60,5)\"><g class=\"mark-group role-frame root\" role=\"graphics-object\" aria-roledescription=\"group mark container\"><g transform=\"translate(0,0)\"><path class=\"background\" aria-hidden=\"true\" d=\"M0.5,0.5h300v200h-300Z\" stroke=\"#ddd\"></path><g><g class=\"mark-group role-axis\" aria-hidden=\"true\"><g transform=\"translate(0.5,0.5)\"><path class=\"background\" aria-hidden=\"true\" d=\"M0,0h0v0h0Z\" pointer-events=\"none\"></path><g><g class=\"mark-rule role-axis-grid\" pointer-events=\"none\"><line transform=\"translate(0,200)\" x2=\"300\" y2=\"0\" stroke=\"#ddd\" stroke-width=\"1\" opacity=\"1\"></line><line transform=\"translate(0,156)\" x2=\"300\" y2=\"0\" stroke=\"#ddd\" stroke-width=\"1\" opacity=\"1\"></line><line transform=\"translate(0,111)\" x2=\"300\" y2=\"0\" stroke=\"#ddd\" stroke-width=\"1\" opacity=\"1\"></line><line transform=\"translate(0,67)\" x2=\"300\" y2=\"0\" stroke=\"#ddd\" stroke-width=\"1\" opacity=\"1\"></line><line transform=\"translate(0,22)\" x2=\"300\" y2=\"0\" stroke=\"#ddd\" stroke-width=\"1\" opacity=\"1\"></line></g></g><path class=\"foreground\" aria-hidden=\"true\" d=\"\" pointer-events=\"none\" display=\"none\"></path></g></g><g class=\"mark-group role-axis\" role=\"graphics-symbol\" aria-roledescription=\"axis\" aria-label=\"X-axis titled 'Share_ren' for a discrete scale with 5 values: 0.0, 0.6, 0.8, 0.95, 1.0\"><g transform=\"translate(0.5,200.5)\"><path class=\"background\" aria-hidden=\"true\" d=\"M0,0h0v0h0Z\" pointer-events=\"none\"></path><g><g class=\"mark-rule role-axis-tick\" pointer-events=\"none\"><line transform=\"translate(30,0)\" x2=\"0\" y2=\"5\" stroke=\"#888\" stroke-width=\"1\" opacity=\"1\"></line><line transform=\"translate(90,0)\" x2=\"0\" y2=\"5\" stroke=\"#888\" stroke-width=\"1\" opacity=\"1\"></line><line transform=\"translate(150,0)\" x2=\"0\" y2=\"5\" stroke=\"#888\" stroke-width=\"1\" opacity=\"1\"></line><line transform=\"translate(210,0)\" x2=\"0\" y2=\"5\" stroke=\"#888\" stroke-width=\"1\" opacity=\"1\"></line><line transform=\"translate(270,0)\" x2=\"0\" y2=\"5\" stroke=\"#888\" stroke-width=\"1\" opacity=\"1\"></line></g><g class=\"mark-text role-axis-label\" pointer-events=\"none\"><text text-anchor=\"end\" transform=\"translate(30,7) rotate(270) translate(0,3)\" font-family=\"sans-serif\" font-size=\"10px\" fill=\"#000\" opacity=\"1\">0.0</text><text text-anchor=\"end\" transform=\"translate(90,7) rotate(270) translate(0,3)\" font-family=\"sans-serif\" font-size=\"10px\" fill=\"#000\" opacity=\"1\">0.6</text><text text-anchor=\"end\" transform=\"translate(150,7) rotate(270) translate(0,3)\" font-family=\"sans-serif\" font-size=\"10px\" fill=\"#000\" opacity=\"1\">0.8</text><text text-anchor=\"end\" transform=\"translate(210,7) rotate(270) translate(0,3)\" font-family=\"sans-serif\" font-size=\"10px\" fill=\"#000\" opacity=\"1\">0.95</text><text text-anchor=\"end\" transform=\"translate(270,7) rotate(270) translate(0,3)\" font-family=\"sans-serif\" font-size=\"10px\" fill=\"#000\" opacity=\"1\">1.0</text></g><g class=\"mark-rule role-axis-domain\" pointer-events=\"none\"><line transform=\"translate(0,0)\" x2=\"300\" y2=\"0\" stroke=\"#888\" stroke-width=\"1\" opacity=\"1\"></line></g><g class=\"mark-text role-axis-title\" pointer-events=\"none\"><text text-anchor=\"middle\" transform=\"translate(150,41)\" font-family=\"sans-serif\" font-size=\"11px\" font-weight=\"bold\" fill=\"#000\" opacity=\"1\">Share_ren</text></g></g><path class=\"foreground\" aria-hidden=\"true\" d=\"\" pointer-events=\"none\" display=\"none\"></path></g></g><g class=\"mark-group role-axis\" role=\"graphics-symbol\" aria-roledescription=\"axis\" aria-label=\"Y-axis titled 'value' for a linear scale with values from 0 to 90,000\"><g transform=\"translate(0.5,0.5)\"><path class=\"background\" aria-hidden=\"true\" d=\"M0,0h0v0h0Z\" pointer-events=\"none\"></path><g><g class=\"mark-rule role-axis-tick\" pointer-events=\"none\"><line transform=\"translate(0,200)\" x2=\"-5\" y2=\"0\" stroke=\"#888\" stroke-width=\"1\" opacity=\"1\"></line><line transform=\"translate(0,156)\" x2=\"-5\" y2=\"0\" stroke=\"#888\" stroke-width=\"1\" opacity=\"1\"></line><line transform=\"translate(0,111)\" x2=\"-5\" y2=\"0\" stroke=\"#888\" stroke-width=\"1\" opacity=\"1\"></line><line transform=\"translate(0,67)\" x2=\"-5\" y2=\"0\" stroke=\"#888\" stroke-width=\"1\" opacity=\"1\"></line><line transform=\"translate(0,22)\" x2=\"-5\" y2=\"0\" stroke=\"#888\" stroke-width=\"1\" opacity=\"1\"></line></g><g class=\"mark-text role-axis-label\" pointer-events=\"none\"><text text-anchor=\"end\" transform=\"translate(-7,203)\" font-family=\"sans-serif\" font-size=\"10px\" fill=\"#000\" opacity=\"1\">0</text><text text-anchor=\"end\" transform=\"translate(-7,158.55555555555557)\" font-family=\"sans-serif\" font-size=\"10px\" fill=\"#000\" opacity=\"1\">20,000</text><text text-anchor=\"end\" transform=\"translate(-7,114.11111111111111)\" font-family=\"sans-serif\" font-size=\"10px\" fill=\"#000\" opacity=\"1\">40,000</text><text text-anchor=\"end\" transform=\"translate(-7,69.66666666666667)\" font-family=\"sans-serif\" font-size=\"10px\" fill=\"#000\" opacity=\"1\">60,000</text><text text-anchor=\"end\" transform=\"translate(-7,25.222222222222232)\" font-family=\"sans-serif\" font-size=\"10px\" fill=\"#000\" opacity=\"1\">80,000</text></g><g class=\"mark-rule role-axis-domain\" pointer-events=\"none\"><line transform=\"translate(0,200)\" x2=\"0\" y2=\"-200\" stroke=\"#888\" stroke-width=\"1\" opacity=\"1\"></line></g><g class=\"mark-text role-axis-title\" pointer-events=\"none\"><text text-anchor=\"middle\" transform=\"translate(-44,100) rotate(-90) translate(0,-2)\" font-family=\"sans-serif\" font-size=\"11px\" font-weight=\"bold\" fill=\"#000\" opacity=\"1\">value</text></g></g><path class=\"foreground\" aria-hidden=\"true\" d=\"\" pointer-events=\"none\" display=\"none\"></path></g></g><g class=\"mark-group role-scope layer_0_pathgroup\" role=\"graphics-object\" aria-roledescription=\"group mark container\"><g transform=\"translate(0,0)\"><path class=\"background\" aria-hidden=\"true\" d=\"M0,0h300v200h-300Z\"></path><g><g class=\"mark-line role-mark layer_0_marks\" role=\"graphics-object\" aria-roledescription=\"line mark container\"><path aria-label=\"Share_ren: 0.0; value: 51.3604408113; variable: LCOE\" role=\"graphics-symbol\" aria-roledescription=\"line mark\" d=\"M30,199.8858656870861L30,199.88026568708608L30,199.85850948137417L30,199.90528320653974L90,199.2391779694406L90,199.2369379694406L90,199.07805014302312L90,199.38282695524688L150,198.32433941066728L150,198.32321941066726L150,197.9686888836344L150,198.64226132264048L210,190.10876807362638L210,190.10848807362638L210,187.79591625967325L210,192.18068995643114L270,48.52206075178624L270,48.52206075178624L270,16.476169800246353L270,77.49557042574058\" stroke=\"#4c78a8\" stroke-width=\"2\"></path></g></g><path class=\"foreground\" aria-hidden=\"true\" d=\"\" display=\"none\"></path></g></g><g class=\"mark-group role-legend\" role=\"graphics-symbol\" aria-roledescription=\"legend\" aria-label=\"Symbol legend titled 'variable' for stroke color with 1 value: LCOE\"><g transform=\"translate(318,0)\"><path class=\"background\" aria-hidden=\"true\" d=\"M0,0h44v27h-44Z\" pointer-events=\"none\"></path><g><g class=\"mark-group role-legend-entry\"><g transform=\"translate(0,16)\"><path class=\"background\" aria-hidden=\"true\" d=\"M0,0h0v0h0Z\" pointer-events=\"none\"></path><g><g class=\"mark-group role-scope\" role=\"graphics-object\" aria-roledescription=\"group mark container\"><g transform=\"translate(0,0)\"><path class=\"background\" aria-hidden=\"true\" d=\"M0,0h44v11h-44Z\" pointer-events=\"none\" opacity=\"1\"></path><g><g class=\"mark-symbol role-legend-symbol\" pointer-events=\"none\"><path transform=\"translate(6,6)\" d=\"M-5,0L5,0\" stroke=\"#4c78a8\" stroke-width=\"1.5\" opacity=\"1\"></path></g><g class=\"mark-text role-legend-label\" pointer-events=\"none\"><text text-anchor=\"start\" transform=\"translate(16,9)\" font-family=\"sans-serif\" font-size=\"10px\" fill=\"#000\" opacity=\"1\">LCOE</text></g></g><path class=\"foreground\" aria-hidden=\"true\" d=\"\" pointer-events=\"none\" display=\"none\"></path></g></g></g><path class=\"foreground\" aria-hidden=\"true\" d=\"\" pointer-events=\"none\" display=\"none\"></path></g></g><g class=\"mark-text role-legend-title\" pointer-events=\"none\"><text text-anchor=\"start\" transform=\"translate(0,9)\" font-family=\"sans-serif\" font-size=\"11px\" font-weight=\"bold\" fill=\"#000\" opacity=\"1\">variable</text></g></g><path class=\"foreground\" aria-hidden=\"true\" d=\"\" pointer-events=\"none\" display=\"none\"></path></g></g></g><path class=\"foreground\" aria-hidden=\"true\" d=\"\" display=\"none\"></path></g></g></g></svg>\n"
      ],
      "text/plain": [
       "@vlplot(\n",
       "    width=300,\n",
       "    layer=[\n",
       "        {\n",
       "            transform=[\n",
       "                {\n",
       "                    filter=\"datum.variable == 'LCOE'\"\n",
       "                }\n",
       "            ],\n",
       "            mark=\"line\",\n",
       "            encoding={\n",
       "                x={\n",
       "                    field=\"Share_ren\"\n",
       "                },\n",
       "                y={\n",
       "                    field=\"value\"\n",
       "                },\n",
       "                color={\n",
       "                    field=\"variable\"\n",
       "                }\n",
       "            }\n",
       "        }\n",
       "    ],\n",
       "    data={\n",
       "        values=...\n",
       "    }\n",
       ")"
      ]
     },
     "metadata": {},
     "output_type": "display_data"
    }
   ],
   "source": [
    "Totals_ren |>\n",
    "     stack |>         #Stacking data\n",
    "     @vlplot(width=300)+\n",
    "     @vlplot(transform=[{filter=\"datum.variable == 'LCOE'\"}],\n",
    "            mark=:line, \n",
    "            x=:Share_ren, \n",
    "            y=:value,\n",
    "            color=:variable) |> display"
   ]
  },
  {
   "cell_type": "markdown",
   "metadata": {},
   "source": [
    "# Extension 1 (Storage technologies)\n",
    "\n",
    "\n",
    "Storage technologies\n",
    "The extension will include options for investing into strage technologies such as Li-ion batteries or convesion of electical energy into fuels such as H2 or Biomethanol. Furter on fossil fuels will be removed to estimate amount of storage required to achieve fully renewable electricity production by 2050. "
   ]
  },
  {
   "cell_type": "markdown",
   "metadata": {},
   "source": [
    "### Further model improvements"
   ]
  },
  {
   "cell_type": "markdown",
   "metadata": {},
   "source": [
    "Ideas for further model improvements:\n",
    "+ Green transition requirements (100% of electric energy from Renewables)\n",
    "+ Backup generation requirements\n",
    "+ Including price of fuel and CO2 tax\n",
    "+ Energy import and export\n",
    "+ Subsidy for renewables\n",
    "+ Storage \n",
    "+ Sell/buy \n",
    "+ Electric cars\n",
    "+ Heat"
   ]
  },
  {
   "cell_type": "markdown",
   "metadata": {},
   "source": [
    "# Name of extension"
   ]
  },
  {
   "cell_type": "markdown",
   "metadata": {},
   "source": [
    "## Formualtion\n",
    "waht, why we do this\n",
    "what are articles/resources that support the idea"
   ]
  },
  {
   "cell_type": "markdown",
   "metadata": {},
   "source": [
    "## Mathematical model\n",
    "constraint"
   ]
  },
  {
   "cell_type": "markdown",
   "metadata": {},
   "source": [
    "## Implementation\n",
    "coding\n",
    "constraints, varaibles, data (parameters)"
   ]
  },
  {
   "cell_type": "markdown",
   "metadata": {},
   "source": [
    "## Sensitivity analysis"
   ]
  },
  {
   "cell_type": "markdown",
   "metadata": {},
   "source": [
    "###  Sub-conclusion\n"
   ]
  }
 ],
 "metadata": {
  "kernelspec": {
   "display_name": "Julia 1.4.0",
   "language": "julia",
   "name": "julia-1.4"
  },
  "language_info": {
   "file_extension": ".jl",
   "mimetype": "application/julia",
   "name": "julia",
   "version": "1.4.0"
  }
 },
 "nbformat": 4,
 "nbformat_minor": 2
}

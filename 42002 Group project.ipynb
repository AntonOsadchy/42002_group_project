{
 "cells": [
  {
   "cell_type": "markdown",
   "metadata": {},
   "source": [
    "# Group project (Master)"
   ]
  },
  {
   "cell_type": "markdown",
   "metadata": {},
   "source": [
    "Analysis of competitiveness of different energy production technologies in Danish Electricity Market"
   ]
  },
  {
   "cell_type": "markdown",
   "metadata": {},
   "source": [
    "## Modeling of current energy system"
   ]
  },
  {
   "cell_type": "markdown",
   "metadata": {},
   "source": [
    "### Data gathering and analysis"
   ]
  },
  {
   "cell_type": "markdown",
   "metadata": {},
   "source": [
    "Latest energy statistics reports available is for 2018. Thereforte, all data used is dated to year 2018."
   ]
  },
  {
   "cell_type": "markdown",
   "metadata": {},
   "source": [
    "Hourly consumption, production, as well as wind energy production data available from https://www.nordpoolgroup.com/historical-market-data/"
   ]
  },
  {
   "cell_type": "code",
   "execution_count": 5,
   "metadata": {},
   "outputs": [
    {
     "data": {
      "text/plain": [
       "300"
      ]
     },
     "execution_count": 5,
     "metadata": {},
     "output_type": "execute_result"
    }
   ],
   "source": [
    "using CSV, VegaLite, DataFrames, Statistics\n",
    "\n",
    "consum = CSV.read(\"consumption-dk-areas_2018_hourlys.csv\", DataFrame)\n",
    "produc = CSV.read(\"production-dk-areas_2018_hourly.csv\", DataFrame)\n",
    "wind   = CSV.read(\"wind-power-dk_2018_hourlys.csv\", DataFrame)\n",
    "exp    = CSV.read(\"exchange-per-country_2018_hourly.csv\", DataFrame)\n",
    "solar  = CSV.read(\"solarpv2018.csv\", DataFrame)\n",
    "\n",
    "\n",
    "n = 300\n",
    "\n",
    "#production with wind substracted\n",
    "#dif = produc[1:n,\"DK\"]-wind[1:n,\"DK\"]\n",
    "\n",
    "#data = vcat(DataFrame(time_hr=collect(1:n),power_MWh = consum[1:n,\"DK\"]*1000, tp = \"Consumption\",source = 2),           \n",
    "#            DataFrame(time_hr=collect(1:n),power_MWh = dif*1000, tp =\"Production\",source = 1),\n",
    "#            DataFrame(time_hr=collect(1:n),power_MWh = wind[1:n,\"DK\"]*1000, tp = \"Wind\",source = 1),\n",
    "#            DataFrame(time_hr=collect(1:n),power_MWh = exp[1:n,\"DK\"]*1000, tp = \"Import\",source = 1))\n",
    "\n",
    "#Plotting data\n",
    "#data |>\n",
    "#@vlplot(width=850, hieght=700)+\n",
    "#@vlplot(mark=:area, x=:time_hr, y={:power_MWh,stack=:zero},color=:tp,transform=[{filter=\"datum.source==1\"}]) +\n",
    "#@vlplot(mark=:line, x=:time_hr, y=:power_MWh, transform=[{filter=\"datum.source==2\"}],\n",
    "#    color={:tp,\n",
    "#    scale={range = [\"red\",\"#a1d99b\",\"#fd8d3c\",\"#3182bd\"]}})"
   ]
  },
  {
   "cell_type": "markdown",
   "metadata": {},
   "source": [
    "+ Total energy demand is covered by the combination of local energy production and import of energy from neighbouring countries\n",
    "+ Big part of electric energy is covered by the wind power production\n",
    "+ The difference is covered by the combination of renewable and non-renewable sources\n",
    "\n",
    "Share of production technologies in energy mix can be found in Energy Statistics Report for 2018 by Danish Energy Agency (https://ens.dk/en/our-services/statistics-data-key-figures-and-energy-maps/annual-and-monthly-statistics) \n",
    "\n",
    "For the simulation all units could be represented in a model, but only most feasable units are dispatched to cover difference between wind and consumption."
   ]
  },
  {
   "cell_type": "markdown",
   "metadata": {},
   "source": [
    "### Modeling\n",
    "Energy system could be modeled based on the data from above. In this case the system would consist of already deployed units and investment opportunities what will further optimize the system (Minimize costs). Wind production will be substracted from consumption for each of the time steps and optimization for mix of technologies covering the difference will be made.\n",
    "\n",
    "Additional information required:\n",
    "+ Operational prices for existing power plants based on type of plant/fuel\n",
    "+ Investment prices (price per KW) for further investments \n"
   ]
  },
  {
   "cell_type": "code",
   "execution_count": 6,
   "metadata": {},
   "outputs": [
    {
     "data": {
      "text/html": [
       "<table class=\"data-frame\"><thead><tr><th></th><th>Name</th><th>Capex_avg</th><th>Lifetime</th><th>Opex_of_capex</th><th>Opex_fix</th><th>Opex_var</th><th>Fuel_price</th></tr><tr><th></th><th>String</th><th>Int64</th><th>Int64</th><th>Float64</th><th>Int64</th><th>Float64</th><th>Float64</th></tr></thead><tbody><p>8 rows × 8 columns (omitted printing of 1 columns)</p><tr><th>1</th><td>Solar PV</td><td>700000</td><td>25</td><td>0.025</td><td>0</td><td>0.0</td><td>0.0</td></tr><tr><th>2</th><td>Wind Onshore</td><td>1750000</td><td>25</td><td>0.0</td><td>30000</td><td>5.0</td><td>0.0</td></tr><tr><th>3</th><td>Wind Offshore</td><td>3900000</td><td>25</td><td>0.0</td><td>100000</td><td>5.0</td><td>0.0</td></tr><tr><th>4</th><td>Biogas</td><td>3000000</td><td>30</td><td>0.04</td><td>0</td><td>0.0</td><td>30.3</td></tr><tr><th>5</th><td>Brown coal</td><td>1900000</td><td>40</td><td>0.0</td><td>36000</td><td>5.0</td><td>1.8</td></tr><tr><th>6</th><td>Hard coal</td><td>1650000</td><td>40</td><td>0.0</td><td>32000</td><td>5.0</td><td>9.6</td></tr><tr><th>7</th><td>CCGT</td><td>950000</td><td>30</td><td>0.0</td><td>22000</td><td>4.0</td><td>21.0</td></tr><tr><th>8</th><td>GT</td><td>500000</td><td>30</td><td>0.0</td><td>20000</td><td>3.0</td><td>21.0</td></tr></tbody></table>"
      ],
      "text/latex": [
       "\\begin{tabular}{r|cccccccc}\n",
       "\t& Name & Capex\\_avg & Lifetime & Opex\\_of\\_capex & Opex\\_fix & Opex\\_var & Fuel\\_price & \\\\\n",
       "\t\\hline\n",
       "\t& String & Int64 & Int64 & Float64 & Int64 & Float64 & Float64 & \\\\\n",
       "\t\\hline\n",
       "\t1 & Solar PV & 700000 & 25 & 0.025 & 0 & 0.0 & 0.0 & $\\dots$ \\\\\n",
       "\t2 & Wind Onshore & 1750000 & 25 & 0.0 & 30000 & 5.0 & 0.0 & $\\dots$ \\\\\n",
       "\t3 & Wind Offshore & 3900000 & 25 & 0.0 & 100000 & 5.0 & 0.0 & $\\dots$ \\\\\n",
       "\t4 & Biogas & 3000000 & 30 & 0.04 & 0 & 0.0 & 30.3 & $\\dots$ \\\\\n",
       "\t5 & Brown coal & 1900000 & 40 & 0.0 & 36000 & 5.0 & 1.8 & $\\dots$ \\\\\n",
       "\t6 & Hard coal & 1650000 & 40 & 0.0 & 32000 & 5.0 & 9.6 & $\\dots$ \\\\\n",
       "\t7 & CCGT & 950000 & 30 & 0.0 & 22000 & 4.0 & 21.0 & $\\dots$ \\\\\n",
       "\t8 & GT & 500000 & 30 & 0.0 & 20000 & 3.0 & 21.0 & $\\dots$ \\\\\n",
       "\\end{tabular}\n"
      ],
      "text/plain": [
       "\u001b[1m8×8 DataFrame\u001b[0m\n",
       "\u001b[1m Row \u001b[0m│\u001b[1m Name          \u001b[0m\u001b[1m Capex_avg \u001b[0m\u001b[1m Lifetime \u001b[0m\u001b[1m Opex_of_capex \u001b[0m\u001b[1m Opex_fix \u001b[0m\u001b[1m Opex_var \u001b[0m\u001b[1m \u001b[0m ⋯\n",
       "\u001b[1m     \u001b[0m│\u001b[90m String        \u001b[0m\u001b[90m Int64     \u001b[0m\u001b[90m Int64    \u001b[0m\u001b[90m Float64       \u001b[0m\u001b[90m Int64    \u001b[0m\u001b[90m Float64  \u001b[0m\u001b[90m \u001b[0m ⋯\n",
       "─────┼──────────────────────────────────────────────────────────────────────────\n",
       "   1 │ Solar PV          700000        25          0.025         0       0.0   ⋯\n",
       "   2 │ Wind Onshore     1750000        25          0.0       30000       5.0\n",
       "   3 │ Wind Offshore    3900000        25          0.0      100000       5.0\n",
       "   4 │ Biogas           3000000        30          0.04          0       0.0\n",
       "   5 │ Brown coal       1900000        40          0.0       36000       5.0   ⋯\n",
       "   6 │ Hard coal        1650000        40          0.0       32000       5.0\n",
       "   7 │ CCGT              950000        30          0.0       22000       4.0\n",
       "   8 │ GT                500000        30          0.0       20000       3.0\n",
       "\u001b[31m                                                               2 columns omitted\u001b[0m"
      ]
     },
     "execution_count": 6,
     "metadata": {},
     "output_type": "execute_result"
    }
   ],
   "source": [
    "p = 1000    #to convert to EU per MWh\n",
    "inp = DataFrame(Name            = [\"Solar PV\",\"Wind Onshore\",\"Wind Offshore\",\"Biogas\",\"Brown coal\",\"Hard coal\",\"CCGT\",\"GT\"],\n",
    "                Capex_avg       = [700,1750,3900,3000,1900,1650,950,500]*p,    #investment cost EUR/kW (nominal capacity)\n",
    "                Lifetime        = [25,25,25,30,40,40,30,30],                   #Years\n",
    "                Opex_of_capex   = [0.025,0,0,0.04,0,0,0,0],                    #EUR/kw % of CAPEX\n",
    "                Opex_fix        = [0,30,100,0,36,32,22,20]*p,                  #EUR/Kw\n",
    "                Opex_var        = [0,0.005,0.005,0,0.005,0.005,0.004,0.003]*p, #EUR/kwh\n",
    "                Fuel_price      = [0,0,0,30.3,1.8,9.6,21,21],                  #EUR/MWh heat\n",
    "                Fuel_eff        = [1,1,1,0.4,0.45,0.46,0.6,0.6])               #el. eng. % of heat en"
   ]
  },
  {
   "cell_type": "markdown",
   "metadata": {},
   "source": [
    "### Estiamtion of the capacity factor"
   ]
  },
  {
   "cell_type": "code",
   "execution_count": 7,
   "metadata": {},
   "outputs": [
    {
     "name": "stdout",
     "output_type": "stream",
     "text": [
      "\n"
     ]
    }
   ],
   "source": [
    "T = size(consum)[1]\n",
    "#capacity factor\n",
    "c = []\n",
    "append!(c, wind[i,\"DK\"]/maximum(wind[1:T,\"DK\"]) for i=1:T)    #capacity factor\n",
    "println(\"\")"
   ]
  },
  {
   "cell_type": "markdown",
   "metadata": {},
   "source": [
    "### Mathematical  formualtion\n",
    "\n",
    "**Variables:** \n",
    "<br> $p_{it}$ production of technology i in time unit t\n",
    "<br> $p_i^{max}$ max power production of unit i\n",
    "\n",
    "**Parameters:**\n",
    "<br> $a$ - operations varaible cost [EUR/KWh]\n",
    "<br> $f$ - fuel price [EUR/KWh]\n",
    "<br> $e$ - fuel efficiency []\n",
    "<br> $b$ - CAPEX [EUR/KWh]\n",
    "<br> $l$ - expected system lifetime [yr.]\n",
    "<br> $o$ - fixed operational expenses [EUR/kw % of CAPEX]\n",
    "<br> $k$ - fixed operational expenses [EUR/kw]\n",
    "<br> $d$ - demand for power [Mw]\n",
    "<br> $c$ - capacity factor "
   ]
  },
  {
   "cell_type": "markdown",
   "metadata": {},
   "source": [
    "**Objective:** \n",
    "<br>to minimize cost of electricity\n",
    "\n",
    "$$Z = \\dfrac{\\sum_{t=1}^{T}\\sum_{i=1}^{n}p_{it} \\left( a_i+ f_ie_i\\right) + \n",
    "\\sum_{i=1}^{n} \\dfrac{p^{max}_{i}}{l_{i}}\\left(b_i(1+o_i)+k_{i} \\right)}{\\sum_{t=1}^{T}d_t} \\tag{1}$$\n",
    "\n",
    "$$p_{it}\\leq p^{max}_i \\tag{2} $$\n",
    "\n",
    "$$p_{wt} = p^{max}_w c_{wt} \\tag{3} $$\n",
    "\n",
    "$$\\sum_{t=1}^{T}\\sum_{i=1}^{I} p_{it} \\geq d_t \\tag{4} $$\n",
    "\n",
    "$$p_{it},p_{i}^{max} \\geq 0 $$"
   ]
  },
  {
   "cell_type": "markdown",
   "metadata": {},
   "source": [
    "### Renewable deployment strategy\n",
    "\n",
    "Most of the active wind turbines in Denmark were onshore, around 5.7 thousand compared to 558 offshore."
   ]
  },
  {
   "cell_type": "code",
   "execution_count": 8,
   "metadata": {},
   "outputs": [
    {
     "data": {
      "text/plain": [
       "28500"
      ]
     },
     "execution_count": 8,
     "metadata": {},
     "output_type": "execute_result"
    }
   ],
   "source": [
    "max_wind = 5700 * 5     #max number of onshore turbines"
   ]
  },
  {
   "cell_type": "markdown",
   "metadata": {},
   "source": [
    "## Mathematical model"
   ]
  },
  {
   "cell_type": "code",
   "execution_count": 63,
   "metadata": {},
   "outputs": [
    {
     "data": {
      "text/plain": [
       "optimize (generic function with 1 method)"
      ]
     },
     "execution_count": 63,
     "metadata": {},
     "output_type": "execute_result"
    }
   ],
   "source": [
    "using CSV, JuMP, GLPK, CPLEX\n",
    "\n",
    "#Declaration of data frames\n",
    "\n",
    "function optimize(x,y)\n",
    "\n",
    "n = size(inp)[2]\n",
    "T = y\n",
    "M = 10*maximum(consum[1:T,\"DK\"])\n",
    "\n",
    "m = Model(GLPK.Optimizer)\n",
    "\n",
    "@variable(m,p[i=1:n,t=1:T] >= 0)        #power per technology\n",
    "@variable(m,pmax[i=1:n] >= 0)           #power per technology\n",
    "#@variable(m,u[i=1:n], Bin)         #controling number of technologies\n",
    "\n",
    "@objective(m, Min, (sum(p[i,t]*                      (inp[i,\"Opex_var\"] + inp[i,\"Fuel_price\"]*inp[i,\"Fuel_eff\"])            for i=1:n for t=1:T) +\n",
    "                    sum((pmax[i]/inp[i,\"Lifetime\"])* (inp[i,\"Capex_avg\"]*(1+inp[i,\"Opex_of_capex\"])+inp[i,\"Opex_fix\"])      for i=1:n))/\n",
    "                    sum(consum[t,\"DK\"]                                                                                  for t=1:T)  )\n",
    "\n",
    "@constraint(m, Solar[t=1:T],                 p[1,t] <= pmax[1]*solar[t,\"DK\"])                  #Solar\n",
    "@constraint(m, OnShoreWind[t=1:T],           p[2,t] == pmax[2]*c[t])             #Onshore wind\n",
    "@constraint(m, OffShoreWind[t=1:T],          p[3,t] == pmax[3]*c[t])             #Offshore wind\n",
    "@constraint(m, NotIntermittent[i=4:n,t=1:T], p[i,t] <= pmax[i])                  #not intermittent\n",
    "\n",
    "#Demand constraint\n",
    "@constraint(m, Demand[t=1:T], sum(p[i,t] for i=1:n) >= consum[t,\"DK\"] ) #Demand\n",
    "                        \n",
    "#Limting max amount of Onshore wind\n",
    "@constraint(m, MaxWind, pmax[2] <= max_wind)                                         #Onshore wind  \n",
    "@constraint(m,Max[i=1:8],pmax[i]<=sum(consum[t,\"DK\"] for t=1:T))\n",
    "\n",
    "#Limiting production for non-renewables\n",
    "@constraint(m, ren_share,sum(p[i,t] for i=4:n for t=1:T) <= (1-x)*sum(consum[1:T,\"DK\"]))\n",
    "                \n",
    "\n",
    "#limiting number of technologies\n",
    "#@constraint(m,[i=1:n], p[i] <=M*u[i])\n",
    "#@constraint(m, sum(u[i] for i=1:n) <= 3)           #number of technologies allowed\n",
    "                    \n",
    "optimize!(m)\n",
    "println(\"run for share: \",x)\n",
    "Primal_Status= (JuMP.primal_status(m)==JuMP.MathOptInterface.FEASIBLE_POINT || JuMP.primal_status(m)==JuMP.MathOptInterface.OPTIMAL)\n",
    "Dual_Status= (JuMP.dual_status(m)==JuMP.MathOptInterface.FEASIBLE_POINT || JuMP.dual_status(m)==JuMP.MathOptInterface.OPTIMAL)\n",
    "\n",
    "if Primal_Status\n",
    "  println(\"primal_status: \",JuMP.primal_status(m))\n",
    "    #End of model. Data expoerting ->\n",
    "\n",
    "    T_series = DataFrame(Time_hr       = collect(1:T), \n",
    "                         Solar_PV      = JuMP.value.(p[1,1:T]),\n",
    "                         Wind_onshore  = JuMP.value.(p[2,1:T]),\n",
    "                         Wind_offshore = JuMP.value.(p[3,1:T]),                       \n",
    "                         Biogas        = JuMP.value.(p[4,1:T]),\n",
    "                         Coal_brown    = JuMP.value.(p[5,1:T]),\n",
    "                         Coal_hard     = JuMP.value.(p[6,1:T]),\n",
    "                         CCGT          = JuMP.value.(p[7,1:T]),\n",
    "                         GT            = JuMP.value.(p[8,1:T]),\n",
    "                         Consumption   = consum[1:T,\"DK\"])                                        \n",
    "\n",
    "    Totals   = DataFrame(Share_ren       = string(x),\n",
    "                         LCOE            = JuMP.objective_value(m), \n",
    "                         Production_MWh  = sum( JuMP.value.(p[i,t]) for i=1:n for t=1:T),\n",
    "                         Demand_MWh      = sum(consum[1:T,\"DK\"]),\n",
    "                         Curtailment_MWh = sum( JuMP.value.(p[i,t]) for i=1:n for t=1:T)/sum(consum[1:T,\"DK\"]),\n",
    "                         CAPEX_t_bilEUR  = sum(JuMP.value.(pmax[i])*inp[i,\"Capex_avg\"] for i=1:n)*1e-9,\n",
    "                         OM_t_bilEUR     = sum(JuMP.value.(p[i,t])*(inp[i,\"Opex_var\"]+\n",
    "                                              inp[i,\"Fuel_price\"]*inp[i,\"Fuel_eff\"])+\n",
    "    sum((JuMP.value.(pmax[i])/inp[i,\"Lifetime\"])*(inp[i,\"Capex_avg\"]*inp[i,\"Opex_of_capex\"]+inp[i,\"Opex_fix\"])) \n",
    "                                            for i=1:n for t=1:T)*1e-9,\n",
    "                         Extension       = 0\n",
    "                          )                                                                   \n",
    "\n",
    "    Per_tech = DataFrame(\n",
    "                         Technology     = String[],\n",
    "                         Capacity_GWh   = Float64[],\n",
    "                         Utilization    = Float64[],\n",
    "                         CAPEX_bilEUR   = Float64[], \n",
    "                         OM_bilEUR      = Float64[],\n",
    "                         Share_ren      = String[],\n",
    "                         Extension      = Int64[])                                                                    \n",
    "\n",
    "    for i = 1:n\n",
    "        append!(Per_tech, DataFrame(\n",
    "                                    Technology     = inp[i,\"Name\"],\n",
    "                                    Capacity_GWh   = JuMP.value.(pmax[i]*1e-3), \n",
    "                                    Utilization    = mean(JuMP.value.(p[i,1:T]))/JuMP.value.(pmax[i]),\n",
    "                                    CAPEX_bilEUR   = (JuMP.value.(pmax[i])*inp[i,\"Capex_avg\"])*1e-9, \n",
    "                                    OM_bilEUR      = sum(JuMP.value.(p[i,t])*(inp[i,\"Opex_var\"]+\n",
    "                                                         inp[i,\"Fuel_price\"]*inp[i,\"Fuel_eff\"])+\n",
    "                                                         sum((JuMP.value.(pmax[i])/inp[i,\"Lifetime\"])*(inp[i,\"Capex_avg\"]*inp[i,\"Opex_of_capex\"]+inp[i,\"Opex_fix\"])) for t=1:T)*1e-9,\n",
    "                                    Share_ren      = string(x),\n",
    "                                    Extension      = 0\n",
    "                                    )\n",
    "               )\n",
    "    end\n",
    "\n",
    "   if Dual_Status\n",
    "    println(\"dual_status: \", JuMP.dual_status(m))\n",
    "    println(\"perturbation: \",JuMP.lp_objective_perturbation_range(pmax[1]))\n",
    "     #Shadow prices\n",
    "\n",
    "    Shadow_prices = DataFrame(\n",
    "                    ShadowSolar      = Float64[],\n",
    "                    ShadowOnShore    = Float64[],\n",
    "                    ShadowOffShore   = Float64[],\n",
    "                    ShadowBiogas     = Float64[], \n",
    "                    ShadowCoal_brown = Float64[],\n",
    "                    ShadowCoal_hard  = Float64[],\n",
    "                    ShadowCCGT       = Float64[],\n",
    "                    ShadowGT         = Float64[],\n",
    "                    ShadowDemand     = Float64[],\n",
    "                                      )  \n",
    "            \n",
    "    Shadow_prices_per_tech= DataFrame(\n",
    "                    ShadowSolar      = JuMP.dual(Max[1]),\n",
    "                    ShadowOnShore    = JuMP.dual(MaxWind),\n",
    "                    ShadowOffShore   = JuMP.dual(Max[3]),\n",
    "                    ShadowBiogas     = JuMP.dual(Max[4]), \n",
    "                    ShadowCoal_brown = JuMP.dual(Max[5]),\n",
    "                    ShadowCoal_hard  = JuMP.dual(Max[6]),\n",
    "                    ShadowCCGT       = JuMP.dual(Max[7]),\n",
    "                    ShadowGT         = JuMP.dual(Max[8]),\n",
    "                                      )  \n",
    "\n",
    "    for t = 1:T\n",
    "\n",
    "            append!(Shadow_prices, DataFrame(\n",
    "                         ShadowSolar      = JuMP.dual(Solar[t]),\n",
    "                         ShadowOnShore    = JuMP.dual(OnShoreWind[t]),\n",
    "                         ShadowOffShore   = JuMP.dual(OffShoreWind[t]),\n",
    "                         ShadowBiogas     = JuMP.dual(NotIntermittent[4,t]), \n",
    "                         ShadowCoal_brown = JuMP.dual(NotIntermittent[5,t]),\n",
    "                         ShadowCoal_hard  = JuMP.dual(NotIntermittent[6,t]),\n",
    "                         ShadowCCGT       = JuMP.dual(NotIntermittent[7,t]),\n",
    "                         ShadowGT         = JuMP.dual(NotIntermittent[8,t]),\n",
    "                         ShadowDemand     = JuMP.dual(Demand[t])\n",
    "                                                     )\n",
    "                   )\n",
    "     end        \n",
    "  \n",
    "    end\n",
    "    return Totals,Per_tech,T_series,Shadow_prices,Shadow_prices_per_tech\n",
    "    end\n",
    "end                                                                                                                           "
   ]
  },
  {
   "cell_type": "markdown",
   "metadata": {},
   "source": [
    "### Visualization"
   ]
  },
  {
   "cell_type": "code",
   "execution_count": 50,
   "metadata": {},
   "outputs": [
    {
     "data": {
      "text/plain": [
       "plotTechnology (generic function with 1 method)"
      ]
     },
     "execution_count": 50,
     "metadata": {},
     "output_type": "execute_result"
    }
   ],
   "source": [
    "#Displaying results\n",
    "\n",
    "colors = [\"#ff7f0e\",\"#74c476\",\"#1f77b4\",\"#6baed6\"]\n",
    "#Time series\n",
    "function plotSeries(x,y,z)\n",
    "    \n",
    "    d = z  \n",
    "    x[1:d,:] |>\n",
    "    stack |>         #Stacking data\n",
    "    @vlplot(width=850, hieght=700)+\n",
    "    @vlplot(transform=[{filter=\"datum.variable != 'Consumption'\"}],\n",
    "            transform=[{filter=\"datum.value     > 10\"}],\n",
    "            mark=:area, \n",
    "            x=:Time_hr, \n",
    "            y={:value,stack=:zero},\n",
    "            color={:variable,\n",
    "            scale={range = colors},\n",
    "            #scale={scheme=\"tableau10\"},\n",
    "            legend={title=\"Technologies\"}})+ \n",
    "    @vlplot(#transform=[{filter=\"datum.variable == 'Consumption'\"}],\n",
    "            mark=:line, \n",
    "            x=:Time_hr, \n",
    "            y=:Consumption) |> save(\"Results/$y/$y _Series.png\")\n",
    "end\n",
    "\n",
    "\n",
    "#Bars chart\n",
    "function plotTechnology(x)\n",
    "    x |>\n",
    "    @vlplot(transform=[{filter=\"datum.Capacity_GWh >0\"}],\n",
    "        height=500,\n",
    "        width =300,\n",
    "        mark={\n",
    "            :bar,\n",
    "            cornerRadiusTopLeft = 15,\n",
    "            cornerRadiusTopRight= 15\n",
    "        },\n",
    "        x=:Share_ren,\n",
    "        y=:Capacity_GWh,\n",
    "        color={:Technology,\n",
    "        scale={range = colors},\n",
    "        }\n",
    "    ) |> save(\"Results/BarChart.png\")\n",
    "\n",
    "    #Donat plots\n",
    "    for i= 1:size(ren_s)[1]   \n",
    "        df = filter(row -> row[:Share_ren ] == string(ren_s[i]), x)   \n",
    "\n",
    "    n = ren_s[i]\n",
    "        df |>\n",
    "        stack |>\n",
    "        @vlplot(transform=[{filter=\"datum.variable == 'Capacity_GWh'\"},\n",
    "                   {filter=\"datum.value != 0\"}],\n",
    "        theta={:value, stack=true},\n",
    "        color={\"Technology\",\n",
    "        scale={range = colors},    \n",
    "            },\n",
    "        view={stroke=nothing}) +\n",
    "        @vlplot(mark={:arc, innerRadius = 50, outerRadius=90}) +\n",
    "        @vlplot(mark={:text, radius=105}, text=\"value:n\",title= \"Capacity_GWh\") |> save(\"Results/$n/$n _Capacity_GWh.png\")# \n",
    "\n",
    "        df |>\n",
    "        stack |>\n",
    "        @vlplot(transform=[{filter=\"datum.variable == 'Utilization'\"},\n",
    "                   {filter=\"datum.value != 0\"}],\n",
    "        theta={:value, stack=true},\n",
    "        color={\"Technology\",\n",
    "            scale={range = colors},\n",
    "            },\n",
    "        view={stroke=nothing}) +\n",
    "        @vlplot(mark={:arc, innerRadius = 50, outerRadius=90}) +\n",
    "        @vlplot(mark={:text, radius=105}, text=\"value:n\",title= \"Utilization\") |> save(\"Results/$n/$n _Utilization.png\")\n",
    "\n",
    "        df |>\n",
    "        stack |>\n",
    "        @vlplot(transform=[{filter=\"datum.variable == 'CAPEX_bilEUR'\"},\n",
    "                   {filter=\"datum.value != 0\"}],\n",
    "        theta={:value, stack=true},\n",
    "        color={\"Technology\",\n",
    "            scale={range = colors},\n",
    "            },\n",
    "        view={stroke=nothing}) +\n",
    "        @vlplot(mark={:arc, innerRadius = 50, outerRadius=90}) +\n",
    "        @vlplot(mark={:text, radius=105}, text=\"value:n\",title= \"CAPEX_bilEUR\") |> save(\"Results/$n/$n _CAPEX_bilEUR.png\")\n",
    "    \n",
    "        df |>\n",
    "        stack |>\n",
    "        @vlplot(transform=[{filter=\"datum.variable == 'OM_bilEUR'\"},\n",
    "                   {filter=\"datum.value != 0\"}],\n",
    "        theta={:value, stack=true},\n",
    "        color={\"Technology\",\n",
    "            scale={range = colors},\n",
    "            },\n",
    "        view={stroke=nothing}) +\n",
    "        @vlplot(mark={:arc, innerRadius = 50, outerRadius=90}) +\n",
    "        @vlplot(mark={:text, radius=105}, text=\"value:n\",title= \"OM_bilEUR\") |> save(\"Results/$n/$n _OM_bilEUR.png\")\n",
    "    \n",
    "    end\n",
    "end\n"
   ]
  },
  {
   "cell_type": "markdown",
   "metadata": {},
   "source": [
    "## Main"
   ]
  },
  {
   "cell_type": "code",
   "execution_count": 64,
   "metadata": {},
   "outputs": [
    {
     "name": "stdout",
     "output_type": "stream",
     "text": [
      "run for share: 0.0\n",
      "primal_status: FEASIBLE_POINT\n",
      "dual_status: FEASIBLE_POINT\n",
      "perturbation: (-0.008592698466564488, Inf)\n",
      "run for share: 0.6\n",
      "primal_status: FEASIBLE_POINT\n",
      "dual_status: FEASIBLE_POINT\n",
      "perturbation: (-0.004992157537319493, Inf)\n",
      "run for share: 0.8\n",
      "primal_status: FEASIBLE_POINT\n",
      "dual_status: FEASIBLE_POINT\n",
      "perturbation: (-0.0006968572648347888, Inf)\n",
      "run for share: 0.95\n",
      "primal_status: FEASIBLE_POINT\n",
      "dual_status: FEASIBLE_POINT\n",
      "perturbation: (-0.002796812924871484, 0.0003659788602917296)\n",
      "run for share: 1.0\n",
      "primal_status: FEASIBLE_POINT\n",
      "dual_status: FEASIBLE_POINT\n",
      "perturbation: (-0.0031951597227140543, 0.006184802855601536)\n"
     ]
    },
    {
     "data": {
      "text/plain": [
       "\"Results/Per_tech_ren.csv\""
      ]
     },
     "execution_count": 64,
     "metadata": {},
     "output_type": "execute_result"
    }
   ],
   "source": [
    "#share of renewables\n",
    "ren_s = [0,0.6,0.8,0.95,1]\n",
    "\n",
    "T = size(consum)[1] #simulation size\n",
    "d = 500 #plots diplay size\n",
    "\n",
    "Per_tech_ren = DataFrame(\n",
    "                         Technology      = String[],\n",
    "                         Capacity_GWh    = Float64[],\n",
    "                         Utilization     = Float64[],\n",
    "                         CAPEX_bilEUR    = Float64[], \n",
    "                         OM_bilEUR       = Float64[],\n",
    "                         Share_ren       = String[],\n",
    "                         Extension       = Int64[]\n",
    "                         )\n",
    "\n",
    "Totals_ren   = DataFrame(Share_ren       = String[],\n",
    "                         LCOE            = Float64[], \n",
    "                         Production_MWh  = Float64[], \n",
    "                         Demand_MWh      = Float64[], \n",
    "                         Curtailment_MWh = Float64[],\n",
    "                         CAPEX_t_bilEUR  = Float64[], \n",
    "                         OM_t_bilEUR     = Float64[],\n",
    "                         Extension       = Int64[]\n",
    "                         )\n",
    "\n",
    "T_series       = DataFrame(Time_hr       = Int64[], \n",
    "                           Solar_PV      = Float64[],\n",
    "                           Wind_onshore  = Float64[],\n",
    "                           Wind_offshore = Float64[],                       \n",
    "                           Biogas        = Float64[],\n",
    "                           Coal_brown    = Float64[],\n",
    "                           Coal_hard     = Float64[],\n",
    "                           CCGT          = Float64[],\n",
    "                           GT            = Float64[],\n",
    "                           Consumption   = Int64[]\n",
    "                         )   \n",
    "#=\n",
    "Shadow_prices = DataFrame(\n",
    "                ShadowSolar      = Float64[],\n",
    "                ShadowOnShore    = Float64[],\n",
    "                ShadowOffShore   = Float64[],\n",
    "                ShadowBiogas     = Float64[], \n",
    "                ShadowCoal_brown = Float64[],\n",
    "                ShadowCoal_hard  = Float64[],\n",
    "                ShadowCCGT       = Float64[],\n",
    "                ShadowGT         = Float64[],\n",
    "                ShadowDemand     = Float64[],\n",
    "                ShadowMaxWind    = Float64[]\n",
    "    \n",
    "                                  )  \n",
    "=#\n",
    "#Data gathering\n",
    "for share in ren_s\n",
    "    opt = optimize(share,T)\n",
    "    append!(Totals_ren,opt[1])\n",
    "    append!(Per_tech_ren, opt[2])\n",
    "    append!(T_series, opt[3])\n",
    "   # append!(Shadow_prices,opt[4])\n",
    "end\n",
    "\n",
    "CSV.write(\"Results/Totals.csv\", Totals_ren)\n",
    "CSV.write(\"Results/Per_tech_ren.csv\", Per_tech_ren)\n",
    "#CSV.write(\"Results/Shadow_prices.csv\", Shadow_prices)"
   ]
  },
  {
   "cell_type": "code",
   "execution_count": 55,
   "metadata": {},
   "outputs": [],
   "source": [
    "#Printing output files\n",
    "open(\"Results/Totals.txt\",\"w\") do io\n",
    "   println(io,Totals_ren)\n",
    "end\n",
    "\n",
    "open(\"Results/Per_tech_ren.txt\",\"w\") do io\n",
    "   println(io,Per_tech_ren)\n",
    "end\n",
    "\n",
    "# ----------------------------Ploting-----------------------------------\n",
    "k = 1                                                   #initial printing lcoation\n",
    "for value in 1:size(ren_s)[1]\n",
    "#     plotSeries(T_series[k:(k+T-1),:],ren_s[value],d)\n",
    "     k = k+T\n",
    "end\n",
    "\n",
    "#Roudning decimals\n",
    "Per_tech_ren.Capacity_GWh = round.(Per_tech_ren.Capacity_GWh; digits = 2)\n",
    "Per_tech_ren.CAPEX_bilEUR = round.(Per_tech_ren.CAPEX_bilEUR; digits = 1)\n",
    "Per_tech_ren.OM_bilEUR    = round.(Per_tech_ren.OM_bilEUR;    digits = 1)\n",
    "Per_tech_ren.Utilization  = round.(Per_tech_ren.Utilization;  digits = 3)\n",
    "\n",
    "#ploting   \n",
    "plotTechnology(Per_tech_ren)"
   ]
  },
  {
   "cell_type": "markdown",
   "metadata": {},
   "source": [
    "### Sensitivity analysis"
   ]
  },
  {
   "cell_type": "code",
   "execution_count": 28,
   "metadata": {},
   "outputs": [
    {
     "name": "stdout",
     "output_type": "stream",
     "text": [
      "0.0\n"
     ]
    }
   ],
   "source": []
  },
  {
   "cell_type": "markdown",
   "metadata": {},
   "source": [
    "Old code"
   ]
  },
  {
   "cell_type": "code",
   "execution_count": null,
   "metadata": {},
   "outputs": [],
   "source": [
    "Totals_ren |>\n",
    "     stack |>         #Stacking data\n",
    "     @vlplot(width=300)+\n",
    "     @vlplot(transform=[{filter=\"datum.variable == 'LCOE'\"}],\n",
    "            mark=:line, \n",
    "            x=:Share_ren, \n",
    "            y=:value,\n",
    "            color=:variable) |> display"
   ]
  },
  {
   "cell_type": "markdown",
   "metadata": {},
   "source": [
    "# Extension 1 (Storage technologies)\n",
    "\n",
    "\n",
    "Storage technologies\n",
    "The extension will include options for investing into strage technologies such as Li-ion batteries or convesion of electical energy into fuels such as H2 or Biomethanol. Furter on fossil fuels will be removed to estimate amount of storage required to achieve fully renewable electricity production by 2050. "
   ]
  },
  {
   "cell_type": "markdown",
   "metadata": {},
   "source": [
    "### Further model improvements"
   ]
  },
  {
   "cell_type": "markdown",
   "metadata": {},
   "source": [
    "Ideas for further model improvements:\n",
    "+ Green transition requirements (100% of electric energy from Renewables)\n",
    "+ Backup generation requirements\n",
    "+ Including price of fuel and CO2 tax\n",
    "+ Energy import and export\n",
    "+ Subsidy for renewables\n",
    "+ Storage \n",
    "+ Sell/buy \n",
    "+ Electric cars\n",
    "+ Heat"
   ]
  },
  {
   "cell_type": "markdown",
   "metadata": {},
   "source": [
    "# Name of extension"
   ]
  },
  {
   "cell_type": "markdown",
   "metadata": {},
   "source": [
    "## Formualtion\n",
    "waht, why we do this\n",
    "what are articles/resources that support the idea"
   ]
  },
  {
   "cell_type": "markdown",
   "metadata": {},
   "source": [
    "## Mathematical model\n",
    "constraint"
   ]
  },
  {
   "cell_type": "markdown",
   "metadata": {},
   "source": [
    "## Implementation\n",
    "coding\n",
    "constraints, varaibles, data (parameters)"
   ]
  },
  {
   "cell_type": "markdown",
   "metadata": {},
   "source": [
    "## Sensitivity analysis"
   ]
  },
  {
   "cell_type": "markdown",
   "metadata": {},
   "source": [
    "###  Sub-conclusion\n"
   ]
  }
 ],
 "metadata": {
  "kernelspec": {
   "display_name": "Julia 1.4.0",
   "language": "julia",
   "name": "julia-1.4"
  },
  "language_info": {
   "file_extension": ".jl",
   "mimetype": "application/julia",
   "name": "julia",
   "version": "1.4.0"
  }
 },
 "nbformat": 4,
 "nbformat_minor": 2
}
